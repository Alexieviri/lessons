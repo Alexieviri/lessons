{
 "cells": [
  {
   "cell_type": "markdown",
   "metadata": {},
   "source": [
    "Решение задач из адаптивного тренажера на Stepik."
   ]
  },
  {
   "cell_type": "markdown",
   "metadata": {},
   "source": [
    "# Length statistic (Stepik)\n",
    "\n",
    "На вход программе подаётся строка, содержащая слова, разделённые пробелом. Программа должна вывести статистику длин слов в полученной строке, от меньшей длины слова к большей (см. пример).\n",
    "\n",
    "Словом считается последовательность произвольных символов, окружённая пробелами либо границами строки. Заметьте, что знаки препинания также относятся к слову.\n",
    "\n",
    "**Формат ввода**. Одна строка, содержащая последовательности латинских символов и знаков препинания, разделённые пробелом.\n",
    "\n",
    "**Формат вывода**. Для каждой длины слова, встречающейся в исходной строке, нужно указать количество слов с такой длиной в формате `длина: количество`. Статистика должна выводиться в порядке увеличения длины.\n",
    "\n",
    "**Sample Input**:\n",
    "\n",
    "`Beautiful is better than ugly. Explicit is better than implicit.`\n",
    "\n",
    "**Sample Output**:\n",
    "\n",
    "```\n",
    "2: 2\n",
    "4: 2\n",
    "5: 1\n",
    "6: 2\n",
    "8: 1\n",
    "9: 2\n",
    "```\n",
    "\n",
    "**Примечание от Лёвы Матюшкина**: из примера на Stepik следует, что точки являются частью \"слов\"."
   ]
  },
  {
   "cell_type": "code",
   "execution_count": 20,
   "metadata": {},
   "outputs": [
    {
     "name": "stdin",
     "output_type": "stream",
     "text": [
      " Beautiful is better than ugly. Explicit is better than implicit.\n"
     ]
    },
    {
     "name": "stdout",
     "output_type": "stream",
     "text": [
      "2: 2\n",
      "4: 2\n",
      "5: 1\n",
      "6: 2\n",
      "8: 1\n",
      "9: 2\n"
     ]
    }
   ],
   "source": [
    "from collections import Counter\n",
    "\n",
    "def length_statistic(sentence):\n",
    "    cnt = Counter(len(word) for word in sentence.split())\n",
    "    for key in sorted(cnt):\n",
    "        print(f'{key}: {cnt[key]}')\n",
    "        \n",
    "sentence = input()\n",
    "length_statistic(sentence)"
   ]
  },
  {
   "cell_type": "markdown",
   "metadata": {},
   "source": [
    "Fizz Buzz -- это классическая задача на программирование. Вот её немного изменённое условие.\n",
    "\n",
    "Напишите программу, которая принимает на вход два целых числа: начало и конец отрезка (оба числа входят в отрезок).\n",
    "\n",
    "Программа должна вывести числа из этого отрезка, но если число делится на 3, то вывести вместо него Fizz, если число делится на 5, вывести вместо него Buzz, а если делится и на три, и на 5, то вывести вместо этого числа FizzBuzz.\n",
    "\n",
    "**Формат ввода**: два целых числа через пробел.\n",
    "\n",
    "**Формат вывода**: на отдельной строке каждое число из отрезка или слово, его заменяющее.\n",
    "\n",
    "**Sample Input**:\n",
    "\n",
    "`8 16`\n",
    "\n",
    "**Sample Output**:\n",
    "\n",
    "```\n",
    "8\n",
    "Fizz\n",
    "Buzz\n",
    "11\n",
    "Fizz\n",
    "13\n",
    "14\n",
    "FizzBuzz\n",
    "16\n",
    "```"
   ]
  },
  {
   "cell_type": "code",
   "execution_count": 29,
   "metadata": {},
   "outputs": [
    {
     "name": "stdin",
     "output_type": "stream",
     "text": [
      " 0 16\n"
     ]
    },
    {
     "name": "stdout",
     "output_type": "stream",
     "text": [
      "FizzBuzz\n",
      "1\n",
      "2\n",
      "Fizz\n",
      "4\n",
      "Buzz\n",
      "Fizz\n",
      "7\n",
      "8\n",
      "Fizz\n",
      "Buzz\n",
      "11\n",
      "Fizz\n",
      "13\n",
      "14\n",
      "FizzBuzz\n",
      "16\n"
     ]
    }
   ],
   "source": [
    "def fizzbuzz(s):\n",
    "    start, end = map(int, s.split())\n",
    "    for i in range(start, end + 1):\n",
    "        print('Fizz' * (i % 3 == 0) + 'Buzz' * (i % 5 == 0) or i)\n",
    "\n",
    "fizzbuzz(input())"
   ]
  },
  {
   "cell_type": "code",
   "execution_count": null,
   "metadata": {},
   "outputs": [],
   "source": []
  }
 ],
 "metadata": {
  "kernelspec": {
   "display_name": "Python 3",
   "language": "python",
   "name": "python3"
  },
  "language_info": {
   "codemirror_mode": {
    "name": "ipython",
    "version": 3
   },
   "file_extension": ".py",
   "mimetype": "text/x-python",
   "name": "python",
   "nbconvert_exporter": "python",
   "pygments_lexer": "ipython3",
   "version": "3.7.6"
  }
 },
 "nbformat": 4,
 "nbformat_minor": 4
}
