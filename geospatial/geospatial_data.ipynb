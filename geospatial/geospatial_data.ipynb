{
 "cells": [
  {
   "cell_type": "markdown",
   "metadata": {},
   "source": [
    "Этот пособие пока находится на этапе сбора данных. Необходимо рассмотреть:\n",
    "- Общие вопросы работы с геоданными\n",
    "- Примеры геоданных\n",
    "- Источники данных, датасеты\n",
    "- Примеры задач и соревнований, связанных с геоданными\n",
    "- Библиотеки для обработки геоданных и их визуализации"
   ]
  },
  {
   "cell_type": "markdown",
   "metadata": {},
   "source": [
    "# Работа с геоданными в Python и Jupyter\n",
    "\n",
    "Для Python создано несколько мощных библиотек визуализации пространственных данных. В этом пособии мы на различных примерах рассмотрим некоторые из пакетов для работы с геоданными в экосистеме Python, в том числе библиотеки для их визуализации.\n",
    "\n",
    "Библиотеки для визуализации:\n",
    "- [Geoviews](https://github.com/holoviz/geoviews)\n",
    "- [Folium](https://python-visualization.github.io/folium/)\n",
    "- [KeplerGL](https://kepler.gl/)\n",
    "- [Plotly/Plotly Express](https://plotly.com/python/mapbox-layers/)\n",
    "- [IpyLeaflet](https://ipyleaflet.readthedocs.io/en/latest/)\n",
    "- [Geopandas](https://geopandas.org/)"
   ]
  },
  {
   "cell_type": "markdown",
   "metadata": {},
   "source": [
    "# GeoViews\n",
    "\n",
    "[GeoViews](https://geoviews.org/) – это библиотека Python, позволяющая исследовать и визуализировать данные, которые включают географические местоположения. Он имеет особенно мощную поддержку многомерных наборов метеорологических и океанографических данных, используемых в исследованиях климата и дистанционного зондирования, но также полезен практически для всего, что можно нанести на карту. Cоответствующие примеры можно найти в [галерее библиотеки](https://geoviews.org/gallery/index.html)."
   ]
  },
  {
   "cell_type": "code",
   "execution_count": 4,
   "metadata": {},
   "outputs": [],
   "source": [
    "#!conda install -c pyviz geoviews"
   ]
  },
  {
   "cell_type": "markdown",
   "metadata": {},
   "source": [
    "# Folium"
   ]
  },
  {
   "cell_type": "markdown",
   "metadata": {},
   "source": [
    "Построение карты для Санкт-Петербурга."
   ]
  },
  {
   "cell_type": "code",
   "execution_count": 14,
   "metadata": {},
   "outputs": [],
   "source": [
    "import folium\n",
    "\n",
    "map = folium.Map(location=[59.95, 30.31], zoom_start = 11)\n",
    "map.save(\"map.html\")"
   ]
  },
  {
   "cell_type": "markdown",
   "metadata": {},
   "source": [
    "## Источники:\n",
    "- Репозитории сообщества [OpenGeoscience](https://github.com/OpenGeoscience), в частности [geonotebook](https://github.com/OpenGeoscience/geonotebook)\n",
    "- [Рассказ об ipyleaflet](https://blog.jupyter.org/interactive-gis-in-jupyter-with-ipyleaflet-52f9657fa7a)\n",
    "- [Рассказ с видео о keplergl](https://www.analyticsvidhya.com/blog/2020/06/learn-visualize-geospatial-data-jupyter-kepler/)\n",
    "- Обзоры библиотек на Medium: [Geospatial data visualization in Jupyter Notebooks](https://medium.com/@bartomolina/geospatial-data-visualization-in-jupyter-notebooks-ffa79e4ba7f8), [Best Libraries for Geospatial Data Visualisation in Python](https://towardsdatascience.com/best-libraries-for-geospatial-data-visualisation-in-python-d23834173b35)"
   ]
  }
 ],
 "metadata": {
  "kernelspec": {
   "display_name": "Python 3",
   "language": "python",
   "name": "python3"
  },
  "language_info": {
   "codemirror_mode": {
    "name": "ipython",
    "version": 3
   },
   "file_extension": ".py",
   "mimetype": "text/x-python",
   "name": "python",
   "nbconvert_exporter": "python",
   "pygments_lexer": "ipython3",
   "version": "3.7.3"
  }
 },
 "nbformat": 4,
 "nbformat_minor": 4
}
