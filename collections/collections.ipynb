{
 "cells": [
  {
   "cell_type": "markdown",
   "metadata": {},
   "source": [
    "Публикация подготовлена при поддержке [proglib.io](https://proglib.io/)."
   ]
  },
  {
   "cell_type": "markdown",
   "metadata": {},
   "source": [
    "![](img/collection.jpg)\n",
    "\n",
    "Типы данных в Python не ограничаваются стандартными. Vодуль [collections](https://docs.python.org/3/library/collections.html) содержит специализированные типы контейнеров, альтернативных традиционным `dict`, `list` и `tuple`.\n",
    "\n",
    "Это доступный «из коробки» родной модуль Python – те самые батарейки, что идут в комплекте. Уверенное владение инструментарием collections, [itertools](https://docs.python.org/3/library/itertools.html) и других модулей [стандартной библиотеки](https://ru.wikipedia.org/wiki/%D0%A1%D1%82%D0%B0%D0%BD%D0%B4%D0%B0%D1%80%D1%82%D0%BD%D0%B0%D1%8F_%D0%B1%D0%B8%D0%B1%D0%BB%D0%B8%D0%BE%D1%82%D0%B5%D0%BA%D0%B0_Python) – одна из черт, отличаюших [продвинутых питонистов](https://proglib.io/p/python-advfeat/) от [новичков](https://proglib.io/p/python-interview).\n",
    "\n",
    "В этой публикации мы на множестве примеров рассмотрим наиболее популярные составляющие модуля `collections` для Python 3 (проверено на примере Python 3.6). Для начала импортируем рассматриваемую библиотеку:"
   ]
  },
  {
   "cell_type": "code",
   "execution_count": 1,
   "metadata": {},
   "outputs": [],
   "source": [
    "import collections"
   ]
  },
  {
   "cell_type": "markdown",
   "metadata": {},
   "source": [
    "# Счетчик (Counter)\n",
    "\n",
    "![](img/counter.jpg)\n",
    "\n",
    "Одна из наиболее распространенных задач, для которой начинающие питонисты придумывают собственные решения – подсчет элементов какой-либо последовательности: списка, строки символов и т. п.\n",
    "\n",
    "Если вам нужно что-то посчитать, определить количество вхождений или наболее (наименее) часто встречающихся элементов, используйте объекты класса `Counter`. Создаются они с помощью конструктора `collections.Counter()`.\n",
    "\n",
    "Функция принимает итерируемый аргумент и возвращает словарь. В этом словаре ключами служат повторяющиеся элементы, а значениями – количества повторений элемента в последовательности. Посчитаем, сколько раз встречается каждая буква в слове «абракадабра»:"
   ]
  },
  {
   "cell_type": "code",
   "execution_count": 2,
   "metadata": {},
   "outputs": [
    {
     "data": {
      "text/plain": [
       "Counter({'а': 5, 'б': 2, 'р': 2, 'к': 1, 'д': 1})"
      ]
     },
     "execution_count": 2,
     "metadata": {},
     "output_type": "execute_result"
    }
   ],
   "source": [
    "list_of_letters = list('абракадабра')\n",
    "letter_cnt = collections.Counter(list_of_letters)\n",
    "letter_cnt"
   ]
  },
  {
   "cell_type": "markdown",
   "metadata": {},
   "source": [
    "Доступ к числу элементов (ключу) осуществляется аналогично обычному словарю:"
   ]
  },
  {
   "cell_type": "code",
   "execution_count": 3,
   "metadata": {},
   "outputs": [
    {
     "data": {
      "text/plain": [
       "5"
      ]
     },
     "execution_count": 3,
     "metadata": {},
     "output_type": "execute_result"
    }
   ],
   "source": [
    "letter_cnt['а']"
   ]
  },
  {
   "cell_type": "markdown",
   "metadata": {},
   "source": [
    "Если элемент отсутствовал в последовательности, счетчик при обращении по ключу не вызовет исключение, а вернет нулевое значение:"
   ]
  },
  {
   "cell_type": "code",
   "execution_count": 4,
   "metadata": {},
   "outputs": [
    {
     "data": {
      "text/plain": [
       "0"
      ]
     },
     "execution_count": 4,
     "metadata": {},
     "output_type": "execute_result"
    }
   ],
   "source": [
    "letter_cnt['ю']"
   ]
  },
  {
   "cell_type": "markdown",
   "metadata": {},
   "source": [
    "Присвоение нулевого значения какому-либо ключу счетчика не удаляет это значение, а создает соответствующую пару:"
   ]
  },
  {
   "cell_type": "code",
   "execution_count": 5,
   "metadata": {},
   "outputs": [
    {
     "data": {
      "text/plain": [
       "Counter({'а': 5, 'б': 2, 'р': 2, 'к': 1, 'д': 1, 'в': 0})"
      ]
     },
     "execution_count": 5,
     "metadata": {},
     "output_type": "execute_result"
    }
   ],
   "source": [
    "letter_cnt['в'] = 0\n",
    "letter_cnt"
   ]
  },
  {
   "cell_type": "markdown",
   "metadata": {},
   "source": [
    "Чтобы удалить конкретную пару `key-value`, используем `del`:"
   ]
  },
  {
   "cell_type": "code",
   "execution_count": 6,
   "metadata": {},
   "outputs": [
    {
     "data": {
      "text/plain": [
       "Counter({'а': 5, 'б': 2, 'р': 2, 'к': 1, 'д': 1})"
      ]
     },
     "execution_count": 6,
     "metadata": {},
     "output_type": "execute_result"
    }
   ],
   "source": [
    "del letter_cnt['в']\n",
    "letter_cnt"
   ]
  },
  {
   "cell_type": "markdown",
   "metadata": {},
   "source": [
    "В качестве аргумента конструктор принимает не только последовательность, но и словарь, содержащий результаты подсчета:"
   ]
  },
  {
   "cell_type": "code",
   "execution_count": 7,
   "metadata": {},
   "outputs": [
    {
     "data": {
      "text/plain": [
       "Counter({'like': 2, 'dislike': 3})"
      ]
     },
     "execution_count": 7,
     "metadata": {},
     "output_type": "execute_result"
    }
   ],
   "source": [
    "emotion_cnt = collections.Counter({'like':2, 'dislike':3})\n",
    "emotion_cnt"
   ]
  },
  {
   "cell_type": "markdown",
   "metadata": {},
   "source": [
    "Метод `elements()` преобразует результаты подсчета в итератор:"
   ]
  },
  {
   "cell_type": "code",
   "execution_count": 8,
   "metadata": {},
   "outputs": [
    {
     "data": {
      "text/plain": [
       "['like', 'like', 'dislike', 'dislike', 'dislike']"
      ]
     },
     "execution_count": 8,
     "metadata": {},
     "output_type": "execute_result"
    }
   ],
   "source": [
    "list(emotion_cnt.elements())"
   ]
  },
  {
   "cell_type": "markdown",
   "metadata": {},
   "source": [
    "Метод `most_common(n)` ищет `n` наиболее часто встречающихся элементов. Найдем для примера три самых частых символа:"
   ]
  },
  {
   "cell_type": "code",
   "execution_count": 9,
   "metadata": {
    "scrolled": true
   },
   "outputs": [
    {
     "data": {
      "text/plain": [
       "[('а', 5), ('б', 2), ('р', 2)]"
      ]
     },
     "execution_count": 9,
     "metadata": {},
     "output_type": "execute_result"
    }
   ],
   "source": [
    "# без передачи аргумента выводятся все элементы\n",
    "# в порядке от наиболее частых к наиболее редким\n",
    "\n",
    "letter_cnt.most_common(3)"
   ]
  },
  {
   "cell_type": "markdown",
   "metadata": {},
   "source": [
    "Метод возвращает список кортежей вида `(ключ, число повторений)`.\n",
    "\n",
    "Часто интерес представляют уникальные значения, наиболее редкие элементы. Их можно найти срезом с шагом `-1`:"
   ]
  },
  {
   "cell_type": "code",
   "execution_count": 10,
   "metadata": {},
   "outputs": [
    {
     "data": {
      "text/plain": [
       "[('д', 1), ('к', 1)]"
      ]
     },
     "execution_count": 10,
     "metadata": {},
     "output_type": "execute_result"
    }
   ],
   "source": [
    "letter_cnt.most_common()[:-3:-1]"
   ]
  },
  {
   "cell_type": "markdown",
   "metadata": {},
   "source": [
    "Счетчики можно складывать и вычитать:"
   ]
  },
  {
   "cell_type": "code",
   "execution_count": 11,
   "metadata": {},
   "outputs": [
    {
     "data": {
      "text/plain": [
       "Counter({'а': 5, 'б': 2, 'р': 2, 'к': 1, 'д': 1, 'like': 2, 'dislike': 3})"
      ]
     },
     "execution_count": 11,
     "metadata": {},
     "output_type": "execute_result"
    }
   ],
   "source": [
    "letter_cnt + emotion_cnt"
   ]
  },
  {
   "cell_type": "code",
   "execution_count": 12,
   "metadata": {},
   "outputs": [
    {
     "data": {
      "text/plain": [
       "Counter({'like': 1})"
      ]
     },
     "execution_count": 12,
     "metadata": {},
     "output_type": "execute_result"
    }
   ],
   "source": [
    "emotion_cnt - collections.Counter(like=1, dislike=3)"
   ]
  },
  {
   "cell_type": "markdown",
   "metadata": {},
   "source": [
    "Операнд `&` даст минимальные значения для одних и тех же подчитываемых элементов, операнд `|` – максимальные:"
   ]
  },
  {
   "cell_type": "code",
   "execution_count": 13,
   "metadata": {},
   "outputs": [
    {
     "name": "stdout",
     "output_type": "stream",
     "text": [
      "Counter({'b': 2, 'a': 1})\n",
      "Counter({'a': 4, 'd': 4, 'c': 3, 'b': 2})\n"
     ]
    }
   ],
   "source": [
    "c = collections.Counter(a=4, b=2, c=0, d=-2)\n",
    "d = collections.Counter(a=1, b=2, c=3, d=4)\n",
    "print(c & d)\n",
    "print(c | d)"
   ]
  },
  {
   "cell_type": "markdown",
   "metadata": {},
   "source": [
    "Как видно из примера, счетчику можно передавать отрицательные результаты подсчета. Но в случае приведенных операций хранятся только положительные подсчеты.\n",
    "\n",
    "Нулевые или отрицательные значения обычно приходится хранить при вычитании, что реализовано в методе `subtract()`:"
   ]
  },
  {
   "cell_type": "code",
   "execution_count": 14,
   "metadata": {},
   "outputs": [
    {
     "data": {
      "text/plain": [
       "Counter({'a': 3, 'b': 0, 'c': -3, 'd': -6})"
      ]
     },
     "execution_count": 14,
     "metadata": {},
     "output_type": "execute_result"
    }
   ],
   "source": [
    "c.subtract(d)\n",
    "c"
   ]
  },
  {
   "cell_type": "markdown",
   "metadata": {},
   "source": [
    "Обратите внимание, что метод `subtract()` обновляет сам счетчик, а не создает новый.\n",
    "\n",
    "Несколько распространненных паттернов применения счетчиков:"
   ]
  },
  {
   "cell_type": "code",
   "execution_count": 15,
   "metadata": {},
   "outputs": [
    {
     "data": {
      "text/plain": [
       "11"
      ]
     },
     "execution_count": 15,
     "metadata": {},
     "output_type": "execute_result"
    }
   ],
   "source": [
    "sum(letter_cnt.values())  # число всех посчитанных элементов"
   ]
  },
  {
   "cell_type": "code",
   "execution_count": 16,
   "metadata": {},
   "outputs": [
    {
     "data": {
      "text/plain": [
       "['а', 'б', 'р', 'к', 'д']"
      ]
     },
     "execution_count": 16,
     "metadata": {},
     "output_type": "execute_result"
    }
   ],
   "source": [
    "list(letter_cnt)  # список уникальных элементов исходной последовательности"
   ]
  },
  {
   "cell_type": "code",
   "execution_count": 17,
   "metadata": {},
   "outputs": [
    {
     "data": {
      "text/plain": [
       "{'а', 'б', 'д', 'к', 'р'}"
      ]
     },
     "execution_count": 17,
     "metadata": {},
     "output_type": "execute_result"
    }
   ],
   "source": [
    "set(letter_cnt)   # раз есть список, есть и множество "
   ]
  },
  {
   "cell_type": "code",
   "execution_count": 18,
   "metadata": {},
   "outputs": [
    {
     "data": {
      "text/plain": [
       "{'а': 5, 'б': 2, 'р': 2, 'к': 1, 'д': 1}"
      ]
     },
     "execution_count": 18,
     "metadata": {},
     "output_type": "execute_result"
    }
   ],
   "source": [
    "dict(letter_cnt)  # счетчик это подкласс словаря, можно преобразовать в обычный dict"
   ]
  },
  {
   "cell_type": "markdown",
   "metadata": {},
   "source": [
    "Унарные операции позволяют оставить только положительные или отрицательные подcчеты:"
   ]
  },
  {
   "cell_type": "code",
   "execution_count": 19,
   "metadata": {},
   "outputs": [
    {
     "data": {
      "text/plain": [
       "Counter({'a': 3})"
      ]
     },
     "execution_count": 19,
     "metadata": {},
     "output_type": "execute_result"
    }
   ],
   "source": [
    "+c  # способ вывести положительные подсчеты"
   ]
  },
  {
   "cell_type": "code",
   "execution_count": 20,
   "metadata": {},
   "outputs": [
    {
     "data": {
      "text/plain": [
       "Counter({'c': 3, 'd': 6})"
      ]
     },
     "execution_count": 20,
     "metadata": {},
     "output_type": "execute_result"
    }
   ],
   "source": [
    "-c # способ вывести отрицательные подсчеты"
   ]
  },
  {
   "cell_type": "code",
   "execution_count": 21,
   "metadata": {},
   "outputs": [
    {
     "data": {
      "text/plain": [
       "Counter()"
      ]
     },
     "execution_count": 21,
     "metadata": {},
     "output_type": "execute_result"
    }
   ],
   "source": [
    "c.clear()  # Очищаем счетчик\n",
    "c"
   ]
  },
  {
   "cell_type": "markdown",
   "metadata": {},
   "source": [
    "Cчетчик в сочетание с модулем [регулярных выражений](https://proglib.io/p/regex-for-beginners/) используется для [частотного анализа текста](http://nlpx.net/archives/29). Давайте узнаем, какие десять слов чаще всего встречаются в тексте «Евгения Онегина»:"
   ]
  },
  {
   "cell_type": "code",
   "execution_count": 18,
   "metadata": {},
   "outputs": [
    {
     "data": {
      "text/plain": [
       "[('и', 1011),\n",
       " ('в', 606),\n",
       " ('не', 387),\n",
       " ('он', 294),\n",
       " ('на', 260),\n",
       " ('с', 240),\n",
       " ('я', 238),\n",
       " ('как', 192),\n",
       " ('но', 190),\n",
       " ('что', 167)]"
      ]
     },
     "execution_count": 18,
     "metadata": {},
     "output_type": "execute_result"
    }
   ],
   "source": [
    "import re\n",
    "words = re.findall(r'\\w+', open('onegin.txt').read().lower())\n",
    "collections.Counter(words).most_common(10)"
   ]
  },
  {
   "cell_type": "markdown",
   "metadata": {},
   "source": [
    "# Словарь со значением по умолчанию (defaultdict)\n",
    "\n",
    "\n",
    "![](img/dict.jpg)\n",
    "\n",
    "\n",
    "Что будет, если обратиться к словарю по ключу, которого в нем еще нет? Правильно, исключение `KeyError`:"
   ]
  },
  {
   "cell_type": "code",
   "execution_count": 22,
   "metadata": {},
   "outputs": [
    {
     "ename": "KeyError",
     "evalue": "'patronymic'",
     "output_type": "error",
     "traceback": [
      "\u001b[0;31m---------------------------------------------------------------------------\u001b[0m",
      "\u001b[0;31mKeyError\u001b[0m                                  Traceback (most recent call last)",
      "\u001b[0;32m<ipython-input-22-f88cdbbe1423>\u001b[0m in \u001b[0;36m<module>\u001b[0;34m\u001b[0m\n\u001b[1;32m      2\u001b[0m \u001b[0md\u001b[0m\u001b[0;34m[\u001b[0m\u001b[0;34m'name'\u001b[0m\u001b[0;34m]\u001b[0m \u001b[0;34m=\u001b[0m \u001b[0;34m'James'\u001b[0m\u001b[0;34m\u001b[0m\u001b[0;34m\u001b[0m\u001b[0m\n\u001b[1;32m      3\u001b[0m \u001b[0md\u001b[0m\u001b[0;34m[\u001b[0m\u001b[0;34m'surname'\u001b[0m\u001b[0;34m]\u001b[0m \u001b[0;34m=\u001b[0m \u001b[0;34m'Bond'\u001b[0m\u001b[0;34m\u001b[0m\u001b[0;34m\u001b[0m\u001b[0m\n\u001b[0;32m----> 4\u001b[0;31m \u001b[0md\u001b[0m\u001b[0;34m[\u001b[0m\u001b[0;34m'patronymic'\u001b[0m\u001b[0;34m]\u001b[0m\u001b[0;34m\u001b[0m\u001b[0;34m\u001b[0m\u001b[0m\n\u001b[0m",
      "\u001b[0;31mKeyError\u001b[0m: 'patronymic'"
     ]
    }
   ],
   "source": [
    "d = dict()\n",
    "d['name'] = 'James' \n",
    "d['surname'] = 'Bond'\n",
    "d['patronymic']"
   ]
  },
  {
   "cell_type": "markdown",
   "metadata": {},
   "source": [
    "Если нет необходимости отлавливать исключение, можно просто использовать альтернативный вариант словаря – `collections.defaultdict`.\n",
    "\n",
    "Соответствующему конструктору в качестве аргумента передается тип элемента по умолчанию:"
   ]
  },
  {
   "cell_type": "code",
   "execution_count": 24,
   "metadata": {},
   "outputs": [
    {
     "data": {
      "text/plain": [
       "''"
      ]
     },
     "execution_count": 24,
     "metadata": {},
     "output_type": "execute_result"
    }
   ],
   "source": [
    "d = collections.defaultdict(str)\n",
    "d['name'] = 'James' \n",
    "d['surname'] = 'Bond'\n",
    "d['patronymic']"
   ]
  },
  {
   "cell_type": "code",
   "execution_count": 25,
   "metadata": {
    "scrolled": true
   },
   "outputs": [
    {
     "data": {
      "text/plain": [
       "defaultdict(str, {'name': 'James', 'surname': 'Bond', 'patronymic': ''})"
      ]
     },
     "execution_count": 25,
     "metadata": {},
     "output_type": "execute_result"
    }
   ],
   "source": [
    "d"
   ]
  },
  {
   "cell_type": "markdown",
   "metadata": {},
   "source": [
    "Таким образом, для всех ключей, к которым происходит обращение, конструктор будет ставить в соответствие дефолтный элемент данного типа. В случае `str` – пустая строка, для целых чисел – `0` и т.д.\n",
    "\n",
    "Обычные словари имеют метод `setdefault()`, который позволяет добиться того же результата, но его использование делает программный код менее наглядным и замедляет его исполнение.\n",
    "\n",
    "\n",
    "Помимо `str` и `int`, `defaultdict` часто используют в связке с пустым списком, чтобы начинать добавление элементов без лишнего кода:"
   ]
  },
  {
   "cell_type": "code",
   "execution_count": 25,
   "metadata": {},
   "outputs": [
    {
     "data": {
      "text/plain": [
       "defaultdict(list, {0: [0], 1: [1], 2: [2], 3: [3], 4: [4]})"
      ]
     },
     "execution_count": 25,
     "metadata": {},
     "output_type": "execute_result"
    }
   ],
   "source": [
    "dict_of_lists = collections.defaultdict(list)\n",
    "\n",
    "for i in range(5):\n",
    "    dict_of_lists[i].append(i)\n",
    "    \n",
    "dict_of_lists"
   ]
  },
  {
   "cell_type": "markdown",
   "metadata": {},
   "source": [
    "Можно видеть, что при таком подходе нет необходимости ни проверять наличие соответствующих ключей, ни создавать предварительно пустые списки.\n",
    "\n",
    "# Словарь с памятью порядка добавления элементов (OrderedDict)\n",
    "\n",
    "Ощутимость пользы `OrderedDict` так повлияла на обычный `dict`, что в новых версиях Python различий между ними становится всё меньше. В былые времена `OrderedDict` кардинально отличался от обычного словаря тем, что умел запоминать порядок вставки. Но с версии Python 3.6 на [это способен и обычный словарь](https://docs.python.org/3.6/whatsnew/3.6.html#new-dict-implementation). Однако некоторые различия между ними всё же остаются:\n",
    "- Обычный `dict` был разработан, чтобы быть хорошим в операциях, связанных с [мапированием](https://ru.wikipedia.org/wiki/%D0%9C%D0%B0%D0%BF%D0%B8%D1%80%D0%BE%D0%B2%D0%B0%D0%BD%D0%B8%D0%B5). Отслеживание порядка вставки для него – дело вторичное. И наоборот, `OrderedDict` хорош в операциях переупорядочения, а эффективность, скорость итераций и производительность не главное\n",
    "- Алгоритмически `OrderedDict` может обрабатывать частые операции переупорядочения лучше, чем `dict`\n",
    "- Операция равенства для `OrderedDict` проверяет соответствие порядка, фактически сравнение происходит по схеме `list(od1.items())==list(od2.items())`\n",
    "\n",
    "Так как `OrderedDict` это упорядоченная последовательность, объекты содержат соответствующие методы, позволяющие реорганизовать структуру:\n",
    "- `popitem(last=True)` – удаляет последний элемент если `last=True`, и первый, если `last=False`\n",
    "- `move_to_end(key, last=True)` – переносит ключ `key` в конец, если `last=True`, и в начало, если `last=False`"
   ]
  },
  {
   "cell_type": "code",
   "execution_count": 21,
   "metadata": {},
   "outputs": [
    {
     "data": {
      "text/plain": [
       "'acdeb'"
      ]
     },
     "execution_count": 21,
     "metadata": {},
     "output_type": "execute_result"
    }
   ],
   "source": [
    "d = collections.OrderedDict.fromkeys('abcde')\n",
    "d.move_to_end('b')\n",
    "''.join(d.keys())"
   ]
  },
  {
   "cell_type": "code",
   "execution_count": 22,
   "metadata": {},
   "outputs": [
    {
     "data": {
      "text/plain": [
       "'bacde'"
      ]
     },
     "execution_count": 22,
     "metadata": {},
     "output_type": "execute_result"
    }
   ],
   "source": [
    "d.move_to_end('b', last=False)\n",
    "''.join(d.keys())"
   ]
  },
  {
   "cell_type": "markdown",
   "metadata": {},
   "source": [
    "# Контейнер словарей (ChainMap)\n",
    "\n",
    "![](img/DictChain.jpg)\n",
    "\n",
    "После разговора о словарях самое время обсудить класс, умеющий объединять словари в надструктуру – `ChainMap`. При этом получается не один общий словарь, а их совокупность, в которой каждый словарь остается независимой составляющей:"
   ]
  },
  {
   "cell_type": "code",
   "execution_count": 26,
   "metadata": {},
   "outputs": [
    {
     "data": {
      "text/plain": [
       "ChainMap({'a': 1, 'b': 2}, {'a': 1, 'b': 0, 'c': 0, 'd': 0, 'e': 1})"
      ]
     },
     "execution_count": 26,
     "metadata": {},
     "output_type": "execute_result"
    }
   ],
   "source": [
    "letters = {'a':1, 'b':2}\n",
    "vowels = {'a':1, 'b':0, 'c':0, 'd': 0, 'e':1}\n",
    "chain = collections.ChainMap(letters, vowels)\n",
    "chain"
   ]
  },
  {
   "cell_type": "markdown",
   "metadata": {},
   "source": [
    "При обращении к `ChainMap` по ключу одного из словарей, происходит поиск значения среди всех словарей, при этом нет необходимости указывать конкретный словарь:"
   ]
  },
  {
   "cell_type": "code",
   "execution_count": 27,
   "metadata": {},
   "outputs": [
    {
     "data": {
      "text/plain": [
       "1"
      ]
     },
     "execution_count": 27,
     "metadata": {},
     "output_type": "execute_result"
    }
   ],
   "source": [
    "chain['e']"
   ]
  },
  {
   "cell_type": "markdown",
   "metadata": {},
   "source": [
    "При поиске `ChainMap` выводит первое найденное значение (проходя словари по очереди добавления). В том числе, если в разных словарях несколько одинаковых ключей:"
   ]
  },
  {
   "cell_type": "code",
   "execution_count": 28,
   "metadata": {},
   "outputs": [
    {
     "data": {
      "text/plain": [
       "2"
      ]
     },
     "execution_count": 28,
     "metadata": {},
     "output_type": "execute_result"
    }
   ],
   "source": [
    "chain['b']"
   ]
  },
  {
   "cell_type": "markdown",
   "metadata": {},
   "source": [
    "Изменение содержания словаря изменяет и `ChainMap`. Нет необходимости перезаписывать надструктуру:"
   ]
  },
  {
   "cell_type": "code",
   "execution_count": 29,
   "metadata": {},
   "outputs": [
    {
     "data": {
      "text/plain": [
       "ChainMap({'a': 1, 'b': 2, 'c': 3}, {'a': 1, 'b': 0, 'c': 0, 'd': 0, 'e': 1})"
      ]
     },
     "execution_count": 29,
     "metadata": {},
     "output_type": "execute_result"
    }
   ],
   "source": [
    "letters['c'] = 3\n",
    "chain"
   ]
  },
  {
   "cell_type": "markdown",
   "metadata": {},
   "source": [
    "Так как `ChainMap` это комбинация словарей, логично, что у нее есть возможность вызова методов `keys()` и `values()`:"
   ]
  },
  {
   "cell_type": "code",
   "execution_count": 30,
   "metadata": {},
   "outputs": [
    {
     "data": {
      "text/plain": [
       "['c', 'd', 'a', 'e', 'b']"
      ]
     },
     "execution_count": 30,
     "metadata": {},
     "output_type": "execute_result"
    }
   ],
   "source": [
    "list(chain.keys())"
   ]
  },
  {
   "cell_type": "code",
   "execution_count": 31,
   "metadata": {},
   "outputs": [
    {
     "data": {
      "text/plain": [
       "[3, 0, 1, 1, 2]"
      ]
     },
     "execution_count": 31,
     "metadata": {},
     "output_type": "execute_result"
    }
   ],
   "source": [
    "list(chain.values())"
   ]
  },
  {
   "cell_type": "markdown",
   "metadata": {},
   "source": [
    "Значения `values` соответствуют списку `keys`, как это было описано выше. То есть в случае несколько совпадающих ключей, выводится значение для первого из словарей, где встречается этот ключ.\n",
    "\n",
    "При необходимости расширить составленный ранее `ChainMap` можно методом `new_child()`:"
   ]
  },
  {
   "cell_type": "code",
   "execution_count": 32,
   "metadata": {},
   "outputs": [
    {
     "data": {
      "text/plain": [
       "ChainMap({'a': 0, 'b': 1, 'c': 1}, {'a': 1, 'b': 2, 'c': 3}, {'a': 1, 'b': 0, 'c': 0, 'd': 0, 'e': 1})"
      ]
     },
     "execution_count": 32,
     "metadata": {},
     "output_type": "execute_result"
    }
   ],
   "source": [
    "consons = {'a':0, 'b':1, 'c':1}\n",
    "chain.new_child(consons)"
   ]
  },
  {
   "cell_type": "markdown",
   "metadata": {},
   "source": [
    "Обратите внимание, что метод не обновляет старую структуру, а создает новую."
   ]
  },
  {
   "cell_type": "markdown",
   "metadata": {},
   "source": [
    "# Двусторонняя очередь (deque)\n",
    "\n",
    "![](img/Hermitage.jpg)\n",
    "\n",
    "Объект типа `deque` (читается как «дэк», [двусторонняя или двусвязная очередь](https://ru.wikipedia.org/wiki/%D0%94%D0%B2%D1%83%D1%85%D1%81%D1%82%D0%BE%D1%80%D0%BE%D0%BD%D0%BD%D1%8F%D1%8F_%D0%BE%D1%87%D0%B5%D1%80%D0%B5%D0%B4%D1%8C)) является усовершенствованным вариантом списка с оптимизированной вставкой/удалением элементов с обоих концов. Реализация `deque` оптимизирована так, что операции слева и справа имеют примерно одинаковую производительность `O(1)`. Добавление новых элементов в конец происходит не сильно медленнее, чем во встроенных списках, но добавление в начало выполняется существенно быстрее."
   ]
  },
  {
   "cell_type": "code",
   "execution_count": 33,
   "metadata": {},
   "outputs": [
    {
     "data": {
      "text/plain": [
       "deque(['b', 'c', 'd'])"
      ]
     },
     "execution_count": 33,
     "metadata": {},
     "output_type": "execute_result"
    }
   ],
   "source": [
    "seq = list(\"bcd\")\n",
    "deq = collections.deque(seq)\n",
    "deq"
   ]
  },
  {
   "cell_type": "code",
   "execution_count": 34,
   "metadata": {},
   "outputs": [
    {
     "data": {
      "text/plain": [
       "deque(['a', 'b', 'c', 'd', 'e'])"
      ]
     },
     "execution_count": 34,
     "metadata": {},
     "output_type": "execute_result"
    }
   ],
   "source": [
    "deq.append('e')      # добавление в конец\n",
    "deq.appendleft('a')  # добавление в начало (левый конец)\n",
    "deq"
   ]
  },
  {
   "cell_type": "markdown",
   "metadata": {},
   "source": [
    "Чтобы добавлять не одиночный элемент, а группу итерируемого объекта `iterable` используйте соответственно `extend(iterable)` и `extendleft(iterable`).\n",
    "\n",
    "Аналогично методу `append()` метод `pop()` для `deque` работает с обоих концов:"
   ]
  },
  {
   "cell_type": "code",
   "execution_count": 35,
   "metadata": {},
   "outputs": [
    {
     "data": {
      "text/plain": [
       "deque(['b', 'c', 'd'])"
      ]
     },
     "execution_count": 35,
     "metadata": {},
     "output_type": "execute_result"
    }
   ],
   "source": [
    "deq.pop()\n",
    "deq.popleft()\n",
    "deq"
   ]
  },
  {
   "cell_type": "markdown",
   "metadata": {},
   "source": [
    "Если нужно посчитать число вхождений элемента в последовательность, применяем метод `count()`:"
   ]
  },
  {
   "cell_type": "code",
   "execution_count": 36,
   "metadata": {
    "scrolled": true
   },
   "outputs": [
    {
     "data": {
      "text/plain": [
       "(1, 0)"
      ]
     },
     "execution_count": 36,
     "metadata": {},
     "output_type": "execute_result"
    }
   ],
   "source": [
    "deq.count('b'), deq.count('a')"
   ]
  },
  {
   "cell_type": "markdown",
   "metadata": {},
   "source": [
    "Кроме перечисленных доступны следующие методы:\n",
    "- `remove(value)` – удаление первого вхождения `value`\n",
    "- `reverse()` – разворачивает очередь)\n",
    "- `rotate(n=1)` – последовательно переносит `n` элементов из начала в конец (если `n` отрицательно, то с конца в начало). В этом поведение `deque` напоминает [кольцевой связный список](https://ru.wikipedia.org/wiki/%D0%A1%D0%B2%D1%8F%D0%B7%D0%BD%D1%8B%D0%B9_%D1%81%D0%BF%D0%B8%D1%81%D0%BE%D0%BA#%D0%9A%D0%BE%D0%BB%D1%8C%D1%86%D0%B5%D0%B2%D0%BE%D0%B9_%D1%81%D0%B2%D1%8F%D0%B7%D0%BD%D1%8B%D0%B9_%D1%81%D0%BF%D0%B8%D1%81%D0%BE%D0%BA)\n",
    "\n",
    "Очередь `deque` имеет аргумент `maxlen`, позволяющий ограничить ее размер. При заполнении ограниченной очереди добавление `n` новых объектов «слева» вызовет удаление `n` элементов справа.\n",
    "\n",
    "Ограниченные очереди обеспечивают функциональность, похожую на `tail`-фильтр в Unix:"
   ]
  },
  {
   "cell_type": "code",
   "execution_count": 19,
   "metadata": {},
   "outputs": [],
   "source": [
    "def tail(filename, n=10):\n",
    "    \"\"\"Возвращает n последних строк файла'\"\"\"\n",
    "    with open(filename) as f:\n",
    "        return collections.deque(f, n)"
   ]
  },
  {
   "cell_type": "markdown",
   "metadata": {},
   "source": [
    "Другой шаблон применения `deque` – хранение последних добавленных элементов с выбрасыванием более старых. Пример компактной и быстрой реализации функции [скользящего среднего](https://ru.wikipedia.org/wiki/%D0%A1%D0%BA%D0%BE%D0%BB%D1%8C%D0%B7%D1%8F%D1%89%D0%B0%D1%8F_%D1%81%D1%80%D0%B5%D0%B4%D0%BD%D1%8F%D1%8F):"
   ]
  },
  {
   "cell_type": "code",
   "execution_count": null,
   "metadata": {},
   "outputs": [],
   "source": [
    "import itertools\n",
    "\n",
    "def moving_average(iterable, n=3):\n",
    "    # moving_average([40, 30, 50, 46, 39, 44]) --> 40.0 42.0 45.0 43.0\n",
    "    it = iter(iterable)\n",
    "    d = collections.deque(itertools.islice(it, n-1))\n",
    "    d.appendleft(0)\n",
    "    s = sum(d)\n",
    "    for elem in it:\n",
    "        s += elem - d.popleft()\n",
    "        d.append(elem)\n",
    "        yield s / n"
   ]
  },
  {
   "cell_type": "markdown",
   "metadata": {},
   "source": [
    "Алгоритм распределения нагрузки [Round-robin](https://ru.wikipedia.org/wiki/Round-robin_(%D0%B0%D0%BB%D0%B3%D0%BE%D1%80%D0%B8%D1%82%D0%BC)) можно реализовать с помощью итераторов ввода, хранящихся в `deque`. Значения выводятся из активного итератора в нулевой позиции. Если этот итератор исчерпан, его можно удалить методом `popleft ()`; в противном случае его можно циклически «провернуть» до конца методом `rotate()`:"
   ]
  },
  {
   "cell_type": "code",
   "execution_count": 20,
   "metadata": {},
   "outputs": [],
   "source": [
    "def roundrobin(*iterables):\n",
    "    \"roundrobin('ABC', 'D', 'EF') --> A D E B F C\"\n",
    "    iterators = collections.deque(map(iter, iterables))\n",
    "    while iterators:\n",
    "        try:\n",
    "            while True:\n",
    "                yield next(iterators[0])\n",
    "                iterators.rotate(-1)\n",
    "        except StopIteration:\n",
    "            # Удалить \"закончившийся\" итератор\n",
    "            iterators.popleft()"
   ]
  },
  {
   "cell_type": "markdown",
   "metadata": {},
   "source": [
    "# Именованный кортеж и функция namedtuple()\n",
    "\n",
    "`namedtuple()` – функция-фабрика для создания именованных кортежей. Этот тип данных похож на `struct` в других языках программирования:"
   ]
  },
  {
   "cell_type": "code",
   "execution_count": 28,
   "metadata": {},
   "outputs": [
    {
     "name": "stdout",
     "output_type": "stream",
     "text": [
      "User(fname='Петр', pname='Иванович', lname='Сидоров', age=30)\n",
      "Сидоров\n"
     ]
    }
   ],
   "source": [
    "cols = ['fname', 'pname', 'lname', 'age']\n",
    "User = collections.namedtuple('User', cols)\n",
    "user1 = User('Петр', 'Иванович', 'Сидоров', 30)\n",
    "print(user1)\n",
    "print(user1.lname)"
   ]
  },
  {
   "cell_type": "code",
   "execution_count": 27,
   "metadata": {},
   "outputs": [
    {
     "data": {
      "text/plain": [
       "25"
      ]
     },
     "execution_count": 27,
     "metadata": {},
     "output_type": "execute_result"
    }
   ],
   "source": [
    "Point = collections.namedtuple('Point', ['x', 'y'])\n",
    "p = Point(3, 4)\n",
    "p.x**2 + p.y**2"
   ]
  },
  {
   "cell_type": "markdown",
   "metadata": {},
   "source": [
    "Именованные кортежи позволяют писать более ясный код – вместо индексирования составляющие объекта вызываются по явным именам. Остается доступной и численная индексация:"
   ]
  },
  {
   "cell_type": "code",
   "execution_count": 39,
   "metadata": {},
   "outputs": [
    {
     "data": {
      "text/plain": [
       "25"
      ]
     },
     "execution_count": 39,
     "metadata": {},
     "output_type": "execute_result"
    }
   ],
   "source": [
    "p[0]**2 + p[1]**2"
   ]
  },
  {
   "cell_type": "markdown",
   "metadata": {},
   "source": [
    "Именованные кортежи часто применяются для назначения имен полей  кортежам, возвращаемым модулями `csv` или `sqlite3`:"
   ]
  },
  {
   "cell_type": "code",
   "execution_count": null,
   "metadata": {
    "scrolled": true
   },
   "outputs": [],
   "source": [
    "EmployeeRecord = collections.namedtuple('EmployeeRecord', 'name, age, title, department, paygrade')\n",
    "\n",
    "import csv\n",
    "for emp in map(EmployeeRecord._make, csv.reader(open(\"employees.csv\", \"rb\"))):\n",
    "    print(emp.name, emp.title)\n",
    "\n",
    "import sqlite3\n",
    "conn = sqlite3.connect('/companydata')\n",
    "cursor = conn.cursor()\n",
    "cursor.execute('SELECT name, age, title, department, paygrade FROM employees')\n",
    "for emp in map(EmployeeRecord._make, cursor.fetchall()):\n",
    "    print(emp.name, emp.title)"
   ]
  },
  {
   "cell_type": "markdown",
   "metadata": {},
   "source": [
    "Структура `namedtuple` похожа на словарь. Посредством метода `_asdict` можно представить те же данные в виде `OrderedDict`:"
   ]
  },
  {
   "cell_type": "code",
   "execution_count": 40,
   "metadata": {},
   "outputs": [
    {
     "data": {
      "text/plain": [
       "OrderedDict([('x', 3), ('y', 4)])"
      ]
     },
     "execution_count": 40,
     "metadata": {},
     "output_type": "execute_result"
    }
   ],
   "source": [
    "p._asdict()"
   ]
  },
  {
   "cell_type": "markdown",
   "metadata": {},
   "source": [
    "Чтобы вызвать значение через строковый ключ, необязательно преобразовывать `namedtuple` – подходит стандартная функция `getattr()`:"
   ]
  },
  {
   "cell_type": "code",
   "execution_count": 41,
   "metadata": {},
   "outputs": [
    {
     "data": {
      "text/plain": [
       "3"
      ]
     },
     "execution_count": 41,
     "metadata": {},
     "output_type": "execute_result"
    }
   ],
   "source": [
    "getattr(p, 'x')"
   ]
  },
  {
   "cell_type": "markdown",
   "metadata": {},
   "source": [
    "Чтобы преобразовать словарь в именованный кортеж заданного типа, достаточно распаковать его оператором `**`:"
   ]
  },
  {
   "cell_type": "code",
   "execution_count": 42,
   "metadata": {},
   "outputs": [
    {
     "data": {
      "text/plain": [
       "Point(x=0, y=1)"
      ]
     },
     "execution_count": 42,
     "metadata": {},
     "output_type": "execute_result"
    }
   ],
   "source": [
    "d = {'x': 0, 'y': 1}\n",
    "Point(**d)"
   ]
  },
  {
   "cell_type": "markdown",
   "metadata": {},
   "source": [
    "Имена полей `namedtuple` перечислены в `_fields`:"
   ]
  },
  {
   "cell_type": "code",
   "execution_count": 43,
   "metadata": {},
   "outputs": [
    {
     "data": {
      "text/plain": [
       "(('fname', 'pname', 'lname', 'age'), ('x', 'y'))"
      ]
     },
     "execution_count": 43,
     "metadata": {},
     "output_type": "execute_result"
    }
   ],
   "source": [
    "user1._fields, p._fields"
   ]
  },
  {
   "cell_type": "markdown",
   "metadata": {},
   "source": [
    "С версии 3.7 можно присвоить полям [значения по умолчанию](https://docs.python.org/3/library/collections.html#collections.somenamedtuple._field_defaults).\n",
    "\n",
    "Поскольку именованный кортеж является обычным классом Python, в него легко привнести новую функциональность или изменить старую. Например, добавим к `Point` расчет гипотенузы и формат вывода данных:"
   ]
  },
  {
   "cell_type": "code",
   "execution_count": 44,
   "metadata": {},
   "outputs": [
    {
     "name": "stdout",
     "output_type": "stream",
     "text": [
      "Point: x= 3.000  y= 4.000  hypot= 5.000\n",
      "Point: x=14.000  y= 0.714  hypot=14.018\n"
     ]
    }
   ],
   "source": [
    "class Point(collections.namedtuple('Point', ['x', 'y'])):\n",
    "    __slots__ = ()  # предотвращает создание словарей экземпляров\n",
    "    @property\n",
    "    def hypot(self):\n",
    "        return (self.x**2 + self.y**2) ** 0.5\n",
    "    def __str__(self):\n",
    "        return 'Point: x=%6.3f  y=%6.3f  hypot=%6.3f' % (self.x, self.y, self.hypot)\n",
    "\n",
    "for p in Point(3, 4), Point(14, 5/7):\n",
    "    print(p)"
   ]
  },
  {
   "cell_type": "markdown",
   "metadata": {},
   "source": [
    "Если вам по душе компактность `namedtuple` в сравнении с обычными классами и ваш проект позволяет работать с версиями Python не меньше 3.7, присмотритесь к модулю [dataclasses](https://docs.python.org/3/library/dataclasses.html). Эта встроенная библиотека предоставляет декоратор и функции для автоматического добавления в пользовательские классы сгенерированных специальных методов, таких как `__init__()` и `__repr__()`."
   ]
  },
  {
   "cell_type": "markdown",
   "metadata": {},
   "source": [
    "# Резюме\n",
    "\n",
    "Подведем итог нашему рассказу об основных составляющих модуля collections:\n",
    "\n",
    "- [Counter](https://docs.python.org/3/library/collections.html#counter-objects) – счетчик, инструмент подсчета неизменяемых объектов. Используйте, если  нужно определить количество вхождений или число наболее (наименее) часто встречающихся элементов.\n",
    "- [defaultdict](https://docs.python.org/3/library/collections.html#defaultdict-objects) – словарь, умеющий при вызове отсутствующего ключа вместо вызова исключения `KeyError` записывать значение по умолчанию (работает быстрее, чем метод `setdefault()`).\n",
    "- [OrderedDict](https://docs.python.org/3/library/collections.html#ordereddict-objects) – словарь с памятью порядка добавления элементов, умеющий переупорядочивать элементы лучше, чем `dict`.\n",
    "- [ChainMap](https://docs.python.org/3/library/collections.html#collections.ChainMap) – контейнер комбинаций словарей с поиском, обобщением ключей и элементов.\n",
    "- [namedtuple()](https://docs.python.org/3/library/collections.html#namedtuple-factory-function-for-tuples-with-named-fields) – функция-фабрика для создания именнованного кортежа. Это один из простейших способов сделать код более ясным: использовать вместо индексов имена.\n",
    "- [deque](https://docs.python.org/3/library/collections.html#deque-objects) – двусторонняя очередь – список, оптимизированный для вставки и удаления элементов с обоих концов с методом подсчета вхождений\n",
    "- [UserDict](https://docs.python.org/3/library/collections.html#userdict-objects), [UserList](https://docs.python.org/3/library/collections.html#userlist-objects), [UserString](https://docs.python.org/3/library/collections.html#userstring-objects) – не заслуживший развернутого описания набор оберток над стандартными объектами словарей, списков и строк для беспроблемного наследования (прямое наследование встроенным типам `dict`, `list`, `str` чревато ошибками, связанными с игнорированием переопределения методов).\n",
    "\n",
    "Также имеется наследованный модуль коллекции абстрактных базовых классов `сollections.abc`. Но это тема отдельного разговора. "
   ]
  },
  {
   "cell_type": "markdown",
   "metadata": {},
   "source": [
    "# Какие шаблоны применения контейнеров collections вы используете в своих проектах?"
   ]
  },
  {
   "cell_type": "code",
   "execution_count": null,
   "metadata": {},
   "outputs": [],
   "source": []
  }
 ],
 "metadata": {
  "kernelspec": {
   "display_name": "Python 3",
   "language": "python",
   "name": "python3"
  },
  "language_info": {
   "codemirror_mode": {
    "name": "ipython",
    "version": 3
   },
   "file_extension": ".py",
   "mimetype": "text/x-python",
   "name": "python",
   "nbconvert_exporter": "python",
   "pygments_lexer": "ipython3",
   "version": "3.6.9"
  }
 },
 "nbformat": 4,
 "nbformat_minor": 2
}
