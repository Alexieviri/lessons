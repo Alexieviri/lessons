{
 "cells": [
  {
   "cell_type": "markdown",
   "metadata": {},
   "source": [
    "Набор типов данных, необходимых для программ не ограничавается стандартными типами данных. Сократить код и сделать его более ясным позволяет модуль [collections](https://docs.python.org/3/library/collections.html). Этот модуль реализует специализированные типы контейнеров данных, представляющие альтернативу встроенным dict, list, set и tuple. И это родной модуль Python.\n",
    "\n",
    "Замечание: если вы читаете эту статью [в будущем](https://proglib.io/p/nazad-v-budushchee-prakticheskoe-rukovodstvo-po-puteshestviyu-vo-vremeni-s-python-2019-12-01), с версии 3.9 абстрактные базовые классы будут доступны в [collections.abc](https://docs.python.org/3/library/collections.abc.html#module-collections.abc)."
   ]
  },
  {
   "cell_type": "markdown",
   "metadata": {},
   "source": [
    "# Основные типы данных модуля collections\n",
    "\n",
    "- ChainMap\n",
    "- Counter\n",
    "- deque\n",
    "- defaultdict\n",
    "- namedtuple()\n",
    "- OrderedDict\n",
    "- [UserDict](https://docs.python.org/3/library/collections.html#userdict-objects), [UserList](https://docs.python.org/3/library/collections.html#userlist-objects), [UserString](https://docs.python.org/3/library/collections.html#userstring-objects)"
   ]
  },
  {
   "cell_type": "code",
   "execution_count": null,
   "metadata": {},
   "outputs": [],
   "source": []
  },
  {
   "cell_type": "code",
   "execution_count": 1,
   "metadata": {},
   "outputs": [],
   "source": [
    "import collections"
   ]
  },
  {
   "cell_type": "markdown",
   "metadata": {},
   "source": [
    "# Счетчик (Counter)\n",
    "\n",
    "Если вам нужно что-то посчитать, определить количество вхождений или наболее часто встречающихся элементов, используйте `Counter`.\n",
    "\n",
    "Счетчик – вид словаря, позволяющий посчитать количество неизменяемых объектов:"
   ]
  },
  {
   "cell_type": "code",
   "execution_count": 7,
   "metadata": {},
   "outputs": [
    {
     "data": {
      "text/plain": [
       "Counter({'a': 5, 'b': 2, 'r': 2, 'c': 1, 'd': 1})"
      ]
     },
     "execution_count": 7,
     "metadata": {},
     "output_type": "execute_result"
    }
   ],
   "source": [
    "list_of_letters = ['a', 'b', 'r', 'a', 'c', 'a', 'd', 'a', 'b', 'r', 'a']\n",
    "c = collections.Counter(list_of_letters)\n",
    "c"
   ]
  },
  {
   "cell_type": "code",
   "execution_count": null,
   "metadata": {},
   "outputs": [],
   "source": [
    "c.most_common()[:-n:-1] # n наименее часто встречающихся элементов\n",
    "c += Counter()          # удаление элементов встречающихся один раз"
   ]
  },
  {
   "cell_type": "code",
   "execution_count": 9,
   "metadata": {},
   "outputs": [],
   "source": [
    "c += collections.Counter()          # удаление элементов встречающихся один раз"
   ]
  },
  {
   "cell_type": "code",
   "execution_count": 10,
   "metadata": {},
   "outputs": [
    {
     "data": {
      "text/plain": [
       "Counter({'a': 5, 'b': 2, 'r': 2, 'c': 1, 'd': 1})"
      ]
     },
     "execution_count": 10,
     "metadata": {},
     "output_type": "execute_result"
    }
   ],
   "source": [
    "c"
   ]
  },
  {
   "cell_type": "code",
   "execution_count": null,
   "metadata": {},
   "outputs": [],
   "source": []
  }
 ],
 "metadata": {
  "kernelspec": {
   "display_name": "Python 3",
   "language": "python",
   "name": "python3"
  },
  "language_info": {
   "codemirror_mode": {
    "name": "ipython",
    "version": 3
   },
   "file_extension": ".py",
   "mimetype": "text/x-python",
   "name": "python",
   "nbconvert_exporter": "python",
   "pygments_lexer": "ipython3",
   "version": "3.6.9"
  }
 },
 "nbformat": 4,
 "nbformat_minor": 2
}
