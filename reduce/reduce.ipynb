{
 "cells": [
  {
   "cell_type": "markdown",
   "metadata": {},
   "source": [
    "# Функция Python reduce(): не только функциональное программирование\n",
    "\n",
    "Из этого туториала вы узнаете когда использовать функцию `reduce()`, как она работает и какие другие альтернативные варианты существуют.  \n",
    "\n",
    "Статья (блокнот Jupyter) является переводом части статьи Леоданиса Позо Рамоса [Python's reduce(): From Functional to Pythonic Style](https://realpython.com/python-reduce-function/). Оригинальный текст изобилует повторами, поэтому в переводе некоторые места опущены.\n",
    "\n",
    "В Python функция `reduce()` реализует технику [свёртки списка](https://ru.wikipedia.org/wiki/%D0%A1%D0%B2%D1%91%D1%80%D1%82%D0%BA%D0%B0_%D1%81%D0%BF%D0%B8%D1%81%D0%BA%D0%B0). Итерируемая последовательность сворачивается до единственного значения. Функция `reduce()` популярна у разработчиков с опытом функционального программирования, однако Python может предложить кое-что ещё.\n",
    "\n",
    "Мы изучим, как работает функция `reduce()` и как эффективно её применять. Мы также обсудим альтернативные инструменты Python, которые в определенных случаях могут быть более элегантны, удобочитаемы и эффективны.\n",
    "\n",
    "# Функциональное программирование в Python\n",
    "\n",
    "[Функциональное программирование]((https://ru.wikipedia.org/wiki/%D0%A4%D1%83%D0%BD%D0%BA%D1%86%D0%B8%D0%BE%D0%BD%D0%B0%D0%BB%D1%8C%D0%BD%D0%BE%D0%B5_%D0%BF%D1%80%D0%BE%D0%B3%D1%80%D0%B0%D0%BC%D0%BC%D0%B8%D1%80%D0%BE%D0%B2%D0%B0%D0%BD%D0%B8%D0%B5)) – это парадигма программирования, основанная на разбиении проблемы на набор отдельных функций. В идеале каждая функция принимает набор входных аргументов и возвращает выходные данные.\n",
    "\n",
    "В функциональном программировании функции не имеют внутреннего состояния, которое может повлиять на вывод. Всякий раз при вызове функции с одинаковым набором входных аргументов вы получите один и тот же результат. Функциональное программирование избегает [изменямых типов данных](https://ru.wikipedia.org/wiki/%D0%98%D0%B7%D0%BC%D0%B5%D0%BD%D1%8F%D0%B5%D0%BC%D1%8B%D0%B9_%D1%82%D0%B8%D0%BF) и изменений состояний – работа происходит с данными, передаваемыми между функциями, а не глобальными переменными.\n",
    "\n",
    "Ещё несколько характерных черт:\n",
    "* Использование [рекурсии](https://ru.wikipedia.org/wiki/%D0%A0%D0%B5%D0%BA%D1%83%D1%80%D1%81%D0%B8%D1%8F) вместо списков и других структур, управляющих потоком данных\n",
    "* Акцент на обработке массивов\n",
    "* Акцент на том, *что* должно быть вычислено, а не на том, *как* это вычислить\n",
    "* Использование [чистых функций](https://ru.wikipedia.org/wiki/%D0%A7%D0%B8%D1%81%D1%82%D0%BE%D1%82%D0%B0_%D1%84%D1%83%D0%BD%D0%BA%D1%86%D0%B8%D0%B8) без побочных эффектов\n",
    "* Использование [функций высшего порядка](https://ru.wikipedia.org/wiki/%D0%A4%D1%83%D0%BD%D0%BA%D1%86%D0%B8%D1%8F_%D0%B2%D1%8B%D1%81%D1%88%D0%B5%D0%B3%D0%BE_%D0%BF%D0%BE%D1%80%D1%8F%D0%B4%D0%BA%D0%B0)\n",
    "\n",
    "Python – язык, поддерживающий различные парадигмы программирования, так что он предоставляет инструменты и для функционального стиля программирования:\n",
    "* Функции – [объекты первого класса](https://ru.wikipedia.org/wiki/%D0%9E%D0%B1%D1%8A%D0%B5%D0%BA%D1%82_%D0%BF%D0%B5%D1%80%D0%B2%D0%BE%D0%B3%D0%BE_%D0%BA%D0%BB%D0%B0%D1%81%D1%81%D0%B0)\n",
    "* Возможность рекурсии\n",
    "* Анонимные lambda-функции \n",
    "* Итераторы и генераторы\n",
    "* Модули стандартной библиотеки: `functools` и `itertools`\n",
    "* Функции [map()](https://docs.python.org/3/library/functions.html#map), [filter()](https://docs.python.org/3/library/functions.html#filter), [reduce()](https://docs.python.org/3/library/functools.html#functools.reduce), [sum()](https://docs.python.org/3/library/functions.html#sum), [len()](https://docs.python.org/3/library/functions.html#len), [any()](https://docs.python.org/3/library/functions.html#any)), [all()](https://docs.python.org/3/library/functions.html#all), [min()](https://docs.python.org/3/library/functions.html#min), [max()](https://docs.python.org/3/library/functions.html#max) и т. д.\n",
    "\n",
    "Несмотря на то, что функциональные языки [не оказали существенного влияния](http://python-history.blogspot.com/2009/04/origins-of-pythons-functional-features.html) на Python, ещё в 1993 году существовал явный спрос на перечисленные выше подходы функционального программирования. Это привело к появлению в языке нескольких  инструментов. Согласно Гвидо ван Россуму, они [были внесены](http://www.artima.com/weblogs/viewpost.jsp?thread=98196) участником сообщества:\n",
    "\n",
    "«Python приобрел `lambda`, `reduсe()`, `filter()` и `map()`, благодаря Lisp-хакеру, который не найдя таковых в языке, представил рабочие решения»\n",
    "\n",
    "Спустя годы такие новые возможности, как выражения-генераторы и генераторы списков, встроенные функции `sum()`, `min()`, `max()`, `all()` и `any()`, рассматривались как более элегантная замена для `map()`, `filter()` и  `reduce()`. Так что Гвидо [планировал](http://www.artima.com/weblogs/viewpost.jsp?thread=98196) удалить их и даже `lambda` в Python 3. Но, к счастью, сообщество Python не захотело отказываться от таких популярных функций.\n",
    "\n",
    "# Начало работы с Python reduce()\n",
    "\n",
    "Итак `reduce()` «схлопывает» последовательность значений до единственного значения. Функция работает с любыми итерируемыми объектами – не только списками – и выполняет следующие шаги:\n",
    "\n",
    "1. Функция или другой вызываемый объект применяется к первым двум элементам перебираемого объекта и генерируется промежуточный результат.\n",
    "2. Промежуточный результат вместе с третьим элементом итерируемого объекта используются, чтобы сгенерировать следующий промежуточный результат.\n",
    "3. Процесс повторяется до тех пор, пока перебираемая последовательность не будет исчерпана и не будет возвращено кумулятивное значение.\n",
    "\n",
    "Идея, лежащая в основе `reduce()`, заключается в том, чтобы применить существующую функцию кумулятивно ко всем элементам итерируемого объекта и сгенерировать единственное конечное значение. Таким образом, функция удобна для обработки итерируемых объектов без написания явных циклов `for`. Поскольку `reduce()` написана на языке C, её внутренний цикл может быть быстрее, чем явный цикл Python.\n",
    "\n",
    "Изначально функция `reduce()` была встроенной функцией в Python 2.x, но в третьей версии Python была перемещена в [`functools`](https://docs.python.org/3/library/functools.html#module-functools). Это решение было основано на некоторых возможных проблемах производительности и читаемости кода. На это также повлияло появление удобных специализированных функций для распространенных задач, которые ранее решались с помощью `reduce()`.\n",
    "\n",
    "Таким образом в Python 3.x функцию необходимо импортировать из модуля `functools()`"
   ]
  },
  {
   "cell_type": "code",
   "execution_count": 1,
   "metadata": {},
   "outputs": [],
   "source": [
    "from functools import reduce"
   ]
  },
  {
   "cell_type": "markdown",
   "metadata": {},
   "source": [
    "Согласно [документации](https://docs.python.org/3/library/functools.html#functools.reduce), функция имеет следующую сигнатуру:\n",
    "\n",
    "```python\n",
    "functools.reduce(function, iterable[, initializer])\n",
    "```\n",
    "\n",
    "В документации Python также указано, что поведение `reduce()` примерно эквивалентно следующей функции Python:\n",
    "\n",
    "```python\n",
    "def reduce(function, iterable, initializer=None):\n",
    "    it = iter(iterable)\n",
    "    if initializer is None:\n",
    "        value = next(it)\n",
    "    else:\n",
    "        value = initializer\n",
    "    for element in it:\n",
    "        value = function(value, element)\n",
    "    return value\n",
    "```\n",
    "\n",
    "Функция `function` применяется к паре начальных элементов итерируемого объекта `iterable`, циклически сокращая итерируемый объект до значения `value`.\n",
    "\n",
    "Третий необязательный аргумент функции `reduce()` – инициализатор `initializer`, предоставляющий предварительное значение для операции последовательной свёртки."
   ]
  },
  {
   "cell_type": "markdown",
   "metadata": {},
   "source": [
    "# Обязательные аргументы: `function` и `iterable`\n",
    "\n",
    "Несмотря на то, что в официальной документации первый аргумент метода `reduce()` упоминается как «функция двух аргументов», можно передать любой вызываемый объект, принимающий два аргумента: классы и экземпляры, реализующие специальный метод `__call__()`, методы экземпляров, методы классов, статические методы и функции.\n",
    "\n",
    "Второй обязательный аргумент – итерируемый объект: список, кортеж, объект `range`, генератор, итератор, множество, перечень значение или ключей словарей и т. д.\n",
    "\n",
    "Чтобы понять, как работает `reduce()`, применим её для задачи нахождения суммы с выводом промежуточных результатов. Для начала нужна функция сложения двух аргументов:"
   ]
  },
  {
   "cell_type": "code",
   "execution_count": 2,
   "metadata": {},
   "outputs": [],
   "source": [
    "def my_add(a, b):\n",
    "    result = a + b\n",
    "    print(f\"{a} + {b} = {result}\")\n",
    "    return result"
   ]
  },
  {
   "cell_type": "markdown",
   "metadata": {},
   "source": [
    "Теперь передадим в `reduce()` эту функцию и последовательность чисел:"
   ]
  },
  {
   "cell_type": "code",
   "execution_count": 3,
   "metadata": {},
   "outputs": [
    {
     "name": "stdout",
     "output_type": "stream",
     "text": [
      "0 + 1 = 1\n",
      "1 + 2 = 3\n",
      "3 + 3 = 6\n",
      "6 + 4 = 10\n"
     ]
    },
    {
     "data": {
      "text/plain": [
       "10"
      ]
     },
     "execution_count": 3,
     "metadata": {},
     "output_type": "execute_result"
    }
   ],
   "source": [
    "numbers = [0, 1, 2, 3, 4]\n",
    "reduce(my_add, numbers)"
   ]
  },
  {
   "cell_type": "markdown",
   "metadata": {},
   "source": [
    "Всё работает, как мы описали выше: промежуточный результат используется в качестве одного из аргументов на следующей итерации вызова функции."
   ]
  },
  {
   "cell_type": "markdown",
   "metadata": {},
   "source": [
    "# Необязательный аргумент: `initializer`\n",
    "\n",
    "При указании инициализатора, `reduce()` использует переданное значение в качестве начальной точки:"
   ]
  },
  {
   "cell_type": "code",
   "execution_count": 4,
   "metadata": {},
   "outputs": [
    {
     "name": "stdout",
     "output_type": "stream",
     "text": [
      "100 + 0 = 100\n",
      "100 + 1 = 101\n",
      "101 + 2 = 103\n",
      "103 + 3 = 106\n",
      "106 + 4 = 110\n"
     ]
    },
    {
     "data": {
      "text/plain": [
       "110"
      ]
     },
     "execution_count": 4,
     "metadata": {},
     "output_type": "execute_result"
    }
   ],
   "source": [
    "reduce(my_add, numbers, 100)"
   ]
  },
  {
   "cell_type": "markdown",
   "metadata": {},
   "source": [
    "Момент, на который следует обратить внимание: если вы передадите значение инициализатора, `reduce()` выполнит на итерацию больше, чем без инициализатора. Если итерируемый объект окажется пустым ещё до начала свёртки, это значение будет служить значением по умолчанию. Иначе вызывается `TypeError`:"
   ]
  },
  {
   "cell_type": "code",
   "execution_count": 5,
   "metadata": {},
   "outputs": [
    {
     "data": {
      "text/plain": [
       "0"
      ]
     },
     "execution_count": 5,
     "metadata": {},
     "output_type": "execute_result"
    }
   ],
   "source": [
    "reduce(my_add, [], 0)"
   ]
  },
  {
   "cell_type": "code",
   "execution_count": 6,
   "metadata": {},
   "outputs": [
    {
     "ename": "TypeError",
     "evalue": "reduce() of empty sequence with no initial value",
     "output_type": "error",
     "traceback": [
      "\u001b[0;31m---------------------------------------------------------------------------\u001b[0m",
      "\u001b[0;31mTypeError\u001b[0m                                 Traceback (most recent call last)",
      "\u001b[0;32m<ipython-input-6-ea3ca5f620e5>\u001b[0m in \u001b[0;36m<module>\u001b[0;34m\u001b[0m\n\u001b[0;32m----> 1\u001b[0;31m \u001b[0mreduce\u001b[0m\u001b[0;34m(\u001b[0m\u001b[0mmy_add\u001b[0m\u001b[0;34m,\u001b[0m \u001b[0;34m[\u001b[0m\u001b[0;34m]\u001b[0m\u001b[0;34m)\u001b[0m\u001b[0;34m\u001b[0m\u001b[0;34m\u001b[0m\u001b[0m\n\u001b[0m",
      "\u001b[0;31mTypeError\u001b[0m: reduce() of empty sequence with no initial value"
     ]
    }
   ],
   "source": [
    "reduce(my_add, [])"
   ]
  },
  {
   "cell_type": "markdown",
   "metadata": {},
   "source": [
    "# Произведение чисел\n",
    "\n",
    "Реализуем ту же логику (без печати промежуточных шагов) для произведения последовательности чисел:"
   ]
  },
  {
   "cell_type": "code",
   "execution_count": 7,
   "metadata": {},
   "outputs": [
    {
     "data": {
      "text/plain": [
       "840"
      ]
     },
     "execution_count": 7,
     "metadata": {},
     "output_type": "execute_result"
    }
   ],
   "source": [
    "numbers = [4, 5, 6, 7]\n",
    "def my_prod(a, b):\n",
    "    return a * b\n",
    "\n",
    "reduce(my_prod, numbers)"
   ]
  },
  {
   "cell_type": "markdown",
   "metadata": {},
   "source": [
    "Для совсем простых задач можно использовать анонимные lambda-функции:"
   ]
  },
  {
   "cell_type": "code",
   "execution_count": 8,
   "metadata": {},
   "outputs": [
    {
     "data": {
      "text/plain": [
       "840"
      ]
     },
     "execution_count": 8,
     "metadata": {},
     "output_type": "execute_result"
    }
   ],
   "source": [
    "reduce(lambda a, b: a * b, numbers)"
   ]
  },
  {
   "cell_type": "markdown",
   "metadata": {},
   "source": [
    "Модуль `operator` содержит набор функций, соответствующий встроенным операторам Python. Для умножения – `mul()`:"
   ]
  },
  {
   "cell_type": "code",
   "execution_count": 9,
   "metadata": {},
   "outputs": [
    {
     "data": {
      "text/plain": [
       "840"
      ]
     },
     "execution_count": 9,
     "metadata": {},
     "output_type": "execute_result"
    }
   ],
   "source": [
    "from operator import mul\n",
    "reduce(mul, numbers)"
   ]
  },
  {
   "cell_type": "markdown",
   "metadata": {},
   "source": [
    "**Примечание**: в версии Python 3.8 в модуль `math` добавлена новая функция `prod()`, аналогичная `sum()`, но возвращающая произведение. Однако далеко не всегда есть возможность пользоваться последними версиями языка."
   ]
  }
 ],
 "metadata": {
  "kernelspec": {
   "display_name": "Python 3",
   "language": "python",
   "name": "python3"
  },
  "language_info": {
   "codemirror_mode": {
    "name": "ipython",
    "version": 3
   },
   "file_extension": ".py",
   "mimetype": "text/x-python",
   "name": "python",
   "nbconvert_exporter": "python",
   "pygments_lexer": "ipython3",
   "version": "3.7.6"
  }
 },
 "nbformat": 4,
 "nbformat_minor": 4
}
