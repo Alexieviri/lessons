{
 "cells": [
  {
   "cell_type": "markdown",
   "metadata": {},
   "source": [
    "# Задачи по статистике в R\n",
    "\n",
    "Различные задачи по языку R и  статистике в R:\n",
    "- [Основы программирования на R](https://stepik.org/course/497)\n",
    "- [Анализ данных в R на Stepik](https://stepik.org/course/129/)\n",
    "\n",
    "Данные приводятся исключительно для ознакомления в качестве личного конспекта. Перед решениями не стоит задачи строгого соответствия вопросам упомянутых курсов."
   ]
  },
  {
   "cell_type": "markdown",
   "metadata": {},
   "source": [
    "---\n",
    "# R: Факторы и строки\n",
    "\n",
    "**Задача**. Превратите количественную переменную `mag` (сила землетрясения в баллах по шкале Рихтера) датафрейма `quakes` в качественную. Интервалы должны быть длиной в полбалла, начиная с минимального, при этом левый конец интервала включается. Далее отсортируйте общее количество случаев, попавших в каждую категорию, в порядке убывания."
   ]
  },
  {
   "cell_type": "code",
   "execution_count": 231,
   "metadata": {},
   "outputs": [
    {
     "data": {
      "text/plain": [
       "t\n",
       "[4,5,5) [4,4,5) [5,5,5) [5,5,6) [6,6,5) \n",
       "    425     377     160      33       5 "
      ]
     },
     "metadata": {},
     "output_type": "display_data"
    }
   ],
   "source": [
    "t <- cut(quakes$mag, breaks = 0.5*(8:13), right=F)\n",
    "sort(table(t), decreasing = T)"
   ]
  },
  {
   "cell_type": "markdown",
   "metadata": {},
   "source": [
    "# Анализ номинативных данных\n",
    "\n",
    "---\n",
    "**Задача**. Воспользуемся данными diamonds из библиотеки `ggplot2`. При помощи критерия Хи-квадрат проверьте гипотезу о взаимосвязи качества огранки бриллианта (`сut`) и его цвета (`color`). В переменную `main_stat` сохраните значение статистики критерия Хи-квадрат."
   ]
  },
  {
   "cell_type": "code",
   "execution_count": 121,
   "metadata": {},
   "outputs": [],
   "source": [
    "# install.packages(\"ggplot2\")\n",
    "library(ggplot2)\n",
    "options(repr.plot.width = 5, repr.plot.height = 2.5, repr.plot.res = 100)\n",
    "\n",
    "diamonds_table <- table(diamonds$cut, diamonds$color)    \n",
    "chi_result <- chisq.test(diamonds_table )    \n",
    "main_stat <- chi_result$statistic"
   ]
  },
  {
   "cell_type": "code",
   "execution_count": 122,
   "metadata": {},
   "outputs": [
    {
     "data": {
      "text/plain": [
       "\n",
       "\tPearson's Chi-squared test\n",
       "\n",
       "data:  diamonds_table\n",
       "X-squared = 310,32, df = 24, p-value < 2,2e-16\n"
      ]
     },
     "metadata": {},
     "output_type": "display_data"
    }
   ],
   "source": [
    "chi_result"
   ]
  },
  {
   "cell_type": "code",
   "execution_count": 123,
   "metadata": {},
   "outputs": [
    {
     "data": {
      "text/html": [
       "<strong>X-squared:</strong> 310,317900521154"
      ],
      "text/latex": [
       "\\textbf{X-squared:} 310,317900521154"
      ],
      "text/markdown": [
       "**X-squared:** 310,317900521154"
      ],
      "text/plain": [
       "X-squared \n",
       " 310,3179 "
      ]
     },
     "metadata": {},
     "output_type": "display_data"
    }
   ],
   "source": [
    "main_stat"
   ]
  },
  {
   "cell_type": "markdown",
   "metadata": {},
   "source": [
    "---\n",
    "**Задача**. Вновь воспользуемся данными `diamonds` из библиотеки `ggplot2`. При помощи критерия Хи-квадрат проверьте гипотезу о взаимосвязи цены (`price`) и каратов (`carat`) бриллиантов. Для этого сначала нужно перевести эти количественные переменные в формат пригодный для Хи-квадрат. Создайте две новые переменные в данных `diamonds`:\n",
    "\n",
    "- `factor_price` - 1, если значение цены больше либо равно, чем среднее, и 0, если значение цены ниже среднего цены по выборке.\n",
    "- `factor_carat` - 1, если число карат больше либо равно, чем среднее, и 0, если ниже среднего числа карат по выборке.\n",
    "\n",
    "Важный момент - на больших данных цикл for() работает довольно медленно, постарайтесь решить эту задачу без его использования!\n",
    "Используя эти шкалы при помощи Хи-квадрат проверьте исходную гипотезу. Сохраните в переменную `main_stat` значение критерия  Хи-квадрат.\n",
    "\n",
    "Пример перевода количественной шкалы в номинативную:\n",
    "\n",
    "```R\n",
    "> x <- (1, 2, 3, 5, 6, 7) # mean(x) = 4\n",
    "> factor_x <- (0, 0, 0, 1, 1, 1)\n",
    "```"
   ]
  },
  {
   "cell_type": "code",
   "execution_count": 124,
   "metadata": {},
   "outputs": [],
   "source": [
    "factor_price <- ifelse(diamonds$price >= mean(diamonds$price), 1, 0)\n",
    "factor_carat <- ifelse(diamonds$carat >= mean(diamonds$carat), 1, 0)\n",
    "diamonds_table <- table(factor_price, factor_carat)\n",
    "chi_result <- chisq.test(diamonds_table )    \n",
    "main_stat <- chi_result$statistic"
   ]
  },
  {
   "cell_type": "code",
   "execution_count": 125,
   "metadata": {},
   "outputs": [
    {
     "data": {
      "text/html": [
       "<strong>X-squared:</strong> 40735,2227968624"
      ],
      "text/latex": [
       "\\textbf{X-squared:} 40735,2227968624"
      ],
      "text/markdown": [
       "**X-squared:** 40735,2227968624"
      ],
      "text/plain": [
       "X-squared \n",
       " 40735,22 "
      ]
     },
     "metadata": {},
     "output_type": "display_data"
    }
   ],
   "source": [
    "main_stat"
   ]
  },
  {
   "cell_type": "markdown",
   "metadata": {},
   "source": [
    "**Задача**. При помощи точного критерия Фишера проверьте гипотезу о взаимосвязи типа коробки передач (`am`) и типа двигателя (`vs`) в данных `mtcars`. Получившийся p-уровень значимости сохраните в переменную `fisher_test`."
   ]
  },
  {
   "cell_type": "code",
   "execution_count": 126,
   "metadata": {},
   "outputs": [],
   "source": [
    "fisher_test <- fisher.test(table(mtcars$am, mtcars$vs))$p"
   ]
  },
  {
   "cell_type": "markdown",
   "metadata": {},
   "source": [
    "# Сравнение двух групп"
   ]
  },
  {
   "cell_type": "markdown",
   "metadata": {},
   "source": [
    "Рассмотрим t-критерий на примере датасета `iris`. Выделим два вида."
   ]
  },
  {
   "cell_type": "code",
   "execution_count": 127,
   "metadata": {},
   "outputs": [],
   "source": [
    "df <- subset(iris, Species != 'setosa')"
   ]
  },
  {
   "cell_type": "code",
   "execution_count": 128,
   "metadata": {},
   "outputs": [
    {
     "data": {
      "text/plain": [
       "\n",
       "    setosa versicolor  virginica \n",
       "         0         50         50 "
      ]
     },
     "metadata": {},
     "output_type": "display_data"
    }
   ],
   "source": [
    "table(df$Species)"
   ]
  },
  {
   "cell_type": "markdown",
   "metadata": {},
   "source": [
    "Проверим форму распределений."
   ]
  },
  {
   "cell_type": "code",
   "execution_count": 129,
   "metadata": {},
   "outputs": [
    {
     "data": {
      "image/png": "[encoded data removed]"
     },
     "metadata": {},
     "output_type": "display_data"
    }
   ],
   "source": [
    "ggplot(df, aes(x = Sepal.Length)) +\n",
    "geom_histogram(fill=\"white\",\n",
    "               col=\"black\", \n",
    "               binwidth=0.4) +\n",
    "facet_grid(Species ~ .)"
   ]
  },
  {
   "cell_type": "code",
   "execution_count": 130,
   "metadata": {},
   "outputs": [
    {
     "data": {
      "image/png": "[encoded data removed]"
     },
     "metadata": {},
     "output_type": "display_data"
    }
   ],
   "source": [
    "ggplot(df, aes(Sepal.Length, fill = Species )) +\n",
    "geom_density(alpha = 0.5)"
   ]
  },
  {
   "cell_type": "code",
   "execution_count": 131,
   "metadata": {},
   "outputs": [
    {
     "data": {
      "image/png": "[encoded data removed]"
     },
     "metadata": {},
     "output_type": "display_data"
    }
   ],
   "source": [
    "ggplot(df, aes(Species, Sepal.Length, fill = Species )) +\n",
    "geom_boxplot()"
   ]
  },
  {
   "cell_type": "markdown",
   "metadata": {},
   "source": [
    "Видим приблизительно симметричные, близкие к нормальным распределения, гомогенные. Проверим эти предположения с помощью тестов.\n",
    "\n",
    "Сначала проверим нормальность с помощью [критерия Шапиро-Уилка](https://ru.wikipedia.org/wiki/%D0%9A%D1%80%D0%B8%D1%82%D0%B5%D1%80%D0%B8%D0%B8_%D0%BD%D0%BE%D1%80%D0%BC%D0%B0%D0%BB%D1%8C%D0%BD%D0%BE%D1%81%D1%82%D0%B8)."
   ]
  },
  {
   "cell_type": "code",
   "execution_count": 132,
   "metadata": {},
   "outputs": [
    {
     "data": {
      "text/plain": [
       "\n",
       "\tShapiro-Wilk normality test\n",
       "\n",
       "data:  df$Sepal.Length\n",
       "W = 0,98054, p-value = 0,1464\n"
      ]
     },
     "metadata": {},
     "output_type": "display_data"
    }
   ],
   "source": [
    "shapiro.test(df$Sepal.Length)"
   ]
  },
  {
   "cell_type": "code",
   "execution_count": 133,
   "metadata": {},
   "outputs": [
    {
     "data": {
      "text/plain": [
       "\n",
       "\tShapiro-Wilk normality test\n",
       "\n",
       "data:  df$Sepal.Length[df$Species == \"versicolor\"]\n",
       "W = 0,97784, p-value = 0,4647\n"
      ]
     },
     "metadata": {},
     "output_type": "display_data"
    }
   ],
   "source": [
    "shapiro.test(df$Sepal.Length[df$Species == \"versicolor\"])"
   ]
  },
  {
   "cell_type": "code",
   "execution_count": 134,
   "metadata": {},
   "outputs": [
    {
     "data": {
      "text/plain": [
       "\n",
       "\tShapiro-Wilk normality test\n",
       "\n",
       "data:  df$Sepal.Length[df$Species == \"virginica\"]\n",
       "W = 0,97118, p-value = 0,2583\n"
      ]
     },
     "metadata": {},
     "output_type": "display_data"
    }
   ],
   "source": [
    "shapiro.test(df$Sepal.Length[df$Species == \"virginica\"])"
   ]
  },
  {
   "cell_type": "markdown",
   "metadata": {},
   "source": [
    "Проверим гомогенность дисперсии по [критерию Бартлетта](https://ru.wikipedia.org/wiki/%D0%9A%D1%80%D0%B8%D1%82%D0%B5%D1%80%D0%B8%D0%B9_%D0%91%D0%B0%D1%80%D1%82%D0%BB%D0%B5%D1%82%D1%82%D0%B0)."
   ]
  },
  {
   "cell_type": "code",
   "execution_count": 135,
   "metadata": {},
   "outputs": [
    {
     "data": {
      "text/plain": [
       "\n",
       "\tBartlett test of homogeneity of variances\n",
       "\n",
       "data:  Sepal.Length by Species\n",
       "Bartlett's K-squared = 2,0949, df = 1, p-value = 0,1478\n"
      ]
     },
     "metadata": {},
     "output_type": "display_data"
    }
   ],
   "source": [
    "bartlett.test(Sepal.Length ~ Species, df)"
   ]
  },
  {
   "cell_type": "markdown",
   "metadata": {},
   "source": [
    "Данные проверили, теперь выполним сам t-тест."
   ]
  },
  {
   "cell_type": "code",
   "execution_count": 137,
   "metadata": {},
   "outputs": [],
   "source": [
    "t_test <- t.test(Sepal.Length ~ Species, df)"
   ]
  },
  {
   "cell_type": "code",
   "execution_count": 141,
   "metadata": {},
   "outputs": [
    {
     "data": {
      "text/html": [
       "1,866144387377e-07"
      ],
      "text/latex": [
       "1,866144387377e-07"
      ],
      "text/markdown": [
       "1,866144387377e-07"
      ],
      "text/plain": [
       "[1] 1,866144e-07"
      ]
     },
     "metadata": {},
     "output_type": "display_data"
    }
   ],
   "source": [
    "t_test$p.value"
   ]
  },
  {
   "cell_type": "markdown",
   "metadata": {},
   "source": [
    "Тест пройден.\n",
    "\n",
    "Рассмотрим ситуацию для парной выборки:"
   ]
  },
  {
   "cell_type": "code",
   "execution_count": 144,
   "metadata": {},
   "outputs": [
    {
     "data": {
      "text/plain": [
       "\n",
       "\tPaired t-test\n",
       "\n",
       "data:  df$Petal.Length and df$Petal.Width\n",
       "t = 60,552, df = 99, p-value < 2,2e-16\n",
       "alternative hypothesis: true difference in means is not equal to 0\n",
       "95 percent confidence interval:\n",
       " 3,124156 3,335844\n",
       "sample estimates:\n",
       "mean of the differences \n",
       "                   3,23 \n"
      ]
     },
     "metadata": {},
     "output_type": "display_data"
    }
   ],
   "source": [
    "t.test(df$Petal.Length,\n",
    "       df$Petal.Width,\n",
    "       paired = T)"
   ]
  },
  {
   "cell_type": "markdown",
   "metadata": {},
   "source": [
    "# Памятка\n",
    "t-Критерий Стьюдента для независимых выборок\n",
    "\n",
    "```\n",
    "t.test(Var1 ~ Var2, data) # если первая переменная количественная, а вторая фактор\n",
    "t.test(data$Var1, data$Var2) # если обе переменные количественные\n",
    "```\n",
    "\n",
    "t-Критерий Стьюдента для зависимых выборок\n",
    "\n",
    "```\n",
    "t.test(data$Var1, data$Var2, paired = T)\n",
    "```\n",
    "\n",
    "Проверка на нормальность распределения\n",
    "\n",
    "```\n",
    "shapiro.test(Var1) # проверка на нормальность распределения переменной Var1\n",
    "# но не удобно когда есть группирующая факторная переменная\n",
    "```\n",
    "\n",
    "Поможет функция by(), которая применяет различные функции на каждом уровне фактора.  \n",
    "\n",
    "```\n",
    "by(iris$Sepal.Length, INDICES = iris$Species, shapiro.test) # проверка на нормальность переменной \n",
    "# Sepal.Length в трех разных группах в соответствии с переменной Species\n",
    "```\n",
    "\n",
    "Проверка на гомогенность дисперсий\n",
    "\n",
    "```\n",
    "bartlett.test(mpg ~ am, mtcars) #Критерий Бартлетта\n",
    "```"
   ]
  },
  {
   "cell_type": "markdown",
   "metadata": {},
   "source": [
    "---\n",
    "**Задача про свинок**. Воспользуемся встроенным набором данных в R - `ToothGrowth`. Данные позволяют исследовать рост зубов у морских свинок в зависимости от дозировки витамина C и типа потребляемых продуктов.\n",
    "\n",
    "Сравните среднее значение длины зубов свинок, которые потребляли апельсиновый сок (OJ) с дозировкой 0.5 миллиграмм, со средним значением длины зубов свинок, которые потребляли аскорбиновую кислоту (VC) с дозировкой 2 миллиграмма. \n",
    "\n",
    "Значение t-критерия сохраните в переменную `t_stat`."
   ]
  },
  {
   "cell_type": "code",
   "execution_count": 206,
   "metadata": {},
   "outputs": [],
   "source": [
    "data <- subset(ToothGrowth, supp=='OJ' & dose==0.5 | supp=='VC' & dose==2)    \n",
    "t_stat <- t.test(len ~ supp, data)$statistic"
   ]
  },
  {
   "cell_type": "code",
   "execution_count": 207,
   "metadata": {},
   "outputs": [
    {
     "data": {
      "text/html": [
       "<strong>t:</strong> -6,23248213751536"
      ],
      "text/latex": [
       "\\textbf{t:} -6,23248213751536"
      ],
      "text/markdown": [
       "**t:** -6,23248213751536"
      ],
      "text/plain": [
       "        t \n",
       "-6,232482 "
      ]
     },
     "metadata": {},
     "output_type": "display_data"
    }
   ],
   "source": [
    "t_stat"
   ]
  },
  {
   "cell_type": "code",
   "execution_count": 221,
   "metadata": {},
   "outputs": [
    {
     "data": {
      "text/html": [
       "\n",
       "<table width=\"100%\" summary=\"page for cut {base}\"><tr><td>cut {base}</td><td style=\"text-align: right;\">R Documentation</td></tr></table>\n",
       "\n",
       "<h2>Convert Numeric to Factor</h2>\n",
       "\n",
       "<h3>Description</h3>\n",
       "\n",
       "<p><code>cut</code> divides the range of <code>x</code> into intervals\n",
       "and codes the values in <code>x</code> according to which\n",
       "interval they fall.  The leftmost interval corresponds to level one,\n",
       "the next leftmost to level two and so on.\n",
       "</p>\n",
       "\n",
       "\n",
       "<h3>Usage</h3>\n",
       "\n",
       "<pre>\n",
       "cut(x, ...)\n",
       "\n",
       "## Default S3 method:\n",
       "cut(x, breaks, labels = NULL,\n",
       "    include.lowest = FALSE, right = TRUE, dig.lab = 3,\n",
       "    ordered_result = FALSE, ...)\n",
       "</pre>\n",
       "\n",
       "\n",
       "<h3>Arguments</h3>\n",
       "\n",
       "<table summary=\"R argblock\">\n",
       "<tr valign=\"top\"><td><code>x</code></td>\n",
       "<td>\n",
       "<p>a numeric vector which is to be converted to a factor by cutting.</p>\n",
       "</td></tr>\n",
       "<tr valign=\"top\"><td><code>breaks</code></td>\n",
       "<td>\n",
       "<p>either a numeric vector of two or more unique cut points or a\n",
       "single number (greater than or equal to 2) giving the number of\n",
       "intervals into which <code>x</code> is to be cut.</p>\n",
       "</td></tr>\n",
       "<tr valign=\"top\"><td><code>labels</code></td>\n",
       "<td>\n",
       "<p>labels for the levels of the resulting category.  By default,\n",
       "labels are constructed using <code>\"(a,b]\"</code> interval notation.  If\n",
       "<code>labels = FALSE</code>, simple integer codes are returned instead of\n",
       "a factor.</p>\n",
       "</td></tr>\n",
       "<tr valign=\"top\"><td><code>include.lowest</code></td>\n",
       "<td>\n",
       "<p>logical, indicating if an &lsquo;x[i]&rsquo; equal to\n",
       "the lowest (or highest, for <code>right = FALSE</code>) &lsquo;breaks&rsquo;\n",
       "value should be included.</p>\n",
       "</td></tr>\n",
       "<tr valign=\"top\"><td><code>right</code></td>\n",
       "<td>\n",
       "<p>logical, indicating if the intervals should be closed on\n",
       "the right (and open on the left) or vice versa.</p>\n",
       "</td></tr>\n",
       "<tr valign=\"top\"><td><code>dig.lab</code></td>\n",
       "<td>\n",
       "<p>integer which is used when labels are not given.  It\n",
       "determines the number of digits used in formatting the break numbers.</p>\n",
       "</td></tr>\n",
       "<tr valign=\"top\"><td><code>ordered_result</code></td>\n",
       "<td>\n",
       "<p>logical: should the result be an ordered factor?</p>\n",
       "</td></tr>\n",
       "<tr valign=\"top\"><td><code>...</code></td>\n",
       "<td>\n",
       "<p>further arguments passed to or from other methods.</p>\n",
       "</td></tr>\n",
       "</table>\n",
       "\n",
       "\n",
       "<h3>Details</h3>\n",
       "\n",
       "<p>When <code>breaks</code> is specified as a single number, the range of the\n",
       "data is divided into <code>breaks</code> pieces of equal length, and then\n",
       "the outer limits are moved away by 0.1% of the range to ensure that\n",
       "the extreme values both fall within the break intervals.  (If <code>x</code>\n",
       "is a constant vector, equal-length intervals are created, one of\n",
       "which includes the single value.)\n",
       "</p>\n",
       "<p>If a <code>labels</code> parameter is specified, its values are used to name\n",
       "the factor levels.  If none is specified, the factor level labels are\n",
       "constructed as <code>\"(b1, b2]\"</code>, <code>\"(b2, b3]\"</code> etc. for\n",
       "<code>right = TRUE</code> and as <code>\"[b1, b2)\"</code>, ... if <code>right =\n",
       "    FALSE</code>.\n",
       "In this case, <code>dig.lab</code> indicates the minimum number of digits\n",
       "should be used in formatting the numbers <code>b1</code>, <code>b2</code>, ....\n",
       "A larger value (up to 12) will be used if needed to distinguish\n",
       "between any pair of endpoints: if this fails labels such as\n",
       "<code>\"Range3\"</code> will be used.  Formatting is done by\n",
       "<code>formatC</code>.\n",
       "</p>\n",
       "<p>The default method will sort a numeric vector of <code>breaks</code>, but\n",
       "other methods are not required to and <code>labels</code> will correspond to\n",
       "the intervals after sorting.\n",
       "</p>\n",
       "<p>As from <span style=\"font-family: Courier New, Courier; color: #666666;\"><b>R</b></span> 3.2.0, <code>getOption(\"OutDec\")</code> is consulted when labels\n",
       "are constructed for <code>labels = NULL</code>.\n",
       "</p>\n",
       "\n",
       "\n",
       "<h3>Value</h3>\n",
       "\n",
       "<p>A <code>factor</code> is returned, unless <code>labels = FALSE</code> which\n",
       "results in an integer vector of level codes.\n",
       "</p>\n",
       "<p>Values which fall outside the range of <code>breaks</code> are coded as\n",
       "<code>NA</code>, as are <code>NaN</code> and <code>NA</code> values.\n",
       "</p>\n",
       "\n",
       "\n",
       "<h3>Note</h3>\n",
       "\n",
       "<p>Instead of <code>table(cut(x, br))</code>, <code>hist(x, br, plot = FALSE)</code> is\n",
       "more efficient and less memory hungry.  Instead of <code>cut(*,\n",
       "    labels = FALSE)</code>, <code>findInterval()</code> is more efficient.\n",
       "</p>\n",
       "\n",
       "\n",
       "<h3>References</h3>\n",
       "\n",
       "<p>Becker, R. A., Chambers, J. M. and Wilks, A. R. (1988)\n",
       "<em>The New S Language</em>.\n",
       "Wadsworth &amp; Brooks/Cole.\n",
       "</p>\n",
       "\n",
       "\n",
       "<h3>See Also</h3>\n",
       "\n",
       "<p><code>split</code> for splitting a variable according to a group factor;\n",
       "<code>factor</code>, <code>tabulate</code>, <code>table</code>,\n",
       "<code>findInterval</code>.\n",
       "</p>\n",
       "<p><code>quantile</code> for ways of choosing breaks of roughly equal\n",
       "content (rather than length).\n",
       "</p>\n",
       "<p><code>.bincode</code> for a bare-bones version.\n",
       "</p>\n",
       "\n",
       "\n",
       "<h3>Examples</h3>\n",
       "\n",
       "<pre>\n",
       "Z &lt;- stats::rnorm(10000)\n",
       "table(cut(Z, breaks = -6:6))\n",
       "sum(table(cut(Z, breaks = -6:6, labels = FALSE)))\n",
       "sum(graphics::hist(Z, breaks = -6:6, plot = FALSE)$counts)\n",
       "\n",
       "cut(rep(1,5), 4) #-- dummy\n",
       "tx0 &lt;- c(9, 4, 6, 5, 3, 10, 5, 3, 5)\n",
       "x &lt;- rep(0:8, tx0)\n",
       "stopifnot(table(x) == tx0)\n",
       "\n",
       "table( cut(x, b = 8))\n",
       "table( cut(x, breaks = 3*(-2:5)))\n",
       "table( cut(x, breaks = 3*(-2:5), right = FALSE))\n",
       "\n",
       "##--- some values OUTSIDE the breaks :\n",
       "table(cx  &lt;- cut(x, breaks = 2*(0:4)))\n",
       "table(cxl &lt;- cut(x, breaks = 2*(0:4), right = FALSE))\n",
       "which(is.na(cx));  x[is.na(cx)]  #-- the first 9  values  0\n",
       "which(is.na(cxl)); x[is.na(cxl)] #-- the last  5  values  8\n",
       "\n",
       "\n",
       "## Label construction:\n",
       "y &lt;- stats::rnorm(100)\n",
       "table(cut(y, breaks = pi/3*(-3:3)))\n",
       "table(cut(y, breaks = pi/3*(-3:3), dig.lab = 4))\n",
       "\n",
       "table(cut(y, breaks =  1*(-3:3), dig.lab = 4))\n",
       "# extra digits don't \"harm\" here\n",
       "table(cut(y, breaks =  1*(-3:3), right = FALSE))\n",
       "#- the same, since no exact INT!\n",
       "\n",
       "## sometimes the default dig.lab is not enough to be avoid confusion:\n",
       "aaa &lt;- c(1,2,3,4,5,2,3,4,5,6,7)\n",
       "cut(aaa, 3)\n",
       "cut(aaa, 3, dig.lab = 4, ordered = TRUE)\n",
       "\n",
       "## one way to extract the breakpoints\n",
       "labs &lt;- levels(cut(aaa, 3))\n",
       "cbind(lower = as.numeric( sub(\"\\\\((.+),.*\", \"\\\\1\", labs) ),\n",
       "      upper = as.numeric( sub(\"[^,]*,([^]]*)\\\\]\", \"\\\\1\", labs) ))\n",
       "</pre>\n",
       "\n",
       "<hr /><div style=\"text-align: center;\">[Package <em>base</em> version 3.6.1 ]</div>"
      ],
      "text/latex": [
       "\\inputencoding{utf8}\n",
       "\\HeaderA{cut}{Convert Numeric to Factor}{cut}\n",
       "\\methaliasA{cut.default}{cut}{cut.default}\n",
       "\\keyword{category}{cut}\n",
       "%\n",
       "\\begin{Description}\\relax\n",
       "\\code{cut} divides the range of \\code{x} into intervals\n",
       "and codes the values in \\code{x} according to which\n",
       "interval they fall.  The leftmost interval corresponds to level one,\n",
       "the next leftmost to level two and so on.\n",
       "\\end{Description}\n",
       "%\n",
       "\\begin{Usage}\n",
       "\\begin{verbatim}\n",
       "cut(x, ...)\n",
       "\n",
       "## Default S3 method:\n",
       "cut(x, breaks, labels = NULL,\n",
       "    include.lowest = FALSE, right = TRUE, dig.lab = 3,\n",
       "    ordered_result = FALSE, ...)\n",
       "\\end{verbatim}\n",
       "\\end{Usage}\n",
       "%\n",
       "\\begin{Arguments}\n",
       "\\begin{ldescription}\n",
       "\\item[\\code{x}] a numeric vector which is to be converted to a factor by cutting.\n",
       "\\item[\\code{breaks}] either a numeric vector of two or more unique cut points or a\n",
       "single number (greater than or equal to 2) giving the number of\n",
       "intervals into which \\code{x} is to be cut.\n",
       "\\item[\\code{labels}] labels for the levels of the resulting category.  By default,\n",
       "labels are constructed using \\code{\"(a,b]\"} interval notation.  If\n",
       "\\code{labels = FALSE}, simple integer codes are returned instead of\n",
       "a factor.\n",
       "\\item[\\code{include.lowest}] logical, indicating if an `x[i]' equal to\n",
       "the lowest (or highest, for \\code{right = FALSE}) `breaks'\n",
       "value should be included.\n",
       "\\item[\\code{right}] logical, indicating if the intervals should be closed on\n",
       "the right (and open on the left) or vice versa.\n",
       "\\item[\\code{dig.lab}] integer which is used when labels are not given.  It\n",
       "determines the number of digits used in formatting the break numbers.\n",
       "\\item[\\code{ordered\\_result}] logical: should the result be an ordered factor?\n",
       "\\item[\\code{...}] further arguments passed to or from other methods.\n",
       "\\end{ldescription}\n",
       "\\end{Arguments}\n",
       "%\n",
       "\\begin{Details}\\relax\n",
       "When \\code{breaks} is specified as a single number, the range of the\n",
       "data is divided into \\code{breaks} pieces of equal length, and then\n",
       "the outer limits are moved away by 0.1\\% of the range to ensure that\n",
       "the extreme values both fall within the break intervals.  (If \\code{x}\n",
       "is a constant vector, equal-length intervals are created, one of\n",
       "which includes the single value.)\n",
       "\n",
       "If a \\code{labels} parameter is specified, its values are used to name\n",
       "the factor levels.  If none is specified, the factor level labels are\n",
       "constructed as \\code{\"(b1, b2]\"}, \\code{\"(b2, b3]\"} etc. for\n",
       "\\code{right = TRUE} and as \\code{\"[b1, b2)\"}, \\ldots if \\code{right =\n",
       "    FALSE}.\n",
       "In this case, \\code{dig.lab} indicates the minimum number of digits\n",
       "should be used in formatting the numbers \\code{b1}, \\code{b2}, \\ldots.\n",
       "A larger value (up to 12) will be used if needed to distinguish\n",
       "between any pair of endpoints: if this fails labels such as\n",
       "\\code{\"Range3\"} will be used.  Formatting is done by\n",
       "\\code{\\LinkA{formatC}{formatC}}.\n",
       "\n",
       "The default method will sort a numeric vector of \\code{breaks}, but\n",
       "other methods are not required to and \\code{labels} will correspond to\n",
       "the intervals after sorting.\n",
       "\n",
       "As from \\R{} 3.2.0, \\code{getOption(\"OutDec\")} is consulted when labels\n",
       "are constructed for \\code{labels = NULL}.\n",
       "\\end{Details}\n",
       "%\n",
       "\\begin{Value}\n",
       "A \\code{\\LinkA{factor}{factor}} is returned, unless \\code{labels = FALSE} which\n",
       "results in an integer vector of level codes.\n",
       "\n",
       "Values which fall outside the range of \\code{breaks} are coded as\n",
       "\\code{NA}, as are \\code{NaN} and \\code{NA} values.\n",
       "\\end{Value}\n",
       "%\n",
       "\\begin{Note}\\relax\n",
       "Instead of \\code{table(cut(x, br))}, \\code{hist(x, br, plot = FALSE)} is\n",
       "more efficient and less memory hungry.  Instead of \\code{cut(*,\n",
       "    labels = FALSE)}, \\code{\\LinkA{findInterval}{findInterval}()} is more efficient.\n",
       "\\end{Note}\n",
       "%\n",
       "\\begin{References}\\relax\n",
       "Becker, R. A., Chambers, J. M. and Wilks, A. R. (1988)\n",
       "\\emph{The New S Language}.\n",
       "Wadsworth \\& Brooks/Cole.\n",
       "\\end{References}\n",
       "%\n",
       "\\begin{SeeAlso}\\relax\n",
       "\\code{\\LinkA{split}{split}} for splitting a variable according to a group factor;\n",
       "\\code{\\LinkA{factor}{factor}}, \\code{\\LinkA{tabulate}{tabulate}}, \\code{\\LinkA{table}{table}},\n",
       "\\code{\\LinkA{findInterval}{findInterval}}.\n",
       "\n",
       "\\code{\\LinkA{quantile}{quantile}} for ways of choosing breaks of roughly equal\n",
       "content (rather than length).\n",
       "\n",
       "\\code{\\LinkA{.bincode}{.bincode}} for a bare-bones version.\n",
       "\\end{SeeAlso}\n",
       "%\n",
       "\\begin{Examples}\n",
       "\\begin{ExampleCode}\n",
       "Z <- stats::rnorm(10000)\n",
       "table(cut(Z, breaks = -6:6))\n",
       "sum(table(cut(Z, breaks = -6:6, labels = FALSE)))\n",
       "sum(graphics::hist(Z, breaks = -6:6, plot = FALSE)$counts)\n",
       "\n",
       "cut(rep(1,5), 4) #-- dummy\n",
       "tx0 <- c(9, 4, 6, 5, 3, 10, 5, 3, 5)\n",
       "x <- rep(0:8, tx0)\n",
       "stopifnot(table(x) == tx0)\n",
       "\n",
       "table( cut(x, b = 8))\n",
       "table( cut(x, breaks = 3*(-2:5)))\n",
       "table( cut(x, breaks = 3*(-2:5), right = FALSE))\n",
       "\n",
       "##--- some values OUTSIDE the breaks :\n",
       "table(cx  <- cut(x, breaks = 2*(0:4)))\n",
       "table(cxl <- cut(x, breaks = 2*(0:4), right = FALSE))\n",
       "which(is.na(cx));  x[is.na(cx)]  #-- the first 9  values  0\n",
       "which(is.na(cxl)); x[is.na(cxl)] #-- the last  5  values  8\n",
       "\n",
       "\n",
       "## Label construction:\n",
       "y <- stats::rnorm(100)\n",
       "table(cut(y, breaks = pi/3*(-3:3)))\n",
       "table(cut(y, breaks = pi/3*(-3:3), dig.lab = 4))\n",
       "\n",
       "table(cut(y, breaks =  1*(-3:3), dig.lab = 4))\n",
       "# extra digits don't \"harm\" here\n",
       "table(cut(y, breaks =  1*(-3:3), right = FALSE))\n",
       "#- the same, since no exact INT!\n",
       "\n",
       "## sometimes the default dig.lab is not enough to be avoid confusion:\n",
       "aaa <- c(1,2,3,4,5,2,3,4,5,6,7)\n",
       "cut(aaa, 3)\n",
       "cut(aaa, 3, dig.lab = 4, ordered = TRUE)\n",
       "\n",
       "## one way to extract the breakpoints\n",
       "labs <- levels(cut(aaa, 3))\n",
       "cbind(lower = as.numeric( sub(\"\\\\((.+),.*\", \"\\\\1\", labs) ),\n",
       "      upper = as.numeric( sub(\"[^,]*,([^]]*)\\\\]\", \"\\\\1\", labs) ))\n",
       "\\end{ExampleCode}\n",
       "\\end{Examples}"
      ],
      "text/plain": [
       "cut                    package:base                    R Documentation\n",
       "\n",
       "_\bC_\bo_\bn_\bv_\be_\br_\bt _\bN_\bu_\bm_\be_\br_\bi_\bc _\bt_\bo _\bF_\ba_\bc_\bt_\bo_\br\n",
       "\n",
       "_\bD_\be_\bs_\bc_\br_\bi_\bp_\bt_\bi_\bo_\bn:\n",
       "\n",
       "     ‘cut’ divides the range of ‘x’ into intervals and codes the values\n",
       "     in ‘x’ according to which interval they fall.  The leftmost\n",
       "     interval corresponds to level one, the next leftmost to level two\n",
       "     and so on.\n",
       "\n",
       "_\bU_\bs_\ba_\bg_\be:\n",
       "\n",
       "     cut(x, ...)\n",
       "     \n",
       "     ## Default S3 method:\n",
       "     cut(x, breaks, labels = NULL,\n",
       "         include.lowest = FALSE, right = TRUE, dig.lab = 3,\n",
       "         ordered_result = FALSE, ...)\n",
       "     \n",
       "_\bA_\br_\bg_\bu_\bm_\be_\bn_\bt_\bs:\n",
       "\n",
       "       x: a numeric vector which is to be converted to a factor by\n",
       "          cutting.\n",
       "\n",
       "  breaks: either a numeric vector of two or more unique cut points or a\n",
       "          single number (greater than or equal to 2) giving the number\n",
       "          of intervals into which ‘x’ is to be cut.\n",
       "\n",
       "  labels: labels for the levels of the resulting category.  By default,\n",
       "          labels are constructed using ‘\"(a,b]\"’ interval notation.  If\n",
       "          ‘labels = FALSE’, simple integer codes are returned instead\n",
       "          of a factor.\n",
       "\n",
       "include.lowest: logical, indicating if an ‘x[i]’ equal to the lowest\n",
       "          (or highest, for ‘right = FALSE’) ‘breaks’ value should be\n",
       "          included.\n",
       "\n",
       "   right: logical, indicating if the intervals should be closed on the\n",
       "          right (and open on the left) or vice versa.\n",
       "\n",
       " dig.lab: integer which is used when labels are not given.  It\n",
       "          determines the number of digits used in formatting the break\n",
       "          numbers.\n",
       "\n",
       "ordered_result: logical: should the result be an ordered factor?\n",
       "\n",
       "     ...: further arguments passed to or from other methods.\n",
       "\n",
       "_\bD_\be_\bt_\ba_\bi_\bl_\bs:\n",
       "\n",
       "     When ‘breaks’ is specified as a single number, the range of the\n",
       "     data is divided into ‘breaks’ pieces of equal length, and then the\n",
       "     outer limits are moved away by 0.1% of the range to ensure that\n",
       "     the extreme values both fall within the break intervals.  (If ‘x’\n",
       "     is a constant vector, equal-length intervals are created, one of\n",
       "     which includes the single value.)\n",
       "\n",
       "     If a ‘labels’ parameter is specified, its values are used to name\n",
       "     the factor levels.  If none is specified, the factor level labels\n",
       "     are constructed as ‘\"(b1, b2]\"’, ‘\"(b2, b3]\"’ etc. for ‘right =\n",
       "     TRUE’ and as ‘\"[b1, b2)\"’, ... if ‘right = FALSE’.  In this case,\n",
       "     ‘dig.lab’ indicates the minimum number of digits should be used in\n",
       "     formatting the numbers ‘b1’, ‘b2’, ....  A larger value (up to 12)\n",
       "     will be used if needed to distinguish between any pair of\n",
       "     endpoints: if this fails labels such as ‘\"Range3\"’ will be used.\n",
       "     Formatting is done by ‘formatC’.\n",
       "\n",
       "     The default method will sort a numeric vector of ‘breaks’, but\n",
       "     other methods are not required to and ‘labels’ will correspond to\n",
       "     the intervals after sorting.\n",
       "\n",
       "     As from R 3.2.0, ‘getOption(\"OutDec\")’ is consulted when labels\n",
       "     are constructed for ‘labels = NULL’.\n",
       "\n",
       "_\bV_\ba_\bl_\bu_\be:\n",
       "\n",
       "     A ‘factor’ is returned, unless ‘labels = FALSE’ which results in\n",
       "     an integer vector of level codes.\n",
       "\n",
       "     Values which fall outside the range of ‘breaks’ are coded as ‘NA’,\n",
       "     as are ‘NaN’ and ‘NA’ values.\n",
       "\n",
       "_\bN_\bo_\bt_\be:\n",
       "\n",
       "     Instead of ‘table(cut(x, br))’, ‘hist(x, br, plot = FALSE)’ is\n",
       "     more efficient and less memory hungry.  Instead of ‘cut(*, labels\n",
       "     = FALSE)’, ‘findInterval()’ is more efficient.\n",
       "\n",
       "_\bR_\be_\bf_\be_\br_\be_\bn_\bc_\be_\bs:\n",
       "\n",
       "     Becker, R. A., Chambers, J. M. and Wilks, A. R. (1988) _The New S\n",
       "     Language_.  Wadsworth & Brooks/Cole.\n",
       "\n",
       "_\bS_\be_\be _\bA_\bl_\bs_\bo:\n",
       "\n",
       "     ‘split’ for splitting a variable according to a group factor;\n",
       "     ‘factor’, ‘tabulate’, ‘table’, ‘findInterval’.\n",
       "\n",
       "     ‘quantile’ for ways of choosing breaks of roughly equal content\n",
       "     (rather than length).\n",
       "\n",
       "     ‘.bincode’ for a bare-bones version.\n",
       "\n",
       "_\bE_\bx_\ba_\bm_\bp_\bl_\be_\bs:\n",
       "\n",
       "     Z <- stats::rnorm(10000)\n",
       "     table(cut(Z, breaks = -6:6))\n",
       "     sum(table(cut(Z, breaks = -6:6, labels = FALSE)))\n",
       "     sum(graphics::hist(Z, breaks = -6:6, plot = FALSE)$counts)\n",
       "     \n",
       "     cut(rep(1,5), 4) #-- dummy\n",
       "     tx0 <- c(9, 4, 6, 5, 3, 10, 5, 3, 5)\n",
       "     x <- rep(0:8, tx0)\n",
       "     stopifnot(table(x) == tx0)\n",
       "     \n",
       "     table( cut(x, b = 8))\n",
       "     table( cut(x, breaks = 3*(-2:5)))\n",
       "     table( cut(x, breaks = 3*(-2:5), right = FALSE))\n",
       "     \n",
       "     ##--- some values OUTSIDE the breaks :\n",
       "     table(cx  <- cut(x, breaks = 2*(0:4)))\n",
       "     table(cxl <- cut(x, breaks = 2*(0:4), right = FALSE))\n",
       "     which(is.na(cx));  x[is.na(cx)]  #-- the first 9  values  0\n",
       "     which(is.na(cxl)); x[is.na(cxl)] #-- the last  5  values  8\n",
       "     \n",
       "     \n",
       "     ## Label construction:\n",
       "     y <- stats::rnorm(100)\n",
       "     table(cut(y, breaks = pi/3*(-3:3)))\n",
       "     table(cut(y, breaks = pi/3*(-3:3), dig.lab = 4))\n",
       "     \n",
       "     table(cut(y, breaks =  1*(-3:3), dig.lab = 4))\n",
       "     # extra digits don't \"harm\" here\n",
       "     table(cut(y, breaks =  1*(-3:3), right = FALSE))\n",
       "     #- the same, since no exact INT!\n",
       "     \n",
       "     ## sometimes the default dig.lab is not enough to be avoid confusion:\n",
       "     aaa <- c(1,2,3,4,5,2,3,4,5,6,7)\n",
       "     cut(aaa, 3)\n",
       "     cut(aaa, 3, dig.lab = 4, ordered = TRUE)\n",
       "     \n",
       "     ## one way to extract the breakpoints\n",
       "     labs <- levels(cut(aaa, 3))\n",
       "     cbind(lower = as.numeric( sub(\"\\\\((.+),.*\", \"\\\\1\", labs) ),\n",
       "           upper = as.numeric( sub(\"[^,]*,([^]]*)\\\\]\", \"\\\\1\", labs) ))\n",
       "     "
      ]
     },
     "metadata": {},
     "output_type": "display_data"
    }
   ],
   "source": [
    "?cut"
   ]
  },
  {
   "cell_type": "code",
   "execution_count": 229,
   "metadata": {},
   "outputs": [],
   "source": []
  },
  {
   "cell_type": "code",
   "execution_count": 230,
   "metadata": {},
   "outputs": [
    {
     "data": {
      "text/plain": [
       "t\n",
       "[4,5,5) [4,4,5) [5,5,5) [5,5,6) [6,6,5) \n",
       "    425     377     160      33       5 "
      ]
     },
     "metadata": {},
     "output_type": "display_data"
    }
   ],
   "source": []
  },
  {
   "cell_type": "code",
   "execution_count": null,
   "metadata": {},
   "outputs": [],
   "source": []
  }
 ],
 "metadata": {
  "kernelspec": {
   "display_name": "R",
   "language": "R",
   "name": "ir"
  },
  "language_info": {
   "codemirror_mode": "r",
   "file_extension": ".r",
   "mimetype": "text/x-r-source",
   "name": "R",
   "pygments_lexer": "r",
   "version": "3.6.1"
  }
 },
 "nbformat": 4,
 "nbformat_minor": 4
}
