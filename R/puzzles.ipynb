{
 "cells": [
  {
   "cell_type": "markdown",
   "metadata": {},
   "source": [
    "# Задачи по статистике в R\n",
    "\n",
    "Различные задачи по языку R и  статистике в R:\n",
    "- [Основы программирования на R](https://stepik.org/course/497)\n",
    "- [Анализ данных в R на Stepik](https://stepik.org/course/129/)\n",
    "\n",
    "Данные приводятся исключительно для ознакомления в качестве личного конспекта. Перед решениями не стоит задачи строгого соответствия вопросам упомянутых курсов."
   ]
  },
  {
   "cell_type": "markdown",
   "metadata": {},
   "source": [
    "---\n",
    "# Синтаксис языка R: Факторы и строки\n",
    "\n",
    "**Задача**. Превратите количественную переменную `mag` (сила землетрясения в баллах по шкале Рихтера) датафрейма `quakes` в качественную. Интервалы должны быть длиной в полбалла, начиная с минимального, при этом левый конец интервала включается. Далее отсортируйте общее количество случаев, попавших в каждую категорию, в порядке убывания."
   ]
  },
  {
   "cell_type": "code",
   "execution_count": null,
   "metadata": {},
   "outputs": [],
   "source": [
    "t <- cut(quakes$mag, breaks = 0.5*(8:13), right=F)\n",
    "sort(table(t), decreasing = T)"
   ]
  },
  {
   "cell_type": "markdown",
   "metadata": {},
   "source": [
    "**Задача**. Найдите самый высокий экземпляр вида в датасете, записанном в файле `avianHabitat.csv` для каждого из исследователей (`Observer`). Высота видов записывается в полях, содержащих в конце названия `Ht` (сокр от Height). "
   ]
  },
  {
   "cell_type": "code",
   "execution_count": null,
   "metadata": {},
   "outputs": [],
   "source": [
    "avian <- read.csv('datasets/avianHabitat.csv')\n",
    "sapply(avian[, grepl(\"Ht\", names(avian))], function(name) {tapply(name, avian$Observer, max)})"
   ]
  },
  {
   "cell_type": "markdown",
   "metadata": {},
   "source": [
    "# Синтаксис языка R: Функции\n",
    "\n",
    "**Задача**. Напишите функцию, которая выводит номера позиций пропущенных наблюдений в векторе. На вход функция получает числовой вектор с пропущенными значениями. Функция возвращает новый вектор с номерами позиций пропущенных значений."
   ]
  },
  {
   "cell_type": "code",
   "execution_count": 32,
   "metadata": {},
   "outputs": [
    {
     "name": "stdout",
     "output_type": "stream",
     "text": [
      "[1] 4 5\n"
     ]
    }
   ],
   "source": [
    "my_vector <- c(1, 2, 3, NA, NA)\n",
    "NA.position <- function(x){\n",
    "    res <- which(is.na(x))\n",
    "    return(res)\n",
    "}\n",
    "\n",
    "print(NA.position(my_vector))"
   ]
  },
  {
   "cell_type": "markdown",
   "metadata": {},
   "source": [
    "**Продолжение**. Напишите функцию `NA.counter` для подсчета пропущенных значений в векторе.\n",
    "\n",
    "На вход функция `NA.counter` должна принимать один аргумент – числовой вектор. Функция должна возвращать количество пропущенных значений."
   ]
  },
  {
   "cell_type": "code",
   "execution_count": 33,
   "metadata": {},
   "outputs": [
    {
     "name": "stdout",
     "output_type": "stream",
     "text": [
      "[1] 2\n"
     ]
    }
   ],
   "source": [
    "NA.counter <- function(x){\n",
    "    res <- sum(is.na(x))\n",
    "    return(res)\n",
    "}\n",
    "\n",
    "print(NA.counter(my_vector))"
   ]
  },
  {
   "cell_type": "markdown",
   "metadata": {},
   "source": [
    "**Задача**. Напишите функцию `filtered.sum`, которая на вход получает вектор с пропущенными, положительными и отрицательными значениями и возвращает сумму положительных элементов вектора."
   ]
  },
  {
   "cell_type": "code",
   "execution_count": 46,
   "metadata": {},
   "outputs": [
    {
     "name": "stdout",
     "output_type": "stream",
     "text": [
      "[1] 4\n"
     ]
    }
   ],
   "source": [
    "my_vector <- c(1, -2, 3, NA, NA)\n",
    "filtered.sum <- function(x) {\n",
    "    return(sum(x[x > 0], na.rm = T))\n",
    "}\n",
    "\n",
    "print(filtered_sum(my_vector))"
   ]
  },
  {
   "cell_type": "markdown",
   "metadata": {},
   "source": [
    "**Задача на выбросы**. Напишите функцию `outliers.rm`, которая находит и удаляет выбросы. Для обнаружения выбросов воспользуемся самым простым способом, с которым вы не раз встречались, используя график `box plot`. \n",
    "\n",
    "Выбросами будем считать те наблюдения, которые отклоняются от 1 или 3 квартиля более, чем на `1,5 *  IQR`, где  `IQR` – межквартильный размах.\n",
    "\n",
    "На вход функция получает числовой вектор `x`. Функция должна возвращать модифицированный вектор `x` с удаленными выбросами."
   ]
  },
  {
   "cell_type": "code",
   "execution_count": 90,
   "metadata": {},
   "outputs": [
    {
     "data": {
      "text/html": [
       "<style>\n",
       ".list-inline {list-style: none; margin:0; padding: 0}\n",
       ".list-inline>li {display: inline-block}\n",
       ".list-inline>li:not(:last-child)::after {content: \"\\00b7\"; padding: 0 .5ex}\n",
       "</style>\n",
       "<ol class=list-inline><li>-2</li><li>-1</li><li>1</li><li>2</li><li>3</li></ol>\n"
      ],
      "text/latex": [
       "\\begin{enumerate*}\n",
       "\\item -2\n",
       "\\item -1\n",
       "\\item 1\n",
       "\\item 2\n",
       "\\item 3\n",
       "\\end{enumerate*}\n"
      ],
      "text/markdown": [
       "1. -2\n",
       "2. -1\n",
       "3. 1\n",
       "4. 2\n",
       "5. 3\n",
       "\n",
       "\n"
      ],
      "text/plain": [
       "[1] -2 -1  1  2  3"
      ]
     },
     "metadata": {},
     "output_type": "display_data"
    }
   ],
   "source": [
    "x = c(-10, -2, -1, 1, 2, 3, 100)\n",
    "\n",
    "outliers.rm <- function(x){    \n",
    "    q <- quantile(x, 0.25) + quantile(x, 0.75)    \n",
    "    return(x[abs(x - q/2) <= 2*IQR(x)])\n",
    "}\n",
    "\n",
    "outliers.rm(x)"
   ]
  },
  {
   "cell_type": "markdown",
   "metadata": {},
   "source": [
    "# Анализ номинативных данных\n",
    "\n",
    "---\n",
    "**Задача**. Воспользуемся данными diamonds из библиотеки `ggplot2`. При помощи критерия Хи-квадрат проверьте гипотезу о взаимосвязи качества огранки бриллианта (`сut`) и его цвета (`color`). В переменную `main_stat` сохраните значение статистики критерия Хи-квадрат."
   ]
  },
  {
   "cell_type": "code",
   "execution_count": null,
   "metadata": {},
   "outputs": [],
   "source": [
    "# install.packages(\"ggplot2\")\n",
    "library(ggplot2)\n",
    "options(repr.plot.width = 5, repr.plot.height = 2.5, repr.plot.res = 100)\n",
    "\n",
    "diamonds_table <- table(diamonds$cut, diamonds$color)    \n",
    "chi_result <- chisq.test(diamonds_table )    \n",
    "main_stat <- chi_result$statistic"
   ]
  },
  {
   "cell_type": "code",
   "execution_count": null,
   "metadata": {},
   "outputs": [],
   "source": [
    "chi_result"
   ]
  },
  {
   "cell_type": "code",
   "execution_count": null,
   "metadata": {},
   "outputs": [],
   "source": [
    "main_stat"
   ]
  },
  {
   "cell_type": "markdown",
   "metadata": {},
   "source": [
    "---\n",
    "**Задача**. Вновь воспользуемся данными `diamonds` из библиотеки `ggplot2`. При помощи критерия Хи-квадрат проверьте гипотезу о взаимосвязи цены (`price`) и каратов (`carat`) бриллиантов. Для этого сначала нужно перевести эти количественные переменные в формат пригодный для Хи-квадрат. Создайте две новые переменные в данных `diamonds`:\n",
    "\n",
    "- `factor_price` - 1, если значение цены больше либо равно, чем среднее, и 0, если значение цены ниже среднего цены по выборке.\n",
    "- `factor_carat` - 1, если число карат больше либо равно, чем среднее, и 0, если ниже среднего числа карат по выборке.\n",
    "\n",
    "Важный момент - на больших данных цикл for() работает довольно медленно, постарайтесь решить эту задачу без его использования!\n",
    "Используя эти шкалы при помощи Хи-квадрат проверьте исходную гипотезу. Сохраните в переменную `main_stat` значение критерия  Хи-квадрат.\n",
    "\n",
    "Пример перевода количественной шкалы в номинативную:\n",
    "\n",
    "```R\n",
    "> x <- (1, 2, 3, 5, 6, 7) # mean(x) = 4\n",
    "> factor_x <- (0, 0, 0, 1, 1, 1)\n",
    "```"
   ]
  },
  {
   "cell_type": "code",
   "execution_count": null,
   "metadata": {},
   "outputs": [],
   "source": [
    "factor_price <- ifelse(diamonds$price >= mean(diamonds$price), 1, 0)\n",
    "factor_carat <- ifelse(diamonds$carat >= mean(diamonds$carat), 1, 0)\n",
    "diamonds_table <- table(factor_price, factor_carat)\n",
    "chi_result <- chisq.test(diamonds_table )    \n",
    "main_stat <- chi_result$statistic\n",
    "main_stat"
   ]
  },
  {
   "cell_type": "markdown",
   "metadata": {},
   "source": [
    "**Задача**. При помощи точного критерия Фишера проверьте гипотезу о взаимосвязи типа коробки передач (`am`) и типа двигателя (`vs`) в данных `mtcars`."
   ]
  },
  {
   "cell_type": "code",
   "execution_count": null,
   "metadata": {},
   "outputs": [],
   "source": [
    "fisher.test(table(mtcars$am, mtcars$vs))$p"
   ]
  },
  {
   "cell_type": "markdown",
   "metadata": {},
   "source": [
    "# Сравнение двух групп"
   ]
  },
  {
   "cell_type": "markdown",
   "metadata": {},
   "source": [
    "Рассмотрим t-критерий на примере датасета `iris`. Выделим два вида."
   ]
  },
  {
   "cell_type": "code",
   "execution_count": null,
   "metadata": {},
   "outputs": [],
   "source": [
    "df <- subset(iris, Species != 'setosa')\n",
    "table(df$Species)"
   ]
  },
  {
   "cell_type": "markdown",
   "metadata": {},
   "source": [
    "Проверим форму распределений."
   ]
  },
  {
   "cell_type": "code",
   "execution_count": null,
   "metadata": {},
   "outputs": [],
   "source": [
    "ggplot(df, aes(x = Sepal.Length)) +\n",
    "geom_histogram(fill=\"white\",\n",
    "               col=\"black\", \n",
    "               binwidth=0.4) +\n",
    "facet_grid(Species ~ .)"
   ]
  },
  {
   "cell_type": "code",
   "execution_count": null,
   "metadata": {},
   "outputs": [],
   "source": [
    "ggplot(df, aes(Sepal.Length, fill = Species )) +\n",
    "geom_density(alpha = 0.5)"
   ]
  },
  {
   "cell_type": "code",
   "execution_count": null,
   "metadata": {},
   "outputs": [],
   "source": [
    "ggplot(df, aes(Species, Sepal.Length, fill = Species )) +\n",
    "geom_boxplot()"
   ]
  },
  {
   "cell_type": "markdown",
   "metadata": {},
   "source": [
    "Видим приблизительно симметричные, близкие к нормальным распределения, гомогенные. Проверим эти предположения с помощью тестов.\n",
    "\n",
    "Сначала проверим нормальность с помощью [критерия Шапиро-Уилка](https://ru.wikipedia.org/wiki/%D0%9A%D1%80%D0%B8%D1%82%D0%B5%D1%80%D0%B8%D0%B8_%D0%BD%D0%BE%D1%80%D0%BC%D0%B0%D0%BB%D1%8C%D0%BD%D0%BE%D1%81%D1%82%D0%B8)."
   ]
  },
  {
   "cell_type": "code",
   "execution_count": null,
   "metadata": {},
   "outputs": [],
   "source": [
    "shapiro.test(df$Sepal.Length)"
   ]
  },
  {
   "cell_type": "code",
   "execution_count": null,
   "metadata": {},
   "outputs": [],
   "source": [
    "shapiro.test(df$Sepal.Length[df$Species == \"versicolor\"])"
   ]
  },
  {
   "cell_type": "code",
   "execution_count": null,
   "metadata": {},
   "outputs": [],
   "source": [
    "shapiro.test(df$Sepal.Length[df$Species == \"virginica\"])"
   ]
  },
  {
   "cell_type": "markdown",
   "metadata": {},
   "source": [
    "Проверим гомогенность дисперсии по [критерию Бартлетта](https://ru.wikipedia.org/wiki/%D0%9A%D1%80%D0%B8%D1%82%D0%B5%D1%80%D0%B8%D0%B9_%D0%91%D0%B0%D1%80%D1%82%D0%BB%D0%B5%D1%82%D1%82%D0%B0)."
   ]
  },
  {
   "cell_type": "code",
   "execution_count": null,
   "metadata": {},
   "outputs": [],
   "source": [
    "bartlett.test(Sepal.Length ~ Species, df)"
   ]
  },
  {
   "cell_type": "markdown",
   "metadata": {},
   "source": [
    "Данные проверили, теперь выполним сам t-тест."
   ]
  },
  {
   "cell_type": "code",
   "execution_count": null,
   "metadata": {},
   "outputs": [],
   "source": [
    "t_test <- t.test(Sepal.Length ~ Species, df)"
   ]
  },
  {
   "cell_type": "code",
   "execution_count": null,
   "metadata": {},
   "outputs": [],
   "source": [
    "t_test$p.value"
   ]
  },
  {
   "cell_type": "markdown",
   "metadata": {},
   "source": [
    "Тест пройден.\n",
    "\n",
    "Рассмотрим ситуацию для парной выборки:"
   ]
  },
  {
   "cell_type": "code",
   "execution_count": null,
   "metadata": {},
   "outputs": [],
   "source": [
    "t.test(df$Petal.Length,\n",
    "       df$Petal.Width,\n",
    "       paired = T)"
   ]
  },
  {
   "cell_type": "markdown",
   "metadata": {},
   "source": [
    "# Памятка\n",
    "t-Критерий Стьюдента для независимых выборок\n",
    "\n",
    "```\n",
    "t.test(Var1 ~ Var2, data) # если первая переменная количественная, а вторая фактор\n",
    "t.test(data$Var1, data$Var2) # если обе переменные количественные\n",
    "```\n",
    "\n",
    "t-Критерий Стьюдента для зависимых выборок\n",
    "\n",
    "```\n",
    "t.test(data$Var1, data$Var2, paired = T)\n",
    "```\n",
    "\n",
    "Проверка на нормальность распределения\n",
    "\n",
    "```\n",
    "shapiro.test(Var1) # проверка на нормальность распределения переменной Var1\n",
    "# но не удобно когда есть группирующая факторная переменная\n",
    "```\n",
    "\n",
    "Поможет функция by(), которая применяет различные функции на каждом уровне фактора.  \n",
    "\n",
    "```\n",
    "by(iris$Sepal.Length, INDICES = iris$Species, shapiro.test) # проверка на нормальность переменной \n",
    "# Sepal.Length в трех разных группах в соответствии с переменной Species\n",
    "```\n",
    "\n",
    "Проверка на гомогенность дисперсий\n",
    "\n",
    "```\n",
    "bartlett.test(mpg ~ am, mtcars) #Критерий Бартлетта\n",
    "```"
   ]
  },
  {
   "cell_type": "markdown",
   "metadata": {},
   "source": [
    "---\n",
    "**Задача про свинок**. Воспользуемся встроенным набором данных в R - `ToothGrowth`. Данные позволяют исследовать рост зубов у морских свинок в зависимости от дозировки витамина C и типа потребляемых продуктов.\n",
    "\n",
    "Сравните среднее значение длины зубов свинок, которые потребляли апельсиновый сок (OJ) с дозировкой 0.5 миллиграмм, со средним значением длины зубов свинок, которые потребляли аскорбиновую кислоту (VC) с дозировкой 2 миллиграмма. \n",
    "\n",
    "Значение t-критерия сохраните в переменную `t_stat`."
   ]
  },
  {
   "cell_type": "code",
   "execution_count": null,
   "metadata": {},
   "outputs": [],
   "source": [
    "data <- subset(ToothGrowth, supp=='OJ' & dose==0.5 | supp=='VC' & dose==2)    \n",
    "t_stat <- t.test(len ~ supp, data)$statistic"
   ]
  },
  {
   "cell_type": "code",
   "execution_count": null,
   "metadata": {},
   "outputs": [],
   "source": [
    "t_stat"
   ]
  },
  {
   "cell_type": "markdown",
   "metadata": {},
   "source": [
    "# Применение дисперсионного анализа\n",
    "\n",
    "**Задача на взаимодействие переменных**. Воспользуемся встроенными данными `npk`, иллюстрирующими влияние применения различных удобрений на урожайность гороха (`yield`). Нашей задачей будет выяснить, существенно ли одновременное применение азотных (фактор N) и фосфатных (фактор P) удобрений. Примените дисперсионный анализ, где будет проверяться влияние фактора применения азотных (N), влияние фактора применения фосфатных (P) удобрений и их взаимодействие."
   ]
  },
  {
   "cell_type": "code",
   "execution_count": null,
   "metadata": {},
   "outputs": [],
   "source": [
    "head(npk)"
   ]
  },
  {
   "cell_type": "code",
   "execution_count": null,
   "metadata": {},
   "outputs": [],
   "source": [
    "fit <- aov(yield ~ N * P, data=npk)\n",
    "summary(fit)\n",
    "\n",
    "cat(\"Оценка влияния фактора взаимодействия Pr(>F):\",\n",
    "    summary(fit)[[1]][\"N:P\", \"Pr(>F)\"])"
   ]
  },
  {
   "cell_type": "markdown",
   "metadata": {},
   "source": [
    "**Задача на попарные сравнения**. Проведите однофакторный дисперсионный анализ на встроенных данных `iris`. Зависимая переменная – ширина чашелистика (`Sepal.Width`), независимая переменная – вид (`Species`). Затем проведите попарные сравнения видов. Какие виды статистически значимо различаются по ширине чашелистика (`p < 0.05`)?"
   ]
  },
  {
   "cell_type": "code",
   "execution_count": null,
   "metadata": {},
   "outputs": [],
   "source": [
    "fit <- aov(Sepal.Width ~ Species, data=iris)\n",
    "summary(fit)"
   ]
  },
  {
   "cell_type": "code",
   "execution_count": null,
   "metadata": {},
   "outputs": [],
   "source": [
    "TukeyHSD(fit)"
   ]
  },
  {
   "cell_type": "markdown",
   "metadata": {},
   "source": [
    "Все три вида статистически значимо различаются по ширине чашелистика."
   ]
  },
  {
   "cell_type": "markdown",
   "metadata": {},
   "source": [
    "**Задача на использование данных от одних тех же пациентов**. В этой задаче вам дан набор данных (datasets/Pilukin.csv), в котором представлена информация о температуре нескольких пациентов, которые лечатся разными таблетками и у разных врачей.\n",
    "\n",
    "Проведите однофакторный дисперсионный анализ с повторными измерениями: влияние типа таблетки (`pill`) на температуру (`temperature`) с учётом испытуемого (`patient`). Каково p-value для влияния типа таблеток на температуру?"
   ]
  },
  {
   "cell_type": "code",
   "execution_count": 3,
   "metadata": {},
   "outputs": [],
   "source": [
    "data <- read.csv('datasets/Pillulkin.csv')\n",
    "data$patient <- as.factor(data$patient)\n"
   ]
  },
  {
   "cell_type": "code",
   "execution_count": 4,
   "metadata": {},
   "outputs": [
    {
     "data": {
      "text/plain": [
       "\n",
       "Error: patient\n",
       "          Df Sum Sq Mean Sq F value Pr(>F)\n",
       "Residuals  9  42.82   4.758               \n",
       "\n",
       "Error: patient:pill\n",
       "          Df Sum Sq Mean Sq F value Pr(>F)\n",
       "pill       1  0.133   0.133   0.051  0.826\n",
       "Residuals  9 23.479   2.609               \n",
       "\n",
       "Error: Within\n",
       "          Df Sum Sq Mean Sq F value Pr(>F)\n",
       "Residuals 20  87.51   4.375               "
      ]
     },
     "metadata": {},
     "output_type": "display_data"
    }
   ],
   "source": [
    "fit <- aov(temperature ~ pill + Error(patient/pill), data=data)\n",
    "summary(fit)"
   ]
  },
  {
   "cell_type": "markdown",
   "metadata": {},
   "source": [
    "Дисперсионный анализ учитывает различия как между разными группами, так и внутри одной группы. Когда вы вводите испытуемых, то как бы разбиваете все данные помимо групп по цене и типам терапии также еще и по испытуемым, и учитываете вариативность относительно каждого испытуемого, которая вносится в общую вариативность.\n",
    "\n",
    "**Продолжение задачи**. Теперь вашей задачей будет провести двухфакторный дисперсионный анализ с повторными измерениями: влияние факторов `doctor`, влияние фактора `pill` и их взаимодействие на `temperature`. Учтите обе внутригрупповые переменные: и тот факт, что один и тот же больной принимает разные таблетки, и тот факт, что один и тот же больной лечится у разных врачей! Каково F-значение для взаимодействия факторов доктора (`doctor`) и типа таблеток (`pill`)?"
   ]
  },
  {
   "cell_type": "code",
   "execution_count": 22,
   "metadata": {},
   "outputs": [
    {
     "data": {
      "text/plain": [
       "            Df Sum Sq Mean Sq F value Pr(>F)\n",
       "pill:doctor  1  0.422  0.4215   0.146  0.711\n",
       "Residuals    9 26.014  2.8905               "
      ]
     },
     "metadata": {},
     "output_type": "display_data"
    }
   ],
   "source": [
    "summary(aov(temperature ~ pill*doctor +\n",
    "            Error(patient/(doctor+pill)),\n",
    "            data=data))[[4]]"
   ]
  },
  {
   "cell_type": "code",
   "execution_count": null,
   "metadata": {},
   "outputs": [],
   "source": []
  }
 ],
 "metadata": {
  "kernelspec": {
   "display_name": "R",
   "language": "R",
   "name": "ir"
  },
  "language_info": {
   "codemirror_mode": "r",
   "file_extension": ".r",
   "mimetype": "text/x-r-source",
   "name": "R",
   "pygments_lexer": "r",
   "version": "3.6.1"
  }
 },
 "nbformat": 4,
 "nbformat_minor": 4
}
