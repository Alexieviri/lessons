{
 "cells": [
  {
   "cell_type": "markdown",
   "metadata": {},
   "source": [
    "# Задачи по статистике в R\n",
    "\n",
    "Различные задачи по языку R и  статистике в R:\n",
    "- [Основы программирования на R](https://stepik.org/course/497)\n",
    "- [Анализ данных в R на Stepik](https://stepik.org/course/129/)\n",
    "\n",
    "Данные приводятся исключительно для ознакомления в качестве личного конспекта. Перед решениями не стоит задачи строгого соответствия вопросам упомянутых курсов."
   ]
  },
  {
   "cell_type": "markdown",
   "metadata": {},
   "source": [
    "---\n",
    "# Синтаксис языка R: Факторы и строки\n",
    "\n",
    "**Задача**. Превратите количественную переменную `mag` (сила землетрясения в баллах по шкале Рихтера) датафрейма `quakes` в качественную. Интервалы должны быть длиной в полбалла, начиная с минимального, при этом левый конец интервала включается. Далее отсортируйте общее количество случаев, попавших в каждую категорию, в порядке убывания."
   ]
  },
  {
   "cell_type": "code",
   "execution_count": 1,
   "metadata": {},
   "outputs": [
    {
     "data": {
      "text/plain": [
       "t\n",
       "[4.5,5) [4,4.5) [5,5.5) [5.5,6) [6,6.5) \n",
       "    425     377     160      33       5 "
      ]
     },
     "metadata": {},
     "output_type": "display_data"
    }
   ],
   "source": [
    "t <- cut(quakes$mag, breaks = 0.5*(8:13), right=F)\n",
    "sort(table(t), decreasing = T)"
   ]
  },
  {
   "cell_type": "markdown",
   "metadata": {},
   "source": [
    "**Задача**. Найдите самый высокий экземпляр вида в датасете, записанном в файле `avianHabitat.csv` для каждого из исследователей (`Observer`). Высота видов записывается в полях, содержащих в конце названия `Ht` (сокр от Height). "
   ]
  },
  {
   "cell_type": "code",
   "execution_count": 2,
   "metadata": {},
   "outputs": [
    {
     "data": {
      "text/html": [
       "<table>\n",
       "<caption>A matrix: 3 × 6 of type dbl</caption>\n",
       "<thead>\n",
       "\t<tr><th></th><th scope=col>DBHt</th><th scope=col>WHt</th><th scope=col>EHt</th><th scope=col>AHt</th><th scope=col>HHt</th><th scope=col>LHt</th></tr>\n",
       "</thead>\n",
       "<tbody>\n",
       "\t<tr><th scope=row>JT</th><td> 9.9</td><td>24.5</td><td>5.3</td><td>31.5</td><td>8.2</td><td>0.8</td></tr>\n",
       "\t<tr><th scope=row>RA</th><td>10.0</td><td>18.5</td><td>4.9</td><td>19.2</td><td>7.5</td><td>1.3</td></tr>\n",
       "\t<tr><th scope=row>RR</th><td> 5.0</td><td>22.0</td><td>4.2</td><td> 0.2</td><td>7.3</td><td>1.1</td></tr>\n",
       "</tbody>\n",
       "</table>\n"
      ],
      "text/latex": [
       "A matrix: 3 × 6 of type dbl\n",
       "\\begin{tabular}{r|llllll}\n",
       "  & DBHt & WHt & EHt & AHt & HHt & LHt\\\\\n",
       "\\hline\n",
       "\tJT &  9.9 & 24.5 & 5.3 & 31.5 & 8.2 & 0.8\\\\\n",
       "\tRA & 10.0 & 18.5 & 4.9 & 19.2 & 7.5 & 1.3\\\\\n",
       "\tRR &  5.0 & 22.0 & 4.2 &  0.2 & 7.3 & 1.1\\\\\n",
       "\\end{tabular}\n"
      ],
      "text/markdown": [
       "\n",
       "A matrix: 3 × 6 of type dbl\n",
       "\n",
       "| <!--/--> | DBHt | WHt | EHt | AHt | HHt | LHt |\n",
       "|---|---|---|---|---|---|---|\n",
       "| JT |  9.9 | 24.5 | 5.3 | 31.5 | 8.2 | 0.8 |\n",
       "| RA | 10.0 | 18.5 | 4.9 | 19.2 | 7.5 | 1.3 |\n",
       "| RR |  5.0 | 22.0 | 4.2 |  0.2 | 7.3 | 1.1 |\n",
       "\n"
      ],
      "text/plain": [
       "   DBHt WHt  EHt AHt  HHt LHt\n",
       "JT  9.9 24.5 5.3 31.5 8.2 0.8\n",
       "RA 10.0 18.5 4.9 19.2 7.5 1.3\n",
       "RR  5.0 22.0 4.2  0.2 7.3 1.1"
      ]
     },
     "metadata": {},
     "output_type": "display_data"
    }
   ],
   "source": [
    "avian <- read.csv('datasets/avianHabitat.csv')\n",
    "sapply(avian[, grepl(\"Ht\", names(avian))], function(name) {tapply(name, avian$Observer, max)})"
   ]
  },
  {
   "cell_type": "markdown",
   "metadata": {},
   "source": [
    "# Синтаксис языка R: Функции\n",
    "\n",
    "**Задача**. Напишите функцию, которая выводит номера позиций пропущенных наблюдений в векторе. На вход функция получает числовой вектор с пропущенными значениями. Функция возвращает новый вектор с номерами позиций пропущенных значений."
   ]
  },
  {
   "cell_type": "code",
   "execution_count": 3,
   "metadata": {},
   "outputs": [
    {
     "name": "stdout",
     "output_type": "stream",
     "text": [
      "[1] 4 5\n"
     ]
    }
   ],
   "source": [
    "my_vector <- c(1, 2, 3, NA, NA)\n",
    "NA.position <- function(x){\n",
    "    res <- which(is.na(x))\n",
    "    return(res)\n",
    "}\n",
    "\n",
    "print(NA.position(my_vector))"
   ]
  },
  {
   "cell_type": "markdown",
   "metadata": {},
   "source": [
    "**Продолжение**. Напишите функцию `NA.counter` для подсчета пропущенных значений в векторе.\n",
    "\n",
    "На вход функция `NA.counter` должна принимать один аргумент – числовой вектор. Функция должна возвращать количество пропущенных значений."
   ]
  },
  {
   "cell_type": "code",
   "execution_count": 4,
   "metadata": {},
   "outputs": [
    {
     "name": "stdout",
     "output_type": "stream",
     "text": [
      "[1] 2\n"
     ]
    }
   ],
   "source": [
    "NA.counter <- function(x){\n",
    "    res <- sum(is.na(x))\n",
    "    return(res)\n",
    "}\n",
    "\n",
    "print(NA.counter(my_vector))"
   ]
  },
  {
   "cell_type": "markdown",
   "metadata": {},
   "source": [
    "**Задача**. Напишите функцию `filtered.sum`, которая на вход получает вектор с пропущенными, положительными и отрицательными значениями и возвращает сумму положительных элементов вектора."
   ]
  },
  {
   "cell_type": "code",
   "execution_count": 5,
   "metadata": {},
   "outputs": [
    {
     "name": "stdout",
     "output_type": "stream",
     "text": [
      "[1] 4\n"
     ]
    }
   ],
   "source": [
    "my_vector <- c(1, -2, 3, NA, NA)\n",
    "filtered.sum <- function(x) {\n",
    "    return(sum(x[x > 0], na.rm = T))\n",
    "}\n",
    "\n",
    "print(filtered.sum(my_vector))"
   ]
  },
  {
   "cell_type": "markdown",
   "metadata": {},
   "source": [
    "**Задача на выбросы**. Напишите функцию `outliers.rm`, которая находит и удаляет выбросы. Для обнаружения выбросов воспользуемся самым простым способом, с которым вы не раз встречались, используя график `box plot`. \n",
    "\n",
    "Выбросами будем считать те наблюдения, которые отклоняются от 1 или 3 квартиля более, чем на `1,5 *  IQR`, где  `IQR` – межквартильный размах.\n",
    "\n",
    "На вход функция получает числовой вектор `x`. Функция должна возвращать модифицированный вектор `x` с удаленными выбросами."
   ]
  },
  {
   "cell_type": "code",
   "execution_count": 6,
   "metadata": {},
   "outputs": [
    {
     "data": {
      "text/html": [
       "<style>\n",
       ".list-inline {list-style: none; margin:0; padding: 0}\n",
       ".list-inline>li {display: inline-block}\n",
       ".list-inline>li:not(:last-child)::after {content: \"\\00b7\"; padding: 0 .5ex}\n",
       "</style>\n",
       "<ol class=list-inline><li>-2</li><li>-1</li><li>1</li><li>2</li><li>3</li></ol>\n"
      ],
      "text/latex": [
       "\\begin{enumerate*}\n",
       "\\item -2\n",
       "\\item -1\n",
       "\\item 1\n",
       "\\item 2\n",
       "\\item 3\n",
       "\\end{enumerate*}\n"
      ],
      "text/markdown": [
       "1. -2\n",
       "2. -1\n",
       "3. 1\n",
       "4. 2\n",
       "5. 3\n",
       "\n",
       "\n"
      ],
      "text/plain": [
       "[1] -2 -1  1  2  3"
      ]
     },
     "metadata": {},
     "output_type": "display_data"
    }
   ],
   "source": [
    "x = c(-10, -2, -1, 1, 2, 3, 100)\n",
    "\n",
    "outliers.rm <- function(x){    \n",
    "    q <- quantile(x, 0.25) + quantile(x, 0.75)    \n",
    "    return(x[abs(x - q/2) <= 2*IQR(x)])\n",
    "}\n",
    "\n",
    "outliers.rm(x)"
   ]
  },
  {
   "cell_type": "markdown",
   "metadata": {},
   "source": [
    "**Задача**. Функция `scale()` позволяет совершить стандартизацию вектора, то есть делает его среднее значение равным нулю, а стандартное отклонение – единице (Z-преобразование).\n",
    "\n",
    "Стандартизованный коэффициент регрессии ($\\beta$) можно получить, если предикторы и зависимая переменная стандартизованы.\n",
    "\n",
    "Напишите функцию `beta.coef`, которая на вход получает $dataframe$ с двумя количественными переменными, а возвращает стандартизованные коэффициенты для регрессионной модели, в которой первая переменная датафрейма выступает в качестве зависимой, а вторая в качестве независимой."
   ]
  },
  {
   "cell_type": "code",
   "execution_count": 58,
   "metadata": {},
   "outputs": [],
   "source": [
    "beta.coef <- function(x){    \n",
    "    x <-scale(x)    \n",
    "    return(lm(x[,1] ~ x[,2])$coefficients)\n",
    "}"
   ]
  },
  {
   "cell_type": "code",
   "execution_count": 59,
   "metadata": {},
   "outputs": [
    {
     "data": {
      "text/html": [
       "<style>\n",
       ".dl-inline {width: auto; margin:0; padding: 0}\n",
       ".dl-inline>dt, .dl-inline>dd {float: none; width: auto; display: inline-block}\n",
       ".dl-inline>dt::after {content: \":\\0020\"; padding-right: .5ex}\n",
       ".dl-inline>dt:not(:first-of-type) {padding-left: .5ex}\n",
       "</style><dl class=dl-inline><dt>(Intercept)</dt><dd>-7.3786201929899e-17</dd><dt>x[, 2]</dt><dd>-0.847551379262479</dd></dl>\n"
      ],
      "text/latex": [
       "\\begin{description*}\n",
       "\\item[(Intercept)] -7.3786201929899e-17\n",
       "\\item[x\\{{[}\\}, 2\\{{]}\\}] -0.847551379262479\n",
       "\\end{description*}\n"
      ],
      "text/markdown": [
       "(Intercept)\n",
       ":   -7.3786201929899e-17x[, 2]\n",
       ":   -0.847551379262479\n",
       "\n"
      ],
      "text/plain": [
       "  (Intercept)        x[, 2] \n",
       "-7.378620e-17 -8.475514e-01 "
      ]
     },
     "metadata": {},
     "output_type": "display_data"
    },
    {
     "data": {
      "text/html": [
       "<style>\n",
       ".dl-inline {width: auto; margin:0; padding: 0}\n",
       ".dl-inline>dt, .dl-inline>dd {float: none; width: auto; display: inline-block}\n",
       ".dl-inline>dt::after {content: \":\\0020\"; padding-right: .5ex}\n",
       ".dl-inline>dt:not(:first-of-type) {padding-left: .5ex}\n",
       "</style><dl class=dl-inline><dt>(Intercept)</dt><dd>4.23563968553985e-16</dd><dt>x[, 2]</dt><dd>-0.663788857035069</dd></dl>\n"
      ],
      "text/latex": [
       "\\begin{description*}\n",
       "\\item[(Intercept)] 4.23563968553985e-16\n",
       "\\item[x\\{{[}\\}, 2\\{{]}\\}] -0.663788857035069\n",
       "\\end{description*}\n"
      ],
      "text/markdown": [
       "(Intercept)\n",
       ":   4.23563968553985e-16x[, 2]\n",
       ":   -0.663788857035069\n",
       "\n"
      ],
      "text/plain": [
       "  (Intercept)        x[, 2] \n",
       " 4.235640e-16 -6.637889e-01 "
      ]
     },
     "metadata": {},
     "output_type": "display_data"
    }
   ],
   "source": [
    "beta.coef(mtcars[,c(1,3)])\n",
    "beta.coef(swiss[,c(1,4)])"
   ]
  },
  {
   "cell_type": "markdown",
   "metadata": {},
   "source": [
    "**Задача**. Напишите функцию `normality.test`, которая получает на вход dataframe с количественными переменными, проверяет распределения каждой переменной на нормальность с помощью функции `shapiro.test`. Функция должна возвращать вектор с значениями `p-value`, полученного в результате проверки на нормальность каждой переменной. Названия элементов вектора должны совпадать с названиями переменных. \n",
    "\n"
   ]
  },
  {
   "cell_type": "markdown",
   "metadata": {},
   "source": [
    "# Анализ номинативных данных\n",
    "\n",
    "---\n",
    "**Задача**. Воспользуемся данными diamonds из библиотеки `ggplot2`. При помощи критерия Хи-квадрат проверьте гипотезу о взаимосвязи качества огранки бриллианта (`сut`) и его цвета (`color`). В переменную `main_stat` сохраните значение статистики критерия Хи-квадрат."
   ]
  },
  {
   "cell_type": "code",
   "execution_count": 7,
   "metadata": {},
   "outputs": [
    {
     "name": "stderr",
     "output_type": "stream",
     "text": [
      "Warning message:\n",
      "“package ‘ggplot2’ was built under R version 3.6.3”\n"
     ]
    }
   ],
   "source": [
    "# install.packages(\"ggplot2\")\n",
    "library(ggplot2)\n",
    "options(repr.plot.width = 5, repr.plot.height = 2.5, repr.plot.res = 100)\n",
    "\n",
    "diamonds_table <- table(diamonds$cut, diamonds$color)    \n",
    "chi_result <- chisq.test(diamonds_table )    \n",
    "main_stat <- chi_result$statistic"
   ]
  },
  {
   "cell_type": "code",
   "execution_count": 8,
   "metadata": {},
   "outputs": [
    {
     "data": {
      "text/plain": [
       "\n",
       "\tPearson's Chi-squared test\n",
       "\n",
       "data:  diamonds_table\n",
       "X-squared = 310.32, df = 24, p-value < 2.2e-16\n"
      ]
     },
     "metadata": {},
     "output_type": "display_data"
    }
   ],
   "source": [
    "chi_result"
   ]
  },
  {
   "cell_type": "code",
   "execution_count": 9,
   "metadata": {},
   "outputs": [
    {
     "data": {
      "text/html": [
       "<strong>X-squared:</strong> 310.317900521154"
      ],
      "text/latex": [
       "\\textbf{X-squared:} 310.317900521154"
      ],
      "text/markdown": [
       "**X-squared:** 310.317900521154"
      ],
      "text/plain": [
       "X-squared \n",
       " 310.3179 "
      ]
     },
     "metadata": {},
     "output_type": "display_data"
    }
   ],
   "source": [
    "main_stat"
   ]
  },
  {
   "cell_type": "markdown",
   "metadata": {},
   "source": [
    "---\n",
    "**Задача**. Вновь воспользуемся данными `diamonds` из библиотеки `ggplot2`. При помощи критерия Хи-квадрат проверьте гипотезу о взаимосвязи цены (`price`) и каратов (`carat`) бриллиантов. Для этого сначала нужно перевести эти количественные переменные в формат пригодный для Хи-квадрат. Создайте две новые переменные в данных `diamonds`:\n",
    "\n",
    "- `factor_price` - 1, если значение цены больше либо равно, чем среднее, и 0, если значение цены ниже среднего цены по выборке.\n",
    "- `factor_carat` - 1, если число карат больше либо равно, чем среднее, и 0, если ниже среднего числа карат по выборке.\n",
    "\n",
    "Важный момент - на больших данных цикл for() работает довольно медленно, постарайтесь решить эту задачу без его использования!\n",
    "Используя эти шкалы при помощи Хи-квадрат проверьте исходную гипотезу. Сохраните в переменную `main_stat` значение критерия  Хи-квадрат.\n",
    "\n",
    "Пример перевода количественной шкалы в номинативную:\n",
    "\n",
    "```R\n",
    "> x <- (1, 2, 3, 5, 6, 7) # mean(x) = 4\n",
    "> factor_x <- (0, 0, 0, 1, 1, 1)\n",
    "```"
   ]
  },
  {
   "cell_type": "code",
   "execution_count": 10,
   "metadata": {},
   "outputs": [
    {
     "data": {
      "text/html": [
       "<strong>X-squared:</strong> 40735.2227968624"
      ],
      "text/latex": [
       "\\textbf{X-squared:} 40735.2227968624"
      ],
      "text/markdown": [
       "**X-squared:** 40735.2227968624"
      ],
      "text/plain": [
       "X-squared \n",
       " 40735.22 "
      ]
     },
     "metadata": {},
     "output_type": "display_data"
    }
   ],
   "source": [
    "factor_price <- ifelse(diamonds$price >= mean(diamonds$price), 1, 0)\n",
    "factor_carat <- ifelse(diamonds$carat >= mean(diamonds$carat), 1, 0)\n",
    "diamonds_table <- table(factor_price, factor_carat)\n",
    "chi_result <- chisq.test(diamonds_table )    \n",
    "main_stat <- chi_result$statistic\n",
    "main_stat"
   ]
  },
  {
   "cell_type": "markdown",
   "metadata": {},
   "source": [
    "**Задача**. При помощи точного критерия Фишера проверьте гипотезу о взаимосвязи типа коробки передач (`am`) и типа двигателя (`vs`) в данных `mtcars`."
   ]
  },
  {
   "cell_type": "code",
   "execution_count": 11,
   "metadata": {},
   "outputs": [
    {
     "data": {
      "text/html": [
       "0.47269744160178"
      ],
      "text/latex": [
       "0.47269744160178"
      ],
      "text/markdown": [
       "0.47269744160178"
      ],
      "text/plain": [
       "[1] 0.4726974"
      ]
     },
     "metadata": {},
     "output_type": "display_data"
    }
   ],
   "source": [
    "fisher.test(table(mtcars$am, mtcars$vs))$p"
   ]
  },
  {
   "cell_type": "markdown",
   "metadata": {},
   "source": [
    "# Сравнение двух групп"
   ]
  },
  {
   "cell_type": "markdown",
   "metadata": {},
   "source": [
    "Рассмотрим t-критерий на примере датасета `iris`. Выделим два вида."
   ]
  },
  {
   "cell_type": "code",
   "execution_count": 12,
   "metadata": {},
   "outputs": [
    {
     "data": {
      "text/plain": [
       "\n",
       "    setosa versicolor  virginica \n",
       "         0         50         50 "
      ]
     },
     "metadata": {},
     "output_type": "display_data"
    }
   ],
   "source": [
    "df <- subset(iris, Species != 'setosa')\n",
    "table(df$Species)"
   ]
  },
  {
   "cell_type": "markdown",
   "metadata": {},
   "source": [
    "Проверим форму распределений."
   ]
  },
  {
   "cell_type": "code",
   "execution_count": 13,
   "metadata": {},
   "outputs": [
    {
     "data": {
      "image/png": "[encoded data removed]",
      "text/plain": [
       "plot without title"
      ]
     },
     "metadata": {
      "image/png": {
       "height": 125,
       "width": 250
      }
     },
     "output_type": "display_data"
    }
   ],
   "source": [
    "ggplot(df, aes(x = Sepal.Length)) +\n",
    "geom_histogram(fill=\"white\",\n",
    "               col=\"black\", \n",
    "               binwidth=0.4) +\n",
    "facet_grid(Species ~ .)"
   ]
  },
  {
   "cell_type": "code",
   "execution_count": 14,
   "metadata": {},
   "outputs": [
    {
     "data": {
      "image/png": "[encoded data removed]",
      "text/plain": [
       "plot without title"
      ]
     },
     "metadata": {
      "image/png": {
       "height": 125,
       "width": 250
      }
     },
     "output_type": "display_data"
    }
   ],
   "source": [
    "ggplot(df, aes(Sepal.Length, fill = Species )) +\n",
    "geom_density(alpha = 0.5)"
   ]
  },
  {
   "cell_type": "code",
   "execution_count": 15,
   "metadata": {},
   "outputs": [
    {
     "data": {
      "image/png": "[encoded data removed]",
      "text/plain": [
       "plot without title"
      ]
     },
     "metadata": {
      "image/png": {
       "height": 125,
       "width": 250
      }
     },
     "output_type": "display_data"
    }
   ],
   "source": [
    "ggplot(df, aes(Species, Sepal.Length, fill = Species )) +\n",
    "geom_boxplot()"
   ]
  },
  {
   "cell_type": "markdown",
   "metadata": {},
   "source": [
    "Видим приблизительно симметричные, близкие к нормальным распределения, гомогенные. Проверим эти предположения с помощью тестов.\n",
    "\n",
    "Сначала проверим нормальность с помощью [критерия Шапиро-Уилка](https://ru.wikipedia.org/wiki/%D0%9A%D1%80%D0%B8%D1%82%D0%B5%D1%80%D0%B8%D0%B8_%D0%BD%D0%BE%D1%80%D0%BC%D0%B0%D0%BB%D1%8C%D0%BD%D0%BE%D1%81%D1%82%D0%B8)."
   ]
  },
  {
   "cell_type": "code",
   "execution_count": 16,
   "metadata": {},
   "outputs": [
    {
     "data": {
      "text/plain": [
       "\n",
       "\tShapiro-Wilk normality test\n",
       "\n",
       "data:  df$Sepal.Length\n",
       "W = 0.98054, p-value = 0.1464\n"
      ]
     },
     "metadata": {},
     "output_type": "display_data"
    }
   ],
   "source": [
    "shapiro.test(df$Sepal.Length)"
   ]
  },
  {
   "cell_type": "code",
   "execution_count": 17,
   "metadata": {},
   "outputs": [
    {
     "data": {
      "text/plain": [
       "\n",
       "\tShapiro-Wilk normality test\n",
       "\n",
       "data:  df$Sepal.Length[df$Species == \"versicolor\"]\n",
       "W = 0.97784, p-value = 0.4647\n"
      ]
     },
     "metadata": {},
     "output_type": "display_data"
    }
   ],
   "source": [
    "shapiro.test(df$Sepal.Length[df$Species == \"versicolor\"])"
   ]
  },
  {
   "cell_type": "code",
   "execution_count": 18,
   "metadata": {},
   "outputs": [
    {
     "data": {
      "text/plain": [
       "\n",
       "\tShapiro-Wilk normality test\n",
       "\n",
       "data:  df$Sepal.Length[df$Species == \"virginica\"]\n",
       "W = 0.97118, p-value = 0.2583\n"
      ]
     },
     "metadata": {},
     "output_type": "display_data"
    }
   ],
   "source": [
    "shapiro.test(df$Sepal.Length[df$Species == \"virginica\"])"
   ]
  },
  {
   "cell_type": "markdown",
   "metadata": {},
   "source": [
    "Проверим гомогенность дисперсии по [критерию Бартлетта](https://ru.wikipedia.org/wiki/%D0%9A%D1%80%D0%B8%D1%82%D0%B5%D1%80%D0%B8%D0%B9_%D0%91%D0%B0%D1%80%D1%82%D0%BB%D0%B5%D1%82%D1%82%D0%B0)."
   ]
  },
  {
   "cell_type": "code",
   "execution_count": 19,
   "metadata": {},
   "outputs": [
    {
     "data": {
      "text/plain": [
       "\n",
       "\tBartlett test of homogeneity of variances\n",
       "\n",
       "data:  Sepal.Length by Species\n",
       "Bartlett's K-squared = 2.0949, df = 1, p-value = 0.1478\n"
      ]
     },
     "metadata": {},
     "output_type": "display_data"
    }
   ],
   "source": [
    "bartlett.test(Sepal.Length ~ Species, df)"
   ]
  },
  {
   "cell_type": "markdown",
   "metadata": {},
   "source": [
    "Данные проверили, теперь выполним сам t-тест."
   ]
  },
  {
   "cell_type": "code",
   "execution_count": 20,
   "metadata": {},
   "outputs": [],
   "source": [
    "t_test <- t.test(Sepal.Length ~ Species, df)"
   ]
  },
  {
   "cell_type": "code",
   "execution_count": 21,
   "metadata": {},
   "outputs": [
    {
     "data": {
      "text/html": [
       "1.866144387377e-07"
      ],
      "text/latex": [
       "1.866144387377e-07"
      ],
      "text/markdown": [
       "1.866144387377e-07"
      ],
      "text/plain": [
       "[1] 1.866144e-07"
      ]
     },
     "metadata": {},
     "output_type": "display_data"
    }
   ],
   "source": [
    "t_test$p.value"
   ]
  },
  {
   "cell_type": "markdown",
   "metadata": {},
   "source": [
    "Тест пройден.\n",
    "\n",
    "Рассмотрим ситуацию для парной выборки:"
   ]
  },
  {
   "cell_type": "code",
   "execution_count": 22,
   "metadata": {},
   "outputs": [
    {
     "data": {
      "text/plain": [
       "\n",
       "\tPaired t-test\n",
       "\n",
       "data:  df$Petal.Length and df$Petal.Width\n",
       "t = 60.552, df = 99, p-value < 2.2e-16\n",
       "alternative hypothesis: true difference in means is not equal to 0\n",
       "95 percent confidence interval:\n",
       " 3.124156 3.335844\n",
       "sample estimates:\n",
       "mean of the differences \n",
       "                   3.23 \n"
      ]
     },
     "metadata": {},
     "output_type": "display_data"
    }
   ],
   "source": [
    "t.test(df$Petal.Length,\n",
    "       df$Petal.Width,\n",
    "       paired = T)"
   ]
  },
  {
   "cell_type": "markdown",
   "metadata": {},
   "source": [
    "# Памятка\n",
    "t-Критерий Стьюдента для независимых выборок\n",
    "\n",
    "```\n",
    "t.test(Var1 ~ Var2, data) # если первая переменная количественная, а вторая фактор\n",
    "t.test(data$Var1, data$Var2) # если обе переменные количественные\n",
    "```\n",
    "\n",
    "t-Критерий Стьюдента для зависимых выборок\n",
    "\n",
    "```\n",
    "t.test(data$Var1, data$Var2, paired = T)\n",
    "```\n",
    "\n",
    "Проверка на нормальность распределения\n",
    "\n",
    "```\n",
    "shapiro.test(Var1) # проверка на нормальность распределения переменной Var1\n",
    "# но не удобно когда есть группирующая факторная переменная\n",
    "```\n",
    "\n",
    "Поможет функция by(), которая применяет различные функции на каждом уровне фактора.  \n",
    "\n",
    "```\n",
    "by(iris$Sepal.Length, INDICES = iris$Species, shapiro.test) # проверка на нормальность переменной \n",
    "# Sepal.Length в трех разных группах в соответствии с переменной Species\n",
    "```\n",
    "\n",
    "Проверка на гомогенность дисперсий\n",
    "\n",
    "```\n",
    "bartlett.test(mpg ~ am, mtcars) #Критерий Бартлетта\n",
    "```"
   ]
  },
  {
   "cell_type": "markdown",
   "metadata": {},
   "source": [
    "---\n",
    "**Задача про свинок**. Воспользуемся встроенным набором данных в R - `ToothGrowth`. Данные позволяют исследовать рост зубов у морских свинок в зависимости от дозировки витамина C и типа потребляемых продуктов.\n",
    "\n",
    "Сравните среднее значение длины зубов свинок, которые потребляли апельсиновый сок (OJ) с дозировкой 0.5 миллиграмм, со средним значением длины зубов свинок, которые потребляли аскорбиновую кислоту (VC) с дозировкой 2 миллиграмма. \n",
    "\n",
    "Значение t-критерия сохраните в переменную `t_stat`."
   ]
  },
  {
   "cell_type": "code",
   "execution_count": 23,
   "metadata": {},
   "outputs": [],
   "source": [
    "data <- subset(ToothGrowth, supp=='OJ' & dose==0.5 | supp=='VC' & dose==2)    \n",
    "t_stat <- t.test(len ~ supp, data)$statistic"
   ]
  },
  {
   "cell_type": "code",
   "execution_count": 24,
   "metadata": {},
   "outputs": [
    {
     "data": {
      "text/html": [
       "<strong>t:</strong> -6.23248213751536"
      ],
      "text/latex": [
       "\\textbf{t:} -6.23248213751536"
      ],
      "text/markdown": [
       "**t:** -6.23248213751536"
      ],
      "text/plain": [
       "        t \n",
       "-6.232482 "
      ]
     },
     "metadata": {},
     "output_type": "display_data"
    }
   ],
   "source": [
    "t_stat"
   ]
  },
  {
   "cell_type": "markdown",
   "metadata": {},
   "source": [
    "# Применение дисперсионного анализа\n",
    "\n",
    "**Задача на взаимодействие переменных**. Воспользуемся встроенными данными `npk`, иллюстрирующими влияние применения различных удобрений на урожайность гороха (`yield`). Нашей задачей будет выяснить, существенно ли одновременное применение азотных (фактор N) и фосфатных (фактор P) удобрений. Примените дисперсионный анализ, где будет проверяться влияние фактора применения азотных (N), влияние фактора применения фосфатных (P) удобрений и их взаимодействие."
   ]
  },
  {
   "cell_type": "code",
   "execution_count": 25,
   "metadata": {},
   "outputs": [
    {
     "data": {
      "text/html": [
       "<table>\n",
       "<caption>A data.frame: 6 × 5</caption>\n",
       "<thead>\n",
       "\t<tr><th></th><th scope=col>block</th><th scope=col>N</th><th scope=col>P</th><th scope=col>K</th><th scope=col>yield</th></tr>\n",
       "\t<tr><th></th><th scope=col>&lt;fct&gt;</th><th scope=col>&lt;fct&gt;</th><th scope=col>&lt;fct&gt;</th><th scope=col>&lt;fct&gt;</th><th scope=col>&lt;dbl&gt;</th></tr>\n",
       "</thead>\n",
       "<tbody>\n",
       "\t<tr><th scope=row>1</th><td>1</td><td>0</td><td>1</td><td>1</td><td>49.5</td></tr>\n",
       "\t<tr><th scope=row>2</th><td>1</td><td>1</td><td>1</td><td>0</td><td>62.8</td></tr>\n",
       "\t<tr><th scope=row>3</th><td>1</td><td>0</td><td>0</td><td>0</td><td>46.8</td></tr>\n",
       "\t<tr><th scope=row>4</th><td>1</td><td>1</td><td>0</td><td>1</td><td>57.0</td></tr>\n",
       "\t<tr><th scope=row>5</th><td>2</td><td>1</td><td>0</td><td>0</td><td>59.8</td></tr>\n",
       "\t<tr><th scope=row>6</th><td>2</td><td>1</td><td>1</td><td>1</td><td>58.5</td></tr>\n",
       "</tbody>\n",
       "</table>\n"
      ],
      "text/latex": [
       "A data.frame: 6 × 5\n",
       "\\begin{tabular}{r|lllll}\n",
       "  & block & N & P & K & yield\\\\\n",
       "  & <fct> & <fct> & <fct> & <fct> & <dbl>\\\\\n",
       "\\hline\n",
       "\t1 & 1 & 0 & 1 & 1 & 49.5\\\\\n",
       "\t2 & 1 & 1 & 1 & 0 & 62.8\\\\\n",
       "\t3 & 1 & 0 & 0 & 0 & 46.8\\\\\n",
       "\t4 & 1 & 1 & 0 & 1 & 57.0\\\\\n",
       "\t5 & 2 & 1 & 0 & 0 & 59.8\\\\\n",
       "\t6 & 2 & 1 & 1 & 1 & 58.5\\\\\n",
       "\\end{tabular}\n"
      ],
      "text/markdown": [
       "\n",
       "A data.frame: 6 × 5\n",
       "\n",
       "| <!--/--> | block &lt;fct&gt; | N &lt;fct&gt; | P &lt;fct&gt; | K &lt;fct&gt; | yield &lt;dbl&gt; |\n",
       "|---|---|---|---|---|---|\n",
       "| 1 | 1 | 0 | 1 | 1 | 49.5 |\n",
       "| 2 | 1 | 1 | 1 | 0 | 62.8 |\n",
       "| 3 | 1 | 0 | 0 | 0 | 46.8 |\n",
       "| 4 | 1 | 1 | 0 | 1 | 57.0 |\n",
       "| 5 | 2 | 1 | 0 | 0 | 59.8 |\n",
       "| 6 | 2 | 1 | 1 | 1 | 58.5 |\n",
       "\n"
      ],
      "text/plain": [
       "  block N P K yield\n",
       "1 1     0 1 1 49.5 \n",
       "2 1     1 1 0 62.8 \n",
       "3 1     0 0 0 46.8 \n",
       "4 1     1 0 1 57.0 \n",
       "5 2     1 0 0 59.8 \n",
       "6 2     1 1 1 58.5 "
      ]
     },
     "metadata": {},
     "output_type": "display_data"
    }
   ],
   "source": [
    "head(npk)"
   ]
  },
  {
   "cell_type": "code",
   "execution_count": 26,
   "metadata": {},
   "outputs": [
    {
     "data": {
      "text/plain": [
       "            Df Sum Sq Mean Sq F value Pr(>F)  \n",
       "N            1  189.3  189.28   5.758 0.0263 *\n",
       "P            1    8.4    8.40   0.256 0.6187  \n",
       "N:P          1   21.3   21.28   0.647 0.4305  \n",
       "Residuals   20  657.4   32.87                 \n",
       "---\n",
       "Signif. codes:  0 ‘***’ 0.001 ‘**’ 0.01 ‘*’ 0.05 ‘.’ 0.1 ‘ ’ 1"
      ]
     },
     "metadata": {},
     "output_type": "display_data"
    },
    {
     "name": "stdout",
     "output_type": "stream",
     "text": [
      "Оценка влияния фактора взаимодействия Pr(>F): 0.4304878"
     ]
    }
   ],
   "source": [
    "fit <- aov(yield ~ N * P, data=npk)\n",
    "summary(fit)\n",
    "\n",
    "cat(\"Оценка влияния фактора взаимодействия Pr(>F):\",\n",
    "    summary(fit)[[1]][\"N:P\", \"Pr(>F)\"])"
   ]
  },
  {
   "cell_type": "markdown",
   "metadata": {},
   "source": [
    "**Задача на попарные сравнения**. Проведите однофакторный дисперсионный анализ на встроенных данных `iris`. Зависимая переменная – ширина чашелистика (`Sepal.Width`), независимая переменная – вид (`Species`). Затем проведите попарные сравнения видов. Какие виды статистически значимо различаются по ширине чашелистика (`p < 0.05`)?"
   ]
  },
  {
   "cell_type": "code",
   "execution_count": 27,
   "metadata": {},
   "outputs": [
    {
     "data": {
      "text/plain": [
       "             Df Sum Sq Mean Sq F value Pr(>F)    \n",
       "Species       2  11.35   5.672   49.16 <2e-16 ***\n",
       "Residuals   147  16.96   0.115                   \n",
       "---\n",
       "Signif. codes:  0 ‘***’ 0.001 ‘**’ 0.01 ‘*’ 0.05 ‘.’ 0.1 ‘ ’ 1"
      ]
     },
     "metadata": {},
     "output_type": "display_data"
    }
   ],
   "source": [
    "fit <- aov(Sepal.Width ~ Species, data=iris)\n",
    "summary(fit)"
   ]
  },
  {
   "cell_type": "code",
   "execution_count": 28,
   "metadata": {},
   "outputs": [
    {
     "data": {
      "text/plain": [
       "  Tukey multiple comparisons of means\n",
       "    95% family-wise confidence level\n",
       "\n",
       "Fit: aov(formula = Sepal.Width ~ Species, data = iris)\n",
       "\n",
       "$Species\n",
       "                       diff         lwr        upr     p adj\n",
       "versicolor-setosa    -0.658 -0.81885528 -0.4971447 0.0000000\n",
       "virginica-setosa     -0.454 -0.61485528 -0.2931447 0.0000000\n",
       "virginica-versicolor  0.204  0.04314472  0.3648553 0.0087802\n"
      ]
     },
     "metadata": {},
     "output_type": "display_data"
    }
   ],
   "source": [
    "TukeyHSD(fit)"
   ]
  },
  {
   "cell_type": "markdown",
   "metadata": {},
   "source": [
    "Все три вида статистически значимо различаются по ширине чашелистика."
   ]
  },
  {
   "cell_type": "markdown",
   "metadata": {},
   "source": [
    "**Задача на использование данных от одних тех же пациентов**. В этой задаче вам дан набор данных (datasets/Pilukin.csv), в котором представлена информация о температуре нескольких пациентов, которые лечатся разными таблетками и у разных врачей.\n",
    "\n",
    "Проведите однофакторный дисперсионный анализ с повторными измерениями: влияние типа таблетки (`pill`) на температуру (`temperature`) с учётом испытуемого (`patient`). Каково p-value для влияния типа таблеток на температуру?"
   ]
  },
  {
   "cell_type": "code",
   "execution_count": 29,
   "metadata": {},
   "outputs": [],
   "source": [
    "data <- read.csv('datasets/Pillulkin.csv')\n",
    "data$patient <- as.factor(data$patient)\n"
   ]
  },
  {
   "cell_type": "code",
   "execution_count": 30,
   "metadata": {},
   "outputs": [
    {
     "data": {
      "text/plain": [
       "\n",
       "Error: patient\n",
       "          Df Sum Sq Mean Sq F value Pr(>F)\n",
       "Residuals  9  42.82   4.758               \n",
       "\n",
       "Error: patient:pill\n",
       "          Df Sum Sq Mean Sq F value Pr(>F)\n",
       "pill       1  0.133   0.133   0.051  0.826\n",
       "Residuals  9 23.479   2.609               \n",
       "\n",
       "Error: Within\n",
       "          Df Sum Sq Mean Sq F value Pr(>F)\n",
       "Residuals 20  87.51   4.375               "
      ]
     },
     "metadata": {},
     "output_type": "display_data"
    }
   ],
   "source": [
    "fit <- aov(temperature ~ pill + Error(patient/pill), data=data)\n",
    "summary(fit)"
   ]
  },
  {
   "cell_type": "markdown",
   "metadata": {},
   "source": [
    "Дисперсионный анализ учитывает различия как между разными группами, так и внутри одной группы. Когда вы вводите испытуемых, то как бы разбиваете все данные помимо групп по цене и типам терапии также еще и по испытуемым, и учитываете вариативность относительно каждого испытуемого, которая вносится в общую вариативность.\n",
    "\n",
    "**Продолжение задачи**. Теперь вашей задачей будет провести двухфакторный дисперсионный анализ с повторными измерениями: влияние факторов `doctor`, влияние фактора `pill` и их взаимодействие на `temperature`. Учтите обе внутригрупповые переменные: и тот факт, что один и тот же больной принимает разные таблетки, и тот факт, что один и тот же больной лечится у разных врачей! Каково F-значение для взаимодействия факторов доктора (`doctor`) и типа таблеток (`pill`)?"
   ]
  },
  {
   "cell_type": "code",
   "execution_count": 31,
   "metadata": {},
   "outputs": [
    {
     "data": {
      "text/plain": [
       "            Df Sum Sq Mean Sq F value Pr(>F)\n",
       "pill:doctor  1  0.422  0.4215   0.146  0.711\n",
       "Residuals    9 26.014  2.8905               "
      ]
     },
     "metadata": {},
     "output_type": "display_data"
    }
   ],
   "source": [
    "summary(aov(temperature ~ pill*doctor +\n",
    "            Error(patient/(doctor+pill)),\n",
    "            data=data))[[4]]"
   ]
  },
  {
   "cell_type": "markdown",
   "metadata": {},
   "source": [
    "# Корреляция и простая линейная регрессия (МНК)\n",
    "\n",
    "**Задача**. Напишите функцию `corr.calc`, которая на вход получает `data.frame` с двумя количественными переменными, рассчитывает коэффициент корреляции Пирсона и возвращает вектор из двух значений: коэффициент корреляции и p – уровень значимости."
   ]
  },
  {
   "cell_type": "code",
   "execution_count": 32,
   "metadata": {},
   "outputs": [],
   "source": [
    "corr.calc <- function(df) {\n",
    "    test_result <- cor.test(x = df[[1]], y = df[[2]])\n",
    "    return(c(test_result$estimate, test_result$p.value))\n",
    "}"
   ]
  },
  {
   "cell_type": "code",
   "execution_count": 33,
   "metadata": {},
   "outputs": [
    {
     "data": {
      "text/html": [
       "<style>\n",
       ".dl-inline {width: auto; margin:0; padding: 0}\n",
       ".dl-inline>dt, .dl-inline>dd {float: none; width: auto; display: inline-block}\n",
       ".dl-inline>dt::after {content: \":\\0020\"; padding-right: .5ex}\n",
       ".dl-inline>dt:not(:first-of-type) {padding-left: .5ex}\n",
       "</style><dl class=dl-inline><dt>cor</dt><dd>0.681171907806749</dd><dt>2</dt><dd>1.77623992875242e-05</dd></dl>\n"
      ],
      "text/latex": [
       "\\begin{description*}\n",
       "\\item[cor] 0.681171907806749\n",
       "\\item[2] 1.77623992875242e-05\n",
       "\\end{description*}\n"
      ],
      "text/markdown": [
       "cor\n",
       ":   0.6811719078067492\n",
       ":   1.77623992875242e-05\n",
       "\n"
      ],
      "text/plain": [
       "         cor              \n",
       "0.6811719078 0.0000177624 "
      ]
     },
     "metadata": {},
     "output_type": "display_data"
    }
   ],
   "source": [
    "corr.calc(mtcars[, c(1,5)])"
   ]
  },
  {
   "cell_type": "markdown",
   "metadata": {},
   "source": [
    "**Задача**. Напишите функцию `filtered.cor` которая на вход получает `data.frame` с  произвольным количеством переменных (как количественными, так и любых других типов), рассчитывает коэффициенты корреляции Пирсона между всеми парами количественных переменных и возвращает наибольшее по модулю значение коэффициента корреляции. \n",
    "\n",
    "Гарантируется наличие в data.frame хотя бы двух количественных переменных.\n",
    "\n",
    "Данные для тренировки: https://stepic.org/media/attachments/lesson/11504/step6.csv"
   ]
  },
  {
   "cell_type": "code",
   "execution_count": 34,
   "metadata": {},
   "outputs": [],
   "source": [
    "df <- read.table(\"https://stepic.org/media/attachments/lesson/11504/step6.csv\",  header=TRUE, sep=',')"
   ]
  },
  {
   "cell_type": "code",
   "execution_count": 35,
   "metadata": {},
   "outputs": [
    {
     "name": "stderr",
     "output_type": "stream",
     "text": [
      "Updating HTML index of packages in '.Library'\n",
      "\n",
      "Making 'packages.html' ...\n",
      " done\n",
      "\n"
     ]
    }
   ],
   "source": [
    "install.packages(\"psych\", repos='http://cran.us.r-project.org')"
   ]
  },
  {
   "cell_type": "code",
   "execution_count": 36,
   "metadata": {},
   "outputs": [
    {
     "name": "stderr",
     "output_type": "stream",
     "text": [
      "\n",
      "Attaching package: ‘psych’\n",
      "\n",
      "\n",
      "The following objects are masked from ‘package:ggplot2’:\n",
      "\n",
      "    %+%, alpha\n",
      "\n",
      "\n"
     ]
    },
    {
     "data": {
      "text/html": [
       "0.235997030571772"
      ],
      "text/latex": [
       "0.235997030571772"
      ],
      "text/markdown": [
       "0.235997030571772"
      ],
      "text/plain": [
       "[1] 0.235997"
      ]
     },
     "metadata": {},
     "output_type": "display_data"
    }
   ],
   "source": [
    "library(psych)\n",
    "\n",
    "filtered.cor <- function(df) {\n",
    "    # находим столбцы, в которых хранятся численные значения\n",
    "    nums <- unlist(lapply(df, is.numeric))  \n",
    "    \n",
    "    # находим коэффициенты корреляции\n",
    "    fit <- corr.test(df[nums])\n",
    "    res <- fit$r\n",
    "    \n",
    "    # обнуляем диагональ\n",
    "    # (макс. корреляция у признака с самим собой)\n",
    "    diag(res) <- 0\n",
    "    \n",
    "    # находим координату максимального по модулю значения\n",
    "    coord <- which.max(abs(res))\n",
    "    return(res[coord])\n",
    "}\n",
    "\n",
    "filtered.cor(df)"
   ]
  },
  {
   "cell_type": "markdown",
   "metadata": {},
   "source": [
    "**Задача**. Напишите функцию `smart_cor`, которая получает на вход `dataframe` с двумя количественными переменными. Проверьте с помощью теста Шапиро-Уилка, что данные в обеих переменных принадлежат нормальному распределению.\n",
    "\n",
    "Если хотя бы в одном векторе распределение переменной отличается от нормального (`p-value` меньше 0.05), то функция должна возвращать коэффициент корреляции Спирмена.\n",
    "\n",
    "Если в обоих векторах распределение переменных от нормального значимо не отличается, то функция должна возвращать коэффициент корреляции Пирсона."
   ]
  },
  {
   "cell_type": "code",
   "execution_count": 37,
   "metadata": {},
   "outputs": [
    {
     "data": {
      "text/html": [
       "<strong>cor:</strong> -0.103100334676588"
      ],
      "text/latex": [
       "\\textbf{cor:} -0.103100334676588"
      ],
      "text/markdown": [
       "**cor:** -0.103100334676588"
      ],
      "text/plain": [
       "       cor \n",
       "-0.1031003 "
      ]
     },
     "metadata": {},
     "output_type": "display_data"
    }
   ],
   "source": [
    "test_data <- read.csv(\"https://stepik.org/media/attachments/course/129/test_data.csv\")\n",
    "\n",
    "smart_cor <- function(x){\n",
    "    if (shapiro.test(x[[1]])$p.value < 0.05 | shapiro.test(x[[2]])$p.value < 0.05) {\n",
    "        res <- cor.test(x[[1]], x[[2]], method = \"spearman\")$estimate\n",
    "    } else {\n",
    "        res <- cor.test(x[[1]], x[[2]])$estimate\n",
    "    }\n",
    "    return(res)\n",
    "}\n",
    "\n",
    "smart_cor(test_data)"
   ]
  },
  {
   "cell_type": "markdown",
   "metadata": {},
   "source": [
    "**Задача**. Набор данных – dataframe с двумя количественными переменными `dataset_11508.txt`. Постройте линейную регрессию, где первая переменная – зависимая, вторая – независимая. В ответе укажите значения регрессионных коэффициентов сначала `intercept` затем `slope`."
   ]
  },
  {
   "cell_type": "code",
   "execution_count": 38,
   "metadata": {},
   "outputs": [
    {
     "data": {
      "text/html": [
       "<style>\n",
       ".dl-inline {width: auto; margin:0; padding: 0}\n",
       ".dl-inline>dt, .dl-inline>dd {float: none; width: auto; display: inline-block}\n",
       ".dl-inline>dt::after {content: \":\\0020\"; padding-right: .5ex}\n",
       ".dl-inline>dt:not(:first-of-type) {padding-left: .5ex}\n",
       "</style><dl class=dl-inline><dt>(Intercept)</dt><dd>-8.18209449713077</dd><dt>V2</dt><dd>1.9765138112475</dd></dl>\n"
      ],
      "text/latex": [
       "\\begin{description*}\n",
       "\\item[(Intercept)] -8.18209449713077\n",
       "\\item[V2] 1.9765138112475\n",
       "\\end{description*}\n"
      ],
      "text/markdown": [
       "(Intercept)\n",
       ":   -8.18209449713077V2\n",
       ":   1.9765138112475\n",
       "\n"
      ],
      "text/plain": [
       "(Intercept)          V2 \n",
       "  -8.182094    1.976514 "
      ]
     },
     "metadata": {},
     "output_type": "display_data"
    }
   ],
   "source": [
    "t <- read.csv(\"datasets/dataset_11508.txt\", sep = \"\", head = F, dec = '.') \n",
    "lr <- lm(V1 ~ V2, t)\n",
    "lr$coefficients"
   ]
  },
  {
   "cell_type": "markdown",
   "metadata": {},
   "source": [
    "**Задача**. Воспользуемся данными `diamonds` из библиотеки `ggplot2`. Только для бриллиантов класса `Ideal` (переменная `cut`) c числом карат равным `0.46` (переменная `carat`) постройте линейную регрессию, где в качестве зависимой переменной выступает `price`, в качестве предиктора – переменная `depth`. Сохраните коэффициенты регрессии в переменную `fit_coef`."
   ]
  },
  {
   "cell_type": "code",
   "execution_count": 39,
   "metadata": {},
   "outputs": [
    {
     "data": {
      "text/html": [
       "<style>\n",
       ".dl-inline {width: auto; margin:0; padding: 0}\n",
       ".dl-inline>dt, .dl-inline>dd {float: none; width: auto; display: inline-block}\n",
       ".dl-inline>dt::after {content: \":\\0020\"; padding-right: .5ex}\n",
       ".dl-inline>dt:not(:first-of-type) {padding-left: .5ex}\n",
       "</style><dl class=dl-inline><dt>(Intercept)</dt><dd>-76.1103017690205</dd><dt>depth</dt><dd>21.4342698577875</dd></dl>\n"
      ],
      "text/latex": [
       "\\begin{description*}\n",
       "\\item[(Intercept)] -76.1103017690205\n",
       "\\item[depth] 21.4342698577875\n",
       "\\end{description*}\n"
      ],
      "text/markdown": [
       "(Intercept)\n",
       ":   -76.1103017690205depth\n",
       ":   21.4342698577875\n",
       "\n"
      ],
      "text/plain": [
       "(Intercept)       depth \n",
       "  -76.11030    21.43427 "
      ]
     },
     "metadata": {},
     "output_type": "display_data"
    }
   ],
   "source": [
    "data_for_model <- subset(diamonds, cut == 'Ideal' & carat == 0.46)    \n",
    "fit <- lm(price ~ depth, data_for_model)    \n",
    "fit_coef <- fit$coefficients\n",
    "fit_coef"
   ]
  },
  {
   "cell_type": "markdown",
   "metadata": {},
   "source": [
    "**Задача**. Напишите функцию `regr.calc`, которая на вход получает dataframe c двумя переменными.\n",
    "\n",
    "Если две переменные значимо коррелируют (p-уровень значимости для коэффициента корреляции Пирсона меньше 0.05), то функция строит регрессионную модель, где первая переменная – зависимая, вторая – независимая. Затем создает в dataframe новую переменную с назанием `fit`, где сохраняет предсказанные моделью значения зависимой переменной. В результате функция должна возвращать исходный dataframe с добавленной новой переменной `fit`.\n",
    "\n",
    "Если две переменные значимо не коррелируют, то функция возвращает строчку `\"There is no sense in prediction\"`."
   ]
  },
  {
   "cell_type": "code",
   "execution_count": 40,
   "metadata": {},
   "outputs": [],
   "source": [
    "regr.calc <- function(x) {\n",
    "    if(cor.test(x[[1]], x[[2]])$p.value < 0.05){\n",
    "        x$fit <- lm(x[[1]] ~ x[[2]], x)$fitted.values\n",
    "        return(x)\n",
    "    } else {\n",
    "    return(\"There is no sense in prediction\")\n",
    "    }\n",
    "}"
   ]
  },
  {
   "cell_type": "code",
   "execution_count": 41,
   "metadata": {},
   "outputs": [
    {
     "data": {
      "text/html": [
       "'There is no sense in prediction'"
      ],
      "text/latex": [
       "'There is no sense in prediction'"
      ],
      "text/markdown": [
       "'There is no sense in prediction'"
      ],
      "text/plain": [
       "[1] \"There is no sense in prediction\""
      ]
     },
     "metadata": {},
     "output_type": "display_data"
    }
   ],
   "source": [
    "regr.calc(iris[,1:2])"
   ]
  },
  {
   "cell_type": "code",
   "execution_count": 42,
   "metadata": {},
   "outputs": [
    {
     "data": {
      "text/html": [
       "<table>\n",
       "<caption>A data.frame: 10 × 3</caption>\n",
       "<thead>\n",
       "\t<tr><th></th><th scope=col>Sepal.Length</th><th scope=col>Petal.Width</th><th scope=col>fit</th></tr>\n",
       "\t<tr><th></th><th scope=col>&lt;dbl&gt;</th><th scope=col>&lt;dbl&gt;</th><th scope=col>&lt;dbl&gt;</th></tr>\n",
       "</thead>\n",
       "<tbody>\n",
       "\t<tr><th scope=row>1</th><td>5.1</td><td>0.2</td><td>4.955345</td></tr>\n",
       "\t<tr><th scope=row>2</th><td>4.9</td><td>0.2</td><td>4.955345</td></tr>\n",
       "\t<tr><th scope=row>3</th><td>4.7</td><td>0.2</td><td>4.955345</td></tr>\n",
       "\t<tr><th scope=row>4</th><td>4.6</td><td>0.2</td><td>4.955345</td></tr>\n",
       "\t<tr><th scope=row>5</th><td>5.0</td><td>0.2</td><td>4.955345</td></tr>\n",
       "\t<tr><th scope=row>6</th><td>5.4</td><td>0.4</td><td>5.133062</td></tr>\n",
       "\t<tr><th scope=row>7</th><td>4.6</td><td>0.3</td><td>5.044203</td></tr>\n",
       "\t<tr><th scope=row>8</th><td>5.0</td><td>0.2</td><td>4.955345</td></tr>\n",
       "\t<tr><th scope=row>9</th><td>4.4</td><td>0.2</td><td>4.955345</td></tr>\n",
       "\t<tr><th scope=row>10</th><td>4.9</td><td>0.1</td><td>4.866487</td></tr>\n",
       "</tbody>\n",
       "</table>\n"
      ],
      "text/latex": [
       "A data.frame: 10 × 3\n",
       "\\begin{tabular}{r|lll}\n",
       "  & Sepal.Length & Petal.Width & fit\\\\\n",
       "  & <dbl> & <dbl> & <dbl>\\\\\n",
       "\\hline\n",
       "\t1 & 5.1 & 0.2 & 4.955345\\\\\n",
       "\t2 & 4.9 & 0.2 & 4.955345\\\\\n",
       "\t3 & 4.7 & 0.2 & 4.955345\\\\\n",
       "\t4 & 4.6 & 0.2 & 4.955345\\\\\n",
       "\t5 & 5.0 & 0.2 & 4.955345\\\\\n",
       "\t6 & 5.4 & 0.4 & 5.133062\\\\\n",
       "\t7 & 4.6 & 0.3 & 5.044203\\\\\n",
       "\t8 & 5.0 & 0.2 & 4.955345\\\\\n",
       "\t9 & 4.4 & 0.2 & 4.955345\\\\\n",
       "\t10 & 4.9 & 0.1 & 4.866487\\\\\n",
       "\\end{tabular}\n"
      ],
      "text/markdown": [
       "\n",
       "A data.frame: 10 × 3\n",
       "\n",
       "| <!--/--> | Sepal.Length &lt;dbl&gt; | Petal.Width &lt;dbl&gt; | fit &lt;dbl&gt; |\n",
       "|---|---|---|---|\n",
       "| 1 | 5.1 | 0.2 | 4.955345 |\n",
       "| 2 | 4.9 | 0.2 | 4.955345 |\n",
       "| 3 | 4.7 | 0.2 | 4.955345 |\n",
       "| 4 | 4.6 | 0.2 | 4.955345 |\n",
       "| 5 | 5.0 | 0.2 | 4.955345 |\n",
       "| 6 | 5.4 | 0.4 | 5.133062 |\n",
       "| 7 | 4.6 | 0.3 | 5.044203 |\n",
       "| 8 | 5.0 | 0.2 | 4.955345 |\n",
       "| 9 | 4.4 | 0.2 | 4.955345 |\n",
       "| 10 | 4.9 | 0.1 | 4.866487 |\n",
       "\n"
      ],
      "text/plain": [
       "   Sepal.Length Petal.Width fit     \n",
       "1  5.1          0.2         4.955345\n",
       "2  4.9          0.2         4.955345\n",
       "3  4.7          0.2         4.955345\n",
       "4  4.6          0.2         4.955345\n",
       "5  5.0          0.2         4.955345\n",
       "6  5.4          0.4         5.133062\n",
       "7  4.6          0.3         5.044203\n",
       "8  5.0          0.2         4.955345\n",
       "9  4.4          0.2         4.955345\n",
       "10 4.9          0.1         4.866487"
      ]
     },
     "metadata": {},
     "output_type": "display_data"
    }
   ],
   "source": [
    "head(regr.calc(iris[,c(1,4)]), 10)"
   ]
  },
  {
   "cell_type": "markdown",
   "metadata": {},
   "source": [
    "# Памятка\n",
    "\n",
    "```\n",
    "cor.test(mtcars$mpg, mtcars$disp) # Расчет корреляции Пирсона \n",
    "\n",
    "cor.test(~ mpg + disp, mtcars) # запись через формулу\n",
    "\n",
    "cor.test(mtcars$mpg, mtcars$disp, method = \"spearman\") # Расчет корреляции Спирмена \n",
    "\n",
    "cor.test(mtcars$mpg, mtcars$disp, method = \"kendall\") # Расчет корреляции Кендала \n",
    "\n",
    "cor(iris[, -5]) # построение корреляционной матрицы\n",
    "\n",
    "fit <- lm(mpg ~ disp, mtcars) # построение линейной регрессии \n",
    "\n",
    "fit$coefficients # коэффициенты регрессии \n",
    "\n",
    "fit$fitted.values # предсказанные значения зависимой переменной \n",
    "```\n",
    "\n",
    "При наличии одинаковых значений в переменных расчет непараметрических корреляций будет сопровождаться предупреждением о невозможности рассчитать точное значение p - value.\n",
    "\n",
    "Если в ваших данных есть одинаковые наблюдения, но вы хотите рассчитать непараметрическую корреляцию, используйте функцию spearman_test  из пакета coin\n",
    "\n",
    "```R\n",
    "library(coin)\n",
    "spearman_test(~ mpg + disp, mtcars)\n",
    "```\n",
    "\n",
    "Обратите внимание на различия в графиках. То что в первом aes() будет распространяться на все слои. А то, что в aes() конкретного geom - только на него.\n",
    "\n",
    "```R\n",
    "ggplot(mtcars, aes(mpg, disp, col = factor(am)))+\n",
    "  geom_point()+\n",
    "  geom_smooth()\n",
    "\n",
    "ggplot(mtcars, aes(mpg, disp))+\n",
    "  geom_point(aes(col = factor(am)))+\n",
    "  geom_smooth()\n",
    "\n",
    "ggplot(mtcars, aes(mpg, disp))+\n",
    "  geom_point()+\n",
    "  geom_smooth(aes(col = factor(am)))\n",
    "```"
   ]
  },
  {
   "cell_type": "markdown",
   "metadata": {},
   "source": [
    "# Множественная линейная регрессия\n",
    "\n",
    "**Задача**. Напишите функцию `fill_na`, которая принимает на вход данные с тремя переменными:\n",
    "- $x_1$ — числовой вектор\n",
    "- $x_2$ — числовой вектор\n",
    "- $y$ — числовой вектор с пропущенными значениями.\n",
    "\n",
    "На первом этапе, используя только наблюдения, в которых нет пропущенных значений, постройте регрессионную модель (без взаимодействий), где  $y$ — зависимая переменная, $x_1$ и $x_2$ — независимые переменные.\n",
    "\n",
    "Затем, используя построенную модель, заполните пропущенные значения предсказаниями модели.\n",
    "\n",
    "Функция должна возвращать dataframe c новой переменной `y_full`. Сохраните в нее переменную `y`, в которой пропущенные значения заполнены предсказанными значениями построенной модели."
   ]
  },
  {
   "cell_type": "code",
   "execution_count": 43,
   "metadata": {},
   "outputs": [
    {
     "data": {
      "text/html": [
       "<table>\n",
       "<caption>A data.frame: 10 × 4</caption>\n",
       "<thead>\n",
       "\t<tr><th scope=col>x_1</th><th scope=col>x_2</th><th scope=col>y</th><th scope=col>y_full</th></tr>\n",
       "\t<tr><th scope=col>&lt;int&gt;</th><th scope=col>&lt;int&gt;</th><th scope=col>&lt;int&gt;</th><th scope=col>&lt;dbl&gt;</th></tr>\n",
       "</thead>\n",
       "<tbody>\n",
       "\t<tr><td> 9</td><td>22</td><td>14</td><td>14.00000</td></tr>\n",
       "\t<tr><td>14</td><td>35</td><td> 9</td><td> 9.00000</td></tr>\n",
       "\t<tr><td>10</td><td>45</td><td>NA</td><td>13.12727</td></tr>\n",
       "\t<tr><td> 6</td><td>35</td><td>NA</td><td>13.30132</td></tr>\n",
       "\t<tr><td>11</td><td>36</td><td>16</td><td>16.00000</td></tr>\n",
       "\t<tr><td> 5</td><td>27</td><td>11</td><td>11.00000</td></tr>\n",
       "\t<tr><td> 9</td><td>34</td><td>NA</td><td>12.83632</td></tr>\n",
       "\t<tr><td> 6</td><td>25</td><td>NA</td><td>12.90783</td></tr>\n",
       "\t<tr><td>11</td><td>38</td><td>13</td><td>13.00000</td></tr>\n",
       "\t<tr><td>12</td><td>23</td><td>NA</td><td>11.97784</td></tr>\n",
       "</tbody>\n",
       "</table>\n"
      ],
      "text/latex": [
       "A data.frame: 10 × 4\n",
       "\\begin{tabular}{llll}\n",
       " x\\_1 & x\\_2 & y & y\\_full\\\\\n",
       " <int> & <int> & <int> & <dbl>\\\\\n",
       "\\hline\n",
       "\t  9 & 22 & 14 & 14.00000\\\\\n",
       "\t 14 & 35 &  9 &  9.00000\\\\\n",
       "\t 10 & 45 & NA & 13.12727\\\\\n",
       "\t  6 & 35 & NA & 13.30132\\\\\n",
       "\t 11 & 36 & 16 & 16.00000\\\\\n",
       "\t  5 & 27 & 11 & 11.00000\\\\\n",
       "\t  9 & 34 & NA & 12.83632\\\\\n",
       "\t  6 & 25 & NA & 12.90783\\\\\n",
       "\t 11 & 38 & 13 & 13.00000\\\\\n",
       "\t 12 & 23 & NA & 11.97784\\\\\n",
       "\\end{tabular}\n"
      ],
      "text/markdown": [
       "\n",
       "A data.frame: 10 × 4\n",
       "\n",
       "| x_1 &lt;int&gt; | x_2 &lt;int&gt; | y &lt;int&gt; | y_full &lt;dbl&gt; |\n",
       "|---|---|---|---|\n",
       "|  9 | 22 | 14 | 14.00000 |\n",
       "| 14 | 35 |  9 |  9.00000 |\n",
       "| 10 | 45 | NA | 13.12727 |\n",
       "|  6 | 35 | NA | 13.30132 |\n",
       "| 11 | 36 | 16 | 16.00000 |\n",
       "|  5 | 27 | 11 | 11.00000 |\n",
       "|  9 | 34 | NA | 12.83632 |\n",
       "|  6 | 25 | NA | 12.90783 |\n",
       "| 11 | 38 | 13 | 13.00000 |\n",
       "| 12 | 23 | NA | 11.97784 |\n",
       "\n"
      ],
      "text/plain": [
       "   x_1 x_2 y  y_full  \n",
       "1   9  22  14 14.00000\n",
       "2  14  35   9  9.00000\n",
       "3  10  45  NA 13.12727\n",
       "4   6  35  NA 13.30132\n",
       "5  11  36  16 16.00000\n",
       "6   5  27  11 11.00000\n",
       "7   9  34  NA 12.83632\n",
       "8   6  25  NA 12.90783\n",
       "9  11  38  13 13.00000\n",
       "10 12  23  NA 11.97784"
      ]
     },
     "metadata": {},
     "output_type": "display_data"
    }
   ],
   "source": [
    "test_data <- read.csv(\"https://stepic.org/media/attachments/course/129/fill_na_test.csv\")\n",
    "\n",
    "fill_na <- function(test_data){\n",
    "    # находим линейную регрессию \n",
    "    r <- lm(y ~ x_1 + x_2, test_data)\n",
    "    \n",
    "    # копируем переменную\n",
    "    y_full <- test_data$y\n",
    "    \n",
    "    # находим позиции пропущенных значений\n",
    "    empty <- which(is.na(y_full))\n",
    "    \n",
    "    # и подставляем значения, соответствующие регрессии\n",
    "    y_full[empty] <- predict(r, test_data)[empty]\n",
    "    \n",
    "    # добавляем переменную в датасет и возвращаем\n",
    "    test_data$y_full <- y_full\n",
    "    return(test_data)\n",
    "}\n",
    "\n",
    "fill_na(test_data)"
   ]
  },
  {
   "cell_type": "markdown",
   "metadata": {},
   "source": [
    "**Задача**. В переменной `df` сохранен subset данных `mtcars` только с переменными \"wt\", \"mpg\", \"disp\", \"drat\", \"hp\". Воспользуйтесь множественным регрессионным анализом, чтобы предсказать вес машины (переменная \"wt\"). Выберите такую комбинацию независимых переменных (из \"mpg\", \"disp\", \"drat\", \"hp\"), чтобы значение `R^2 adjusted` было наибольшим. Взаимодействия факторов учитывать не надо. "
   ]
  },
  {
   "cell_type": "code",
   "execution_count": 44,
   "metadata": {},
   "outputs": [],
   "source": [
    "df <- mtcars[c(\"wt\", \"mpg\", \"disp\", \"drat\", \"hp\")]"
   ]
  },
  {
   "cell_type": "code",
   "execution_count": 45,
   "metadata": {},
   "outputs": [
    {
     "name": "stdout",
     "output_type": "stream",
     "text": [
      "Start:  AIC=-56.88\n",
      "wt ~ mpg + disp + hp\n",
      "\n",
      "       Df Sum of Sq    RSS     AIC\n",
      "<none>              4.2136 -56.877\n",
      "- hp    1    0.6684 4.8820 -54.166\n",
      "- mpg   1    1.9125 6.1261 -46.902\n",
      "- disp  1    3.1058 7.3195 -41.206\n"
     ]
    }
   ],
   "source": [
    "ideal_model <- step(lm(wt ~ mpg + disp + hp, data = df),\n",
    "                    direction = 'backward')"
   ]
  },
  {
   "cell_type": "code",
   "execution_count": 46,
   "metadata": {},
   "outputs": [
    {
     "data": {
      "text/html": [
       "0.842813587320083"
      ],
      "text/latex": [
       "0.842813587320083"
      ],
      "text/markdown": [
       "0.842813587320083"
      ],
      "text/plain": [
       "[1] 0.8428136"
      ]
     },
     "metadata": {},
     "output_type": "display_data"
    }
   ],
   "source": [
    "summary(lm(wt ~ mpg + disp + hp, data = df))$adj.r.squared"
   ]
  },
  {
   "cell_type": "markdown",
   "metadata": {},
   "source": []
  }
 ],
 "metadata": {
  "kernelspec": {
   "display_name": "R",
   "language": "R",
   "name": "ir"
  },
  "language_info": {
   "codemirror_mode": "r",
   "file_extension": ".r",
   "mimetype": "text/x-r-source",
   "name": "R",
   "pygments_lexer": "r",
   "version": "3.6.1"
  }
 },
 "nbformat": 4,
 "nbformat_minor": 4
}
