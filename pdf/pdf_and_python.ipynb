{
 "cells": [
  {
   "cell_type": "markdown",
   "metadata": {},
   "source": [
    "# Создание и изменение PDF-файлов с помощью Python\n",
    "\n",
    "Эта публикация основана на замечательной публикации Дэвида Амоса [Create and Modify PDF Files in Python](https://realpython.com/creating-modifying-pdf/). При её переводе я столкнулся с тем, что библиотека PyPDF2 имеет ограничения на работу с кириллическими текстами и некорректно оформленными pdf-файлами. Поэтому текст публикации не является прямым переводом текстом Амоса.\n",
    "\n",
    "Материал подготовлен для проекта [Библиотека программиста](https://proglib.io/).\n",
    "\n",
    "PDF (сокр. от Portable Document Format) является одним из наиболее распространенных форматов обмена документами в Интернете. Формат PDF позволяет в одном файле объединять текст, изображения, таблицы, формы и даже мультимедиа, например, видео или анимацию.\n",
    "\n",
    "Такое обилие поддерживаемых типов контента может затруднить работу с PDF-файлами – ведь все эти данные нужно как-то декодировать при открытии файла! К счастью, в экосистеме Python есть несколько отличных пакетов для чтения, создания и даже изменения PDF-файлов.\n",
    "\n",
    "Из этого пособия вы узнаете как:\n",
    "- Читать текст из PDF-файла\n",
    "- Разбить PDF-файл на множество отдельных файлов\n",
    "- Объединить PDF-файлы\n",
    "- Защитить PDF-файлы c помощью паролей\n",
    "- Создать свой собственный PDF с нуля"
   ]
  },
  {
   "cell_type": "markdown",
   "metadata": {},
   "source": [
    "# Извлечение текста из PDF\n",
    "\n",
    "В этом разделе мы узнаем, как читать PDF-файл и извлекать текст с помощью пакета PyPDF2. Прежде чем мы сможем это сделать, нужно установить библиотеку с помощью `pip`:"
   ]
  },
  {
   "cell_type": "code",
   "execution_count": 1,
   "metadata": {},
   "outputs": [
    {
     "name": "stdout",
     "output_type": "stream",
     "text": [
      "Requirement already satisfied: PyPDF2 in /home/leo/anaconda3/lib/python3.7/site-packages (1.26.0)\n",
      "Note: you may need to restart the kernel to use updated packages.\n"
     ]
    }
   ],
   "source": [
    "pip install PyPDF2"
   ]
  },
  {
   "cell_type": "markdown",
   "metadata": {},
   "source": [
    "Как упомянуто выше, библиотека PyPDF2 имеет ограничения на работу с кириллическими текстами и некорректно оформленными pdf-файлами. Поэтому для непоредставенного извлечения текста мы будем пользоваться библиотекой [pdfminer.six](https://pdfminersix.readthedocs.io/en/latest/index.html)."
   ]
  },
  {
   "cell_type": "code",
   "execution_count": 17,
   "metadata": {},
   "outputs": [
    {
     "name": "stdout",
     "output_type": "stream",
     "text": [
      "Requirement already satisfied: pdfminer.six in /home/leo/anaconda3/lib/python3.7/site-packages (20200517)\n",
      "Requirement already satisfied: chardet; python_version > \"3.0\" in /home/leo/anaconda3/lib/python3.7/site-packages (from pdfminer.six) (3.0.4)\n",
      "Requirement already satisfied: pycryptodome in /home/leo/anaconda3/lib/python3.7/site-packages (from pdfminer.six) (3.9.7)\n",
      "Requirement already satisfied: sortedcontainers in /home/leo/anaconda3/lib/python3.7/site-packages (from pdfminer.six) (2.1.0)\n",
      "Note: you may need to restart the kernel to use updated packages.\n"
     ]
    }
   ],
   "source": [
    "pip install pdfminer.six"
   ]
  },
  {
   "cell_type": "markdown",
   "metadata": {},
   "source": [
    "## Открываем PDF-файл\n",
    "\n",
    "Давайте начнем, открыв PDF и прочитав в нем информацию. Мы будем использовать файл `Onegin.pdf`, расположенный в папке `practice_files` в репозитории блокнота Jupyter.\n",
    "\n",
    "Для начала импортируем класс `PdfFileReader`"
   ]
  },
  {
   "cell_type": "code",
   "execution_count": 3,
   "metadata": {},
   "outputs": [],
   "source": [
    "from PyPDF2 import PdfFileReader"
   ]
  },
  {
   "cell_type": "markdown",
   "metadata": {},
   "source": [
    "Создадим новый экземпляр класса `PdfFileReader`, указав путь к файлу PDF:"
   ]
  },
  {
   "cell_type": "code",
   "execution_count": 14,
   "metadata": {},
   "outputs": [],
   "source": [
    "pdf_path = 'practice_files/Onegin.pdf'\n",
    "pdf = PdfFileReader(pdf_path)"
   ]
  },
  {
   "cell_type": "markdown",
   "metadata": {},
   "source": [
    "Мы можем использовать экземпляр PdfFileReader для сбора информации о PDF. Например, метод `.getNumPages()` возвращает количество страниц, содержащихся в PDF-файле:"
   ]
  },
  {
   "cell_type": "code",
   "execution_count": 7,
   "metadata": {},
   "outputs": [
    {
     "data": {
      "text/plain": [
       "417"
      ]
     },
     "execution_count": 7,
     "metadata": {},
     "output_type": "execute_result"
    }
   ],
   "source": [
    "pdf.getNumPages()"
   ]
  },
  {
   "cell_type": "markdown",
   "metadata": {},
   "source": [
    "Используя атрибут `.documentInfo` можно извлечь мета-информацию:"
   ]
  },
  {
   "cell_type": "code",
   "execution_count": 8,
   "metadata": {},
   "outputs": [
    {
     "data": {
      "text/plain": [
       "{'/Creator': 'Apache FOP Version svn-trunk',\n",
       " '/Producer': 'Apache FOP Version svn-trunk',\n",
       " '/Title': 'Евгений Онегин',\n",
       " '/Subject': 'literature_19',\n",
       " '/Author': 'Александр Сергеевич Пушкин',\n",
       " '/CreationDate': \"D:20170108140835+03'00'\"}"
      ]
     },
     "execution_count": 8,
     "metadata": {},
     "output_type": "execute_result"
    }
   ],
   "source": [
    "pdf.documentInfo"
   ]
  },
  {
   "cell_type": "markdown",
   "metadata": {},
   "source": [
    "К каждому из элементов `.documentInfo` можно обратиться с помощью соответствующего атрибута:"
   ]
  },
  {
   "cell_type": "code",
   "execution_count": 9,
   "metadata": {},
   "outputs": [
    {
     "data": {
      "text/plain": [
       "'Евгений Онегин'"
      ]
     },
     "execution_count": 9,
     "metadata": {},
     "output_type": "execute_result"
    }
   ],
   "source": [
    "pdf.documentInfo.title"
   ]
  },
  {
   "cell_type": "markdown",
   "metadata": {},
   "source": [
    "# Извлечение текста отдельной страницы PDF"
   ]
  },
  {
   "cell_type": "code",
   "execution_count": 25,
   "metadata": {},
   "outputs": [],
   "source": [
    "from pdfminer.high_level import extract_text"
   ]
  },
  {
   "cell_type": "code",
   "execution_count": 62,
   "metadata": {},
   "outputs": [],
   "source": [
    "text = extract_text(pdf_path, page_numbers = [19])"
   ]
  },
  {
   "cell_type": "code",
   "execution_count": 63,
   "metadata": {},
   "outputs": [
    {
     "name": "stdout",
     "output_type": "stream",
     "text": [
      "Глава первая\n",
      "\n",
      "И  жить  торопится,  и  чувствовать\n",
      "\n",
      "спешит.\n",
      "Князь Вяземский2\n",
      "\n",
      " \n",
      "\n",
      " \n",
      "I\n",
      " \n",
      "\n",
      "«Мой дядя самых честных правил,\n",
      "Когда не в шутку занемог,\n",
      "Он уважать себя заставил\n",
      "И лучше выдумать не мог.\n",
      "Его пример другим наука;\n",
      "Но, боже мой, какая скука\n",
      "С больным сидеть и день и ночь,\n",
      "Не отходя ни шагу прочь!\n",
      "Какое низкое коварство\n",
      "Полуживого забавлять,\n",
      "Ему подушки поправлять,\n",
      "Печально подносить лекарство,\n",
      "Вздыхать и думать про себя:\n",
      "Когда же черт возьмет тебя!»\n",
      "\n",
      "2 Эпиграф взят из стихотворения П. А. Вяземского «Первый снег».\n"
     ]
    }
   ],
   "source": [
    "print(text.strip())"
   ]
  },
  {
   "cell_type": "code",
   "execution_count": null,
   "metadata": {},
   "outputs": [],
   "source": []
  }
 ],
 "metadata": {
  "kernelspec": {
   "display_name": "Python 3",
   "language": "python",
   "name": "python3"
  },
  "language_info": {
   "codemirror_mode": {
    "name": "ipython",
    "version": 3
   },
   "file_extension": ".py",
   "mimetype": "text/x-python",
   "name": "python",
   "nbconvert_exporter": "python",
   "pygments_lexer": "ipython3",
   "version": "3.7.6"
  }
 },
 "nbformat": 4,
 "nbformat_minor": 4
}
