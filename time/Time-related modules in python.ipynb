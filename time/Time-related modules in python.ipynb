{
 "cells": [
  {
   "cell_type": "markdown",
   "metadata": {},
   "source": [
    "В этом блокноте обобщены сведения по работе с различными библиотеками Python, оперирующими временем, временными метками и т.п. \n",
    "Подготовлено при поддержке [proglib](https://proglib.io/)."
   ]
  },
  {
   "cell_type": "markdown",
   "metadata": {},
   "source": [
    "# Назад в будущее: практическое руководство по путешествию во времени с Python\n",
    "\n",
    "\n",
    "В Python несколько встроенных библиотек для работы со временем и интервалами времени: time, datatime, calendar, timeit. Но когда какой модуль использовать? Рассмотрим на примерах.\n",
    "\n",
    "Методы, связанные со временем, распределены во встроенных модулях Python 3 довольно компактно. Однако наблюдаются и некоторые пересечения. Здесь мы рассмотрим работу со следующими встроенными модулями:"
   ]
  },
  {
   "cell_type": "code",
   "execution_count": 1,
   "metadata": {},
   "outputs": [],
   "source": [
    "import time\n",
    "import timeit\n",
    "import datetime\n",
    "import calendar"
   ]
  },
  {
   "cell_type": "markdown",
   "metadata": {},
   "source": [
    "# 1. Работа со шкалой времени: модуль time\n",
    "\n",
    "## 1.1. Понятие epoch\n",
    "\n",
    "Работа с [модулем time](https://docs.python.org/3/library/time.html) в существенной мере зависит от операционной системы. Время в библиотеке привязано к фиксированной начальной точке –  эпохе (epoch). Узнаем эту начальную точку:"
   ]
  },
  {
   "cell_type": "code",
   "execution_count": 2,
   "metadata": {
    "scrolled": false
   },
   "outputs": [
    {
     "data": {
      "text/plain": [
       "time.struct_time(tm_year=1970, tm_mon=1, tm_mday=1, tm_hour=0, tm_min=0, tm_sec=0, tm_wday=3, tm_yday=1, tm_isdst=0)"
      ]
     },
     "execution_count": 2,
     "metadata": {},
     "output_type": "execute_result"
    }
   ],
   "source": [
    "time.gmtime(0)"
   ]
  },
  {
   "cell_type": "markdown",
   "metadata": {},
   "source": [
    "В Unix-системах начальной точкой отсчета (`epoch`) является 1 января 1970 г. Функция `gmtime()` вернула объект именованного кортежа `struct_time`.\n",
    "\n",
    "С помощью функции `time()` время, прошедшее с этой начальной точки можно также вывести в **секундах** (`seconds since the epoch`):"
   ]
  },
  {
   "cell_type": "code",
   "execution_count": 3,
   "metadata": {
    "scrolled": true
   },
   "outputs": [
    {
     "data": {
      "text/plain": [
       "1575107026.0062244"
      ]
     },
     "execution_count": 3,
     "metadata": {},
     "output_type": "execute_result"
    }
   ],
   "source": [
    "time.time()"
   ]
  },
  {
   "cell_type": "markdown",
   "metadata": {},
   "source": [
    "Так как точка `epoch` для разных операционных систем может отличаться, число секунд, возвращаемое функцией `time()` также может быть различным.\n",
    "\n",
    "Время до точки `epoch` тоже существует, но значения секунд `seconds since the epoch` отрицательны. Если мы передадим функции `gmtime` отрицательное значение секунд, мы перенесемся в прошлое относительно момента времени `epoch`:"
   ]
  },
  {
   "cell_type": "code",
   "execution_count": 4,
   "metadata": {
    "scrolled": true
   },
   "outputs": [
    {
     "data": {
      "text/plain": [
       "time.struct_time(tm_year=1966, tm_mon=10, tm_mday=31, tm_hour=14, tm_min=13, tm_sec=20, tm_wday=0, tm_yday=304, tm_isdst=0)"
      ]
     },
     "execution_count": 4,
     "metadata": {},
     "output_type": "execute_result"
    }
   ],
   "source": [
    "time.gmtime(-10**8)"
   ]
  },
  {
   "cell_type": "markdown",
   "metadata": {},
   "source": [
    "## 1.2. Секунды, struct_time и преобразование друг в друга\n",
    "\n",
    "![title](img/Clock.png)\n",
    "\n",
    "Итак, модуль `time` оперирует двумя основными типами объектов: `struct_time` и секундами с начала эпохи. Для взаимных преобразований  используются следующие функции:\n",
    "\n",
    "- `gmtime()`: из секунд в `struct_time` для UTC \n",
    "- `localtime()`: из секунд в `struct_time` для местного времени \n",
    "- `calendar.timegm()` (не модуль time): из `struct_time` для UTC в секунды \n",
    "- `mktime()`: из `struct_time` местного времени в секунды \n",
    "\n",
    "UTC – стандартное обозначение [всемирного координированного времени](https://ru.wikipedia.org/wiki/%D0%92%D1%81%D0%B5%D0%BC%D0%B8%D1%80%D0%BD%D0%BE%D0%B5_%D0%BA%D0%BE%D0%BE%D1%80%D0%B4%D0%B8%D0%BD%D0%B8%D1%80%D0%BE%D0%B2%D0%B0%D0%BD%D0%BD%D0%BE%D0%B5_%D0%B2%D1%80%D0%B5%D0%BC%D1%8F) без учета [часовых поясов](https://ru.wikipedia.org/wiki/%D0%A7%D0%B0%D1%81%D0%BE%D0%B2%D0%BE%D0%B9_%D0%BF%D0%BE%D1%8F%D1%81). Начало отсчета `epoch` привязано к UTC, то есть не зависит от местного времени. Поэтому UTC удобнее использовать для общения с внешним миром."
   ]
  },
  {
   "cell_type": "code",
   "execution_count": 5,
   "metadata": {},
   "outputs": [
    {
     "data": {
      "text/plain": [
       "time.struct_time(tm_year=2019, tm_mon=11, tm_mday=27, tm_hour=15, tm_min=49, tm_sec=57, tm_wday=2, tm_yday=331, tm_isdst=0)"
      ]
     },
     "execution_count": 5,
     "metadata": {},
     "output_type": "execute_result"
    }
   ],
   "source": [
    "time.gmtime(1574869797)"
   ]
  },
  {
   "cell_type": "code",
   "execution_count": 6,
   "metadata": {},
   "outputs": [
    {
     "data": {
      "text/plain": [
       "time.struct_time(tm_year=2019, tm_mon=11, tm_mday=27, tm_hour=18, tm_min=49, tm_sec=57, tm_wday=2, tm_yday=331, tm_isdst=0)"
      ]
     },
     "execution_count": 6,
     "metadata": {},
     "output_type": "execute_result"
    }
   ],
   "source": [
    "time.localtime(1574869797)  # заметьте отличие в выводе значения tm_hour"
   ]
  },
  {
   "cell_type": "markdown",
   "metadata": {},
   "source": [
    "В отсутствии аргумента функции `gmtime()` и `localtime()` возвращают значение для текущего времени – соответственно UTC и местное время.\n",
    "\n",
    "Для преобразования объекта `struct_time` в секунды можно или передать сам объект, или кортеж целых чисел. Порядок элементов в кортеже:\n",
    "\n",
    "1. Год `tm_year`\n",
    "2. Месяц `tm_mon` – целое число (`1` - Январь, `12` - Декабрь)\n",
    "3. День месяца `tm_day`\n",
    "4. Час `tm_hour` – целое число в диапазоне от `0` до `23`\n",
    "5. Минута `tm_min`\n",
    "6. Секунда `tm_sec`\n",
    "7. День недели `tm_wday` – целое число от `0` (Понедельник) до `6` (Воскресенье)\n",
    "8. День года `tm_yday`\n",
    "9. Целочисленный флаг `tm_isdst` для учета перехода на [летнее время](https://ru.wikipedia.org/wiki/%D0%9B%D0%B5%D1%82%D0%BD%D0%B5%D0%B5_%D0%B2%D1%80%D0%B5%D0%BC%D1%8F) (daylight saving time, DST): `1` – переход на летнее время учитывается, `0` – не учитывается, `-1` – неизвестно"
   ]
  },
  {
   "cell_type": "code",
   "execution_count": 7,
   "metadata": {
    "scrolled": true
   },
   "outputs": [
    {
     "data": {
      "text/plain": [
       "1445401680.0"
      ]
     },
     "execution_count": 7,
     "metadata": {},
     "output_type": "execute_result"
    }
   ],
   "source": [
    "time.mktime((2015, 10, 21, 7, 28, 0, 2, 294, -1))"
   ]
  },
  {
   "cell_type": "markdown",
   "metadata": {},
   "source": [
    "![](img/ClockTower.jpg)\n",
    "\n",
    "Очевидно, что составлять такой кортеж вручную – задача неблагодарная, ведь нужно знать и день недели, и номер дня в году. Обычно используются «готовые» объекты (для «ручного» формирования дат удобнее применять описанный далее модуль `datetime`):"
   ]
  },
  {
   "cell_type": "code",
   "execution_count": 8,
   "metadata": {},
   "outputs": [
    {
     "data": {
      "text/plain": [
       "1575107026.0"
      ]
     },
     "execution_count": 8,
     "metadata": {},
     "output_type": "execute_result"
    }
   ],
   "source": [
    "time.mktime(time.localtime())"
   ]
  },
  {
   "cell_type": "markdown",
   "metadata": {},
   "source": [
    "Для перевода не местного, а международного времени в секунды необходимо использовать модуль `calendar`:"
   ]
  },
  {
   "cell_type": "code",
   "execution_count": 9,
   "metadata": {},
   "outputs": [
    {
     "data": {
      "text/plain": [
       "1575107026"
      ]
     },
     "execution_count": 9,
     "metadata": {},
     "output_type": "execute_result"
    }
   ],
   "source": [
    "calendar.timegm(time.gmtime())"
   ]
  },
  {
   "cell_type": "markdown",
   "metadata": {},
   "source": [
    "Заметим, что в отличие от представления в виде секунд, `struct_time` не хранит составляющих времени, меньших, чем секунда.\n",
    "\n",
    "Удобство использования `struct_time` заключается в том, что это [именованный кортеж](https://docs.python.org/3/library/collections.html#collections.namedtuple). Значит, можно писать более ясный код: вместо индексов элементы объекта можно вызвать по ключам с говорящими названиями:"
   ]
  },
  {
   "cell_type": "code",
   "execution_count": 10,
   "metadata": {},
   "outputs": [
    {
     "data": {
      "text/plain": [
       "'Итак, на дворе 2019-й год.'"
      ]
     },
     "execution_count": 10,
     "metadata": {},
     "output_type": "execute_result"
    }
   ],
   "source": [
    "t = time.localtime()\n",
    "'Итак, на дворе {}-й год.'.format(t.tm_year)"
   ]
  },
  {
   "cell_type": "markdown",
   "metadata": {},
   "source": [
    "Кроме вышеперечисленных параметров-меток, `struct_time` содержит скрытые. Так, местным законодательством каждой страны регулируется переход на летнее время. Узнать, действует ли сейчас летнее время, можно следующим образом (в России в 2014 году произведен переход на [постоянное «зимнее» время](https://ru.wikipedia.org/wiki/%D0%9B%D0%B5%D1%82%D0%BD%D0%B5%D0%B5_%D0%B2%D1%80%D0%B5%D0%BC%D1%8F#%D0%9F%D0%B5%D1%80%D0%B5%D1%85%D0%BE%D0%B4_%D0%BD%D0%B0_%D0%BF%D0%BE%D1%81%D1%82%D0%BE%D1%8F%D0%BD%D0%BD%D0%BE%D0%B5_%C2%AB%D0%B7%D0%B8%D0%BC%D0%BD%D0%B5%D0%B5%C2%BB_%D0%B2%D1%80%D0%B5%D0%BC%D1%8F)):"
   ]
  },
  {
   "cell_type": "code",
   "execution_count": 11,
   "metadata": {},
   "outputs": [
    {
     "data": {
      "text/plain": [
       "0"
      ]
     },
     "execution_count": 11,
     "metadata": {},
     "output_type": "execute_result"
    }
   ],
   "source": [
    "t.tm_isdst"
   ]
  },
  {
   "cell_type": "markdown",
   "metadata": {},
   "source": [
    "Считаем часовой пояс:"
   ]
  },
  {
   "cell_type": "code",
   "execution_count": 12,
   "metadata": {
    "scrolled": true
   },
   "outputs": [
    {
     "data": {
      "text/plain": [
       "'MSK'"
      ]
     },
     "execution_count": 12,
     "metadata": {},
     "output_type": "execute_result"
    }
   ],
   "source": [
    "t.tm_zone"
   ]
  },
  {
   "cell_type": "markdown",
   "metadata": {},
   "source": [
    "Смещение местного времени относительно UTC в секундах:"
   ]
  },
  {
   "cell_type": "code",
   "execution_count": 13,
   "metadata": {
    "scrolled": true
   },
   "outputs": [
    {
     "data": {
      "text/plain": [
       "10800"
      ]
     },
     "execution_count": 13,
     "metadata": {},
     "output_type": "execute_result"
    }
   ],
   "source": [
    "t.tm_gmtoff"
   ]
  },
  {
   "cell_type": "markdown",
   "metadata": {},
   "source": [
    "## 1.3. Строки временных меток\n",
    "\n",
    "![](img/Newspaper.jpg)\n",
    "\n",
    "Распространенная задача – преобразование объектов указанных типов в строки вида `timestamp`, например, `Mon Dec 2 18:30:20 2019`. Для этого применяются функции `ctime()` и `asctime()`:\n",
    "- `ctime()` – принимает время в секундах\n",
    "- `asctime()` – принимает `struct_time` (по умолчанию используется местное время)"
   ]
  },
  {
   "cell_type": "code",
   "execution_count": 14,
   "metadata": {},
   "outputs": [
    {
     "data": {
      "text/plain": [
       "'Sat Nov 30 12:43:46 2019'"
      ]
     },
     "execution_count": 14,
     "metadata": {},
     "output_type": "execute_result"
    }
   ],
   "source": [
    "time.ctime(time.time())  # преобразует время в секундах в timestamp для местного времени"
   ]
  },
  {
   "cell_type": "code",
   "execution_count": 15,
   "metadata": {},
   "outputs": [
    {
     "data": {
      "text/plain": [
       "'Sat Nov 30 12:43:46 2019'"
      ]
     },
     "execution_count": 15,
     "metadata": {},
     "output_type": "execute_result"
    }
   ],
   "source": [
    "time.asctime()  # Аналогично time.asctime(time.localtime())"
   ]
  },
  {
   "cell_type": "code",
   "execution_count": 16,
   "metadata": {
    "scrolled": true
   },
   "outputs": [
    {
     "data": {
      "text/plain": [
       "'Sat Nov 30 09:43:46 2019'"
      ]
     },
     "execution_count": 16,
     "metadata": {},
     "output_type": "execute_result"
    }
   ],
   "source": [
    "time.asctime(time.gmtime())  # Время UTC"
   ]
  },
  {
   "cell_type": "markdown",
   "metadata": {},
   "source": [
    "Хотя строковый вывод функций `ctime()` и `asctime()` довольно удобен, может потребоваться альтернативный формат. Для гибкого форматирования в библиотеку `time` включена функция `strftime()`. Функция принимает строку шаблона форматирования со спецификаторами и сам объект времени."
   ]
  },
  {
   "cell_type": "code",
   "execution_count": 17,
   "metadata": {},
   "outputs": [
    {
     "data": {
      "text/plain": [
       "'30.11.2019'"
      ]
     },
     "execution_count": 17,
     "metadata": {},
     "output_type": "execute_result"
    }
   ],
   "source": [
    "time.strftime('%d.%m.%Y', time.localtime())"
   ]
  },
  {
   "cell_type": "markdown",
   "metadata": {},
   "source": [
    "Функция `strftime()` также удобна для автоматической локализации строк."
   ]
  },
  {
   "cell_type": "code",
   "execution_count": 18,
   "metadata": {},
   "outputs": [
    {
     "data": {
      "text/plain": [
       "'Текущее время: Сб 30 ноя 2019 12:43:46'"
      ]
     },
     "execution_count": 18,
     "metadata": {},
     "output_type": "execute_result"
    }
   ],
   "source": [
    "import locale\n",
    "locale.setlocale(locale.LC_TIME, 'ru_RU.utf8')\n",
    "time.strftime('Текущее время: %c', time.localtime())"
   ]
  },
  {
   "cell_type": "markdown",
   "metadata": {},
   "source": [
    "Список [спецификаторов шаблона](https://docs.python.org/3/library/time.html#time.strftime):\n",
    "- `%a`, `%A` – аббревиатура и полное название дня недели (`Чт`, `Четверг`)\n",
    "- `%b`, `%B` – то же для месяца с учетом склонения (`ноя`, `ноября`)\n",
    "- `%с` – локализованная строка временной метки\n",
    "- `%d` – день месяца (`28`)\n",
    "- `%H`, `%I` – Час в 24- и 12-часовом представлении (`17`, `05`)\n",
    "- `%j` – номер дня года (в представлении от `001` до `366`)\n",
    "- `%m` – двузначное представление месяца (от `01` до `12`)\n",
    "- `%M` – двузначное представление минут (от `00` до `59`)\n",
    "- `%p` – местный эквивалент AM и PM\n",
    "- `%S` – двузначное представление секунд\n",
    "- `%W` – двузначное представление номера недели, первый день – Пн (`%U` для Вс)\n",
    "- `%w` – двузначное представление номера дня недели\n",
    "- `%x`, `%X` – принятый способ представления даты и времени.\n",
    "- `%y`, `%Y` – двузначное (без века) и четырехзначное представление года\n",
    "- `%z`, `%Z` – обозначение часового пояса в четырехзначном формате со знаком плюс или минус и в виде названия часового пояса\n",
    "\n",
    "Пример одновременного использования нескольких спецификаторов:"
   ]
  },
  {
   "cell_type": "code",
   "execution_count": 19,
   "metadata": {},
   "outputs": [
    {
     "name": "stdout",
     "output_type": "stream",
     "text": [
      "Сегодня Суббота, 30 ноября. В России эту дату обычно записывают\n",
      "следующим образом: 30.11.2019 или сокращенно: 30.11.19.\n",
      "Это 334 день года, 47 неделя. На часах 12:43:46.\n",
      "Часовой пояс: MSK.\n"
     ]
    }
   ],
   "source": [
    "s = \"\"\"Сегодня %A, %d %B. В России эту дату обычно записывают\n",
    "следующим образом: %x или сокращенно: %d.%m.%y.\n",
    "Это %j день года, %W неделя. На часах %X.\n",
    "Часовой пояс: %Z.\"\"\"\n",
    "\n",
    "print(time.strftime(s, time.localtime()))"
   ]
  },
  {
   "cell_type": "markdown",
   "metadata": {},
   "source": [
    "Что, если у нас есть строка, содержащая метку времени, а мы хотим распарсить ее в объект `struct_time`, чтобы обработать его в Python? Для этого есть функция `strptime()`. Первый аргумент – строка, второй – правило, описанное через те же спецификаторы:"
   ]
  },
  {
   "cell_type": "code",
   "execution_count": 20,
   "metadata": {},
   "outputs": [
    {
     "data": {
      "text/plain": [
       "time.struct_time(tm_year=2015, tm_mon=10, tm_mday=21, tm_hour=7, tm_min=28, tm_sec=0, tm_wday=2, tm_yday=294, tm_isdst=-1)"
      ]
     },
     "execution_count": 20,
     "metadata": {},
     "output_type": "execute_result"
    }
   ],
   "source": [
    "time.strptime('Окт 21 2015 07:28', '%b %d %Y %H:%M')"
   ]
  },
  {
   "cell_type": "markdown",
   "metadata": {},
   "source": [
    "Функция `strptime()` позволяет кратко задавать `struct_time`, не используя все девять позиций кортежа. Неизвестные элементы будут вычислены или на их место будут подставлены значения по умолчанию.\n",
    "\n",
    "## 1.4. Приостановка выполнения кода и оценка производительности\n",
    "\n",
    "![title](img/Clock2.jpg)\n",
    "\n",
    "Одна из наиболее часто используемых функций модуля `time` – функция `sleep()`, выполняющая задержку исполнения программного кода на переданное число секунд (можно использовать дробные значения):"
   ]
  },
  {
   "cell_type": "code",
   "execution_count": 21,
   "metadata": {
    "scrolled": false
   },
   "outputs": [
    {
     "name": "stdout",
     "output_type": "stream",
     "text": [
      "Текущее время: 12:43:46.\n",
      "Задержка...\n",
      "Прошло время.\n",
      "Текущее время: 12:43:51.\n"
     ]
    }
   ],
   "source": [
    "print(time.strftime('Текущее время: %X.'))\n",
    "print('Задержка...')\n",
    "time.sleep(5)\n",
    "print('Прошло время.')\n",
    "print(time.strftime('Текущее время: %X.'))"
   ]
  },
  {
   "cell_type": "markdown",
   "metadata": {},
   "source": [
    "Функция `sleep()` нередко используется для тестирования кода, намеренного внесения задержек на различных этапах выполнения программы.\n",
    "\n",
    "Для оценки производительности однократно запускаемых команд применяется функция `perf_counter()`, обеспечивающая лучшее разрешение по времени на коротких интервалах:"
   ]
  },
  {
   "cell_type": "code",
   "execution_count": 22,
   "metadata": {},
   "outputs": [
    {
     "name": "stdout",
     "output_type": "stream",
     "text": [
      "Выполнение longrunning_function() заняло 3.0036745540000993 c.\n",
      "Выполнение shortrunning_function() заняло 0.0005026269991503796 c.\n"
     ]
    }
   ],
   "source": [
    "def longrunning_function():\n",
    "    for i in range(3):\n",
    "        time.sleep(1)\n",
    "        \n",
    "def shortrunning_function():\n",
    "    n = 1\n",
    "    for i in range(2, 100):\n",
    "        n *= i\n",
    "\n",
    "start = time.perf_counter()\n",
    "longrunning_function()\n",
    "end = time.perf_counter()\n",
    "print(\"Выполнение longrunning_function() заняло {} c.\".format(end-start))\n",
    "\n",
    "start = time.perf_counter()\n",
    "shortrunning_function()\n",
    "end = time.perf_counter()\n",
    "print(\"Выполнение shortrunning_function() заняло {} c.\".format(end-start))"
   ]
  },
  {
   "cell_type": "markdown",
   "metadata": {},
   "source": [
    "В Python версии  3.7 добавлена функция `perf_counter_ns()` – работает так же, но время выводит в наносекундах, что удобнее для совсем малых интервалов времени и быстро исполняемых команд.\n",
    "\n",
    "Более удобные методы для измерения производительности фрагмента кодапредоставляет модуль `timeit`.\n",
    "\n",
    "# 2. Оценка производительности: timeit\n",
    "\n",
    "![title](img/DocRemoteControl.jpg)\n",
    "\n",
    "При выполнении программы в фоновом режиме запускается множество сторонних процессов. Модуль [timeit](https://docs.python.org/3.8/library/timeit.html) нивелирует неоднородность выполнения фрагмента за счет его многократного запуска.\n",
    "\n",
    "У модуля `timeit` есть интерфейс командной строки и интерфейс для вызова в коде. Во втором случае выводится время в секундах, которое длится общее количество запусков. Так как значение `number` по умолчанию составляет 1 млн повторений, можно считать, что при дефолтном запуске выводится среднее время операции в микросекундах. При вызове `timeit` в командной строке достаточное количество повторений определяется автоматически. \n",
    "\n",
    "Сравним скорость выполнения операция конкатенации при использовании генератора и функции `map()`:"
   ]
  },
  {
   "cell_type": "code",
   "execution_count": 23,
   "metadata": {},
   "outputs": [
    {
     "name": "stdout",
     "output_type": "stream",
     "text": [
      "100000 loops, best of 3: 14.8 usec per loop\r\n"
     ]
    }
   ],
   "source": [
    "#При запуске shell-команд в Jupyter в начале строки ставится \"!\"\n",
    "!python3 -m timeit '\"-\".join(str(n) for n in range(100))'"
   ]
  },
  {
   "cell_type": "code",
   "execution_count": 24,
   "metadata": {},
   "outputs": [
    {
     "name": "stdout",
     "output_type": "stream",
     "text": [
      "100000 loops, best of 3: 10 usec per loop\r\n"
     ]
    }
   ],
   "source": [
    "!python3 -m timeit '\"-\".join(map(str, range(100)))'"
   ]
  },
  {
   "cell_type": "markdown",
   "metadata": {},
   "source": [
    "Сравним с вызовом через интерпретатор Python:"
   ]
  },
  {
   "cell_type": "code",
   "execution_count": 25,
   "metadata": {},
   "outputs": [
    {
     "data": {
      "text/plain": [
       "15.119422227999166"
      ]
     },
     "execution_count": 25,
     "metadata": {},
     "output_type": "execute_result"
    }
   ],
   "source": [
    "timeit.timeit('\"-\".join(str(n) for n in range(100))')"
   ]
  },
  {
   "cell_type": "code",
   "execution_count": 26,
   "metadata": {
    "scrolled": true
   },
   "outputs": [
    {
     "data": {
      "text/plain": [
       "10.749531905999902"
      ]
     },
     "execution_count": 26,
     "metadata": {},
     "output_type": "execute_result"
    }
   ],
   "source": [
    "timeit.timeit('\"-\".join(map(str, range(100)))')"
   ]
  },
  {
   "cell_type": "markdown",
   "metadata": {},
   "source": [
    "Кроме куска кода, функции `timeit()` можно передать строку `setup`, однократно выполняемую перед началом повторения кода `stmt`. В `setup`, например, можно вынести импорт библиотек:"
   ]
  },
  {
   "cell_type": "code",
   "execution_count": 27,
   "metadata": {},
   "outputs": [
    {
     "data": {
      "text/plain": [
       "0.07861245100139058"
      ]
     },
     "execution_count": 27,
     "metadata": {},
     "output_type": "execute_result"
    }
   ],
   "source": [
    "mysetup = 'from math import sqrt'\n",
    "\n",
    "mycode = '''\n",
    "mylist = []\n",
    "for i in range(100):\n",
    "    mylist.append(sqrt(i))\n",
    "'''\n",
    "        \n",
    "timeit.timeit(stmt = mycode,\n",
    "              setup = mysetup,\n",
    "              number = 10000)"
   ]
  },
  {
   "cell_type": "markdown",
   "metadata": {},
   "source": [
    "В блокнотах Jupyter команда `timeit` относится к числу [магических](https://proglib.io/p/jupyter). С одним знаком процента она действует в пределах строки кода, с двумя – в границах ячейки:"
   ]
  },
  {
   "cell_type": "code",
   "execution_count": 28,
   "metadata": {},
   "outputs": [
    {
     "name": "stdout",
     "output_type": "stream",
     "text": [
      "16 µs ± 541 ns per loop (mean ± std. dev. of 7 runs, 100000 loops each)\n"
     ]
    }
   ],
   "source": [
    "%timeit s = \"-\".join(str(n) for n in range(100))"
   ]
  },
  {
   "cell_type": "code",
   "execution_count": 29,
   "metadata": {},
   "outputs": [
    {
     "name": "stdout",
     "output_type": "stream",
     "text": [
      "15.9 µs ± 328 ns per loop (mean ± std. dev. of 7 runs, 100000 loops each)\n"
     ]
    }
   ],
   "source": [
    "%%timeit\n",
    "mylist = []\n",
    "for i in range(100):\n",
    "    mylist.append(i**0.5)"
   ]
  },
  {
   "cell_type": "markdown",
   "metadata": {},
   "source": [
    "Магические команды `%time` и `%%time` делают те же операции без многократного повторения. Это приводит к завышенным результатам, но позволяет быстрее получить оценку производительности:"
   ]
  },
  {
   "cell_type": "code",
   "execution_count": 30,
   "metadata": {},
   "outputs": [
    {
     "name": "stdout",
     "output_type": "stream",
     "text": [
      "CPU times: user 22 µs, sys: 0 ns, total: 22 µs\n",
      "Wall time: 24.3 µs\n"
     ]
    }
   ],
   "source": [
    "%time s = \"-\".join(str(n) for n in range(100))"
   ]
  },
  {
   "cell_type": "code",
   "execution_count": 31,
   "metadata": {},
   "outputs": [
    {
     "name": "stdout",
     "output_type": "stream",
     "text": [
      "CPU times: user 31 µs, sys: 0 ns, total: 31 µs\n",
      "Wall time: 32.9 µs\n"
     ]
    }
   ],
   "source": [
    "%%time\n",
    "mylist = []\n",
    "for i in range(100):\n",
    "    mylist.append(i**0.5)"
   ]
  },
  {
   "cell_type": "markdown",
   "metadata": {},
   "source": [
    "# 3. Работа с датами: datetime\n",
    "\n",
    "![](img/MartyTime.jpg)\n",
    "\n",
    "Вернемся к вопросу перемещения во времени. [Модуль datetime](https://docs.python.org/3/library/datetime.html) поддерживает различные операции для работы с датами, в том числе арифметические, например, определение интервала времени между двумя днями.\n",
    "\n",
    "Структура представления времени в `datetime` похожа на `struct_time` в модуле `time`:"
   ]
  },
  {
   "cell_type": "code",
   "execution_count": 32,
   "metadata": {},
   "outputs": [
    {
     "data": {
      "text/plain": [
       "datetime.datetime(2019, 11, 30, 12, 44, 56, 416701)"
      ]
     },
     "execution_count": 32,
     "metadata": {},
     "output_type": "execute_result"
    }
   ],
   "source": [
    "t = datetime.datetime.now()\n",
    "t"
   ]
  },
  {
   "cell_type": "code",
   "execution_count": 33,
   "metadata": {},
   "outputs": [
    {
     "name": "stdout",
     "output_type": "stream",
     "text": [
      "2019-11-30 12:44:56.416701\n"
     ]
    }
   ],
   "source": [
    "print(t)"
   ]
  },
  {
   "cell_type": "markdown",
   "metadata": {},
   "source": [
    "Выведем отдельно дату и время:"
   ]
  },
  {
   "cell_type": "code",
   "execution_count": 34,
   "metadata": {},
   "outputs": [
    {
     "name": "stdout",
     "output_type": "stream",
     "text": [
      "Сегодня 2019-11-30. Время: 12:44:56.416701.\n"
     ]
    }
   ],
   "source": [
    "print('Сегодня {}. Время: {}.'.format(t.date(), t.time()))"
   ]
  },
  {
   "cell_type": "markdown",
   "metadata": {},
   "source": [
    "Аналогично извлекаются год, месяц и т.д.:"
   ]
  },
  {
   "cell_type": "code",
   "execution_count": 35,
   "metadata": {},
   "outputs": [
    {
     "data": {
      "text/plain": [
       "'Год 2019, месяц 11, день 30, 12 ч. 44 мин. 56 сек.'"
      ]
     },
     "execution_count": 35,
     "metadata": {},
     "output_type": "execute_result"
    }
   ],
   "source": [
    "\"Год {}, месяц {}, день {}, {} ч. {} мин. {} сек.\".format(t.year,\n",
    "                                                          t.month,\n",
    "                                                          t.day,\n",
    "                                                          t.hour,\n",
    "                                                          t.minute,\n",
    "                                                          t.second)"
   ]
  },
  {
   "cell_type": "markdown",
   "metadata": {},
   "source": [
    "Модуль `datetime` также удобен для «ручного» задания дат и автоматизации арифметических операций с датами. Например, мы можем узнать интервал времени между двумя датами:"
   ]
  },
  {
   "cell_type": "code",
   "execution_count": 36,
   "metadata": {},
   "outputs": [
    {
     "name": "stdout",
     "output_type": "stream",
     "text": [
      "10951 days, 22:28:00\n"
     ]
    }
   ],
   "source": [
    "today = datetime.datetime(year=1985, month=10, day=26, hour=21, minute=0)\n",
    "future = datetime.datetime(year=2015, month=10, day=21, hour=19, minute=28)\n",
    "delta = future-today\n",
    "print(delta)"
   ]
  },
  {
   "cell_type": "markdown",
   "metadata": {},
   "source": [
    "Добавление найденной разности к первой дате «возвращает» нас в будущее:"
   ]
  },
  {
   "cell_type": "code",
   "execution_count": 37,
   "metadata": {},
   "outputs": [
    {
     "name": "stdout",
     "output_type": "stream",
     "text": [
      "2015-10-21 19:28:00\n"
     ]
    }
   ],
   "source": [
    "print(today + delta)"
   ]
  },
  {
   "cell_type": "markdown",
   "metadata": {},
   "source": [
    "Узнаем, какое число будет через четыре недели. Для форматирования строк в модуле `datetime` имеется функция `strftime()` с близким функционалом и теми же спецификаторами, что и в модуле `time`:"
   ]
  },
  {
   "cell_type": "code",
   "execution_count": 38,
   "metadata": {},
   "outputs": [
    {
     "name": "stdout",
     "output_type": "stream",
     "text": [
      "Сегодня: 30.11.19\n",
      "Через 28 дней будет: 28.12.19\n"
     ]
    }
   ],
   "source": [
    "today = datetime.datetime.now()\n",
    "future = today + datetime.timedelta(days=28)\n",
    "f = '%d.%m.%y'\n",
    "print(today.strftime('Сегодня: ' + f))\n",
    "print(future.strftime('Через 28 дней будет: ' + f))"
   ]
  },
  {
   "cell_type": "markdown",
   "metadata": {},
   "source": [
    "Если вам важнее оперировать не датами, а неделями, днями недели, месяцами, то вам нужен модуль `calendar`."
   ]
  },
  {
   "cell_type": "markdown",
   "metadata": {},
   "source": [
    "# 4. Работа с календарем: calendar\n",
    "\n",
    "![](img/TrainDelorean.jpg)\n",
    "\n",
    "Модуль [calendar](https://docs.python.org/3.8/library/calendar.html) содержит функции для работы с календарем. В частности, умеет генерировать строки и HTML для вывода каленадарей месяцев и годов. Для наглядности напечатаем календарь на декабрь 2019 года:"
   ]
  },
  {
   "cell_type": "code",
   "execution_count": 39,
   "metadata": {},
   "outputs": [
    {
     "name": "stdout",
     "output_type": "stream",
     "text": [
      "    декабря 2019\n",
      "Пн Вт Ср Чт Пт Сб Вс\n",
      "                   1\n",
      " 2  3  4  5  6  7  8\n",
      " 9 10 11 12 13 14 15\n",
      "16 17 18 19 20 21 22\n",
      "23 24 25 26 27 28 29\n",
      "30 31\n"
     ]
    }
   ],
   "source": [
    "calendar.prmonth(2019, 12)"
   ]
  },
  {
   "cell_type": "markdown",
   "metadata": {},
   "source": [
    "Всё хорошо, кроме того, что в заголовке используется шаблон названия месяцев в родительном падеже (так он обозначен в указанной выше локали системы). Мы можем вручную переобозначить константу именования месяцев:"
   ]
  },
  {
   "cell_type": "code",
   "execution_count": 40,
   "metadata": {
    "scrolled": true
   },
   "outputs": [
    {
     "name": "stdout",
     "output_type": "stream",
     "text": [
      "    декабрь 2019\n",
      "Пн Вт Ср Чт Пт Сб Вс\n",
      "                   1\n",
      " 2  3  4  5  6  7  8\n",
      " 9 10 11 12 13 14 15\n",
      "16 17 18 19 20 21 22\n",
      "23 24 25 26 27 28 29\n",
      "30 31\n"
     ]
    }
   ],
   "source": [
    "# пустая строка в списке соответствует нулевому месяцу, первый месяц - январь\n",
    "month_names = ['', 'январь', 'февраль', 'март', 'апрель', 'май', 'июнь',\n",
    "'июль', 'август', 'сентябрь', 'октябрь', 'ноябрь', 'декабрь']\n",
    "\n",
    "calendar.month_name = month_names\n",
    "calendar.prmonth(2019, 12)"
   ]
  },
  {
   "cell_type": "markdown",
   "metadata": {},
   "source": [
    "Или использовать сокращения:"
   ]
  },
  {
   "cell_type": "code",
   "execution_count": 41,
   "metadata": {
    "scrolled": true
   },
   "outputs": [
    {
     "name": "stdout",
     "output_type": "stream",
     "text": [
      "      окт 1985\n",
      "Пн Вт Ср Чт Пт Сб Вс\n",
      "    1  2  3  4  5  6\n",
      " 7  8  9 10 11 12 13\n",
      "14 15 16 17 18 19 20\n",
      "21 22 23 24 25 26 27\n",
      "28 29 30 31\n"
     ]
    }
   ],
   "source": [
    "calendar.month_name = calendar.month_abbr\n",
    "calendar.prmonth(1985, 10)"
   ]
  },
  {
   "cell_type": "markdown",
   "metadata": {},
   "source": [
    "При помощи `calendar` можно не только «рисовать» календари, но и осуществлять итерации по их составляющим.\n",
    "\n",
    "В качестве примера рассмотрим следующую практическую задачу. Во многих музеях существует один день месяца, когда посещение музея для всех лиц или отдельных категорий граждан происходит без взимания платы. Например, в Эрмитаже это третий четверг месяца. Вычислим даты бесплатных дней посещения Эрмитажа на 2020 год:"
   ]
  },
  {
   "cell_type": "code",
   "execution_count": 42,
   "metadata": {},
   "outputs": [
    {
     "name": "stdout",
     "output_type": "stream",
     "text": [
      "16 янв, 20 фев, 19 мар, 16 апр, 21 мая, 18 июн, 16 июл, 20 авг, 17 сен, 15 окт, 19 ноя, 17 дек\n"
     ]
    }
   ],
   "source": [
    "free_days = []\n",
    "\n",
    "for i in range(1, 13):\n",
    "    c = calendar.monthcalendar(2020, i)\n",
    "    first_week = c[0]\n",
    "    third_week = c[2]\n",
    "    fourth_week = c[3]\n",
    "\n",
    "    # Если в первую неделю месяца есть четверг, то третий\n",
    "    # четверг должен быть на третьей неделе. Если нет, то\n",
    "    # на четвертой\n",
    "    if first_week[calendar.THURSDAY]:\n",
    "        free_day = third_week[calendar.THURSDAY]\n",
    "    else:\n",
    "        free_day = fourth_week[calendar.THURSDAY]\n",
    "    s = '{0} {1}'.format(free_day, calendar.month_name[i])\n",
    "    free_days.append(s)\n",
    "\n",
    "print(\", \".join(free_days))"
   ]
  },
  {
   "cell_type": "markdown",
   "metadata": {},
   "source": [
    "# 5. Сторонние библиотеки\n",
    "![title](img/Weird.jpg)"
   ]
  },
  {
   "cell_type": "markdown",
   "metadata": {},
   "source": [
    "Конечно, даже в самом подробном руководстве не описать всего, что рассказано в документациях встроенных библиотек. Если вам не хватает их функционала, имеется ряд сторонних решений:\n",
    "- [dateutil](https://github.com/dateutil/dateutil) – расширение стандартного модуля datetime для более специфичных операций, например, парсинга дат и их составляющих\n",
    "- [pytz](http://pytz.sourceforge.net/) – для сложных манипуляций с часовыми поясами и летним временем\n",
    "- [delorean](https://delorean.readthedocs.io/en/latest/) – библиотека, названная в честь машины времени из фильма «Назад в будущее», упрощающая операции с датами\n",
    "- [arrow](https://arrow.readthedocs.io/en/latest/) – библиотека, стремящаяся заменить собой все вышеперечисленные, объединив их лучшие качества и заполнив пробелы\n",
    "- [astropy](https://www.astropy.org/) – выполнение астрономических расчётов\n",
    "- [tqdm](https://github.com/tqdm/tqdm) – создание текстовых и интерактивных виджетов, отображающих процент выполнения длительного процесса (в том числе в Jupyter)\n",
    "\n",
    "Напишите, если вы знаете другие полезные библиотеки для управления временем в Python."
   ]
  },
  {
   "cell_type": "code",
   "execution_count": null,
   "metadata": {},
   "outputs": [],
   "source": []
  }
 ],
 "metadata": {
  "kernelspec": {
   "display_name": "Python 3",
   "language": "python",
   "name": "python3"
  },
  "language_info": {
   "codemirror_mode": {
    "name": "ipython",
    "version": 3
   },
   "file_extension": ".py",
   "mimetype": "text/x-python",
   "name": "python",
   "nbconvert_exporter": "python",
   "pygments_lexer": "ipython3",
   "version": "3.6.9"
  }
 },
 "nbformat": 4,
 "nbformat_minor": 2
}
