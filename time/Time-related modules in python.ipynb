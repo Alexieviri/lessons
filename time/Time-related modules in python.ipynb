{
 "cells": [
  {
   "cell_type": "markdown",
   "metadata": {},
   "source": [
    "План работы над уроком:\n",
    "- Ради фана - использовать даты из Назад в Будущее - 19 часов 28 минут 21 октября 2015 года - подобрать с помощью strptime соответствующие `struct_time`. Сделать папку с уроком, чтобы ссылаться на упражнения.\n",
    "- Дать ссылки на документации модулей - в описании библиотек\n",
    "- Модуль timeit\n",
    "- Раздел о таймбарах и схожих элементах - в командной строке и jupyter progressbar, tqdm\n",
    "- perf_counter()\n",
    "- time_ns() - начиная с 3.7\n",
    "- time.pthread_getcpuclockid(thread_id)\n",
    "- в конце работы - опписать содержание блокнота для удобства перемещения по нему\n",
    "- astropy и подобные - просто ссылки с краткими пояснениями"
   ]
  },
  {
   "cell_type": "markdown",
   "metadata": {},
   "source": [
    "В этом блокноте я постарался обобщить сведения по работе с различными библиотеками Python, оперирующими временем, временными метками и т.п."
   ]
  },
  {
   "cell_type": "markdown",
   "metadata": {},
   "source": [
    "# Назад в будущее: практическое руководство по перемещению во времени с Python\n",
    "\n",
    "\n",
    "В Python несколько библиотек для работы со временем и интервалами времени: time, datatime, calendar, timeit. Но когда какую бибиотеку использовать? Подробно объясняем на примерах.\n",
    "\n",
    "Подготовлено при поддержке [proglib](https://proglib.io/)."
   ]
  },
  {
   "cell_type": "markdown",
   "metadata": {},
   "source": [
    "Функции, связанные со временем, распределены во встроенных модулях Python 3 довольно компактно. Однако наблюдаются и некоторые пересечения. Для начала импортируем встроенные библиотеки:"
   ]
  },
  {
   "cell_type": "code",
   "execution_count": 1,
   "metadata": {},
   "outputs": [],
   "source": [
    "import time\n",
    "import timeit\n",
    "import datetime\n",
    "import calendar"
   ]
  },
  {
   "cell_type": "markdown",
   "metadata": {},
   "source": [
    "Вам нужен модуль `time`, если:\n",
    "- код оперирует секундами, или еще меньшими отрезками времени ( милли-, микро-, наносекундами)\n",
    "- нужно обрабатывать вывод и считывание строк, содержащих элементы времени, например, строки вида `Nov 12 1955 06:38`\n",
    "- нужна программная остановка выполнения кода программы на определенное время\n",
    "\n",
    "Вам нужен модуль `datetime`, если:\n",
    "- Если ваш код предполагает большой объем работы с датами, разумнее использовать встроенный модуль `datetime`."
   ]
  },
  {
   "cell_type": "markdown",
   "metadata": {},
   "source": [
    "# 1. Работа с временной шкалой: модуль time\n",
    "\n",
    "## 1.1. Понятие epoch\n",
    "\n",
    "Работа с модулем time в существенной мере зависит от операционной системы, так как время привязано к фиксированной начальной точке –  эпохе (epoch). Чтобы узнать эту начальную точку:"
   ]
  },
  {
   "cell_type": "code",
   "execution_count": 2,
   "metadata": {
    "scrolled": false
   },
   "outputs": [
    {
     "data": {
      "text/plain": [
       "time.struct_time(tm_year=1970, tm_mon=1, tm_mday=1, tm_hour=0, tm_min=0, tm_sec=0, tm_wday=3, tm_yday=1, tm_isdst=0)"
      ]
     },
     "execution_count": 2,
     "metadata": {},
     "output_type": "execute_result"
    }
   ],
   "source": [
    "time.gmtime(0)"
   ]
  },
  {
   "cell_type": "markdown",
   "metadata": {},
   "source": [
    "Например, в Unix-системах мы получим **объект** `time.struct_time(tm_year=1970, tm_mon=1, tm_mday=1, tm_hour=0, tm_min=0, tm_sec=0, tm_wday=3, tm_yday=1, tm_isdst=0)`. То есть точкой отсчета в этом случае является 1 января 1970 г."
   ]
  },
  {
   "cell_type": "markdown",
   "metadata": {},
   "source": [
    "Время, прошедшее с начала эпохи отображается в **секундах** (`seconds since the epoch`):"
   ]
  },
  {
   "cell_type": "code",
   "execution_count": 3,
   "metadata": {
    "scrolled": true
   },
   "outputs": [
    {
     "data": {
      "text/plain": [
       "1574953382.7262268"
      ]
     },
     "execution_count": 3,
     "metadata": {},
     "output_type": "execute_result"
    }
   ],
   "source": [
    "В каких случаях используетсяtime.time()"
   ]
  },
  {
   "cell_type": "markdown",
   "metadata": {},
   "source": [
    "Так как понятие эпохи для разных систем может отличаться, на разных операционных системах число секунд, возвращаемое функцией `time()` может быть различным.\n",
    "\n",
    "Время до точки `epoch` тоже существует, но значения секунд `seconds since the epoch` отрицательны:"
   ]
  },
  {
   "cell_type": "code",
   "execution_count": 4,
   "metadata": {
    "scrolled": true
   },
   "outputs": [
    {
     "data": {
      "text/plain": [
       "time.struct_time(tm_year=1966, tm_mon=10, tm_mday=31, tm_hour=14, tm_min=13, tm_sec=20, tm_wday=0, tm_yday=304, tm_isdst=0)"
      ]
     },
     "execution_count": 4,
     "metadata": {},
     "output_type": "execute_result"
    }
   ],
   "source": [
    "time.gmtime(-10**8)"
   ]
  },
  {
   "cell_type": "markdown",
   "metadata": {},
   "source": [
    "## 1.2. Секунды, struct_time и преобразование друг в друга\n",
    "\n",
    "![title](img/Clock.png)"
   ]
  },
  {
   "cell_type": "markdown",
   "metadata": {},
   "source": [
    "Как видно, из предыдущего раздела, модуль `time` оперирует двумя основными типами объектов: `struct_time` и секундами с начала эпохи. Для преобразований от одного типа к другому имеются следующие функции:\n",
    "\n",
    "- `gmtime()`: секунды в `struct_time` UTC \n",
    "- `localtime()`: секунды в `struct_time` для местного времени \n",
    "- `calendar.timegm()` (не модуль time): struct_time UTC в секунды \n",
    "- `mktime()`: `struct_time` локального времени в секунды \n",
    "\n",
    "UTC – стандартное обозначение [всемирного координированного времени](https://ru.wikipedia.org/wiki/%D0%92%D1%81%D0%B5%D0%BC%D0%B8%D1%80%D0%BD%D0%BE%D0%B5_%D0%BA%D0%BE%D0%BE%D1%80%D0%B4%D0%B8%D0%BD%D0%B8%D1%80%D0%BE%D0%B2%D0%B0%D0%BD%D0%BD%D0%BE%D0%B5_%D0%B2%D1%80%D0%B5%D0%BC%D1%8F) без учета [часовых поясов](https://ru.wikipedia.org/wiki/%D0%A7%D0%B0%D1%81%D0%BE%D0%B2%D0%BE%D0%B9_%D0%BF%D0%BE%D1%8F%D1%81). Начало отсчета `epoch` привязано к UTC, то есть не зависит от местного времени."
   ]
  },
  {
   "cell_type": "code",
   "execution_count": 5,
   "metadata": {},
   "outputs": [
    {
     "data": {
      "text/plain": [
       "time.struct_time(tm_year=2019, tm_mon=11, tm_mday=27, tm_hour=15, tm_min=49, tm_sec=57, tm_wday=2, tm_yday=331, tm_isdst=0)"
      ]
     },
     "execution_count": 5,
     "metadata": {},
     "output_type": "execute_result"
    }
   ],
   "source": [
    "time.gmtime(1574869797)"
   ]
  },
  {
   "cell_type": "code",
   "execution_count": 6,
   "metadata": {},
   "outputs": [
    {
     "data": {
      "text/plain": [
       "time.struct_time(tm_year=2019, tm_mon=11, tm_mday=27, tm_hour=18, tm_min=49, tm_sec=57, tm_wday=2, tm_yday=331, tm_isdst=0)"
      ]
     },
     "execution_count": 6,
     "metadata": {},
     "output_type": "execute_result"
    }
   ],
   "source": [
    "time.localtime(1574869797)  # заметьте отличие в выводе значения tm_hour"
   ]
  },
  {
   "cell_type": "markdown",
   "metadata": {},
   "source": [
    "В отсутствии аргумента функции `gmtime` и `localtime` возвращают значение для текущего времени (соответственно UTC и местное время).\n",
    "\n",
    "Для преобразования `struct_time` в секунды, можно или передать сам объект, или кортеж целых чисел. Кортеж элементов соответствует тому же порядку:\n",
    "\n",
    "1. Год `tm_year`\n",
    "2. Месяц `tm_mon` – целое число (`1` - Январь, `12` - Декабрь)\n",
    "3. День месяца `tm_day`\n",
    "4. Час `tm_hour` – целое число в диапазоне от `0` до `23`\n",
    "5. Минута `tm_min`\n",
    "6. Секунда `tm_sec`\n",
    "7. День недели `tm_wday` – целое число от `0` (Понедельник) до `6` (Воскресенье)\n",
    "8. День года `tm_yday`\n",
    "9. Целочисленный флаг `tm_isdst` для учета перехода на [летнее время](https://ru.wikipedia.org/wiki/%D0%9B%D0%B5%D1%82%D0%BD%D0%B5%D0%B5_%D0%B2%D1%80%D0%B5%D0%BC%D1%8F) (daylight saving time, DST): `1` - переход на летнее время учитывается, `0` - не учитывается, `-1` - неизвестно"
   ]
  },
  {
   "cell_type": "code",
   "execution_count": 7,
   "metadata": {
    "scrolled": true
   },
   "outputs": [
    {
     "data": {
      "text/plain": [
       "1574858997.0"
      ]
     },
     "execution_count": 7,
     "metadata": {},
     "output_type": "execute_result"
    }
   ],
   "source": [
    "time.mktime((2019, 11, 27, 15, 49, 57, 2, 331, 0))  # значения соответствуют кортежу localtime"
   ]
  },
  {
   "cell_type": "code",
   "execution_count": 8,
   "metadata": {},
   "outputs": [
    {
     "data": {
      "text/plain": [
       "1574953382.0"
      ]
     },
     "execution_count": 8,
     "metadata": {},
     "output_type": "execute_result"
    }
   ],
   "source": [
    "time.mktime(time.localtime())"
   ]
  },
  {
   "cell_type": "markdown",
   "metadata": {},
   "source": [
    "Для перевода не местного, а международного времени в секунды необходимо использовать модуль `calendar`:"
   ]
  },
  {
   "cell_type": "code",
   "execution_count": 9,
   "metadata": {},
   "outputs": [
    {
     "data": {
      "text/plain": [
       "1574953382"
      ]
     },
     "execution_count": 9,
     "metadata": {},
     "output_type": "execute_result"
    }
   ],
   "source": [
    "calendar.timegm(time.gmtime())"
   ]
  },
  {
   "cell_type": "markdown",
   "metadata": {},
   "source": [
    "Заметим, что в отличие от представления в виде секунд, ни `struct_time`, ни соответствующий кортеж, не предполагают отображения значений времени, меньших, чем секунда.\n",
    "\n",
    "Удобство применения `struct_time` заключается в том, что его структура соответствует [именнованному кортежу](https://docs.python.org/3/library/collections.html#collections.namedtuple). Это позволяет писать более ясный код: элементы объекта можно вызывать независимо по меткам с  говорящими названиями вместо индексов:"
   ]
  },
  {
   "cell_type": "code",
   "execution_count": 10,
   "metadata": {},
   "outputs": [
    {
     "data": {
      "text/plain": [
       "'Итак, на дворе 2019-й год.'"
      ]
     },
     "execution_count": 10,
     "metadata": {},
     "output_type": "execute_result"
    }
   ],
   "source": [
    "t = time.localtime()\n",
    "'Итак, на дворе {}-й год.'.format(t.tm_year)"
   ]
  },
  {
   "cell_type": "markdown",
   "metadata": {},
   "source": [
    "Кроме вышеперечисленных параметров, `struct_time` содержит дополнительные. Важно помнить, что кроме часовых поясов, в каждой отдельной стране местным законодательством регулируется переход на летнее время. Начиная с версии Python 3.6, узнать действует ли сейчас летнее время (в России в 2014 году произведен переход на [постоянное «зимнее» время](https://ru.wikipedia.org/wiki/%D0%9B%D0%B5%D1%82%D0%BD%D0%B5%D0%B5_%D0%B2%D1%80%D0%B5%D0%BC%D1%8F#%D0%9F%D0%B5%D1%80%D0%B5%D1%85%D0%BE%D0%B4_%D0%BD%D0%B0_%D0%BF%D0%BE%D1%81%D1%82%D0%BE%D1%8F%D0%BD%D0%BD%D0%BE%D0%B5_%C2%AB%D0%B7%D0%B8%D0%BC%D0%BD%D0%B5%D0%B5%C2%BB_%D0%B2%D1%80%D0%B5%D0%BC%D1%8F):"
   ]
  },
  {
   "cell_type": "code",
   "execution_count": 11,
   "metadata": {},
   "outputs": [
    {
     "data": {
      "text/plain": [
       "0"
      ]
     },
     "execution_count": 11,
     "metadata": {},
     "output_type": "execute_result"
    }
   ],
   "source": [
    "t.tm_isdst"
   ]
  },
  {
   "cell_type": "markdown",
   "metadata": {},
   "source": [
    "Считаем часовой пояс:"
   ]
  },
  {
   "cell_type": "code",
   "execution_count": 12,
   "metadata": {
    "scrolled": true
   },
   "outputs": [
    {
     "data": {
      "text/plain": [
       "'MSK'"
      ]
     },
     "execution_count": 12,
     "metadata": {},
     "output_type": "execute_result"
    }
   ],
   "source": [
    "t.tm_zone"
   ]
  },
  {
   "cell_type": "markdown",
   "metadata": {},
   "source": [
    "Смещение местного времени относительно UTC в секундах:"
   ]
  },
  {
   "cell_type": "code",
   "execution_count": 13,
   "metadata": {
    "scrolled": true
   },
   "outputs": [
    {
     "data": {
      "text/plain": [
       "10800"
      ]
     },
     "execution_count": 13,
     "metadata": {},
     "output_type": "execute_result"
    }
   ],
   "source": [
    "t.tm_gmtoff"
   ]
  },
  {
   "cell_type": "markdown",
   "metadata": {},
   "source": [
    "## 1.3. Строки временных меток\n",
    "\n",
    "![](img/Newspaper.png)\n",
    "\n",
    "Популярно также преобразование типов в строки вида `timestamp`, например, `Tue Nov 26 18:30:20 2019`. Для этого применяются функции `ctime()` и `asctime()`:\n",
    "- `ctime()` – принимает время в секундах\n",
    "- `asctime()` – принимает `struct_time` (по умолчанию используется местное время)"
   ]
  },
  {
   "cell_type": "code",
   "execution_count": 14,
   "metadata": {},
   "outputs": [
    {
     "data": {
      "text/plain": [
       "'Thu Nov 28 18:03:02 2019'"
      ]
     },
     "execution_count": 14,
     "metadata": {},
     "output_type": "execute_result"
    }
   ],
   "source": [
    "time.ctime(time.time())  # преобразует время в секундах в timestamp для местного времени"
   ]
  },
  {
   "cell_type": "code",
   "execution_count": 15,
   "metadata": {},
   "outputs": [
    {
     "data": {
      "text/plain": [
       "'Thu Nov 28 18:03:02 2019'"
      ]
     },
     "execution_count": 15,
     "metadata": {},
     "output_type": "execute_result"
    }
   ],
   "source": [
    "time.asctime()  # Аналогично time.asctime(time.localtime())"
   ]
  },
  {
   "cell_type": "code",
   "execution_count": 16,
   "metadata": {
    "scrolled": true
   },
   "outputs": [
    {
     "data": {
      "text/plain": [
       "'Thu Nov 28 15:03:02 2019'"
      ]
     },
     "execution_count": 16,
     "metadata": {},
     "output_type": "execute_result"
    }
   ],
   "source": [
    "time.asctime(time.gmtime())  # Время UTC"
   ]
  },
  {
   "cell_type": "markdown",
   "metadata": {},
   "source": [
    "Хотя строковый вывод функций `ctime()` и `asctime()` довольно удобен, может потребоваться альтернативный формат. Для гибкого форматирования в библиотеку `time` включена функция `strftime()`. Функция принимает строку шаблона форматирования со спецификаторами и сам объект времени."
   ]
  },
  {
   "cell_type": "code",
   "execution_count": 17,
   "metadata": {},
   "outputs": [
    {
     "data": {
      "text/plain": [
       "'28.11.2019'"
      ]
     },
     "execution_count": 17,
     "metadata": {},
     "output_type": "execute_result"
    }
   ],
   "source": [
    "time.strftime('%d.%m.%Y', time.localtime())"
   ]
  },
  {
   "cell_type": "markdown",
   "metadata": {},
   "source": [
    "Функция `strftime()` также удобна для автоматической локализации строк."
   ]
  },
  {
   "cell_type": "code",
   "execution_count": 18,
   "metadata": {},
   "outputs": [
    {
     "data": {
      "text/plain": [
       "'Текущее время: Чт 28 ноя 2019 18:03:02'"
      ]
     },
     "execution_count": 18,
     "metadata": {},
     "output_type": "execute_result"
    }
   ],
   "source": [
    "import locale\n",
    "locale.setlocale(locale.LC_TIME, 'ru_RU.utf8')\n",
    "time.strftime('Текущее время: %c', time.localtime())"
   ]
  },
  {
   "cell_type": "markdown",
   "metadata": {},
   "source": [
    "Список [спецификаторов шаблона](https://docs.python.org/3/library/time.html#time.strftime):\n",
    "- `%a`, `%A` – аббревиатура и полное название дня недели (`Чт`, `Четверг`)\n",
    "- `%b`, `%B` – то же для месяца с учетом склонения (`ноя`, `ноября`)\n",
    "- `%с` – локализованная строка временной метки\n",
    "- `%d` – день месяца (`28`)\n",
    "- `%H`, `%I` – Час в 24- и 12-часовом представлении (`17`, `05`)\n",
    "- `%j` – номер дня года (в представлении от `001` до `366`)\n",
    "- `%m` – двузначное представление месяца (от `01` до `12`)\n",
    "- `%M` – двузначное представление минут (от `00` до `59`)\n",
    "- `%p` – местный эквивалент AM и PM\n",
    "- `%S` – двузначное представление секунд\n",
    "- `%W` – двузначное представление номера недели, первый день – Пн (`%U` для Вс)\n",
    "- `%w` – двузначное представление номера дня недели\n",
    "- `%x`, `%X` – принятый способ представления даты и времени.\n",
    "- `%y`, `%Y` – двуназначное (без века) и четырехзначное представление года\n",
    "- `%z`, `%Z` – обозначение часового пояса в четырехзначном формате со знаком плюс или минус и в виде названия часового пояса\n",
    "\n",
    "Пример одновременного использования нескольких спецификаторов:"
   ]
  },
  {
   "cell_type": "code",
   "execution_count": 19,
   "metadata": {},
   "outputs": [
    {
     "name": "stdout",
     "output_type": "stream",
     "text": [
      "Сегодня Четверг, 28 ноября. В России эту дату обычно записывают\n",
      "следующим образом: 28.11.2019 или сокращенно: 28.11.19.\n",
      "Это 332 день года, 47 неделя. На часах 18:03:02.\n",
      "Часовой пояс: MSK.\n"
     ]
    }
   ],
   "source": [
    "s = \"\"\"Сегодня %A, %d %B. В России эту дату обычно записывают\n",
    "следующим образом: %x или сокращенно: %d.%m.%y.\n",
    "Это %j день года, %W неделя. На часах %X.\n",
    "Часовой пояс: %Z.\"\"\"\n",
    "\n",
    "print(time.strftime(s, time.localtime()))"
   ]
  },
  {
   "cell_type": "markdown",
   "metadata": {},
   "source": [
    "Что, если у нас есть строка, содержащая метку времени, а мы хотим распарсить ее в объект `struct_time`, чтобы обработать его в Python? Для этого есть функция `strptime()`. Первый аргумент – строка, второй – правило, описанное через те же спецификаторы:"
   ]
  },
  {
   "cell_type": "code",
   "execution_count": 22,
   "metadata": {},
   "outputs": [
    {
     "data": {
      "text/plain": [
       "time.struct_time(tm_year=2019, tm_mon=11, tm_mday=29, tm_hour=0, tm_min=0, tm_sec=0, tm_wday=4, tm_yday=333, tm_isdst=-1)"
      ]
     },
     "execution_count": 22,
     "metadata": {},
     "output_type": "execute_result"
    }
   ],
   "source": [
    "time.strptime('29.11.19', '%d.%m.%y')"
   ]
  },
  {
   "cell_type": "markdown",
   "metadata": {},
   "source": [
    "Функция `strptime()` в частности позволяет кратко задавать `struct_time`, не используя все девять позиций кортежа. Неизвестные элементы будут вычислены или на их место будут подставлены значения по умолчанию.\n",
    "\n",
    "## 1.4. Приостановка выполнения кода и оценка производительности\n",
    "\n",
    "![title](img/Clock2.jpg)\n",
    "\n",
    "Одна из наиболее часто используемых функций модуля `time` – функция `sleep()`, выполняющая задержку исполнения программного кода на переданное число секунд (можно использовать дробные значения):"
   ]
  },
  {
   "cell_type": "code",
   "execution_count": 30,
   "metadata": {
    "scrolled": false
   },
   "outputs": [
    {
     "name": "stdout",
     "output_type": "stream",
     "text": [
      "Текущее время: 19:32:36.\n",
      "Задержка...\n",
      "Прошло время.\n",
      "Текущее время: 19:32:41.\n"
     ]
    }
   ],
   "source": [
    "print(time.strftime('Текущее время: %X.'))\n",
    "print('Задержка...')\n",
    "time.sleep(5)\n",
    "print('Прошло время.')\n",
    "print(time.strftime('Текущее время: %X.'))"
   ]
  },
  {
   "cell_type": "markdown",
   "metadata": {},
   "source": [
    "Функция `sleep()` нередко используется для тестирования кода, намеренного внесения задержек на различных этапах работы кода.\n",
    "\n",
    "Для оценки производительности однократно запускаемых команд, можно использовать функцию `perf_counter()`, которая обеспечивает лучшее разрешение по времени на коротких интервалов времени, нежеле функция `time`:"
   ]
  },
  {
   "cell_type": "code",
   "execution_count": 49,
   "metadata": {},
   "outputs": [
    {
     "name": "stdout",
     "output_type": "stream",
     "text": [
      "Выполнение longrunning_function() заняло 3.0042153210015385 c.\n",
      "Выполнение shortrunning_function() заняло 0.0002610590017866343 c.\n"
     ]
    }
   ],
   "source": [
    "def longrunning_function():\n",
    "    for i in range(3):\n",
    "        time.sleep(1)\n",
    "        \n",
    "def shortrunning_function():\n",
    "    n = 1\n",
    "    for i in range(2, 100):\n",
    "        n *= i\n",
    "\n",
    "start = time.perf_counter()\n",
    "longrunning_function()\n",
    "end = time.perf_counter()\n",
    "print(\"Выполнение longrunning_function() заняло {} c.\".format(end-start))\n",
    "\n",
    "start = time.perf_counter()\n",
    "shortrunning_function()\n",
    "end = time.perf_counter()\n",
    "print(\"Выполнение shortrunning_function() заняло {} c.\".format(end-start))"
   ]
  },
  {
   "cell_type": "markdown",
   "metadata": {},
   "source": [
    "В версиии 3.7 (и выше) добавлена функция `perf_counter_ns()` – работает так же, но время выводит в наносекундах, что удобнее для совсем малых интервалов времени и быстро исполняемых команд.\n",
    "\n",
    "Однако, если вы пытаетесь точно измерить производительность фрагмента кода, мы рекомендуем использовать модуль `timeit`."
   ]
  },
  {
   "cell_type": "markdown",
   "metadata": {},
   "source": [
    "# 2. Оценка производительности: timeit\n",
    "\n",
    "![title](img/DocRemoteControl.jpg)"
   ]
  },
  {
   "cell_type": "code",
   "execution_count": null,
   "metadata": {},
   "outputs": [],
   "source": []
  },
  {
   "cell_type": "markdown",
   "metadata": {},
   "source": [
    "# 3. Работа с датами: datetime\n",
    "\n",
    "![title](img/MartyTime.jpg)\n",
    "\n",
    "Когда использовать модуль:\n",
    "- Если вам важны даты, а не секунды\n",
    "- Если вам важны интервалы между отметками времени разных дат\n",
    "документация библиотеки"
   ]
  },
  {
   "cell_type": "markdown",
   "metadata": {},
   "source": [
    "## 3.Х. Интервалы времени timedelta"
   ]
  },
  {
   "cell_type": "markdown",
   "metadata": {},
   "source": [
    "# 4. Работа с календарем: calendar"
   ]
  },
  {
   "cell_type": "markdown",
   "metadata": {},
   "source": [
    "# 5. Другие встроенные модули, связанные со временем\n",
    "![](ClockTower.pg)"
   ]
  },
  {
   "cell_type": "markdown",
   "metadata": {},
   "source": [
    "# 6. Сторонние библиотеки\n",
    "![title](img/Weird.jpg)"
   ]
  },
  {
   "cell_type": "markdown",
   "metadata": {},
   "source": [
    "## 7. Таймбары\n",
    "\n",
    "![](img/Bar.jpeg)"
   ]
  },
  {
   "cell_type": "markdown",
   "metadata": {},
   "source": []
  },
  {
   "cell_type": "code",
   "execution_count": null,
   "metadata": {},
   "outputs": [],
   "source": []
  },
  {
   "cell_type": "markdown",
   "metadata": {},
   "source": [
    "# Резюме"
   ]
  },
  {
   "cell_type": "markdown",
   "metadata": {},
   "source": [
    "Источники"
   ]
  },
  {
   "cell_type": "markdown",
   "metadata": {},
   "source": [
    "- https://realpython.com/python-time-module/"
   ]
  }
 ],
 "metadata": {
  "kernelspec": {
   "display_name": "Python 3",
   "language": "python",
   "name": "python3"
  },
  "language_info": {
   "codemirror_mode": {
    "name": "ipython",
    "version": 3
   },
   "file_extension": ".py",
   "mimetype": "text/x-python",
   "name": "python",
   "nbconvert_exporter": "python",
   "pygments_lexer": "ipython3",
   "version": "3.6.8"
  }
 },
 "nbformat": 4,
 "nbformat_minor": 2
}
