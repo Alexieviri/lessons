{
 "cells": [
  {
   "cell_type": "markdown",
   "metadata": {},
   "source": [
    "# Знакомство с mystem\n",
    "\n",
    "Решим задачу из курса Stepik [Введение в обработку естественного языка](https://stepik.org/course/1233), раздел Морфологический анализ (https://stepik.org/lesson/42531/step/11?unit=20778).\n",
    "\n",
    "```\n",
    "Замените слова в предложении на пару лемма|часть_речи, используйте набор частеречных тегов mystem:\n",
    "\n",
    "Под круглым прозрачным колпаком из неравномерно утолщающегося книзу стекла сияли торсионные весы\n",
    "\n",
    "(Людмила Улицкая. Казус Кукоцкого)\n",
    "\n",
    "Пример: Я иду в кино --> я|SPRO идти|V в|PR кино|S\n",
    "```"
   ]
  },
  {
   "cell_type": "markdown",
   "metadata": {},
   "source": [
    "Для установки Python-оболочки mystem достаточно использовать pip:"
   ]
  },
  {
   "cell_type": "code",
   "execution_count": 1,
   "metadata": {},
   "outputs": [
    {
     "name": "stdout",
     "output_type": "stream",
     "text": [
      "Collecting pymystem3\n",
      "  Downloading pymystem3-0.2.0-py3-none-any.whl (10 kB)\n",
      "Requirement already satisfied: requests in /home/leo/anaconda3/lib/python3.7/site-packages (from pymystem3) (2.24.0)\n",
      "Requirement already satisfied: certifi>=2017.4.17 in /home/leo/anaconda3/lib/python3.7/site-packages (from requests->pymystem3) (2020.6.20)\n",
      "Requirement already satisfied: urllib3!=1.25.0,!=1.25.1,<1.26,>=1.21.1 in /home/leo/anaconda3/lib/python3.7/site-packages (from requests->pymystem3) (1.25.9)\n",
      "Requirement already satisfied: idna<3,>=2.5 in /home/leo/anaconda3/lib/python3.7/site-packages (from requests->pymystem3) (2.10)\n",
      "Requirement already satisfied: chardet<4,>=3.0.2 in /home/leo/anaconda3/lib/python3.7/site-packages (from requests->pymystem3) (3.0.4)\n",
      "Installing collected packages: pymystem3\n",
      "Successfully installed pymystem3-0.2.0\n"
     ]
    }
   ],
   "source": [
    "!pip install pymystem3"
   ]
  },
  {
   "cell_type": "code",
   "execution_count": 2,
   "metadata": {},
   "outputs": [],
   "source": [
    "import re\n",
    "from pymystem3 import Mystem\n",
    "m = Mystem()\n",
    "\n",
    "text = \"Под круглым прозрачным колпаком из неравномерно утолщающегося книзу стекла сияли торсионные весы\"\n",
    "\n",
    "s = []\n",
    "\n",
    "for res in m.analyze(text):    \n",
    "    try:\n",
    "        t = res['analysis'][0]['lex'].lower()\n",
    "        a = res['analysis'][0]['gr']\n",
    "        a = re.sub('[а-яА-Я\\d\\s,|=()]*', '', a)\n",
    "        s.append(f'{t}|{a}')\n",
    "    except KeyError:\n",
    "        pass\n",
    "    \n",
    "print(\" \".join(s))"
   ]
  }
 ],
 "metadata": {
  "kernelspec": {
   "display_name": "Python 3",
   "language": "python",
   "name": "python3"
  },
  "language_info": {
   "codemirror_mode": {
    "name": "ipython",
    "version": 3
   },
   "file_extension": ".py",
   "mimetype": "text/x-python",
   "name": "python",
   "nbconvert_exporter": "python",
   "pygments_lexer": "ipython3",
   "version": "3.7.6"
  }
 },
 "nbformat": 4,
 "nbformat_minor": 4
}
