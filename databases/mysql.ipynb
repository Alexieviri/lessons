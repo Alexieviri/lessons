{
 "cells": [
  {
   "cell_type": "markdown",
   "metadata": {},
   "source": [
    "# Python и база данных MySQL: практическое введение\n",
    "\n",
    "Данный материал является незначительно сокращенным переводом публикации Чайтаньи Баведжи [Python and MySQL Database: A Practical Introduction](https://realpython.com/python-mysql/).\n",
    "\n",
    "MySQL — одна из самых популярных систем управления базами данных ([СУБД](https://ru.wikipedia.org/wiki/%D0%A1%D0%B8%D1%81%D1%82%D0%B5%D0%BC%D0%B0_%D1%83%D0%BF%D1%80%D0%B0%D0%B2%D0%BB%D0%B5%D0%BD%D0%B8%D1%8F_%D0%B1%D0%B0%D0%B7%D0%B0%D0%BC%D0%B8_%D0%B4%D0%B0%D0%BD%D0%BD%D1%8B%D1%85)) на рынке. В прошлом году в рейтинге DB-Engines она заняла второе место после СУБД Oracle. Большинство приложений в той или иной форме взаимодействует с данными. Поэтому языки программирования, такие как Python, предоставляют инструменты для хранения этих источников данных и доступа к ним.\n",
    "\n",
    "Используя методы, описанные в этом руководстве, вы сможете эффективно интегрировать базу данных MySQL в приложение на Python. Вы разработаете небольшую базу данных MySQL для системы рейтинга фильмов и узнаете, как забирать из нее данные прямо из кода Python.\n",
    "\n",
    "К концу этого урока вы сможете:\n",
    "- Описать главные особенности MySQL\n",
    "- Подключить ваше приложение к базе данных MySQL\n",
    "- Сделать запрос к базе данных для получения необходимых данных\n",
    "- Обработать исключения, возникающие при доступе к базе данных\n",
    "- Использовать лучшие практики при создании приложений баз данных\n",
    "\n",
    "Чтобы получить максимальную отдачу от этого руководства, вы должны иметь практические знания в таких концепциях Python, как цикл `for`, функции, обработка исключений и установка пакетов Python с помощью `pip`. Также необходимо иметь базовое представление о системах управления реляционными базами данных и SQL-запросах, таких как `SELECT`, `DROP`, `CREATE` и `JOIN`."
   ]
  },
  {
   "cell_type": "markdown",
   "metadata": {},
   "source": [
    "# Сравнение MySQL с другими SQL-базами данных\n",
    "\n",
    "Аббревиатура SQL расшифровывается как Structured Query Language — язык структурированных запросов. SQL является широко используемым языком программирования для управления реляционными базами данных. Возможно, вы слышали о различных вариантах СУБД на основе SQL. Самые популярные из них: [MySQL](https://www.mysql.com/), [PostgreSQL](https://www.postgresql.org/), [SQLite](https://www.sqlite.org/index.html) и [SQL Server](https://www.microsoft.com/en-us/sql-server/sql-server-2019). Все эти базы данных соответствуют [стандартам SQL](https://docs.oracle.com/cd/B28359_01/server.111/b28286/intro002.htm), но в разной степени.\n",
    "\n",
    "\n"
   ]
  },
  {
   "cell_type": "code",
   "execution_count": null,
   "metadata": {},
   "outputs": [],
   "source": []
  }
 ],
 "metadata": {
  "kernelspec": {
   "display_name": "Python 3",
   "language": "python",
   "name": "python3"
  },
  "language_info": {
   "codemirror_mode": {
    "name": "ipython",
    "version": 3
   },
   "file_extension": ".py",
   "mimetype": "text/x-python",
   "name": "python",
   "nbconvert_exporter": "python",
   "pygments_lexer": "ipython3",
   "version": "3.7.3"
  }
 },
 "nbformat": 4,
 "nbformat_minor": 4
}
