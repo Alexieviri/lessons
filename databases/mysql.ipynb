{
 "cells": [
  {
   "cell_type": "markdown",
   "metadata": {},
   "source": [
    "# Python и MySQL: практическое введение\n",
    "\n",
    "Рассмотрим на практическом примере, как из кода Python делать SQL-запросы к MySQL-серверу: CREATE, SELECT, UPDATE, JOIN и т. д.\n",
    "\n",
    "---\n",
    "\n",
    "Публикация представляет собой незначительно сокращенный перевод статьи Чайтаньи Баведжи [Python and MySQL Database: A Practical Introduction](https://realpython.com/python-mysql/).\n",
    "\n",
    "---\n",
    "\n",
    "Большинство приложений в той или иной форме взаимодействует с данными. Поэтому языки программирования (Python не исключение), предоставляют инструменты хранения источников данных и доступа к ним. MySQL — одна из самых популярных систем управления базами данных ([СУБД](https://ru.wikipedia.org/wiki/%D0%A1%D0%B8%D1%81%D1%82%D0%B5%D0%BC%D0%B0_%D1%83%D0%BF%D1%80%D0%B0%D0%B2%D0%BB%D0%B5%D0%BD%D0%B8%D1%8F_%D0%B1%D0%B0%D0%B7%D0%B0%D0%BC%D0%B8_%D0%B4%D0%B0%D0%BD%D0%BD%D1%8B%D1%85)). В прошлом году она заняла второе место после СУБД Oracle в [рейтинге баз данных](https://db-engines.com/en/ranking). \n",
    "\n",
    "Используя методы, описанные в этом руководстве, вы сможете эффективно интегрировать базу данных MySQL в приложение на Python. В ходе руководства мы разработаем небольшую базу данных MySQL для системы рейтинга фильмов и узнаем, как забирать из нее данные с помощью Python-кода.\n",
    "\n",
    "К концу этого урока вы сможете:\n",
    "- Подключить ваше приложение к базе данных MySQL\n",
    "- Сделать запрос к базе данных для получения необходимых данных\n",
    "- Обработать исключения, возникающие при доступе к базе данных\n",
    "\n",
    "Чтобы получить максимальную отдачу от этого руководства, желательно иметь практические знания о таких концепциях Python, как цикл `for`, функции, обработка исключений. Также необходимо иметь [базовые представления](https://proglib.io/p/sql-for-20-minutes) о SQL-запросах, таких как `SELECT`, `DROP`, `CREATE` и `JOIN`.\n",
    "\n",
    "# Сравнение MySQL с другими SQL-базами данных\n",
    "\n",
    "SQL ([Structured Query Language](https://ru.wikipedia.org/wiki/SQL)) — язык структурированных запросов. SQL является широко используемым языком программирования для управления реляционными базами данных. Возможно, вы слышали о различных СУБД на основе SQL: [MySQL](https://www.mysql.com/), [PostgreSQL](https://www.postgresql.org/), [SQLite](https://www.sqlite.org/index.html) и [SQL Server](https://www.microsoft.com/en-us/sql-server/sql-server-2019). Все эти базы данных соответствуют [стандартам SQL](https://docs.oracle.com/cd/B28359_01/server.111/b28286/intro002.htm), но отличаются в деталях.\n",
    "\n",
    "В силу открытости исходного кода MySQL быстро стал лидером рынка среди SQL-решений. В настоящее время MySQL используется всеми крупными техническими фирмами, включая Google, LinkedIn, Uber, Netflix, Twitter и другие.\n",
    "\n",
    "Помимо поддержки со стороны open source-сообщества, есть и другие причины успеха MySQL:\n",
    "\n",
    "1. **Простота установки**. MySQL разработан, чтобы быть удобным для пользователя. Базу данных легко создать и настроить. MySQL доступен для основных операционных систем, включая Windows, macOS, Linux и Solaris.\n",
    "2. **Скорость**. MySQL имеет репутацию быстрого решения для баз данных. Еще эта СУБД хорошо масштабируется.\n",
    "3. **Права пользователя и безопасность**. MySQL позволяет устанавливать уровни безопасности паролей, добавлять и удалять привилегии учетным записям пользователей. Управление правами пользователей выглядит существенно проще, чем у многих других СУБД, таких как PostgreSQL, где управление [файлами конфигурации](https://www.postgresql.org/docs/9.3/config-setting.html), требует некоторой сноровки.\n",
    "\n",
    "MySQL использует синтаксис, похожий на стандартный SQL, однако имеющий некоторые важные отличия, описанные в [официальной документации](https://dev.mysql.com/doc/refman/8.0/en/differences-from-ansi.html).\n",
    "\n",
    "# Установка MySQL Server и MySQL Connector\n",
    "Чтобы начать работу с этим руководством, вам необходимо настроить две вещи: MySQL Server и MySQL Connector. MySQL Server предоставит ресурсы, необходимые для работы с базой данных. После запуска сервера вы сможете подключить к нему свое приложение Python с помощью MySQL Connector/Python.\n",
    "\n",
    "## Установка MySQL Server\n",
    "Официальная документация описывает рекомендуемые способы загрузки и установки MySQL Server. Есть инструкции для всех популярных операционных систем, включая [Windows](https://dev.mysql.com/doc/refman/8.0/en/windows-installation.html), [macOS](https://dev.mysql.com/doc/refman/8.0/en/osx-installation.html), [Solaris](https://dev.mysql.com/doc/refman/8.0/en/solaris-installation.html), [Linux](https://dev.mysql.com/doc/refman/8.0/en/linux-installation.html) и многие другие.\n",
    "\n",
    "Для Windows лучше всего загрузить [установщик MySQL](https://dev.mysql.com/downloads/installer/) и позволить ему позаботиться о процессе. Диспетчер установки также поможет настроить параметры безопасности сервера MySQL. На странице учетных записей будет необходимо ввести пароль для root-записи и при желании добавить других пользователей с различными привилегиями.\n",
    "\n",
    "<img src=\"https://files.realpython.com/media/root_user_pass.cf4a9c6ea5f5.png\" width=\"500px\"/>\n",
    "\n",
    "С помощью установщиков можно настроить и другие полезные инструменты, например, [MySQL Workbench](https://www.mysql.com/products/workbench/). Удобная альтернатива установке в операционной системе — [развернуть MySQL с помощью Docker](https://dev.mysql.com/doc/refman/8.0/en/linux-installation-docker.html).\n",
    "\n",
    "## Установка MySQL Connector/Python\n",
    "\n",
    "Драйвер базы данных — программное обеспечение, позволяющее приложению подключаться и взаимодействовать с СУБД. Такие драйверы обычно поставляются в виде отдельных модулей. Сандартный интерфейс, которому должны соответствовать все драйверы баз данных Python, описан в [PEP 249](https://www.python.org/dev/peps/pep-0249/). Драйверы баз данных Python, такие как [sqlite3](https://docs.python.org/3/library/sqlite3.html) для SQLite, [psycopg](https://www.psycopg.org/docs/) для PostgreSQL и [MySQL Connector/Python](https://github.com/mysql/mysql-connector-python) для MySQL, следуют этим правилам.\n",
    "\n",
    "Для установки драйвера (коннектора) воспользуемся менеджером пакетов `pip`:"
   ]
  },
  {
   "cell_type": "code",
   "execution_count": null,
   "metadata": {},
   "outputs": [],
   "source": [
    "!pip install mysql-connector-python"
   ]
  },
  {
   "cell_type": "markdown",
   "metadata": {},
   "source": [
    "`pip` установит коннектор в текущую активную среду. Чтобы работать с проектом изолированным образом, мы рекомендуем [настроить виртуальную среду](https://proglib.io/p/kak-sozdat-virtualnoe-okruzhenie-v-python-i-perestat-dumat-o-zavisimostyah-2020-03-10).\n",
    "\n",
    "Проверим результат установки, запустив в терминале Python следующую команду:"
   ]
  },
  {
   "cell_type": "code",
   "execution_count": null,
   "metadata": {},
   "outputs": [],
   "source": [
    "import mysql.connector"
   ]
  },
  {
   "cell_type": "markdown",
   "metadata": {},
   "source": [
    "Если инструкция импорта выполняется без ошибок, значит `mysql.connector` успешно установлен и готов к использованию.\n",
    "\n",
    "# Установление соединения с сервером MySQL\n",
    "\n",
    "MySQL ― это серверная система управления базами данных. Один сервер может содержать несколько баз данных. Чтобы взаимодействовать с базой данных, мы должны установить соединение с сервером. Рабочий процесс программы Python, которая взаимодействует с базой данных на основе MySQL, в общих чертах выглядит следующим образом:\n",
    "\n",
    "1. Подключаемся к серверу MySQL.\n",
    "2. Создаем новую базу данных (при необходимости).\n",
    "3. Соединяемся с базой данных.\n",
    "4. Выполняем SQL-запрос, собираем результаты.\n",
    "5. Сообщаем базе данных, если в таблицу внесены изменения.\n",
    "6. Закрываем соединением с сервером MySQL.\n",
    "\n",
    "Каким бы ни было приложение, первый шаг ― связать между собой приложение и базу данных.\n",
    "\n",
    "# Подключаемся к серверу MySQL из Python\n",
    "\n",
    "Чтобы установить соединение, используем `connect()` из модуля `mysql.connector`. Эта функция принимает параметры `host`, `user` и `password`, а возвращает объект `MySQLConnection`. Учетные данные можно получить в результате ввода от пользователя:"
   ]
  },
  {
   "cell_type": "code",
   "execution_count": null,
   "metadata": {},
   "outputs": [],
   "source": [
    "from getpass import getpass\n",
    "from mysql.connector import connect, Error\n",
    "\n",
    "try:\n",
    "    with connect(\n",
    "        host=\"localhost\",\n",
    "        user=input(\"Имя пользователя: \"),\n",
    "        password=getpass(\"Пароль: \"),\n",
    "    ) as connection:\n",
    "        print(connection)\n",
    "except Error as e:\n",
    "    print(e)"
   ]
  },
  {
   "cell_type": "markdown",
   "metadata": {},
   "source": [
    "Объект `MySQLConnection` хранится в переменной `connection`, которую мы будем использовать для доступа к серверу MySQL. Несколько важных моментов:\n",
    "\n",
    "- Все соединения с базой данных оборачивайтев блоки `try ... except`. Так будет проще перехватить и изучить любые исключения.\n",
    "- Не забывайте закрывать соединение после завершения доступа к базе данных. Неиспользуемые открытые соединения приводят к неожиданным ошибкам и проблемам с производительностью. В коде для этого используется диспетчер контекста (`with ... as ...`).\n",
    "- Никогда не следует встраивать учетные данные (имя пользователя и пароль) в строковом виде в скрипт Python. Это плохая практика для развертывания, которая представляет серьезную угрозу безопасности. Приведенный код запрашивает для входа учетные данные. Для этого используется встроенный модуль `getpass`, чтобы скрыть вводимый пароль. Хотя это лучше, чем жесткое кодирование, но есть и другие, более безопасные способы хранения конфиденциальной информации, например, использование переменных среды.\n",
    "\n",
    "Итак, мы установили соединение между нашей программой и сервером MySQL. Теперь нужно либо создать новую базу данных, либо подключиться к существующей.\n",
    "\n",
    "# Создаем новую базу данных\n",
    "\n",
    "Чтобы создать новую базу данных, например, с именем `online_movie_rating`, нужно выполнить инструкцию SQL:\n",
    "\n",
    "```\n",
    "CREATE DATABASE online_movie_rating;\n",
    "```\n",
    "---\n",
    "**Примечание**. MySQL обязывает ставить точку с запятой (`;`) в конце оператора. Однако `MySQL Connector/Python` автоматически добавляет точку с запятой в конце каждого запроса.\n",
    "\n",
    "---\n",
    "\n",
    "Чтобы выполнить SQL-запрос, нам понадобится курсор, который абстрагирует процесс доступа к записям базы данных. MySQL Connector/Python предоставляет соответствующий класс `MySQLCursor`, экземпляр которого также называется курсором.\n",
    "\n",
    "Передадим наш запрос о создании базы данных `online_movie_rating`:"
   ]
  },
  {
   "cell_type": "code",
   "execution_count": null,
   "metadata": {},
   "outputs": [],
   "source": [
    "try:\n",
    "    with connect(\n",
    "        host=\"localhost\",\n",
    "        user=input(\"Имя пользователя: \"),\n",
    "        password=getpass(\"Пароль: \"),\n",
    "    ) as connection:\n",
    "        create_db_query = \"CREATE DATABASE online_movie_rating\"\n",
    "        with connection.cursor() as cursor:\n",
    "            cursor.execute(create_db_query)\n",
    "except Error as e:\n",
    "    print(e)"
   ]
  },
  {
   "cell_type": "markdown",
   "metadata": {},
   "source": [
    "Запрос `CREATE DATABASE` сохраняется в виде строки в переменной `create_db_query`, а затем передается на выполнение в `cursor.execute()`.\n",
    "\n",
    "Если база данных с таким именем уже существует на сервере, мы получим сообщение об ошибке. Используя тот же объект `MySQLConnection`, что и ранее, выполним запрос `SHOW DATABASES`, чтобы увидеть все таблицы, хранящиеся в базе данных:"
   ]
  },
  {
   "cell_type": "code",
   "execution_count": null,
   "metadata": {},
   "outputs": [],
   "source": [
    "try:\n",
    "    with connect(\n",
    "        host=\"localhost\",\n",
    "        user=input(\"Введите имя пользователя: \"),\n",
    "        password=getpass(\"Введите пароль: \"),\n",
    "    ) as connection:\n",
    "        show_db_query = \"SHOW DATABASES\"\n",
    "        with connection.cursor() as cursor:\n",
    "            cursor.execute(show_db_query)\n",
    "            for db in cursor:\n",
    "                print(db)\n",
    "except Error as e:\n",
    "    print(e)"
   ]
  },
  {
   "cell_type": "markdown",
   "metadata": {},
   "source": [
    "Приведенный код выведет имена всех баз данных, находящихся  на нашем сервере MySQL. Команда `SHOW DATABASES` в нашем примере также вывела базы данных, которые автоматически создаются сервером MySQL и предоставляют доступ к метаданным баз данных и настройкам сервера.\n",
    "\n",
    "# Подключение к существующей базе данных\n",
    "\n",
    "Итак, мы создали базу данных под названием `online_movie_rating`. Чтобы к ней подключиться, просто дополняем вызов `connect()` параметром `database`:"
   ]
  },
  {
   "cell_type": "code",
   "execution_count": null,
   "metadata": {},
   "outputs": [],
   "source": [
    "try:\n",
    "    with connect(\n",
    "        host=\"localhost\",\n",
    "        user=input(\"Имя пользователя: \"),\n",
    "        password=getpass(\"Пароль: \"),\n",
    "        database=\"online_movie_rating\",\n",
    "    ) as connection:\n",
    "        print(connection)\n",
    "except Error as e:\n",
    "    print(e)"
   ]
  },
  {
   "cell_type": "markdown",
   "metadata": {},
   "source": [
    "---\n",
    "\n",
    "Для удобства дальнейшей работы , чтобы не вводить в каждую ячейку логин и пароль, можно создать соединение, не закрывая его. Не забывайте в своих скриптах оборачивать соединения в блоки `try ... except`."
   ]
  },
  {
   "cell_type": "code",
   "execution_count": null,
   "metadata": {},
   "outputs": [],
   "source": [
    "connection = connect(\n",
    "    host=\"localhost\",\n",
    "    user=input(\"Имя пользователя: \"),\n",
    "    password=getpass(\"Пароль: \"),\n",
    "    database=\"online_movie_rating\")"
   ]
  },
  {
   "cell_type": "markdown",
   "metadata": {},
   "source": [
    "___"
   ]
  },
  {
   "cell_type": "markdown",
   "metadata": {},
   "source": [
    "# Создание, изменение и удаление таблиц\n",
    "\n",
    "В этом разделе мы рассмотрим, как с помощью Python выполнять некоторые базовые запросы: `CREATE TABLE`, `DROP` и `ALTER`. \n",
    "\n",
    "## Определение схемы базы данных\n",
    "Начнем с создания схемы базы данных для рейтинговой системы фильмов. База данных будет состоять из трех таблиц:\n",
    "\n",
    "1. `movies` ― общая информация о фильмах:\n",
    "- `id`\n",
    "- `title`\n",
    "- `release year`\n",
    "- `genre`\n",
    "- `collection_in_mil`\n",
    "2. `reviewers` ― информация о людях, опубликовавших оценки фильмов:\n",
    "- `id`\n",
    "- `first_name`\n",
    "- `last_name`\n",
    "3. `ratings` ― информация об оценках фильмов рецензентами:\n",
    "- `movie_id` (foreign key)\n",
    "- `reviewer_id` (foreign key)\n",
    "- `rating`\n",
    "\n",
    "Этих трех таблиц достаточно для целей данного руководства.\n",
    "\n",
    "<img src=\"https://files.realpython.com/media/schema.2e80e67d2ae1.png\" width=\"500px\"/>\n",
    "*Схема системы рейтинга фильмов*\n",
    "\n",
    "Таблицы в базе данных связаны друг с другом: `movies` и `reviewers` должны иметь отношение «многие ко многим»: один фильм может быть просмотрен несколькими рецензентами, а один рецензент может рецензировать несколько фильмов. Таблица `ratings` соединяет таблицу фильмов с таблицей рецензентов.\n",
    "\n",
    "# Создание таблиц с помощью оператора CREATE TABLE\n",
    "\n",
    "Чтобы создать новую таблицу в MySQL, нам нужно использовать оператор `CREATE TABLE`. Следующий запрос MySQL создаст таблицу `movies` нашей базы данных `online_movie_rating`:\n",
    "\n",
    "```MySQL\n",
    "CREATE TABLE movies(\n",
    "    id INT AUTO_INCREMENT PRIMARY KEY,\n",
    "    title VARCHAR(100),\n",
    "    release_year YEAR(4),\n",
    "    genre VARCHAR(100),\n",
    "    collection_in_mil INT\n",
    ");\n",
    "```\n",
    "\n",
    "Если вы раньше встречались с SQL, вам будет понятен смысл  приведенного запроса. У диалекта MySQL есть некоторые отличительные черты. Например, MySQL предлагает широкий выбор типов данных, включая `YEAR`, `INT`, `BIGINT` и так далее. Кроме того, MySQL использует ключевое слово `AUTO_INCREMENT`, когда значение столбца должно автоматически увеличиваться при вставке новых записей.\n",
    "\n",
    "Чтобы создать таблицу, необходимо передать указанный запрос в `cursor.execute()`:"
   ]
  },
  {
   "cell_type": "code",
   "execution_count": null,
   "metadata": {},
   "outputs": [],
   "source": [
    "create_movies_table_query = \"\"\"\n",
    "CREATE TABLE movies(\n",
    "    id INT AUTO_INCREMENT PRIMARY KEY,\n",
    "    title VARCHAR(100),\n",
    "    release_year YEAR(4),\n",
    "    genre VARCHAR(100),\n",
    "    collection_in_mil INT\n",
    ")\n",
    "\"\"\"\n",
    "\n",
    "with connection.cursor() as cursor:\n",
    "    cursor.execute(create_movies_table_query)\n",
    "    connection.commit()"
   ]
  },
  {
   "cell_type": "markdown",
   "metadata": {},
   "source": [
    "Обратите внимание на оператор `connection.commit()`. По умолчанию коннектор MySQL не выполняет автоматическую фиксацию транзакций. В MySQL модификации, упомянутые в транзакции, происходят только тогда, когда мы используем в конце команду `COMMIT`. Чтобы внести изменения в таблицу, всегда вызывайте этот метод после каждой транзакции.\n",
    "\n",
    "Повторим процедуру для таблицы `reviewers`:"
   ]
  },
  {
   "cell_type": "code",
   "execution_count": null,
   "metadata": {},
   "outputs": [],
   "source": [
    "create_reviewers_table_query = \"\"\"\n",
    "CREATE TABLE reviewers (\n",
    "    id INT AUTO_INCREMENT PRIMARY KEY,\n",
    "    first_name VARCHAR(100),\n",
    "    last_name VARCHAR(100)\n",
    ")\n",
    "\"\"\"\n",
    "\n",
    "with connection.cursor() as cursor:\n",
    "    cursor.execute(create_reviewers_table_query)\n",
    "    connection.commit()"
   ]
  },
  {
   "cell_type": "markdown",
   "metadata": {},
   "source": [
    "Наконец, создадим таблицу `ratings`:"
   ]
  },
  {
   "cell_type": "code",
   "execution_count": null,
   "metadata": {},
   "outputs": [],
   "source": [
    "create_ratings_table_query = \"\"\"\n",
    "CREATE TABLE ratings (\n",
    "    movie_id INT,\n",
    "    reviewer_id INT,\n",
    "    rating DECIMAL(2,1),\n",
    "    FOREIGN KEY(movie_id) REFERENCES movies(id),\n",
    "    FOREIGN KEY(reviewer_id) REFERENCES reviewers(id),\n",
    "    PRIMARY KEY(movie_id, reviewer_id)\n",
    ")\n",
    "\"\"\"\n",
    "\n",
    "with connection.cursor() as cursor:\n",
    "    cursor.execute(create_ratings_table_query)\n",
    "    connection.commit()"
   ]
  },
  {
   "cell_type": "markdown",
   "metadata": {},
   "source": [
    "Реализация отношений внешнего ключа в MySQL немного отличается и имеет ограничения в сравнении со стандартным SQL. В MySQL и родитель, и потомок внешнего ключа должны использовать один и тот же механизм хранения ― базовый программный компонент, который система управления базами данных использует для выполнения  SQL-операций. MySQL предлагает два вида таких механизмов:\n",
    "1. **Транзакционные механизмы хранения** безопасны для транзакций и позволяют откатывать транзакции с помощью простых команд, таких как `rollback`. К этой категории относятся многие популярные движки MySQL, включая [InnoDB](https://dev.mysql.com/doc/refman/8.0/en/innodb-storage-engine.html) и [NDB](https://dev.mysql.com/doc/refman/8.0/en/mysql-cluster.html).\n",
    "2. **Нетранзакционные механизмы хранения** для отмены операторов, зафиксированных в базе данных, опираются на ручной код. Это, например [MyISAM](https://dev.mysql.com/doc/refman/8.0/en/myisam-storage-engine.html) и [MEMORY](https://dev.mysql.com/doc/refman/8.0/en/memory-storage-engine.html).\n",
    "\n",
    "InnoDB ― самый популярный механизм хранения по умолчанию. Соблюдая ограничения внешнего ключа, он помогает поддерживать целостность данных. Это означает, что любая [CRUD](https://en.wikipedia.org/wiki/Create,_read,_update_and_delete)-операция с внешним ключом предварительно проверяется на то, что она не приводит к несогласованности между разными таблицами.\n",
    "\n",
    "Обратите внимание, что таблица `ratings` использует столбцы `movie_id` и `reviewer_id`, как два внешних ключа, выступающих вместе в качестве первичного ключа. Эта особенность гарантирует, что рецензент не сможет дважды оценить один и тот же фильм.\n",
    "\n",
    "Один и тот же курсор можно использовать для нескольких обращений. В этом случае все обращения станут одной атомарной транзакцией. Например, можно выполнить все операторы `CREATE TABLE` одним курсором, а затем зараз зафиксировать транзакцию:\n",
    "\n",
    "```Python\n",
    "with connection.cursor() as cursor:\n",
    "    cursor.execute(create_movies_table_query)\n",
    "    cursor.execute(create_reviewers_table_query)\n",
    "    cursor.execute(create_ratings_table_query)\n",
    "    connection.commit()\n",
    "```"
   ]
  },
  {
   "cell_type": "markdown",
   "metadata": {},
   "source": [
    "## Отображение схемы таблиц с использованием оператора DESCRIBE\n",
    "\n",
    "Мы создали три таблицы и можем просмотреть схему, используя оператор `DESCRIBE`.\n",
    "\n",
    "Предполагая, что у вас уже есть объект `MySQLConnection` в переменной `connection`, мы можем распечатать результаты, полученные с помощью `cursor.fetchall()`. Этот метод извлекает все строки из последнего выполненного оператора:"
   ]
  },
  {
   "cell_type": "code",
   "execution_count": null,
   "metadata": {},
   "outputs": [],
   "source": [
    "show_table_query = \"DESCRIBE movies\"\n",
    "with connection.cursor() as cursor:\n",
    "    cursor.execute(show_table_query)\n",
    "    # Fetch rows from last executed query\n",
    "    result = cursor.fetchall()\n",
    "    for row in result:\n",
    "        print(row)"
   ]
  },
  {
   "cell_type": "markdown",
   "metadata": {},
   "source": [
    "После выполнения приведенного кода мы должны получить таблицу, содержащую информацию о столбцах в таблице `movies`. Для каждого столбца выводится информация, о типе данных, является ли столбец первичным ключом и т. д.\n",
    "\n",
    "## Изменение схемы таблицы с помощью оператора ALTER\n",
    "\n",
    "Столбец с именем `collection_in_mil` в таблице `movies` содержит кассовые сборы фильма в миллионах долларов. Мы можем написать следующую инструкцию MySQL, чтобы изменить тип данных атрибута `collection_in_mil` с `INT` на `DECIMAL`:\n",
    "\n",
    "```MySQL\n",
    "ALTER TABLE movies MODIFY COLUMN collection_in_mil DECIMAL(4,1);\n",
    "```\n",
    "\n",
    "`DECIMAL(4,1)` указывает на десятичное число, которое может иметь максимум 4 цифры, из которых 1 соответствует разряду десятых, например, `120.1`, `3.4`, `38.0` и т. д."
   ]
  },
  {
   "cell_type": "code",
   "execution_count": null,
   "metadata": {},
   "outputs": [],
   "source": [
    "alter_table_query = \"\"\"\n",
    "ALTER TABLE movies\n",
    "MODIFY COLUMN collection_in_mil DECIMAL(4,1)\n",
    "\"\"\"\n",
    "show_table_query = \"DESCRIBE movies\"\n",
    "with connection.cursor() as cursor:\n",
    "    cursor.execute(alter_table_query)\n",
    "    cursor.execute(show_table_query)\n",
    "    # Получить строки из последнего выполненного запроса\n",
    "    result = cursor.fetchall()\n",
    "    print(\"Схема таблицы movie после внесения изменений:\")\n",
    "    for row in result:\n",
    "        print(row)"
   ]
  },
  {
   "cell_type": "markdown",
   "metadata": {},
   "source": [
    "Как показано в выходных данных, атрибут `collection_in_mil` сменил тип на `DECIMAL(4,1)`. Обратите внимание, что в приведенном выше коде мы дважды вызываем `cursor.execute()`, но `cursor.fetchall()` выбирает строки только из последнего выполненного запроса, которым является `show_table_query`.\n",
    "\n",
    "## Удаление таблиц с помощью оператора DROP\n",
    "\n",
    "Для удаления таблиц служит оператор `DROP TABLE`. Удаление таблицы ― необратимый процесс. Если вы выполните приведенный ниже код, вам нужно будет снова вызвать запрос `CREATE TABLE` для таблицы `ratings`:"
   ]
  },
  {
   "cell_type": "code",
   "execution_count": null,
   "metadata": {},
   "outputs": [],
   "source": [
    "drop_table_query = \"DROP TABLE ratings\"\n",
    "with connection.cursor() as cursor:\n",
    "    cursor.execute(drop_table_query)"
   ]
  },
  {
   "cell_type": "markdown",
   "metadata": {},
   "source": [
    "# Вставка записей в таблицы\n",
    "\n",
    "Заполним таблицы данными. В этом разделе мы рассмотрим два  способа вставки записей с помощью MySQL Connector в коде Python.\n",
    "\n",
    "Первый метод, `.execute()`, хорошо работает, когда количество записей невелико. Второй, `.executemany()` лучше подходит для реальных сценариев.\n",
    "\n",
    "## Вставка записей с помощью `.execute()`\n",
    "Первый подход использует тот же метод `cursor.execute()`, который мы применяли до сих пор. Пишем запрос `INSERT INTO` и передаем в `cursor.execute()`:"
   ]
  },
  {
   "cell_type": "code",
   "execution_count": null,
   "metadata": {},
   "outputs": [],
   "source": [
    "insert_movies_query = \"\"\"\n",
    "INSERT INTO movies (title, release_year, genre, collection_in_mil)\n",
    "VALUES\n",
    "    (\"Forrest Gump\", 1994, \"Drama\", 330.2),\n",
    "    (\"3 Idiots\", 2009, \"Drama\", 2.4),\n",
    "    (\"Eternal Sunshine of the Spotless Mind\", 2004, \"Drama\", 34.5),\n",
    "    (\"Good Will Hunting\", 1997, \"Drama\", 138.1),\n",
    "    (\"Skyfall\", 2012, \"Action\", 304.6),\n",
    "    (\"Gladiator\", 2000, \"Action\", 188.7),\n",
    "    (\"Black\", 2005, \"Drama\", 3.0),\n",
    "    (\"Titanic\", 1997, \"Romance\", 659.2),\n",
    "    (\"The Shawshank Redemption\", 1994, \"Drama\",28.4),\n",
    "    (\"Udaan\", 2010, \"Drama\", 1.5),\n",
    "    (\"Home Alone\", 1990, \"Comedy\", 286.9),\n",
    "    (\"Casablanca\", 1942, \"Romance\", 1.0),\n",
    "    (\"Avengers: Endgame\", 2019, \"Action\", 858.8),\n",
    "    (\"Night of the Living Dead\", 1968, \"Horror\", 2.5),\n",
    "    (\"The Godfather\", 1972, \"Crime\", 135.6),\n",
    "    (\"Haider\", 2014, \"Action\", 4.2),\n",
    "    (\"Inception\", 2010, \"Adventure\", 293.7),\n",
    "    (\"Evil\", 2003, \"Horror\", 1.3),\n",
    "    (\"Toy Story 4\", 2019, \"Animation\", 434.9),\n",
    "    (\"Air Force One\", 1997, \"Drama\", 138.1),\n",
    "    (\"The Dark Knight\", 2008, \"Action\",535.4),\n",
    "    (\"Bhaag Milkha Bhaag\", 2013, \"Sport\", 4.1),\n",
    "    (\"The Lion King\", 1994, \"Animation\", 423.6),\n",
    "    (\"Pulp Fiction\", 1994, \"Crime\", 108.8),\n",
    "    (\"Kai Po Che\", 2013, \"Sport\", 6.0),\n",
    "    (\"Beasts of No Nation\", 2015, \"War\", 1.4),\n",
    "    (\"Andadhun\", 2018, \"Thriller\", 2.9),\n",
    "    (\"The Silence of the Lambs\", 1991, \"Crime\", 68.2),\n",
    "    (\"Deadpool\", 2016, \"Action\", 363.6),\n",
    "    (\"Drishyam\", 2015, \"Mystery\", 3.0)\n",
    "\"\"\"\n",
    "with connection.cursor() as cursor:\n",
    "    cursor.execute(insert_movies_query)\n",
    "    connection.commit()"
   ]
  },
  {
   "cell_type": "markdown",
   "metadata": {},
   "source": [
    "Таблица `movies` теперь заполнена тридцатью записями. В конце код вызывает `connection.commit()`. Не забывайте вызывать `.commit()` после выполнения любых изменений в таблице.\n",
    "\n",
    "## Вставка записей с помощью `.executemany()`\n",
    "\n",
    "Предыдущий подход годится, когда количество записей мало, и их можно вставить из кода. Но обычно данные хранятся в файле или генерируются другим сценарием. Вот где пригодится `.executemany()`. Метод принимает два параметра:\n",
    "1. Запрос, содержащий заполнители для записей, которые необходимо вставить.\n",
    "2. Список записей для вставки.\n",
    "\n",
    "Применим подход для заполнения таблицы `reviewers`:"
   ]
  },
  {
   "cell_type": "code",
   "execution_count": null,
   "metadata": {},
   "outputs": [],
   "source": [
    "insert_reviewers_query = \"\"\"\n",
    "INSERT INTO reviewers\n",
    "(first_name, last_name)\n",
    "VALUES ( %s, %s )\n",
    "\"\"\"\n",
    "reviewers_records = [\n",
    "    (\"Chaitanya\", \"Baweja\"),\n",
    "    (\"Mary\", \"Cooper\"),\n",
    "    (\"John\", \"Wayne\"),\n",
    "    (\"Thomas\", \"Stoneman\"),\n",
    "    (\"Penny\", \"Hofstadter\"),\n",
    "    (\"Mitchell\", \"Marsh\"),\n",
    "    (\"Wyatt\", \"Skaggs\"),\n",
    "    (\"Andre\", \"Veiga\"),\n",
    "    (\"Sheldon\", \"Cooper\"),\n",
    "    (\"Kimbra\", \"Masters\"),\n",
    "    (\"Kat\", \"Dennings\"),\n",
    "    (\"Bruce\", \"Wayne\"),\n",
    "    (\"Domingo\", \"Cortes\"),\n",
    "    (\"Rajesh\", \"Koothrappali\"),\n",
    "    (\"Ben\", \"Glocker\"),\n",
    "    (\"Mahinder\", \"Dhoni\"),\n",
    "    (\"Akbar\", \"Khan\"),\n",
    "    (\"Howard\", \"Wolowitz\"),\n",
    "    (\"Pinkie\", \"Petit\"),\n",
    "    (\"Gurkaran\", \"Singh\"),\n",
    "    (\"Amy\", \"Farah Fowler\"),\n",
    "    (\"Marlon\", \"Crafford\"),\n",
    "]\n",
    "with connection.cursor() as cursor:\n",
    "    cursor.executemany(insert_reviewers_query,\n",
    "                       reviewers_records)\n",
    "    connection.commit()"
   ]
  },
  {
   "cell_type": "markdown",
   "metadata": {},
   "source": [
    "Этот код использует `%s` в качестве заполнителей для двух строк, которые вставляются в `insert_reviewers_query`. Заполнители действуют как спецификаторы формата и помогают зарезервировать место для переменной внутри строки.\n",
    "\n",
    "Аналогичным образом заполним таблицу `ratings`:"
   ]
  },
  {
   "cell_type": "code",
   "execution_count": null,
   "metadata": {},
   "outputs": [],
   "source": [
    "insert_ratings_query = \"\"\"\n",
    "INSERT INTO ratings\n",
    "(rating, movie_id, reviewer_id)\n",
    "VALUES ( %s, %s, %s)\n",
    "\"\"\"\n",
    "ratings_records = [\n",
    "    (6.4, 17, 5), (5.6, 19, 1), (6.3, 22, 14), (5.1, 21, 17),\n",
    "    (5.0, 5, 5), (6.5, 21, 5), (8.5, 30, 13), (9.7, 6, 4),\n",
    "    (8.5, 24, 12), (9.9, 14, 9), (8.7, 26, 14), (9.9, 6, 10),\n",
    "    (5.1, 30, 6), (5.4, 18, 16), (6.2, 6, 20), (7.3, 21, 19),\n",
    "    (8.1, 17, 18), (5.0, 7, 2), (9.8, 23, 3), (8.0, 22, 9),\n",
    "    (8.5, 11, 13), (5.0, 5, 11), (5.7, 8, 2), (7.6, 25, 19),\n",
    "    (5.2, 18, 15), (9.7, 13, 3), (5.8, 18, 8), (5.8, 30, 15),\n",
    "    (8.4, 21, 18), (6.2, 23, 16), (7.0, 10, 18), (9.5, 30, 20),\n",
    "    (8.9, 3, 19), (6.4, 12, 2), (7.8, 12, 22), (9.9, 15, 13),\n",
    "    (7.5, 20, 17), (9.0, 25, 6), (8.5, 23, 2), (5.3, 30, 17),\n",
    "    (6.4, 5, 10), (8.1, 5, 21), (5.7, 22, 1), (6.3, 28, 4),\n",
    "    (9.8, 13, 1)\n",
    "]\n",
    "with connection.cursor() as cursor:\n",
    "    cursor.executemany(insert_ratings_query, ratings_records)\n",
    "    connection.commit()"
   ]
  },
  {
   "cell_type": "markdown",
   "metadata": {},
   "source": [
    "Теперь все три таблицы заполнены данными. Следующий шаг ― разобраться, как с этой базой данных взаимодействовать.\n",
    "\n",
    "# Чтение записей из базы данных\n",
    "\n",
    "До сих пор мы только создавали элементы базы данных. Пришло время выполнить несколько запросов и найти интересующие нас свойства. В этом разделе мы узнаем, как читать записи из таблиц базы данных с помощью оператора `SELECT`.\n",
    "\n",
    "## Чтение записей с помощью оператора `SELECT`\n",
    "\n",
    "Чтобы получить записи, необходимо отправить в `cursor.execute()` запрос `SELECT` и вернуть результат с помощью `cursor.fetchall()`:"
   ]
  },
  {
   "cell_type": "code",
   "execution_count": null,
   "metadata": {},
   "outputs": [],
   "source": [
    "select_movies_query = \"SELECT * FROM movies LIMIT 5\"\n",
    "with connection.cursor() as cursor:\n",
    "    cursor.execute(select_movies_query)\n",
    "    result = cursor.fetchall()\n",
    "    for row in result:\n",
    "        print(row)"
   ]
  },
  {
   "cell_type": "markdown",
   "metadata": {},
   "source": [
    "Переменная `result` содержит записи, возвращенные с помощью `.fetchall()`. Это список кортежей, представляющих отдельные записи таблицы.\n",
    "\n",
    "В приведенном запросе мы используем ключевое слово `LIMIT`, чтобы ограничить количество строк, получаемых от оператора `SELECT`. Разработчики часто используют `LIMIT` для разбивки выдачи на страницы при обработке больших объемов данных.\n",
    "\n",
    "В MySQL оператору `LIMIT` можно передать  два неотрицательных числовых аргумента:\n",
    "\n",
    "```MySQL\n",
    "SELECT * FROM movies LIMIT 2,5;\n",
    "```\n",
    "\n",
    "При использовании двух числовых аргументов первый указывает смещение, равное в данном примере 2, а второй ограничивает количество возвращаемых строк до 5. То есть запрос из примера вернет строки с 3 по 7."
   ]
  },
  {
   "cell_type": "code",
   "execution_count": null,
   "metadata": {},
   "outputs": [],
   "source": [
    "select_movies_query = \"SELECT title, release_year FROM movies LIMIT 2, 5\"\n",
    "with connection.cursor() as cursor:\n",
    "    cursor.execute(select_movies_query)\n",
    "    for row in cursor.fetchall():\n",
    "        print(row)"
   ]
  },
  {
   "cell_type": "markdown",
   "metadata": {},
   "source": [
    "# Фильтрация результатов с помощью WHERE\n",
    "\n",
    "Записи таблицы также можно фильтровать, используя `WHERE`. Чтобы получить все фильмы с кассовыми сборами свыше 300 млн долларов, выполним следующий запрос:"
   ]
  },
  {
   "cell_type": "code",
   "execution_count": null,
   "metadata": {},
   "outputs": [],
   "source": [
    "select_movies_query = \"\"\"\n",
    "SELECT title, collection_in_mil\n",
    "FROM movies\n",
    "WHERE collection_in_mil > 300\n",
    "ORDER BY collection_in_mil DESC\n",
    "\"\"\"\n",
    "with connection.cursor() as cursor:\n",
    "    cursor.execute(select_movies_query)\n",
    "    for movie in cursor.fetchall():\n",
    "        print(movie)"
   ]
  },
  {
   "cell_type": "markdown",
   "metadata": {},
   "source": [
    "Словосочетание `ORDER BY` в запросе позволяет отсортировать сборы от самого высокого до самого низкого.\n",
    "\n",
    "MySQL предоставляет множество операций форматирования строк, таких как `CONCAT` для объединения строк. Например, названия фильмов, чтобы избежать путаницы, обычно отображается вместе с годом выпуска. Получим названия пяти самых прибыльных фильмов вместе с датами их выхода в прокат:"
   ]
  },
  {
   "cell_type": "code",
   "execution_count": null,
   "metadata": {},
   "outputs": [],
   "source": [
    "select_movies_query = \"\"\"\n",
    "SELECT CONCAT(title, \" (\", release_year, \")\"),\n",
    "      collection_in_mil\n",
    "FROM movies\n",
    "ORDER BY collection_in_mil DESC\n",
    "LIMIT 5\n",
    "\"\"\"\n",
    "with connection.cursor() as cursor:\n",
    "    cursor.execute(select_movies_query)\n",
    "    for movie in cursor.fetchall():\n",
    "        print(movie)"
   ]
  },
  {
   "cell_type": "markdown",
   "metadata": {},
   "source": [
    "Если вы не хотите использовать `LIMIT` и вам не нужно получать все записи, можно использовать методы курсора `.fetchone()` и `.fetchmany()`:\n",
    "\n",
    "- `.fetchone()` извлекает следующую строку результата в виде кортежа, либо `None`, если доступных строк больше нет.\n",
    "- `.fetchmany()` извлекает следующий набор строк из результата в виде списка кортежей. Для этого ему передается аргумент, по умолчанию равный 1. Если доступных строк больше нет, метод возвращает пустой список.\n",
    "\n",
    "Снова извлечем названия пяти самых кассовых фильмов с указанием года выпуска, но на этот раз используя `.fetchmany()`:"
   ]
  },
  {
   "cell_type": "code",
   "execution_count": null,
   "metadata": {},
   "outputs": [],
   "source": [
    "select_movies_query = \"\"\"\n",
    "SELECT CONCAT(title, \" (\", release_year, \")\"),\n",
    "      collection_in_mil\n",
    "FROM movies\n",
    "ORDER BY collection_in_mil DESC\n",
    "\"\"\"\n",
    "with connection.cursor() as cursor:\n",
    "    cursor.execute(select_movies_query)\n",
    "    for movie in cursor.fetchmany(size=5):\n",
    "        print(movie)\n",
    "    cursor.fetchall()"
   ]
  },
  {
   "cell_type": "markdown",
   "metadata": {},
   "source": [
    "Вы могли заметить дополнительный вызов `cursor.fetchall()`. Мы делаем это, чтобы очистить все оставшиеся результаты, которые не были прочитаны `.fetchmany()`.\n",
    "\n",
    "Перед выполнением любых других операторов в том же соединении необходимо очистить все непрочитанные результаты. В противном случае вызывается исключение `InternalError`.\n",
    "\n",
    "# Обработка нескольких таблиц с помощью оператора JOIN\n",
    "\n",
    "Чтобы узнать названия пяти фильмов с самым высоким рейтингом, выполним следующий запрос:"
   ]
  },
  {
   "cell_type": "code",
   "execution_count": null,
   "metadata": {},
   "outputs": [],
   "source": [
    "select_movies_query = \"\"\"\n",
    "SELECT title, AVG(rating) as average_rating\n",
    "FROM ratings\n",
    "INNER JOIN movies\n",
    "    ON movies.id = ratings.movie_id\n",
    "GROUP BY movie_id\n",
    "ORDER BY average_rating DESC\n",
    "LIMIT 5\n",
    "\"\"\"\n",
    "with connection.cursor() as cursor:\n",
    "    cursor.execute(select_movies_query)\n",
    "    for movie in cursor.fetchall():\n",
    "        print(movie)"
   ]
  },
  {
   "cell_type": "markdown",
   "metadata": {},
   "source": [
    "Найти имя рецензента, давшего наибольшее количество оценок, можно так:"
   ]
  },
  {
   "cell_type": "code",
   "execution_count": null,
   "metadata": {},
   "outputs": [],
   "source": [
    "select_movies_query = \"\"\"\n",
    "SELECT CONCAT(first_name, \" \", last_name), COUNT(*) as num\n",
    "FROM reviewers\n",
    "INNER JOIN ratings\n",
    "    ON reviewers.id = ratings.reviewer_id\n",
    "GROUP BY reviewer_id\n",
    "ORDER BY num DESC\n",
    "LIMIT 1\n",
    "\"\"\"\n",
    "with connection.cursor() as cursor:\n",
    "    cursor.execute(select_movies_query)\n",
    "    for movie in cursor.fetchall():\n",
    "        print(movie)\n"
   ]
  },
  {
   "cell_type": "markdown",
   "metadata": {},
   "source": [
    "Как видим, больше всего рецензий написала Mary Cooper.\n",
    "\n",
    "Не имеет значения, насколько сложен запрос ― в конечном счете он обрабатывается сервером MySQL. Процесс выполнения запроса всегда остается прежним: передаем запрос в `cursor.execute()`, получаем результаты с помощью `.fetchall()`.\n",
    "\n",
    "# Обновление и удаление записей из базы данных\n",
    "В этом разделе мы обновим и удалим часть записей. Необходимые строки мы выберем с помощью ключевого слова `WHERE`.\n",
    "\n",
    "## Команда `UPDATE`\n",
    "Представим, что рецензент Amy Farah Fowler вышла замуж за Sheldon Cooper. Она сменила фамилию на Cooper, и нам необходимо обновить базу данных. Для обновления записей в MySQL используется оператор `UPDATE`:"
   ]
  },
  {
   "cell_type": "code",
   "execution_count": null,
   "metadata": {},
   "outputs": [],
   "source": [
    "update_query = \"\"\"\n",
    "UPDATE\n",
    "    reviewers\n",
    "SET\n",
    "    last_name = \"Cooper\"\n",
    "WHERE\n",
    "    first_name = \"Amy\"\n",
    "\"\"\"\n",
    "with connection.cursor() as cursor:\n",
    "    cursor.execute(update_query)\n",
    "    connection.commit()"
   ]
  },
  {
   "cell_type": "markdown",
   "metadata": {},
   "source": [
    "Код передает запрос на обновление в `cursor.execute()`, а `.commit()` вносит необходимые изменения в таблицу `reviewers`.\n",
    "\n",
    "Представим, что мы хотим дать возможность рецензентам изменять оценки. Программа должна знать `movie_id`, `reviewer_id` и новый `rating`. Пример на SQL:\n",
    "\n",
    "```MySQL\n",
    "UPDATE\n",
    "    ratings\n",
    "SET\n",
    "    rating = 5.0\n",
    "WHERE\n",
    "    movie_id = 18 AND reviewer_id = 15;\n",
    "\n",
    "SELECT *\n",
    "FROM ratings\n",
    "WHERE\n",
    "    movie_id = 18 AND reviewer_id = 15;\n",
    "```\n",
    "\n",
    "Указанные запросы сначала обновляют рейтинг, а затем выведут обновленный. Напишем скрипт на Python, который позволит  корректировать оценки:"
   ]
  },
  {
   "cell_type": "code",
   "execution_count": null,
   "metadata": {},
   "outputs": [],
   "source": [
    "from getpass import getpass\n",
    "from mysql.connector import connect, Error\n",
    "\n",
    "movie_id = input(\"Enter movie id: \")\n",
    "reviewer_id = input(\"Enter reviewer id: \")\n",
    "new_rating = input(\"Enter new rating: \")\n",
    "update_query = \"\"\"\n",
    "UPDATE\n",
    "    ratings\n",
    "SET\n",
    "    rating = \"%s\"\n",
    "WHERE\n",
    "    movie_id = \"%s\" AND reviewer_id = \"%s\";\n",
    "\n",
    "SELECT *\n",
    "FROM ratings\n",
    "WHERE\n",
    "    movie_id = \"%s\" AND reviewer_id = \"%s\"\n",
    "\"\"\" % (\n",
    "    new_rating,\n",
    "    movie_id,\n",
    "    reviewer_id,\n",
    "    movie_id,\n",
    "    reviewer_id,\n",
    ")\n",
    "\n",
    "try:\n",
    "    with connect(\n",
    "        host=\"localhost\",\n",
    "        user=input(\"Enter username: \"),\n",
    "        password=getpass(\"Enter password: \"),\n",
    "        database=\"online_movie_rating\",\n",
    "    ) as connection:\n",
    "        with connection.cursor() as cursor:\n",
    "            for result in cursor.execute(update_query, multi=True):\n",
    "                if result.with_rows:\n",
    "                    print(result.fetchall())\n",
    "            connection.commit()\n",
    "except Error as e:\n",
    "    print(e)"
   ]
  },
  {
   "cell_type": "markdown",
   "metadata": {},
   "source": [
    "Чтобы передать несколько запросов одному курсору, мы присваиваем аргументу `multi` значение `True`. В этом случае  `cursor.execute()` возвращает итератор. Каждый элемент в итераторе соответствует объекту курсора, который выполняет инструкцию, переданную в запросе. Приведенный код запускает  на этом итераторе цикл `for`, вызывая `.fetchall()` для каждого объекта курсора.\n",
    "\n",
    "Если для операции не был получен набор результатов, то `.fetchall()` вызывает исключение. Чтобы избежать этой ошибки, в приведенном коде мы используем свойство `cursor.with_rows`, которое указывает, создавала ли строки последняя выполненная операция.\n",
    "\n",
    "Хотя этот код решает поставленную задачу, инструкция `WHERE` в текущем виде является заманчивой целью для хакеров. Она уязвима для атаки с использованием [SQL-инъекции](https://proglib.io/p/vzlamyvaem-sayty-shpargalka-po-sql-inekciyam-2019-12-21), позволяющей злоумышленникам повредить базу данных или использовать ее не по назначению.\n",
    "\n",
    "Например, если пользователь отправляет `movie_id = 18`, `reviewer_id = 15` и `rating = 5.0` в качестве входных данных, то результат будет выглядеть так:\n",
    "\n",
    "```\n",
    "$ python modify_ratings.py\n",
    "Enter movie id: 18\n",
    "Enter reviewer id: 15\n",
    "Enter new rating: 5.0\n",
    "Enter username: <user_name>\n",
    "Enter password:\n",
    "[(18, 15, Decimal('5.0'))]\n",
    "```\n",
    "\n",
    "Оценка для `movie_id = 18` и `reviewer_id = 15` изменилась на `5.0`. Но если бы вы были хакером, вы могли отправить на вход скрытую команду:\n",
    "\n",
    "\n",
    "```\n",
    "$ python modify_ratings.py\n",
    "Enter movie id: 18\n",
    "Enter reviewer id: 15\"; UPDATE reviewers SET last_name = \"A\n",
    "Enter new rating: 5.0\n",
    "Enter username: <user_name>\n",
    "Enter password:\n",
    "[(18, 15, Decimal('5.0'))]\n",
    "```"
   ]
  },
  {
   "cell_type": "markdown",
   "metadata": {},
   "source": [
    "И снова выходные данные показывают, что указанный рейтинг был изменен на 5.0. Что изменилось?\n",
    "\n",
    "Хакер перехватил запрос на обновление данных. Запрос на обновление, изменит `last_name` всех записей в таблице рецензентов `\"A\"`:\n",
    "\n",
    "\n",
    "```python\n",
    ">>> select_query = \"\"\"\n",
    "... SELECT first_name, last_name\n",
    "... FROM reviewers\n",
    "... \"\"\"\n",
    ">>> with connection.cursor() as cursor:\n",
    "...     cursor.execute(select_query)\n",
    "...     for reviewer in cursor.fetchall():\n",
    "...         print(reviewer)\n",
    "...\n",
    "('Chaitanya', 'A')\n",
    "('Mary', 'A')\n",
    "('John', 'A')\n",
    "('Thomas', 'A')\n",
    "('Penny', 'A')\n",
    "('Mitchell', 'A')\n",
    "('Wyatt', 'A')\n",
    "('Andre', 'A')\n",
    "('Sheldon', 'A')\n",
    "('Kimbra', 'A')\n",
    "('Kat', 'A')\n",
    "('Bruce', 'A')\n",
    "('Domingo', 'A')\n",
    "('Rajesh', 'A')\n",
    "('Ben', 'A')\n",
    "('Mahinder', 'A')\n",
    "('Akbar', 'A')\n",
    "('Howard', 'A')\n",
    "('Pinkie', 'A')\n",
    "('Gurkaran', 'A')\n",
    "('Amy', 'A')\n",
    "('Marlon', 'A')\n",
    "```\n",
    "\n",
    "Приведенный код отображает `first_name` и `last_name` для всех записей в таблице проверяющих. Атака с использованием SQL-инъекции повредила эту таблицу, изменив `last_name` всех записей на «A».\n",
    "\n",
    "Есть быстрое решение для предотвращения таких атак. Не добавляйте значения запроса, предоставленные пользователем, напрямую в строку запроса. Лучше обнолять сценарий с отправкой значений запроса в качестве аргументов в `.execute()`:"
   ]
  },
  {
   "cell_type": "code",
   "execution_count": null,
   "metadata": {},
   "outputs": [],
   "source": [
    "from getpass import getpass\n",
    "from mysql.connector import connect, Error\n",
    "\n",
    "movie_id = input(\"Enter movie id: \")\n",
    "reviewer_id = input(\"Enter reviewer id: \")\n",
    "new_rating = input(\"Enter new rating: \")\n",
    "update_query = \"\"\"\n",
    "UPDATE\n",
    "    ratings\n",
    "SET\n",
    "    rating = %s\n",
    "WHERE\n",
    "    movie_id = %s AND reviewer_id = %s;\n",
    "\n",
    "SELECT *\n",
    "FROM ratings\n",
    "WHERE\n",
    "    movie_id = %s AND reviewer_id = %s\n",
    "\"\"\"\n",
    "val_tuple = (\n",
    "    new_rating,\n",
    "    movie_id,\n",
    "    reviewer_id,\n",
    "    movie_id,\n",
    "    reviewer_id,\n",
    ")\n",
    "\n",
    "try:\n",
    "    with connect(\n",
    "        host=\"localhost\",\n",
    "        user=input(\"Enter username: \"),\n",
    "        password=getpass(\"Enter password: \"),\n",
    "        database=\"online_movie_rating\",\n",
    "    ) as connection:\n",
    "        with connection.cursor() as cursor:\n",
    "            for result in cursor.execute(update_query, val_tuple, multi=True):\n",
    "                if result.with_rows:\n",
    "                    print(result.fetchall())\n",
    "            connection.commit()\n",
    "except Error as e:\n",
    "    print(e)"
   ]
  },
  {
   "cell_type": "markdown",
   "metadata": {},
   "source": [
    "Обратите внимание, что плейсхолдеры `%s` больше не заключены в строковые кавычки. `cursor.execute()` проверяет, что значения в кортеже, полученном в качестве аргумента, имеют требуемый тип данных. Если пользователь попытается ввести какие-то проблемные символы, код вызовет исключение:\n",
    "\n",
    "```Bash\n",
    "$ python modify_ratings.py\n",
    "Enter movie id: 18\n",
    "Enter reviewer id: 15\"; UPDATE reviewers SET last_name = \"A\n",
    "Enter new rating: 5.0\n",
    "Enter username: <user_name>\n",
    "Enter password:\n",
    "1292 (22007): Truncated incorrect DOUBLE value: '15\";\n",
    "UPDATE reviewers SET last_name = \"A'\n",
    "```\n",
    "\n",
    "Такой подход стоит использовать всегда, когда вы включаете  в запрос пользовательский ввод. Не поленитесь узнать и про [другие способы предотвращения атак с использованием SQL-инъекций](https://realpython.com/prevent-python-sql-injection/).\n",
    "\n",
    "## Удаление записей: команда DELETE\n",
    "\n",
    "Процедура удаления записей очень похожа на их обновление. Поскольку `DELETE` является необратимой операцией, мы рекомендуем сначала запускать запрос `SELECT` с тем же фильтром, чтобы убедиться, что вы удаляете нужные записи. Например, чтобы удалить все оценки фильмов, данные `reviewer_id = 2`, мы можем сначала запустить соответствующий запрос `SELECT`:"
   ]
  },
  {
   "cell_type": "code",
   "execution_count": null,
   "metadata": {},
   "outputs": [],
   "source": [
    "select_movies_query = \"\"\"\n",
    "SELECT reviewer_id, movie_id FROM ratings\n",
    "WHERE reviewer_id = 2\n",
    "\"\"\"\n",
    "with connection.cursor() as cursor:\n",
    "    cursor.execute(select_movies_query)\n",
    "    for movie in cursor.fetchall():\n",
    "        print(movie)"
   ]
  },
  {
   "cell_type": "markdown",
   "metadata": {},
   "source": [
    "Приведенный фрагмент кода выводит пары `reviewer_id` и `movie_id` для записей в таблице оценок, для которых `reviewer_id = 2`. Убедившись, что это те записи, которые нужно удалить, выполним запрос `DELETE` с тем же фильтром:"
   ]
  },
  {
   "cell_type": "code",
   "execution_count": null,
   "metadata": {},
   "outputs": [],
   "source": [
    "delete_query = \"DELETE FROM ratings WHERE reviewer_id = 2\"\n",
    "with connection.cursor() as cursor:\n",
    "    cursor.execute(delete_query)\n",
    "    connection.commit()"
   ]
  },
  {
   "cell_type": "markdown",
   "metadata": {},
   "source": [
    "# Другие способы соединения Python и MySQL\n",
    "\n",
    "В этом руководстве мы познакомились с MySQL Connector/Python, который является официально рекомендуемым средством взаимодействия с базой данных MySQL из приложения Python. Вот еще пара популярных коннекторов:\n",
    "1. [mysqlclient](https://github.com/PyMySQL/mysqlclient-python) ― библиотека, которая является конкурентом официального коннектора и активно дополняется новыми функциями. Поскольку ядро библиотеки написано на C, она имеет лучшую производительность, чем официальный коннектор на чистом Python. Большой недостаток состоит в том, что mysqlclient довольно сложно настроить и установить, особенно в Windows.\n",
    "2. [MySQLdb](https://mysqlclient.readthedocs.io/user_guide.html) ― устаревшее программное обеспечение, которое до сих пор используется в коммерческих приложениях. Написано на C и быстрее MySQL Connector/Python, но доступно только для Python 2.\n",
    "\n",
    "Эти драйверы действуют, как интерфейсы между вашей программой и базой данных MySQL. Фактически вы просто отправляете через них свои SQL-запросы. Но многие разработчики предпочитают использовать для управления данными не SQL-запросы, а объектно-ориентированную парадигму.\n",
    "\n",
    "Объектно-реляционное отображение ([ORM](https://ru.wikipedia.org/wiki/ORM)) — метод, который позволяет запрашивать и управлять данными из базы данных напрямую, используя объектно-ориентированный язык. ORM-библиотека инкапсулирует код, необходимый для управления данными, освобождая разработчиков от необходимости использовать SQL-запросы. Вот самые популярные ORM-библиотеки для связки Python и SQL:\n",
    "1. [SQLAlchemy](https://docs.sqlalchemy.org/en/13/index.html) ― это ORM, которая упрощает взаимодействие между Python и другими базами данных SQL. Вы можете создавать разные движки для разных баз данных, таких как MySQL, PostgreSQL, SQLite и т. д. Читайте наш [туториал по SQLAlchemy](https://proglib.io/p/upravlenie-dannymi-s-pomoshchyu-python-sqlite-i-sqlalchemy-2020-10-21).\n",
    "2. [peewee](https://docs.peewee-orm.com/en/latest/) ―  легкая и быстрая ORM-библиотека с простой настройкой, что очень полезно, когда ваше взаимодействие с базой данных ограничивается извлечением нескольких записей. Если нужно скопировать отдельные записи из базы данных MySQL в csv-файл, то лучший выбор ― peewee.\n",
    "3. [Django ORM](https://books.agiliq.com/projects/django-orm-cookbook/en/latest/introduction.html) ― одна из самых мощных составляющих веб-фреймворка Django, позволяющая простым образом взаимодействовать с различными базами данных SQLite, PostgreSQL и MySQL. Многие приложения на основе Django используют Django ORM для моделирования данных и базовых запросов, однако для более сложных задач разработчики обычно используют SQLAlchemy.\n",
    "\n",
    "# Заключение\n",
    "В этом руководстве мы познакомились с применением `MySQL Connector/Python` для интеграции базы данных MySQL в ваше приложение Python. Мы также разработали тестовый образец базы данных MySQL и повзаимодействовали с ней непосредственно из Python-кода. Дополнительные сведения можно найти в [официальной документации](https://dev.mysql.com/doc/connector-python/en/).\n",
    "\n",
    "Python имеет коннекторы и для других СУБД, таких как [MongoDB](https://realpython.com/introduction-to-mongodb-and-python/) и [PostgreSQL](https://proglib.io/p/kak-podruzhit-python-i-bazy-dannyh-sql-podrobnoe-rukovodstvo-2020-02-27).\n",
    "\n",
    "---\n",
    "\n",
    "Буду рад узнать, какие еще материалы по Python и базам данных вам были бы интересны ― мои контакты на [GitHub-странице](https://github.com/matyushkin/)."
   ]
  }
 ],
 "metadata": {
  "kernelspec": {
   "display_name": "Python 3",
   "language": "python",
   "name": "python3"
  },
  "language_info": {
   "codemirror_mode": {
    "name": "ipython",
    "version": 3
   },
   "file_extension": ".py",
   "mimetype": "text/x-python",
   "name": "python",
   "nbconvert_exporter": "python",
   "pygments_lexer": "ipython3",
   "version": "3.7.3"
  }
 },
 "nbformat": 4,
 "nbformat_minor": 4
}
