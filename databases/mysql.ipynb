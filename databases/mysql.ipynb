{
 "cells": [
  {
   "cell_type": "markdown",
   "metadata": {},
   "source": [
    "# Python и база данных MySQL: практическое введение\n",
    "\n",
    "Данный материал является незначительно сокращенным переводом публикации Чайтаньи Баведжи [Python and MySQL Database: A Practical Introduction](https://realpython.com/python-mysql/).\n",
    "\n",
    "MySQL — одна из самых популярных систем управления базами данных ([СУБД](https://ru.wikipedia.org/wiki/%D0%A1%D0%B8%D1%81%D1%82%D0%B5%D0%BC%D0%B0_%D1%83%D0%BF%D1%80%D0%B0%D0%B2%D0%BB%D0%B5%D0%BD%D0%B8%D1%8F_%D0%B1%D0%B0%D0%B7%D0%B0%D0%BC%D0%B8_%D0%B4%D0%B0%D0%BD%D0%BD%D1%8B%D1%85)) на рынке. В прошлом году в рейтинге DB-Engines она заняла второе место после СУБД Oracle. Большинство приложений в той или иной форме взаимодействует с данными. Поэтому языки программирования, такие как Python, предоставляют инструменты для хранения этих источников данных и доступа к ним.\n",
    "\n",
    "Используя методы, описанные в этом руководстве, вы сможете эффективно интегрировать базу данных MySQL в приложение на Python. Вы разработаете небольшую базу данных MySQL для системы рейтинга фильмов и узнаете, как забирать из нее данные прямо из кода Python.\n",
    "\n",
    "К концу этого урока вы сможете:\n",
    "- Описать главные особенности MySQL\n",
    "- Подключить ваше приложение к базе данных MySQL\n",
    "- Сделать запрос к базе данных для получения необходимых данных\n",
    "- Обработать исключения, возникающие при доступе к базе данных\n",
    "- Использовать лучшие практики при создании приложений баз данных\n",
    "\n",
    "Чтобы получить максимальную отдачу от этого руководства, вы должны иметь практические знания в таких концепциях Python, как цикл `for`, функции, обработка исключений и установка пакетов Python с помощью `pip`. Также необходимо иметь базовое представление о системах управления реляционными базами данных и SQL-запросах, таких как `SELECT`, `DROP`, `CREATE` и `JOIN`."
   ]
  },
  {
   "cell_type": "markdown",
   "metadata": {},
   "source": [
    "# Сравнение MySQL с другими SQL-базами данных\n",
    "\n",
    "Аббревиатура SQL расшифровывается как Structured Query Language — язык структурированных запросов. SQL является широко используемым языком программирования для управления реляционными базами данных. Возможно, вы слышали о различных вариантах СУБД на основе SQL. Самые популярные из них: [MySQL](https://www.mysql.com/), [PostgreSQL](https://www.postgresql.org/), [SQLite](https://www.sqlite.org/index.html) и [SQL Server](https://www.microsoft.com/en-us/sql-server/sql-server-2019). Все эти базы данных соответствуют [стандартам SQL](https://docs.oracle.com/cd/B28359_01/server.111/b28286/intro002.htm), но в разной степени.\n",
    "\n",
    "В силу открытости исходного кода с самого момента своего создания в 1995 году MySQL быстро стал лидером рынка среди SQL-решений. MySQL также является частью экосистемы Oracle. Хотя его основная функциональность полностью бесплатна, есть и платные дополнения. В настоящее время MySQL используется всеми крупными техническими фирмами, включая Google, LinkedIn, Uber, Netflix, Twitter и другие.\n",
    "\n",
    "Помимо поддержки со стороны большого сообщества разработчиков ПО с открытым исходным кодом, есть много других причин успеха MySQL:\n",
    "\n",
    "1. **Простота установки**. MySQL был разработан, чтобы быть удобным для пользователя. Создать базу данных MySQL довольно просто, а несколько широко доступных сторонних инструментов, таких как phpMyAdmin, еще больше упрощают процесс настройки. MySQL доступен для всех основных операционных систем, включая Windows, macOS, Linux и Solaris.\n",
    "2. **Скорость**. MySQL имеет репутацию быстрого решения для баз данных. Эта СУБД также хорошо масштабируется в долгосрочной перспективе.\n",
    "3. **Права пользователя и безопасность**. MySQL позволяет устанавливать уровень безопасности пароля, назначать пароли администратора, добавлять и удалять привилегии учетным записям пользователей. Процессы администрирования правами пользователями веб-хостинга выглядят очень просто. Другие СУБД, такие как PostgreSQL, используют [файлы конфигурации](https://www.postgresql.org/docs/9.3/config-setting.html), которые потребуют некоторой сноровки.\n",
    "\n",
    "MySQL использует синтаксис, очень похожий на стандартный SQL. Однако есть некоторые заметные отличия, упомянутые в [официальной документации](https://dev.mysql.com/doc/refman/8.0/en/differences-from-ansi.html)."
   ]
  },
  {
   "cell_type": "markdown",
   "metadata": {},
   "source": [
    "# Установка MySQL Server и MySQL Connector\n",
    "\n",
    "Чтобы начать работу с этим руководством, вам необходимо настроить две вещи: MySQL Server и MySQL Connector. MySQL Server предоставит все ресурсы, необходимые для работы с вашей базой данных. После запуска сервера вы сможете подключить к нему свое приложение Python с помощью MySQL Connector / Python.\n",
    "\n",
    "## Установка MySQL Server\n",
    "Официальная документация описывает рекомендуемые способы загрузки и установки MySQL Server. Вы найдете инструкции для всех популярных операционных систем, включая [Windows](https://dev.mysql.com/doc/refman/8.0/en/windows-installation.html), [macOS](https://dev.mysql.com/doc/refman/8.0/en/osx-installation.html), [Solaris](https://dev.mysql.com/doc/refman/8.0/en/solaris-installation.html), [Linux](https://dev.mysql.com/doc/refman/8.0/en/linux-installation.html) и многие другие.\n",
    "\n",
    "Для Windows лучше всего загрузить [установщик MySQL](https://dev.mysql.com/downloads/installer/) и позволить ему позаботиться обо всем процессе. Диспетчер установки также помогает настроить параметры безопасности сервера MySQL. На странице Учетные записи и роли вам необходимо ввести пароль для root-записи (admin), а также при желании добавить других пользователей с различными привилегиями:\n",
    "\n",
    "<img src=\"https://files.realpython.com/media/root_user_pass.cf4a9c6ea5f5.png\" width=\"500px\"/>\n",
    "*Настройка учетной записи MySQL*\n",
    "\n",
    "С помощью этих установщиков вы также можете настроить другие полезные инструменты, такие как [MySQL Workbench](https://www.mysql.com/products/workbench/). Если вы не хотите устанавливать MySQL непосредственно в операционную систему, удобная альтернатива — [развернуть MySQL с помощью Docker](https://dev.mysql.com/doc/refman/8.0/en/linux-installation-docker.html).\n",
    "\n",
    "## Установка MySQL Connector/Python\n",
    "\n",
    "Драйвер базы данных — программное обеспечение, которое позволяет приложению подключаться и взаимодействовать с системой базы данных.\n",
    "\n",
    "Такие драйверы обычно поставляются в виде отдельных модулей. API базы данных Python (DB-API) определяет стандартный интерфейс, которому должны соответствовать все драйверы базы данных Python. Эти сведения задокументированы в [PEP 249](https://www.python.org/dev/peps/pep-0249/). Все драйверы баз данных Python, такие как [sqlite3](https://docs.python.org/3/library/sqlite3.html) для SQLite, [psycopg](https://www.psycopg.org/docs/) для PostgreSQL и [MySQL Connector/Python](https://github.com/mysql/mysql-connector-python) для MySQL, следуют этим правилам. Для установки воспользуемся менеджером пакетов `pip`:\n"
   ]
  },
  {
   "cell_type": "code",
   "execution_count": 1,
   "metadata": {},
   "outputs": [
    {
     "name": "stdout",
     "output_type": "stream",
     "text": [
      "Collecting mysql-connector-python\n",
      "  Downloading mysql_connector_python-8.0.22-cp37-cp37m-manylinux1_x86_64.whl (18.0 MB)\n",
      "\u001b[K     |████████████████████████████████| 18.0 MB 31 kB/s s eta 0:00:01\n",
      "\u001b[?25hRequirement already satisfied: protobuf>=3.0.0 in /home/leo/anaconda3/lib/python3.7/site-packages (from mysql-connector-python) (3.12.2)\n",
      "Requirement already satisfied: setuptools in /home/leo/anaconda3/lib/python3.7/site-packages (from protobuf>=3.0.0->mysql-connector-python) (49.6.0.post20201009)\n",
      "Requirement already satisfied: six>=1.9 in /home/leo/anaconda3/lib/python3.7/site-packages (from protobuf>=3.0.0->mysql-connector-python) (1.15.0)\n",
      "Installing collected packages: mysql-connector-python\n",
      "Successfully installed mysql-connector-python-8.0.22\n"
     ]
    }
   ],
   "source": [
    "!pip install mysql-connector-python"
   ]
  },
  {
   "cell_type": "markdown",
   "metadata": {},
   "source": [
    "`pip` установит коннектор, как сторонний модуль, в текущую активную среду. Чтобы работать с проектом изолированным образом, рекомендуется [настроить виртуальную среду](https://proglib.io/p/kak-sozdat-virtualnoe-okruzhenie-v-python-i-perestat-dumat-o-zavisimostyah-2020-03-10).\n",
    "\n",
    "Проверим результат установки, запустив в терминале Python следующую команду:"
   ]
  },
  {
   "cell_type": "code",
   "execution_count": 1,
   "metadata": {},
   "outputs": [],
   "source": [
    "import mysql.connector"
   ]
  },
  {
   "cell_type": "markdown",
   "metadata": {},
   "source": [
    "Если приведенный код выполняется без ошибок, значит `mysql.connector` успешно установлен и готов к использованию."
   ]
  },
  {
   "cell_type": "markdown",
   "metadata": {},
   "source": [
    "# Установление соединения с сервером MySQL\n",
    "\n",
    "MySQL ― это серверная система управления базами данных. Один сервер может содержать несколько баз данных. Чтобы взаимодействовать с базой данных, вы должны сначала установить соединение с сервером. Общий рабочий процесс программы Python, которая взаимодействует с базой данных на основе MySQL, выглядит следующим образом:\n",
    "\n",
    "1. Подключаемся к серверу MySQL.\n",
    "2. Создаем новую базу данных (при необходимости).\n",
    "3. Соединяемся с базой данных.\n",
    "4. Выполняем SQL-запрос, собираем результаты.\n",
    "5. Сообщаем базе данных, если в таблицу внесены изменения.\n",
    "6. Закрываем соединением с сервером MySQL.\n",
    "\n",
    "Это общий рабочий процесс, который может различаться в зависимости от конкретного приложения. Но каким бы ни было приложение, первый шаг ― связать между собой приложение и базу данных."
   ]
  },
  {
   "cell_type": "markdown",
   "metadata": {},
   "source": [
    "# Подключаемся к серверу MySQL из Python\n",
    "\n",
    "Чтобы установить соединение, используем `connect()` из модуля `mysql.connector`. Эта функция принимает параметры `host`, `user` и `password`, а возвращает объект `MySQLConnection`. Учетные данные можно получить в виде ввода от пользователя:"
   ]
  },
  {
   "cell_type": "code",
   "execution_count": 3,
   "metadata": {},
   "outputs": [
    {
     "name": "stdin",
     "output_type": "stream",
     "text": [
      "Имя пользователя:  root\n",
      "Пароль:  ········\n"
     ]
    },
    {
     "name": "stdout",
     "output_type": "stream",
     "text": [
      "<mysql.connector.connection_cext.CMySQLConnection object at 0x7f1a98d5e198>\n"
     ]
    }
   ],
   "source": [
    "from getpass import getpass\n",
    "from mysql.connector import connect, Error\n",
    "\n",
    "try:\n",
    "    with connect(\n",
    "        host=\"localhost\",\n",
    "        user=input(\"Имя пользователя: \"),\n",
    "        password=getpass(\"Пароль: \"),\n",
    "    ) as connection:\n",
    "        print(connection)\n",
    "except Error as e:\n",
    "    print(e)"
   ]
  },
  {
   "cell_type": "markdown",
   "metadata": {},
   "source": [
    "Объект `MySQLConnection` хранится в переменной `connection`, которую теперь мы будем использовать для доступа к серверу MySQL. Несколько важных моментов:\n",
    "\n",
    "- Оборачивайте все соединения в блоки `try ... except`. Так будет проще перехватить и изучить любые исключения.\n",
    "- Не забывайте закрывать соединение после завершения доступа к базе данных. Неиспользуемые открытые соединения приводят к неожиданным ошибкам и проблемам с производительностью. В приведенном коде для этого используется диспетчер контекста (`with ... as ...`).\n",
    "- Никогда не следует жестко кодировать свои учетные данные (имя пользователя и пароль) непосредственно в скрипт Python. Это плохая практика для развертывания и представляет серьезную угрозу безопасности. Приведенный код запрашивает для входа учетные данные. Для этого используется встроенный модуль `getpass`, чтобы скрыть вводимый пароль. Хотя это лучше, чем жесткое кодирование, но есть и другие, более безопасные способы хранения конфиденциальной информации, например, использование переменных среды.\n",
    "\n",
    "Мы установили соединение между нашей программой и сервером MySQL. Теперь нужно либо создать новую базу данных, либо подключиться к существующей."
   ]
  },
  {
   "cell_type": "markdown",
   "metadata": {},
   "source": [
    "# Создаем новую базу данных\n",
    "\n",
    "Чтобы создать новую базу данных, например `online_movie_rating`, нужно выполнить инструкцию SQL:\n",
    "\n",
    "```\n",
    "CREATE DATABASE online_movie_rating;\n",
    "```\n",
    "---\n",
    "**Примечание**. MySQL обязывает ставить точку с запятой (`;`) в конце оператора. Однако `MySQL Connector/Python` автоматически добавляет точку с запятой в конце запросов.\n",
    "\n",
    "---\n",
    "\n",
    "Чтобы выполнить SQL-запрос, нам понадобится курсор, который абстрагирует процесс доступа к записям базы данных. MySQL Connector/Python предоставляет соответствующий класс `MySQLCursor`, экземпляр которого также называется курсором.\n",
    "\n",
    "Передадим наш запрос о создании базы данных `online_movie_rating`:"
   ]
  },
  {
   "cell_type": "code",
   "execution_count": 4,
   "metadata": {},
   "outputs": [
    {
     "name": "stdin",
     "output_type": "stream",
     "text": [
      "Имя пользователя:  root\n",
      "Пароль:  ········\n"
     ]
    },
    {
     "name": "stdout",
     "output_type": "stream",
     "text": [
      "1007 (HY000): Can't create database 'online_movie_rating'; database exists\n"
     ]
    }
   ],
   "source": [
    "try:\n",
    "    with connect(\n",
    "        host=\"localhost\",\n",
    "        user=input(\"Имя пользователя: \"),\n",
    "        password=getpass(\"Пароль: \"),\n",
    "    ) as connection:\n",
    "        create_db_query = \"CREATE DATABASE online_movie_rating\"\n",
    "        with connection.cursor() as cursor:\n",
    "            cursor.execute(create_db_query)\n",
    "except Error as e:\n",
    "    print(e)"
   ]
  },
  {
   "cell_type": "markdown",
   "metadata": {},
   "source": [
    "Запрос `CREATE DATABASE` сохраняется в виде строки в переменной `create_db_query`, а затем передается на выполнение в `cursor.execute()`.\n",
    "\n",
    "Если база данных с таким именем уже существует на сервере вы получите сообщение об ошибке. Чтобы это проверить, мы можем отобразить имена всех баз данных на сервере. Используя тот же объект `MySQLConnection`, что и ранее, выполним запрос `SHOW DATABASES`:"
   ]
  },
  {
   "cell_type": "code",
   "execution_count": 5,
   "metadata": {},
   "outputs": [
    {
     "name": "stdin",
     "output_type": "stream",
     "text": [
      "Enter username:  root\n",
      "Enter password:  ········\n"
     ]
    },
    {
     "name": "stdout",
     "output_type": "stream",
     "text": [
      "('information_schema',)\n",
      "('mysql',)\n",
      "('online_movie_rating',)\n",
      "('performance_schema',)\n",
      "('sys',)\n"
     ]
    }
   ],
   "source": [
    "try:\n",
    "    with connect(\n",
    "        host=\"localhost\",\n",
    "        user=input(\"Enter username: \"),\n",
    "        password=getpass(\"Enter password: \"),\n",
    "    ) as connection:\n",
    "        show_db_query = \"SHOW DATABASES\"\n",
    "        with connection.cursor() as cursor:\n",
    "            cursor.execute(show_db_query)\n",
    "            for db in cursor:\n",
    "                print(db)\n",
    "except Error as e:\n",
    "    print(e)"
   ]
  },
  {
   "cell_type": "markdown",
   "metadata": {},
   "source": [
    "Приведенный код выведет имена всех баз данных, находящихся  на нашем сервере MySQL. Команда `SHOW DATABASES` в нашем примере также вывела базы данных, которые автоматически создаются сервером MySQL и предоставляют доступ к различным метаданным баз данных и настройкам сервера."
   ]
  },
  {
   "cell_type": "markdown",
   "metadata": {},
   "source": [
    "# Подключение к существующей базе данных\n",
    "\n",
    "Итак, мы создали новую базу данных под названием `online_movie_rating`. Чтобы к ней подключиться, просто дополняем вызов `connect()` параметром `database`:"
   ]
  },
  {
   "cell_type": "code",
   "execution_count": 16,
   "metadata": {},
   "outputs": [
    {
     "name": "stdin",
     "output_type": "stream",
     "text": [
      "Имя пользователя:  root\n",
      "Пароль:  ········\n"
     ]
    },
    {
     "name": "stdout",
     "output_type": "stream",
     "text": [
      "<mysql.connector.connection_cext.CMySQLConnection object at 0x7f6269f4e908>\n"
     ]
    }
   ],
   "source": [
    "try:\n",
    "    with connect(\n",
    "        host=\"localhost\",\n",
    "        user=input(\"Имя пользователя: \"),\n",
    "        password=getpass(\"Пароль: \"),\n",
    "        database=\"online_movie_rating\",\n",
    "    ) as connection:\n",
    "        print(connection)\n",
    "except Error as e:\n",
    "    print(e)"
   ]
  },
  {
   "cell_type": "markdown",
   "metadata": {},
   "source": [
    "---\n",
    "\n",
    "Для удобства дальнейшей работы , чтобы не вводить в каждую ячейку логи и пароль, создадим соединение, не закрывая его."
   ]
  },
  {
   "cell_type": "code",
   "execution_count": 6,
   "metadata": {},
   "outputs": [
    {
     "name": "stdin",
     "output_type": "stream",
     "text": [
      "Имя пользователя:  root\n",
      "Пароль:  ········\n"
     ]
    }
   ],
   "source": [
    "connection = connect(\n",
    "    host=\"localhost\",\n",
    "    user=input(\"Имя пользователя: \"),\n",
    "    password=getpass(\"Пароль: \"),\n",
    "    database=\"online_movie_rating\")"
   ]
  },
  {
   "cell_type": "markdown",
   "metadata": {},
   "source": [
    "___"
   ]
  },
  {
   "cell_type": "markdown",
   "metadata": {
    "jupyter": {
     "source_hidden": true
    }
   },
   "source": [
    "# Создание, изменение и удаление таблиц\n",
    "\n",
    "В этом разделе мы рассмотрим, как с помощью Python выполнять некоторые базовые запросы вроде `CREATE`, `DROP` и `ALTER`. \n",
    "\n",
    "## Определение схемы базы данных\n",
    "Начнем с создания схемы базы данных для рейтинговой системы фильмов. База данных будет состоять из трех таблиц:\n",
    "\n",
    "1. `movies` содержит общую информацию о фильмах и имеет следующие атрибуты\n",
    "- `id`\n",
    "- `title`\n",
    "- `release year`\n",
    "- `genre`\n",
    "- `collection_in_mil`\n",
    "2. `reviewers` содержит информацию о людях, которые опубликовали отзывы или оценки, и имеет следующие атрибуты:\n",
    "- `id`\n",
    "- `first_name`\n",
    "- `last_name`\n",
    "3. `ratings` содержит информацию о выставленных рейтингах и имеет следующие атрибуты\n",
    "- `movie_id` (foreign key)\n",
    "- `reviewer_id` (foreign key)\n",
    "- `rating`\n",
    "\n",
    "Этих трех таблиц будет достаточно для целей данного руководства.\n",
    "\n",
    "<img src=\"https://files.realpython.com/media/schema.2e80e67d2ae1.png\" width=\"500px\"/>\n",
    "*Схема системы рейтинга фильмов*\n",
    "\n",
    "Таблицы в этой базе данных связаны друг с другом: `movies` и `reviewers` должны иметь отношение «многие ко многим»: один фильм может быть просмотрен несколькими рецензентами, а один рецензент может рецензировать несколько фильмов. Таблица `ratings` соединяет таблицу фильмов с таблицей обозревателей."
   ]
  },
  {
   "cell_type": "markdown",
   "metadata": {},
   "source": [
    "# Создание таблиц с помощью оператора CREATE TABLE\n",
    "\n",
    "Теперь, чтобы создать новую таблицу в MySQL, нам нужно использовать оператор `CREATE TABLE`. Следующий запрос MySQL создаст таблицу `movies` нашей базы данных `online_movie_rating`:\n",
    "\n",
    "```MySQL\n",
    "CREATE TABLE movies(\n",
    "    id INT AUTO_INCREMENT PRIMARY KEY,\n",
    "    title VARCHAR(100),\n",
    "    release_year YEAR(4),\n",
    "    genre VARCHAR(100),\n",
    "    collection_in_mil INT\n",
    ");\n",
    "```\n",
    "\n",
    "Если вы раньше встречались с SQL, вам будет понятен смысл  приведенного запроса. Однако в синтаксисе MySQL есть некоторые отличительные особенности. Например, MySQL предлагает широкий выбор типов данных, включая `YEAR`, `INT`, `BIGINT` и так далее. Кроме того, MySQL использует ключевое слово `AUTO_INCREMENT`, когда значение столбца должно автоматически увеличиваться при вставке новых записей.\n",
    "\n",
    "Чтобы создать новую таблицу, нам необходимо передать указанный запрос в `cursor.execute()`:"
   ]
  },
  {
   "cell_type": "code",
   "execution_count": 7,
   "metadata": {
    "collapsed": true,
    "jupyter": {
     "outputs_hidden": true
    }
   },
   "outputs": [
    {
     "ename": "ProgrammingError",
     "evalue": "1050 (42S01): Table 'movies' already exists",
     "output_type": "error",
     "traceback": [
      "\u001b[0;31m---------------------------------------------------------------------------\u001b[0m",
      "\u001b[0;31mMySQLInterfaceError\u001b[0m                       Traceback (most recent call last)",
      "\u001b[0;32m~/anaconda3/lib/python3.7/site-packages/mysql/connector/connection_cext.py\u001b[0m in \u001b[0;36mcmd_query\u001b[0;34m(self, query, raw, buffered, raw_as_string)\u001b[0m\n\u001b[1;32m    505\u001b[0m                                \u001b[0mraw\u001b[0m\u001b[0;34m=\u001b[0m\u001b[0mraw\u001b[0m\u001b[0;34m,\u001b[0m \u001b[0mbuffered\u001b[0m\u001b[0;34m=\u001b[0m\u001b[0mbuffered\u001b[0m\u001b[0;34m,\u001b[0m\u001b[0;34m\u001b[0m\u001b[0;34m\u001b[0m\u001b[0m\n\u001b[0;32m--> 506\u001b[0;31m                                raw_as_string=raw_as_string)\n\u001b[0m\u001b[1;32m    507\u001b[0m         \u001b[0;32mexcept\u001b[0m \u001b[0mMySQLInterfaceError\u001b[0m \u001b[0;32mas\u001b[0m \u001b[0mexc\u001b[0m\u001b[0;34m:\u001b[0m\u001b[0;34m\u001b[0m\u001b[0;34m\u001b[0m\u001b[0m\n",
      "\u001b[0;31mMySQLInterfaceError\u001b[0m: Table 'movies' already exists",
      "\nDuring handling of the above exception, another exception occurred:\n",
      "\u001b[0;31mProgrammingError\u001b[0m                          Traceback (most recent call last)",
      "\u001b[0;32m<ipython-input-7-f9e04f5120c6>\u001b[0m in \u001b[0;36m<module>\u001b[0;34m\u001b[0m\n\u001b[1;32m     10\u001b[0m \u001b[0;34m\u001b[0m\u001b[0m\n\u001b[1;32m     11\u001b[0m \u001b[0;32mwith\u001b[0m \u001b[0mconnection\u001b[0m\u001b[0;34m.\u001b[0m\u001b[0mcursor\u001b[0m\u001b[0;34m(\u001b[0m\u001b[0;34m)\u001b[0m \u001b[0;32mas\u001b[0m \u001b[0mcursor\u001b[0m\u001b[0;34m:\u001b[0m\u001b[0;34m\u001b[0m\u001b[0;34m\u001b[0m\u001b[0m\n\u001b[0;32m---> 12\u001b[0;31m     \u001b[0mcursor\u001b[0m\u001b[0;34m.\u001b[0m\u001b[0mexecute\u001b[0m\u001b[0;34m(\u001b[0m\u001b[0mcreate_movies_table_query\u001b[0m\u001b[0;34m)\u001b[0m\u001b[0;34m\u001b[0m\u001b[0;34m\u001b[0m\u001b[0m\n\u001b[0m\u001b[1;32m     13\u001b[0m     \u001b[0mconnection\u001b[0m\u001b[0;34m.\u001b[0m\u001b[0mcommit\u001b[0m\u001b[0;34m(\u001b[0m\u001b[0;34m)\u001b[0m\u001b[0;34m\u001b[0m\u001b[0;34m\u001b[0m\u001b[0m\n",
      "\u001b[0;32m~/anaconda3/lib/python3.7/site-packages/mysql/connector/cursor_cext.py\u001b[0m in \u001b[0;36mexecute\u001b[0;34m(self, operation, params, multi)\u001b[0m\n\u001b[1;32m    264\u001b[0m             result = self._cnx.cmd_query(stmt, raw=self._raw,\n\u001b[1;32m    265\u001b[0m                                          \u001b[0mbuffered\u001b[0m\u001b[0;34m=\u001b[0m\u001b[0mself\u001b[0m\u001b[0;34m.\u001b[0m\u001b[0m_buffered\u001b[0m\u001b[0;34m,\u001b[0m\u001b[0;34m\u001b[0m\u001b[0;34m\u001b[0m\u001b[0m\n\u001b[0;32m--> 266\u001b[0;31m                                          raw_as_string=self._raw_as_string)\n\u001b[0m\u001b[1;32m    267\u001b[0m         \u001b[0;32mexcept\u001b[0m \u001b[0mMySQLInterfaceError\u001b[0m \u001b[0;32mas\u001b[0m \u001b[0mexc\u001b[0m\u001b[0;34m:\u001b[0m\u001b[0;34m\u001b[0m\u001b[0;34m\u001b[0m\u001b[0m\n\u001b[1;32m    268\u001b[0m             raise errors.get_mysql_exception(msg=exc.msg, errno=exc.errno,\n",
      "\u001b[0;32m~/anaconda3/lib/python3.7/site-packages/mysql/connector/connection_cext.py\u001b[0m in \u001b[0;36mcmd_query\u001b[0;34m(self, query, raw, buffered, raw_as_string)\u001b[0m\n\u001b[1;32m    507\u001b[0m         \u001b[0;32mexcept\u001b[0m \u001b[0mMySQLInterfaceError\u001b[0m \u001b[0;32mas\u001b[0m \u001b[0mexc\u001b[0m\u001b[0;34m:\u001b[0m\u001b[0;34m\u001b[0m\u001b[0;34m\u001b[0m\u001b[0m\n\u001b[1;32m    508\u001b[0m             raise errors.get_mysql_exception(exc.errno, msg=exc.msg,\n\u001b[0;32m--> 509\u001b[0;31m                                              sqlstate=exc.sqlstate)\n\u001b[0m\u001b[1;32m    510\u001b[0m         \u001b[0;32mexcept\u001b[0m \u001b[0mAttributeError\u001b[0m\u001b[0;34m:\u001b[0m\u001b[0;34m\u001b[0m\u001b[0;34m\u001b[0m\u001b[0m\n\u001b[1;32m    511\u001b[0m             \u001b[0;32mif\u001b[0m \u001b[0mself\u001b[0m\u001b[0;34m.\u001b[0m\u001b[0m_unix_socket\u001b[0m\u001b[0;34m:\u001b[0m\u001b[0;34m\u001b[0m\u001b[0;34m\u001b[0m\u001b[0m\n",
      "\u001b[0;31mProgrammingError\u001b[0m: 1050 (42S01): Table 'movies' already exists"
     ]
    }
   ],
   "source": [
    "create_movies_table_query = \"\"\"\n",
    "CREATE TABLE movies(\n",
    "    id INT AUTO_INCREMENT PRIMARY KEY,\n",
    "    title VARCHAR(100),\n",
    "    release_year YEAR(4),\n",
    "    genre VARCHAR(100),\n",
    "    collection_in_mil INT\n",
    ")\n",
    "\"\"\"\n",
    "\n",
    "with connection.cursor() as cursor:\n",
    "    cursor.execute(create_movies_table_query)\n",
    "    connection.commit()"
   ]
  },
  {
   "cell_type": "markdown",
   "metadata": {},
   "source": [
    "Обратите внимание на оператор `connection.commit()`. По умолчанию коннектор MySQL не выполняет автоматическую фиксацию транзакций. В MySQL модификации, упомянутые в транзакции, происходят только тогда, когда мы используем в конце команду `COMMIT`. Чтобы внести изменения в таблицу, всегда вызывайте этот метод после каждой транзакции.\n",
    "\n",
    "Повторим процедуру для таблицы `reviewers`:"
   ]
  },
  {
   "cell_type": "code",
   "execution_count": 8,
   "metadata": {},
   "outputs": [
    {
     "ename": "ProgrammingError",
     "evalue": "1050 (42S01): Table 'reviewers' already exists",
     "output_type": "error",
     "traceback": [
      "\u001b[0;31m---------------------------------------------------------------------------\u001b[0m",
      "\u001b[0;31mMySQLInterfaceError\u001b[0m                       Traceback (most recent call last)",
      "\u001b[0;32m~/anaconda3/lib/python3.7/site-packages/mysql/connector/connection_cext.py\u001b[0m in \u001b[0;36mcmd_query\u001b[0;34m(self, query, raw, buffered, raw_as_string)\u001b[0m\n\u001b[1;32m    505\u001b[0m                                \u001b[0mraw\u001b[0m\u001b[0;34m=\u001b[0m\u001b[0mraw\u001b[0m\u001b[0;34m,\u001b[0m \u001b[0mbuffered\u001b[0m\u001b[0;34m=\u001b[0m\u001b[0mbuffered\u001b[0m\u001b[0;34m,\u001b[0m\u001b[0;34m\u001b[0m\u001b[0;34m\u001b[0m\u001b[0m\n\u001b[0;32m--> 506\u001b[0;31m                                raw_as_string=raw_as_string)\n\u001b[0m\u001b[1;32m    507\u001b[0m         \u001b[0;32mexcept\u001b[0m \u001b[0mMySQLInterfaceError\u001b[0m \u001b[0;32mas\u001b[0m \u001b[0mexc\u001b[0m\u001b[0;34m:\u001b[0m\u001b[0;34m\u001b[0m\u001b[0;34m\u001b[0m\u001b[0m\n",
      "\u001b[0;31mMySQLInterfaceError\u001b[0m: Table 'reviewers' already exists",
      "\nDuring handling of the above exception, another exception occurred:\n",
      "\u001b[0;31mProgrammingError\u001b[0m                          Traceback (most recent call last)",
      "\u001b[0;32m<ipython-input-8-bc178987990b>\u001b[0m in \u001b[0;36m<module>\u001b[0;34m\u001b[0m\n\u001b[1;32m      8\u001b[0m \u001b[0;34m\u001b[0m\u001b[0m\n\u001b[1;32m      9\u001b[0m \u001b[0;32mwith\u001b[0m \u001b[0mconnection\u001b[0m\u001b[0;34m.\u001b[0m\u001b[0mcursor\u001b[0m\u001b[0;34m(\u001b[0m\u001b[0;34m)\u001b[0m \u001b[0;32mas\u001b[0m \u001b[0mcursor\u001b[0m\u001b[0;34m:\u001b[0m\u001b[0;34m\u001b[0m\u001b[0;34m\u001b[0m\u001b[0m\n\u001b[0;32m---> 10\u001b[0;31m     \u001b[0mcursor\u001b[0m\u001b[0;34m.\u001b[0m\u001b[0mexecute\u001b[0m\u001b[0;34m(\u001b[0m\u001b[0mcreate_reviewers_table_query\u001b[0m\u001b[0;34m)\u001b[0m\u001b[0;34m\u001b[0m\u001b[0;34m\u001b[0m\u001b[0m\n\u001b[0m\u001b[1;32m     11\u001b[0m     \u001b[0mconnection\u001b[0m\u001b[0;34m.\u001b[0m\u001b[0mcommit\u001b[0m\u001b[0;34m(\u001b[0m\u001b[0;34m)\u001b[0m\u001b[0;34m\u001b[0m\u001b[0;34m\u001b[0m\u001b[0m\n",
      "\u001b[0;32m~/anaconda3/lib/python3.7/site-packages/mysql/connector/cursor_cext.py\u001b[0m in \u001b[0;36mexecute\u001b[0;34m(self, operation, params, multi)\u001b[0m\n\u001b[1;32m    264\u001b[0m             result = self._cnx.cmd_query(stmt, raw=self._raw,\n\u001b[1;32m    265\u001b[0m                                          \u001b[0mbuffered\u001b[0m\u001b[0;34m=\u001b[0m\u001b[0mself\u001b[0m\u001b[0;34m.\u001b[0m\u001b[0m_buffered\u001b[0m\u001b[0;34m,\u001b[0m\u001b[0;34m\u001b[0m\u001b[0;34m\u001b[0m\u001b[0m\n\u001b[0;32m--> 266\u001b[0;31m                                          raw_as_string=self._raw_as_string)\n\u001b[0m\u001b[1;32m    267\u001b[0m         \u001b[0;32mexcept\u001b[0m \u001b[0mMySQLInterfaceError\u001b[0m \u001b[0;32mas\u001b[0m \u001b[0mexc\u001b[0m\u001b[0;34m:\u001b[0m\u001b[0;34m\u001b[0m\u001b[0;34m\u001b[0m\u001b[0m\n\u001b[1;32m    268\u001b[0m             raise errors.get_mysql_exception(msg=exc.msg, errno=exc.errno,\n",
      "\u001b[0;32m~/anaconda3/lib/python3.7/site-packages/mysql/connector/connection_cext.py\u001b[0m in \u001b[0;36mcmd_query\u001b[0;34m(self, query, raw, buffered, raw_as_string)\u001b[0m\n\u001b[1;32m    507\u001b[0m         \u001b[0;32mexcept\u001b[0m \u001b[0mMySQLInterfaceError\u001b[0m \u001b[0;32mas\u001b[0m \u001b[0mexc\u001b[0m\u001b[0;34m:\u001b[0m\u001b[0;34m\u001b[0m\u001b[0;34m\u001b[0m\u001b[0m\n\u001b[1;32m    508\u001b[0m             raise errors.get_mysql_exception(exc.errno, msg=exc.msg,\n\u001b[0;32m--> 509\u001b[0;31m                                              sqlstate=exc.sqlstate)\n\u001b[0m\u001b[1;32m    510\u001b[0m         \u001b[0;32mexcept\u001b[0m \u001b[0mAttributeError\u001b[0m\u001b[0;34m:\u001b[0m\u001b[0;34m\u001b[0m\u001b[0;34m\u001b[0m\u001b[0m\n\u001b[1;32m    511\u001b[0m             \u001b[0;32mif\u001b[0m \u001b[0mself\u001b[0m\u001b[0;34m.\u001b[0m\u001b[0m_unix_socket\u001b[0m\u001b[0;34m:\u001b[0m\u001b[0;34m\u001b[0m\u001b[0;34m\u001b[0m\u001b[0m\n",
      "\u001b[0;31mProgrammingError\u001b[0m: 1050 (42S01): Table 'reviewers' already exists"
     ]
    }
   ],
   "source": [
    "create_reviewers_table_query = \"\"\"\n",
    "CREATE TABLE reviewers (\n",
    "    id INT AUTO_INCREMENT PRIMARY KEY,\n",
    "    first_name VARCHAR(100),\n",
    "    last_name VARCHAR(100)\n",
    ")\n",
    "\"\"\"\n",
    "\n",
    "with connection.cursor() as cursor:\n",
    "    cursor.execute(create_reviewers_table_query)\n",
    "    connection.commit()"
   ]
  },
  {
   "cell_type": "markdown",
   "metadata": {},
   "source": [
    "Наконец, создадим таблицу `ratings`:"
   ]
  },
  {
   "cell_type": "code",
   "execution_count": 22,
   "metadata": {},
   "outputs": [],
   "source": [
    "create_ratings_table_query = \"\"\"\n",
    "CREATE TABLE ratings (\n",
    "    movie_id INT,\n",
    "    reviewer_id INT,\n",
    "    rating DECIMAL(2,1),\n",
    "    FOREIGN KEY(movie_id) REFERENCES movies(id),\n",
    "    FOREIGN KEY(reviewer_id) REFERENCES reviewers(id),\n",
    "    PRIMARY KEY(movie_id, reviewer_id)\n",
    ")\n",
    "\"\"\"\n",
    "\n",
    "with connection.cursor() as cursor:\n",
    "    cursor.execute(create_ratings_table_query)\n",
    "    connection.commit()"
   ]
  },
  {
   "cell_type": "markdown",
   "metadata": {},
   "source": [
    "Реализация отношений внешнего ключа в MySQL немного отличается и имеет ограничения в сравнени со стандартным SQL. В MySQL и родитель, и потомок внешнего ключа должны использовать один и тот же механизм хранения ― базовый программный компонент, который система управления базами данных использует для выполнения  SQL-операций. MySQL предлагает два вида таких механизмов:\n",
    "1. **Механизмы хранения транзакций** безопасны для транзакций и позволяют откатывать транзакции с помощью простых команд, таких как `rollback`. К этой категории относятся многие популярные движки MySQL, включая [InnoDB](https://dev.mysql.com/doc/refman/8.0/en/innodb-storage-engine.html) и [NDB](https://dev.mysql.com/doc/refman/8.0/en/mysql-cluster.html).\n",
    "2. **Нетранзакционные механизмы хранения** для отмены операторов, зафиксированных в базе данных, опираются на ручной код. Это, например [MyISAM](https://dev.mysql.com/doc/refman/8.0/en/myisam-storage-engine.html) и [MEMORY](https://dev.mysql.com/doc/refman/8.0/en/memory-storage-engine.html).\n",
    "\n",
    "InnoDB ― самый популярный механизм хранения по умолчанию. Соблюдая ограничения внешнего ключа, он помогает поддерживать целостность данных. Это означает, что любая [CRUD](https://en.wikipedia.org/wiki/Create,_read,_update_and_delete)-операция с внешним ключом предварительно проверяется на то, что она не приводит к несогласованности между разными таблицами.\n",
    "\n",
    "Обратите внимание, что таблица `ratings` использует столбцы `movie_id` и `reviewer_id`, как два внешних ключа, выступающих вместе в качестве первичного ключа. Эта особенность гарантирует, что рецензент не сможет дважды оценить один и тот же фильм.\n",
    "\n",
    "Один и тот же курсор можно использовать для нескольких обращений. В этом случае все обращения станут одной атомарной транзакцией. Например, можно выполнить все операторы `CREATE TABLE` одним курсором, а затем за раз зафиксировать транзакцию:\n",
    "\n",
    "```Python\n",
    "with connection.cursor() as cursor:\n",
    "    cursor.execute(create_movies_table_query)\n",
    "    cursor.execute(create_reviewers_table_query)\n",
    "    cursor.execute(create_ratings_table_query)\n",
    "    connection.commit()\n",
    "```"
   ]
  },
  {
   "cell_type": "markdown",
   "metadata": {},
   "source": [
    "## Отображение схемы таблиц с использованием оператора DESCRIBE\n",
    "\n",
    "Мы создали все три таблицы и можем просмотреть схему, используя оператор `DESCRIBE`.\n",
    "\n",
    "Предполагая, что у вас уже есть объект `MySQLConnection` в переменной `connection`, мы можем распечатать результаты, полученные с помощью `cursor.fetchall()`. Этот метод извлекает все строки из последнего выполненного оператора:"
   ]
  },
  {
   "cell_type": "code",
   "execution_count": 9,
   "metadata": {},
   "outputs": [
    {
     "name": "stdout",
     "output_type": "stream",
     "text": [
      "('id', 'int(11)', 'NO', 'PRI', None, 'auto_increment')\n",
      "('title', 'varchar(100)', 'YES', '', None, '')\n",
      "('release_year', 'year(4)', 'YES', '', None, '')\n",
      "('genre', 'varchar(100)', 'YES', '', None, '')\n",
      "('collection_in_mil', 'int(11)', 'YES', '', None, '')\n"
     ]
    }
   ],
   "source": [
    "show_table_query = \"DESCRIBE movies\"\n",
    "with connection.cursor() as cursor:\n",
    "    cursor.execute(show_table_query)\n",
    "    # Fetch rows from last executed query\n",
    "    result = cursor.fetchall()\n",
    "    for row in result:\n",
    "        print(row)"
   ]
  },
  {
   "cell_type": "markdown",
   "metadata": {},
   "source": [
    "После выполнения приведенного кода вы должны получить таблицу, содержащую информацию обо всех столбцах в таблице `movies`. Для каждого столбца выводится информация, о типе данных столбца, о том, является ли столбец первичным ключом и т. д."
   ]
  },
  {
   "cell_type": "markdown",
   "metadata": {},
   "source": [
    "## Изменение схемы таблицы с помощью оператора ALTER\n",
    "\n",
    "Столбец с именем `collection_in_mil` в таблице `movies` содержит кассовые сборы фильма в миллионах долларов. Мы можем написать следующую инструкцию MySQL, чтобы изменить тип данных атрибута `collection_in_mil` с `INT` на `DECIMAL`:\n",
    "\n",
    "```MySQL\n",
    "ALTER TABLE movies MODIFY COLUMN collection_in_mil DECIMAL(4,1);\n",
    "```\n",
    "\n",
    "`DECIMAL(4,1)` указывает на десятичное число, которое может иметь максимум 4 цифры, из которых 1 соответствует разряду десятых, например, `120.1`, `3.4`, `38.0` и т. д."
   ]
  },
  {
   "cell_type": "code",
   "execution_count": 11,
   "metadata": {},
   "outputs": [
    {
     "name": "stdout",
     "output_type": "stream",
     "text": [
      "Схема таблицы movie после внесения изменений:\n",
      "('id', 'int(11)', 'NO', 'PRI', None, 'auto_increment')\n",
      "('title', 'varchar(100)', 'YES', '', None, '')\n",
      "('release_year', 'year(4)', 'YES', '', None, '')\n",
      "('genre', 'varchar(100)', 'YES', '', None, '')\n",
      "('collection_in_mil', 'decimal(4,1)', 'YES', '', None, '')\n"
     ]
    }
   ],
   "source": [
    "alter_table_query = \"\"\"\n",
    "ALTER TABLE movies\n",
    "MODIFY COLUMN collection_in_mil DECIMAL(4,1)\n",
    "\"\"\"\n",
    "show_table_query = \"DESCRIBE movies\"\n",
    "with connection.cursor() as cursor:\n",
    "    cursor.execute(alter_table_query)\n",
    "    cursor.execute(show_table_query)\n",
    "    # Получить строки из последнего выполненного запроса\n",
    "    result = cursor.fetchall()\n",
    "    print(\"Схема таблицы movie после внесения изменений:\")\n",
    "    for row in result:\n",
    "        print(row)"
   ]
  },
  {
   "cell_type": "markdown",
   "metadata": {},
   "source": [
    "Как показано в выходных данных, атрибут `collection_in_mil` теперь имеет тип `DECIMAL(4,1)`. Также обратите внимание, что в приведенном выше коде мы дважды вызываем `cursor.execute()`, но `cursor.fetchall()` выбирает строки только из последнего выполненного запроса, которым является `show_table_query`."
   ]
  },
  {
   "cell_type": "markdown",
   "metadata": {},
   "source": [
    "## Удаление таблиц с помощью оператора DROP\n",
    "\n",
    "Для удаления таблиц служит оператор `DROP TABLE`. Удаление таблицы ― необратимый процесс. Если вы выполните приведенный ниже код, вам нужно будет снова вызвать запрос `CREATE TABLE`:"
   ]
  },
  {
   "cell_type": "code",
   "execution_count": null,
   "metadata": {},
   "outputs": [],
   "source": [
    "drop_table_query = \"DROP TABLE ratings\"\n",
    "with connection.cursor() as cursor:\n",
    "    cursor.execute(drop_table_query)"
   ]
  },
  {
   "cell_type": "markdown",
   "metadata": {},
   "source": []
  },
  {
   "cell_type": "code",
   "execution_count": null,
   "metadata": {},
   "outputs": [],
   "source": []
  },
  {
   "cell_type": "markdown",
   "metadata": {},
   "source": []
  },
  {
   "cell_type": "code",
   "execution_count": null,
   "metadata": {},
   "outputs": [],
   "source": []
  },
  {
   "cell_type": "markdown",
   "metadata": {},
   "source": []
  },
  {
   "cell_type": "code",
   "execution_count": null,
   "metadata": {},
   "outputs": [],
   "source": []
  },
  {
   "cell_type": "markdown",
   "metadata": {},
   "source": []
  },
  {
   "cell_type": "code",
   "execution_count": null,
   "metadata": {},
   "outputs": [],
   "source": []
  },
  {
   "cell_type": "markdown",
   "metadata": {},
   "source": []
  },
  {
   "cell_type": "code",
   "execution_count": null,
   "metadata": {},
   "outputs": [],
   "source": []
  }
 ],
 "metadata": {
  "kernelspec": {
   "display_name": "Python 3",
   "language": "python",
   "name": "python3"
  },
  "language_info": {
   "codemirror_mode": {
    "name": "ipython",
    "version": 3
   },
   "file_extension": ".py",
   "mimetype": "text/x-python",
   "name": "python",
   "nbconvert_exporter": "python",
   "pygments_lexer": "ipython3",
   "version": "3.7.3"
  }
 },
 "nbformat": 4,
 "nbformat_minor": 4
}
