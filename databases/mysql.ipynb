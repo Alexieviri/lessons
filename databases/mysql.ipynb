{
 "cells": [
  {
   "cell_type": "markdown",
   "metadata": {},
   "source": [
    "# Python и база данных MySQL: практическое введение\n",
    "\n",
    "Данный материал является незначительно сокращенным переводом публикации Чайтаньи Баведжи [Python and MySQL Database: A Practical Introduction](https://realpython.com/python-mysql/).\n",
    "\n",
    "MySQL — одна из самых популярных систем управления базами данных ([СУБД](https://ru.wikipedia.org/wiki/%D0%A1%D0%B8%D1%81%D1%82%D0%B5%D0%BC%D0%B0_%D1%83%D0%BF%D1%80%D0%B0%D0%B2%D0%BB%D0%B5%D0%BD%D0%B8%D1%8F_%D0%B1%D0%B0%D0%B7%D0%B0%D0%BC%D0%B8_%D0%B4%D0%B0%D0%BD%D0%BD%D1%8B%D1%85)) на рынке. В прошлом году в рейтинге DB-Engines она заняла второе место после СУБД Oracle. Большинство приложений в той или иной форме взаимодействует с данными. Поэтому языки программирования, такие как Python, предоставляют инструменты для хранения этих источников данных и доступа к ним.\n",
    "\n",
    "Используя методы, описанные в этом руководстве, вы сможете эффективно интегрировать базу данных MySQL в приложение на Python. Вы разработаете небольшую базу данных MySQL для системы рейтинга фильмов и узнаете, как забирать из нее данные прямо из кода Python.\n",
    "\n",
    "К концу этого урока вы сможете:\n",
    "- Описать главные особенности MySQL\n",
    "- Подключить ваше приложение к базе данных MySQL\n",
    "- Сделать запрос к базе данных для получения необходимых данных\n",
    "- Обработать исключения, возникающие при доступе к базе данных\n",
    "- Использовать лучшие практики при создании приложений баз данных\n",
    "\n",
    "Чтобы получить максимальную отдачу от этого руководства, вы должны иметь практические знания в таких концепциях Python, как цикл `for`, функции, обработка исключений и установка пакетов Python с помощью `pip`. Также необходимо иметь базовое представление о системах управления реляционными базами данных и SQL-запросах, таких как `SELECT`, `DROP`, `CREATE` и `JOIN`."
   ]
  },
  {
   "cell_type": "markdown",
   "metadata": {},
   "source": [
    "# Сравнение MySQL с другими SQL-базами данных\n",
    "\n",
    "Аббревиатура SQL расшифровывается как Structured Query Language — язык структурированных запросов. SQL является широко используемым языком программирования для управления реляционными базами данных. Возможно, вы слышали о различных вариантах СУБД на основе SQL. Самые популярные из них: [MySQL](https://www.mysql.com/), [PostgreSQL](https://www.postgresql.org/), [SQLite](https://www.sqlite.org/index.html) и [SQL Server](https://www.microsoft.com/en-us/sql-server/sql-server-2019). Все эти базы данных соответствуют [стандартам SQL](https://docs.oracle.com/cd/B28359_01/server.111/b28286/intro002.htm), но в разной степени.\n",
    "\n",
    "В силу открытости исходного кода с самого момента своего создания в 1995 году MySQL быстро стал лидером рынка среди SQL-решений. MySQL также является частью экосистемы Oracle. Хотя его основная функциональность полностью бесплатна, есть и платные дополнения. В настоящее время MySQL используется всеми крупными техническими фирмами, включая Google, LinkedIn, Uber, Netflix, Twitter и другие.\n",
    "\n",
    "Помимо поддержки со стороны большого сообщества разработчиков ПО с открытым исходным кодом, есть много других причин успеха MySQL:\n",
    "\n",
    "1. **Простота установки**. MySQL был разработан, чтобы быть удобным для пользователя. Создать базу данных MySQL довольно просто, а несколько широко доступных сторонних инструментов, таких как phpMyAdmin, еще больше упрощают процесс настройки. MySQL доступен для всех основных операционных систем, включая Windows, macOS, Linux и Solaris.\n",
    "2. **Скорость**. MySQL имеет репутацию быстрого решения для баз данных. Эта СУБД также хорошо масштабируется в долгосрочной перспективе.\n",
    "3. **Права пользователя и безопасность**. MySQL позволяет устанавливать уровень безопасности пароля, назначать пароли администратора, добавлять и удалять привилегии учетным записям пользователей. Процессы администрирования правами пользователями веб-хостинга выглядят очень просто. Другие СУБД, такие как PostgreSQL, используют [файлы конфигурации](https://www.postgresql.org/docs/9.3/config-setting.html), которые потребуют некоторой сноровки.\n",
    "\n",
    "MySQL использует синтаксис, очень похожий на стандартный SQL. Однако есть некоторые заметные отличия, упомянутые в [официальной документации](https://dev.mysql.com/doc/refman/8.0/en/differences-from-ansi.html)."
   ]
  },
  {
   "cell_type": "markdown",
   "metadata": {},
   "source": [
    "# Установка MySQL Server и MySQL Connector\n",
    "\n",
    "Чтобы начать работу с этим руководством, вам необходимо настроить две вещи: MySQL Server и MySQL Connector. MySQL Server предоставит все ресурсы, необходимые для работы с вашей базой данных. После запуска сервера вы сможете подключить к нему свое приложение Python с помощью MySQL Connector / Python.\n",
    "\n",
    "## Установка MySQL Server\n",
    "Официальная документация описывает рекомендуемые способы загрузки и установки MySQL Server. Вы найдете инструкции для всех популярных операционных систем, включая [Windows](https://dev.mysql.com/doc/refman/8.0/en/windows-installation.html), [macOS](https://dev.mysql.com/doc/refman/8.0/en/osx-installation.html), [Solaris](https://dev.mysql.com/doc/refman/8.0/en/solaris-installation.html), [Linux](https://dev.mysql.com/doc/refman/8.0/en/linux-installation.html) и многие другие.\n",
    "\n",
    "Для Windows лучше всего загрузить [установщик MySQL](https://dev.mysql.com/downloads/installer/) и позволить ему позаботиться обо всем процессе. Диспетчер установки также помогает настроить параметры безопасности сервера MySQL. На странице Учетные записи и роли вам необходимо ввести пароль для root-записи (admin), а также при желании добавить других пользователей с различными привилегиями:\n",
    "\n",
    "<img src=\"https://files.realpython.com/media/root_user_pass.cf4a9c6ea5f5.png\" width=\"500px\"/>\n",
    "*Настройка учетной записи MySQL*\n",
    "\n",
    "С помощью этих установщиков вы также можете настроить другие полезные инструменты, такие как [MySQL Workbench](https://www.mysql.com/products/workbench/). Если вы не хотите устанавливать MySQL непосредственно в операционную систему, удобная альтернатива — [развернуть MySQL с помощью Docker](https://dev.mysql.com/doc/refman/8.0/en/linux-installation-docker.html).\n",
    "\n",
    "## Установка MySQL Connector/Python\n",
    "\n",
    "Драйвер базы данных — программное обеспечение, которое позволяет приложению подключаться и взаимодействовать с системой базы данных.\n",
    "\n",
    "Такие драйверы обычно поставляются в виде отдельных модулей. API базы данных Python (DB-API) определяет стандартный интерфейс, которому должны соответствовать все драйверы базы данных Python. Эти сведения задокументированы в [PEP 249](https://www.python.org/dev/peps/pep-0249/). Все драйверы баз данных Python, такие как [sqlite3](https://docs.python.org/3/library/sqlite3.html) для SQLite, [psycopg](https://www.psycopg.org/docs/) для PostgreSQL и [MySQL Connector/Python](https://github.com/mysql/mysql-connector-python) для MySQL, следуют этим правилам. Для установки воспользуемся менеджером пакетов `pip`:\n"
   ]
  },
  {
   "cell_type": "code",
   "execution_count": 1,
   "metadata": {},
   "outputs": [
    {
     "name": "stdout",
     "output_type": "stream",
     "text": [
      "Collecting mysql-connector-python\n",
      "  Downloading mysql_connector_python-8.0.22-cp37-cp37m-manylinux1_x86_64.whl (18.0 MB)\n",
      "\u001b[K     |████████████████████████████████| 18.0 MB 31 kB/s s eta 0:00:01\n",
      "\u001b[?25hRequirement already satisfied: protobuf>=3.0.0 in /home/leo/anaconda3/lib/python3.7/site-packages (from mysql-connector-python) (3.12.2)\n",
      "Requirement already satisfied: setuptools in /home/leo/anaconda3/lib/python3.7/site-packages (from protobuf>=3.0.0->mysql-connector-python) (49.6.0.post20201009)\n",
      "Requirement already satisfied: six>=1.9 in /home/leo/anaconda3/lib/python3.7/site-packages (from protobuf>=3.0.0->mysql-connector-python) (1.15.0)\n",
      "Installing collected packages: mysql-connector-python\n",
      "Successfully installed mysql-connector-python-8.0.22\n"
     ]
    }
   ],
   "source": [
    "!pip install mysql-connector-python"
   ]
  },
  {
   "cell_type": "markdown",
   "metadata": {},
   "source": [
    "`pip` установит коннектор, как сторонний модуль, в текущую активную среду. Чтобы работать с проектом изолированным образом, рекомендуется [настроить виртуальную среду](https://proglib.io/p/kak-sozdat-virtualnoe-okruzhenie-v-python-i-perestat-dumat-o-zavisimostyah-2020-03-10).\n",
    "\n",
    "Проверим результат установки, запустив в терминале Python следующую команду:"
   ]
  },
  {
   "cell_type": "code",
   "execution_count": 2,
   "metadata": {},
   "outputs": [],
   "source": [
    "import mysql.connector"
   ]
  },
  {
   "cell_type": "markdown",
   "metadata": {},
   "source": [
    "Если приведенный код выполняется без ошибок, значит `mysql.connector` успешно установлен и готов к использованию."
   ]
  },
  {
   "cell_type": "markdown",
   "metadata": {},
   "source": [
    "# Установление соединения с сервером MySQL\n",
    "\n",
    "MySQL ― это серверная система управления базами данных. Один сервер может содержать несколько баз данных. Чтобы взаимодействовать с базой данных, вы должны сначала установить соединение с сервером. Общий рабочий процесс программы Python, которая взаимодействует с базой данных на основе MySQL, выглядит следующим образом:\n",
    "\n",
    "1. Подключаемся к серверу MySQL.\n",
    "2. Создаем новую базу данных (при необходимости).\n",
    "3. Соединяемся с базой данных.\n",
    "4. Выполняем SQL-запрос, собираем результаты.\n",
    "5. Сообщаем базе данных, если в таблицу внесены изменения.\n",
    "6. Закрываем соединением с сервером MySQL.\n",
    "\n",
    "Это общий рабочий процесс, который может различаться в зависимости от конкретного приложения. Но каким бы ни было приложение, первый шаг ― связать между собой приложение и базу данных."
   ]
  },
  {
   "cell_type": "markdown",
   "metadata": {},
   "source": [
    "# Подключаемся к серверу MySQL из Python\n",
    "\n",
    "Чтобы установить соединение, используем `connect()` из модуля `mysql.connector`. Эта функция принимает параметры `host`, `user` и `password`, а возвращает объект `MySQLConnection`. Учетные данные можно получить в виде ввода от пользователя:"
   ]
  },
  {
   "cell_type": "code",
   "execution_count": 6,
   "metadata": {},
   "outputs": [
    {
     "name": "stdin",
     "output_type": "stream",
     "text": [
      "Имя пользователя:  root\n",
      "Пароль:  ········\n"
     ]
    },
    {
     "name": "stdout",
     "output_type": "stream",
     "text": [
      "<mysql.connector.connection_cext.CMySQLConnection object at 0x7f6268171cc0>\n"
     ]
    }
   ],
   "source": [
    "from getpass import getpass\n",
    "from mysql.connector import connect, Error\n",
    "\n",
    "try:\n",
    "    with connect(\n",
    "        host=\"localhost\",\n",
    "        user=input(\"Имя пользователя: \"),\n",
    "        password=getpass(\"Пароль: \"),\n",
    "    ) as connection:\n",
    "        print(connection)\n",
    "except Error as e:\n",
    "    print(e)"
   ]
  },
  {
   "cell_type": "markdown",
   "metadata": {},
   "source": [
    "Объект `MySQLConnection` хранится в переменной `connection`, которую теперь мы будем использовать для доступа к серверу MySQL. Несколько важных моментов:\n",
    "\n",
    "- Оборачивайте все соединения в блоки `try ... except`. Так будет проще перехватить и изучить любые исключения.\n",
    "- Не забывайте закрывать соединение после завершения доступа к базе данных. Неиспользуемые открытые соединения приводят к неожиданным ошибкам и проблемам с производительностью. В приведенном коде для этого используется диспетчер контекста (`with ... as ...`).\n",
    "- Никогда не следует жестко кодировать свои учетные данные (имя пользователя и пароль) непосредственно в скрипт Python. Это плохая практика для развертывания и представляет серьезную угрозу безопасности. Приведенный код запрашивает для входа учетные данные. Для этого используется встроенный модуль `getpass`, чтобы скрыть вводимый пароль. Хотя это лучше, чем жесткое кодирование, но есть и другие, более безопасные способы хранения конфиденциальной информации, например, использование переменных среды.\n",
    "\n",
    "Мы установили соединение между нашей программой и сервером MySQL. Теперь нужно либо создать новую базу данных, либо подключиться к существующей."
   ]
  },
  {
   "cell_type": "code",
   "execution_count": null,
   "metadata": {},
   "outputs": [],
   "source": []
  }
 ],
 "metadata": {
  "kernelspec": {
   "display_name": "Python 3",
   "language": "python",
   "name": "python3"
  },
  "language_info": {
   "codemirror_mode": {
    "name": "ipython",
    "version": 3
   },
   "file_extension": ".py",
   "mimetype": "text/x-python",
   "name": "python",
   "nbconvert_exporter": "python",
   "pygments_lexer": "ipython3",
   "version": "3.7.3"
  }
 },
 "nbformat": 4,
 "nbformat_minor": 4
}
