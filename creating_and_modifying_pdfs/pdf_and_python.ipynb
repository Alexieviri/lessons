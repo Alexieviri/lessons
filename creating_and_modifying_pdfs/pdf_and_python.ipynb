{
 "cells": [
  {
   "cell_type": "markdown",
   "metadata": {},
   "source": [
    "# Создание и изменение PDF-файлов с помощью Python\n",
    "\n",
    "Эта публикация основана на замечательной публикации Дэвида Амоса [Create and Modify PDF Files in Python](https://realpython.com/creating-modifying-pdf/). Начав её перевод, я столкнулся с тем, что библиотека PyPDF2 имеет ограничения на работу с кириллическими текстами и некорректно оформленными pdf-файлами. \n",
    "\n",
    "PDF (сокр. от Portable Document Format) является одним из наиболее распространенных форматов обмена документами в Интернете. Формат PDF позволяет в одном файле объединять текст, изображения, таблицы, формы и даже мультимедиа, например, видео или анимацию.\n",
    "\n",
    "Такое обилие поддерживаемых типов контента может затруднить работу с PDF-файлами – ведь все эти данные нужно как-то декодировать при открытии файла! К счастью, в экосистеме Python есть несколько отличных пакетов для чтения, создания и даже изменения PDF-файлов.\n",
    "\n",
    "Из этого пособия вы узнаете как:\n",
    "- Читать текст из PDF-файла\n",
    "- Разбить PDF-файл на множество отдельных файлов\n",
    "- Объединить PDF-файлы\n",
    "- Защитить PDF-файлы c помощью паролей\n",
    "- Создать свой собственный PDF с нуля"
   ]
  },
  {
   "cell_type": "markdown",
   "metadata": {},
   "source": [
    "# Извлечение текста из PDF\n",
    "\n",
    "В этом разделе мы узнаем, как читать PDF-файл и извлекать текст с помощью пакета PyPDF2. Прежде чем мы сможем это сделать, нужно установить библиотеку с помощью `pip`:"
   ]
  },
  {
   "cell_type": "code",
   "execution_count": null,
   "metadata": {},
   "outputs": [],
   "source": [
    "pip install PyPDF2"
   ]
  },
  {
   "cell_type": "markdown",
   "metadata": {},
   "source": [
    "Как упомянуто выше, библиотека PyPDF2 имеет ограничения на работу с кириллическими текстами и некорректно оформленными pdf-файлами. Поэтому для непоредставенного извлечения текста мы будем пользоваться библиотекой [pdfminer.six](https://pdfminersix.readthedocs.io/en/latest/index.html)."
   ]
  },
  {
   "cell_type": "code",
   "execution_count": null,
   "metadata": {},
   "outputs": [],
   "source": [
    "pip install pdfminer.six"
   ]
  },
  {
   "cell_type": "markdown",
   "metadata": {},
   "source": [
    "## Открываем PDF-файл\n",
    "\n",
    "Давайте начнем, открыв PDF и прочитав в нем информацию. Мы будем использовать файл `Onegin.pdf`, расположенный в папке `practice_files` в репозитории блокнота Jupyter.\n",
    "\n",
    "Для начала импортируем класс `PdfFileReader`"
   ]
  },
  {
   "cell_type": "code",
   "execution_count": null,
   "metadata": {},
   "outputs": [],
   "source": [
    "from PyPDF2 import PdfFileReader"
   ]
  },
  {
   "cell_type": "markdown",
   "metadata": {},
   "source": [
    "Создадим новый экземпляр класса `PdfFileReader`, указав путь к файлу PDF:"
   ]
  },
  {
   "cell_type": "code",
   "execution_count": null,
   "metadata": {},
   "outputs": [],
   "source": [
    "pdf_path = 'practice_files/Onegin.pdf'\n",
    "pdf = PdfFileReader(pdf_path)"
   ]
  },
  {
   "cell_type": "markdown",
   "metadata": {},
   "source": [
    "Мы можем использовать экземпляр PdfFileReader для сбора информации о PDF. Например, метод `.getNumPages()` возвращает количество страниц, содержащихся в PDF-файле:"
   ]
  },
  {
   "cell_type": "code",
   "execution_count": null,
   "metadata": {},
   "outputs": [],
   "source": [
    "pdf.getNumPages()"
   ]
  },
  {
   "cell_type": "markdown",
   "metadata": {},
   "source": [
    "Используя атрибут `.documentInfo` можно извлечь мета-информацию:"
   ]
  },
  {
   "cell_type": "code",
   "execution_count": null,
   "metadata": {},
   "outputs": [],
   "source": [
    "pdf.documentInfo"
   ]
  },
  {
   "cell_type": "markdown",
   "metadata": {},
   "source": [
    "К каждому из элементов `.documentInfo` можно обратиться с помощью соответствующего атрибута:"
   ]
  },
  {
   "cell_type": "code",
   "execution_count": null,
   "metadata": {},
   "outputs": [],
   "source": [
    "pdf.documentInfo.title"
   ]
  },
  {
   "cell_type": "markdown",
   "metadata": {},
   "source": [
    "# Извлечение текста из PDF\n",
    "\n",
    "Для извлечения текста используем `pdfminer`. Работа с текстами выглядит очень просто: достаточно использовать функцию `extract_text`. При передаче списка страниц можно извлечь отдельные страницы. Без аргумента `page_numbers` текст извлекается целиком."
   ]
  },
  {
   "cell_type": "code",
   "execution_count": null,
   "metadata": {},
   "outputs": [],
   "source": [
    "from pdfminer.high_level import extract_text"
   ]
  },
  {
   "cell_type": "code",
   "execution_count": null,
   "metadata": {},
   "outputs": [],
   "source": [
    "text = extract_text(pdf_path, page_numbers = [19])"
   ]
  },
  {
   "cell_type": "code",
   "execution_count": null,
   "metadata": {},
   "outputs": [],
   "source": [
    "print(text.strip())"
   ]
  },
  {
   "cell_type": "markdown",
   "metadata": {},
   "source": [
    "Напишем простую функцию, которая будет извлекать текст из переданного PDF-файла в txt-файл:"
   ]
  },
  {
   "cell_type": "code",
   "execution_count": null,
   "metadata": {},
   "outputs": [],
   "source": [
    "def pdf_to_txt(pdf_path):\n",
    "    txt_path = f'{pdf_path[:-4]}.txt'\n",
    "    text = extract_text(pdf_path)\n",
    "    with open(txt_path, 'w') as output_file:\n",
    "        # \n",
    "        output_file.write(text.replace('\\x0c', ''))\n",
    "        \n",
    "pdf_to_txt(pdf_path)"
   ]
  }
 ],
 "metadata": {
  "kernelspec": {
   "display_name": "Python 3",
   "language": "python",
   "name": "python3"
  },
  "language_info": {
   "codemirror_mode": {
    "name": "ipython",
    "version": 3
   },
   "file_extension": ".py",
   "mimetype": "text/x-python",
   "name": "python",
   "nbconvert_exporter": "python",
   "pygments_lexer": "ipython3",
   "version": "3.7.6"
  }
 },
 "nbformat": 4,
 "nbformat_minor": 4
}
