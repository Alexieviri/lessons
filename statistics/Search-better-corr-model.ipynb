{
 "cells": [
  {
   "cell_type": "code",
   "execution_count": 7,
   "metadata": {},
   "outputs": [],
   "source": [
    "import numpy as np\n",
    "import pandas as pd\n",
    "import statsmodels.formula.api as smf"
   ]
  },
  {
   "cell_type": "code",
   "execution_count": 11,
   "metadata": {},
   "outputs": [
    {
     "name": "stdout",
     "output_type": "stream",
     "text": [
      "0.4 metro_res + female_house\n",
      "0.077 white\n",
      "0.55 female_house + hs_grad\n",
      "0.62 white + metro_res + hs_grad\n",
      "0.56 white + hs_grad\n",
      "0.39 white + metro_res + female_house\n",
      "0.022 metro_res\n",
      "0.55 hs_grad\n",
      "0.26 white + female_house\n",
      "0.55 white + female_house + hs_grad\n",
      "0.6 metro_res + female_house + hs_grad\n",
      "0.61 white + metro_res + female_house + hs_grad\n",
      "0.17 white + metro_res\n",
      "0.58 metro_res + hs_grad\n",
      "0.26 female_house\n"
     ]
    }
   ],
   "source": [
    "df = pd.read_csv(\n",
    "    'http://d396qusza40orc.cloudfront.net/statistics/lec_resources/states.csv')\n",
    "\n",
    "# Найдём такой набор фичей, что R-squared максимальна\n",
    "feats = {'metro_res', 'white', 'hs_grad', 'female_house'}\n",
    "\n",
    "# Рекурсивно переберём все сочетания переменных\n",
    "def brute_force(params: set, formula: str, result: set) -> str:\n",
    "    if not params:\n",
    "        result.add(formula.lstrip('+ '))\n",
    "        return \n",
    "    else:\n",
    "        new_params = params.copy()\n",
    "        for el in params:\n",
    "            new_params.remove(el)\n",
    "\n",
    "            brute_force(new_params, formula + ' + ' + el, result)\n",
    "            brute_force(new_params, formula, result)\n",
    "\n",
    "res = set()          \n",
    "brute_force(feats, '', res)\n",
    "res.remove('')\n",
    "\n",
    "# Теперь посчитаем Adjusted R-Square для каждого сочетания и выведем на экран\n",
    "for formula in res:\n",
    "    lm = smf.ols(formula='poverty ~ ' + formula, data=df).fit()\n",
    "    print(f'{lm.rsquared_adj:.2}', formula)"
   ]
  }
 ],
 "metadata": {
  "kernelspec": {
   "display_name": "Python 3",
   "language": "python",
   "name": "python3"
  },
  "language_info": {
   "codemirror_mode": {
    "name": "ipython",
    "version": 3
   },
   "file_extension": ".py",
   "mimetype": "text/x-python",
   "name": "python",
   "nbconvert_exporter": "python",
   "pygments_lexer": "ipython3",
   "version": "3.8.5"
  }
 },
 "nbformat": 4,
 "nbformat_minor": 4
}
