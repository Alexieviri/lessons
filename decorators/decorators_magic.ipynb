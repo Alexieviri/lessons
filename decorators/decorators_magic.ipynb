{
 "cells": [
  {
   "cell_type": "markdown",
   "metadata": {},
   "source": [
    "# Всё, что нужно знать о декораторах Python\n",
    "\n",
    "В этом руководстве по декораторам мы рассмотрим, что они собой представляют, как их создавать и использовать. По определению, декоратор – это функция, которая принимает другую функцию и расширяет поведение последней, не изменяя ее явным образом. В этом туториале мы постараемся понять, что это значит и как реализуется.\n",
    "\n",
    "Текст Jupyter-блокнота является сокращенным переводом публикации Гейра Арне Хьелле [Primer on Python Decorators](https://realpython.com/primer-on-python-decorators/). Код из оригинальной статьи доступен в [GitHub-репозитории](https://github.com/realpython/materials/tree/master/primer-on-python-decorators).\n",
    "\n",
    "Так как в коде много примеров, я также сделал этот Jupyter-блокнот с текстом перевода и адаптированным кодом, чтобы его было проще запускать интерактивно. Текст также опубликован на сайте [proglib.io](https://proglib.io/).\n",
    "\n",
    "# 1. Предварительные соображения: функции\n",
    "\n",
    "Прежде чем начать разбираться в декораторах, немного поговорим о важных для их понимания свойствах функций.\n",
    "\n",
    "## 1.1. Передача функции в качестве аргумента\n",
    "\n",
    "В Python функции можно передавать и использовать в качестве аргументов, как и любой другой объект. Рассмотрим следующие три функции:"
   ]
  },
  {
   "cell_type": "code",
   "execution_count": null,
   "metadata": {},
   "outputs": [],
   "source": [
    "def say_hello(name):\n",
    "    return f\"Привет, {name}!\"\n",
    "\n",
    "def be_awesome(name):\n",
    "    return f\"Класс, {name}, быть вместе так круто!\"\n",
    "\n",
    "def greet_vanya(greeter_func):\n",
    "    return greeter_func(\"Ваня\")"
   ]
  },
  {
   "cell_type": "markdown",
   "metadata": {},
   "source": [
    "Здесь `say_hello()` и `be_awesome()` – обычные функции, которые получают строковую переменную `name`. Функция `greet_bob()` в качестве аргумента получает другую функцию, например `say_hello()` или `be_awesome()`:"
   ]
  },
  {
   "cell_type": "code",
   "execution_count": null,
   "metadata": {},
   "outputs": [],
   "source": [
    "greet_vanya(say_hello)"
   ]
  },
  {
   "cell_type": "code",
   "execution_count": null,
   "metadata": {},
   "outputs": [],
   "source": [
    "greet_vanya(be_awesome)"
   ]
  },
  {
   "cell_type": "markdown",
   "metadata": {},
   "source": [
    "При передаче в качестве аргумента имя функции указывается без скобок – передаётся только ссылка на функцию. Сама функция не выполняется, пока не будет вызвана функция `greet_vanya()`.\n",
    "\n",
    "## 1.2. Внутренние функции\n",
    "Функции, определенные внутри других функций, называются внутренними (inner functions). Пример функции с двумя внутренними функциями:"
   ]
  },
  {
   "cell_type": "code",
   "execution_count": null,
   "metadata": {},
   "outputs": [],
   "source": [
    "def parent():\n",
    "    print(\"Привет из функции parent().\")\n",
    "\n",
    "    def first_child():\n",
    "        print(\"Привет из функции first_child().\")\n",
    "\n",
    "    def second_child():\n",
    "        print(\"Привет из функции second_child().\")\n",
    "\n",
    "    second_child()\n",
    "    first_child()"
   ]
  },
  {
   "cell_type": "markdown",
   "metadata": {},
   "source": [
    "Что произойдёт при вызове функции `parent()`? Остановитесь, чтобы подумать. Вывод будет следующим:"
   ]
  },
  {
   "cell_type": "code",
   "execution_count": null,
   "metadata": {},
   "outputs": [],
   "source": [
    "parent()"
   ]
  },
  {
   "cell_type": "markdown",
   "metadata": {},
   "source": [
    "Обратите внимание, что порядок, в котором определены внутренние функции, не имеет значения. Печать происходит только при вызове функции.\n",
    "\n",
    "Внутренние функции не определены, пока не вызвана родительская функция. То есть они локально ограничены `parent()` и существуют только внутри нее, как локальные переменные. При вызове функции `first_child()` за пределами `parent()` будет получена ошибка:"
   ]
  },
  {
   "cell_type": "code",
   "execution_count": null,
   "metadata": {},
   "outputs": [],
   "source": [
    "first_child()"
   ]
  },
  {
   "cell_type": "markdown",
   "metadata": {},
   "source": [
    "## 1.3. Возврат функций из функций\n",
    "Python позволяет использовать функции в качестве возвращаемых значений. В следующем примере возвращается одна из внутренних функций внешней функции `parent()`:"
   ]
  },
  {
   "cell_type": "code",
   "execution_count": null,
   "metadata": {},
   "outputs": [],
   "source": [
    "def parent(num):\n",
    "    def first_child():\n",
    "        return \"Привет, меня зовут Ксавье.\"\n",
    "\n",
    "    def second_child():\n",
    "        return \"Зови меня X Æ A-12.\"\n",
    "\n",
    "    if num == 1:\n",
    "        return first_child\n",
    "    else:\n",
    "        return second_child"
   ]
  },
  {
   "cell_type": "markdown",
   "metadata": {},
   "source": [
    "В инструкции `return` возвращается ссылка на функцию, то есть имя функции указывается без скобок (иначе бы возвращался результат выполнения функции)."
   ]
  },
  {
   "cell_type": "code",
   "execution_count": null,
   "metadata": {},
   "outputs": [],
   "source": [
    "first = parent(1)\n",
    "second = parent(2)\n",
    "first"
   ]
  },
  {
   "cell_type": "code",
   "execution_count": null,
   "metadata": {},
   "outputs": [],
   "source": [
    "second"
   ]
  },
  {
   "cell_type": "markdown",
   "metadata": {},
   "source": [
    "В приведенном примере `first` и `second` – переменные, в которые были записаны ссылки на локальные функции `first_child()` и `second_child()` внутри функции `parent()`. Теперь `first` и `second` можно использовать как обычные функции, хотя функции, на которые они указывают, недоступны напрямую:"
   ]
  },
  {
   "cell_type": "code",
   "execution_count": null,
   "metadata": {},
   "outputs": [],
   "source": [
    "first()"
   ]
  },
  {
   "cell_type": "code",
   "execution_count": null,
   "metadata": {},
   "outputs": [],
   "source": [
    "second()"
   ]
  },
  {
   "cell_type": "markdown",
   "metadata": {},
   "source": [
    "Обратите внимание, что в предыдущем разделе о внутренних функциях мы не имели доступа к `first_child()`. В последнем же примере мы получили ссылку на каждую функцию и можем их вызывать в будущем.\n",
    "\n",
    "# 2. Простые декораторы 💅\n",
    "## 2.1. Общая идея: используем знания о функциях\n",
    "Теперь, когда мы увидели, что функции в Python похожи на любые другие объекты, нам будет проще понять «магию» декораторов. Начнём с искусственного примера, поясняющего идею:"
   ]
  },
  {
   "cell_type": "code",
   "execution_count": null,
   "metadata": {},
   "outputs": [],
   "source": [
    "def my_decorator(func):\n",
    "    def wrapper():\n",
    "        print(\"До вызова функции.\")\n",
    "        func()\n",
    "        print(\"После вызова функции.\")\n",
    "    return wrapper\n",
    "\n",
    "def say_whee():\n",
    "    print(\"Ура!\")\n",
    "\n",
    "say_whee = my_decorator(say_whee)"
   ]
  },
  {
   "cell_type": "markdown",
   "metadata": {},
   "source": [
    "Знаете, что произойдёт при вызове `say_where()`?"
   ]
  },
  {
   "cell_type": "code",
   "execution_count": null,
   "metadata": {},
   "outputs": [],
   "source": [
    "say_whee()"
   ]
  },
  {
   "cell_type": "markdown",
   "metadata": {},
   "source": [
    "Чтобы понять, что происходит, оглянемся на предыдущие примеры. Мы просто применяем всё, что узнали до сих пор. Декорирование происходит в последней строчке:\n",
    "\n",
    "`say_whee = my_decorator(say_whee)`\n",
    "\n",
    "Мы передаем в функцию `my_decorator()` ссылку на функцию say_whee. В `my_decorator()` есть внутренняя функция `wrapper()`, ссылка на которую возвращается в инструкции `return` внешней функции. В результате мы передали в `my_decorator()` в качестве аргумента ссылку на одну функцию, а назад получили ссылку на её функцию-обёртку.\n",
    "\n",
    "Теперь имя `say_whee` указывает на внутреннюю функцию `wrapper`:"
   ]
  },
  {
   "cell_type": "code",
   "execution_count": null,
   "metadata": {},
   "outputs": [],
   "source": [
    "say_whee"
   ]
  },
  {
   "cell_type": "markdown",
   "metadata": {},
   "source": [
    "Однако `wrapper()` содержит ссылку на оригинал `say_whee()` и вызывает эту функцию между двумя вызовами `print()`. Проще говоря, декоратор обертывает функцию, изменяя ее поведение.\n",
    "\n",
    "**Добавим динамики**. Рассмотрим второй пример, иллюстрирующий динамическое поведение декораторов. Сделаем так, чтобы наша функция кричала \"Ура!\" только в дневное время."
   ]
  },
  {
   "cell_type": "code",
   "execution_count": null,
   "metadata": {},
   "outputs": [],
   "source": [
    "from datetime import datetime\n",
    "\n",
    "def not_during_the_night(func):\n",
    "    def wrapper():\n",
    "        if 8 <= datetime.now().hour < 22:\n",
    "            func()\n",
    "        else:\n",
    "            pass  # Тише, соседи спят!\n",
    "    return wrapper\n",
    "\n",
    "def say_whee():\n",
    "    print(\"Ура!\")\n",
    "\n",
    "say_whee = not_during_the_night(say_whee)"
   ]
  },
  {
   "cell_type": "markdown",
   "metadata": {},
   "source": [
    "Декорированная функция `say_whee()` будет выводить `\"Ура\"` только, если она запущена в интервале c 8:00 до 22:00 (чтобы проверить разницу в поведении, «подкрутите стрелки» ⏰).\n",
    "\n",
    "## 2.2. Немного синтаксического сахара! 🍭\n",
    "То, как мы декорировали `say_whee()`, прямо скажем, выглядит неуклюже. В последнем примере мы три раза использовали имя say_whee: при определении функции-оригинала, при передаче ссылку в функцию `not_during_the_night()` и при переопределении имени для создания ссылки на декоратор.\n",
    "\n",
    "Чтобы не заниматься такими глупостями, в Python можно создать декоратор с помощью символа `@`. Следующий код эквивалентен первому рассмотренному примеру:"
   ]
  },
  {
   "cell_type": "code",
   "execution_count": null,
   "metadata": {},
   "outputs": [],
   "source": [
    "def my_decorator(func):\n",
    "    def wrapper():\n",
    "        print(\"До вызова функции.\")\n",
    "        func()\n",
    "        print(\"После вызова функции.\")\n",
    "    return wrapper\n",
    "\n",
    "@my_decorator\n",
    "def say_whee():\n",
    "    print(\"Ура!\")"
   ]
  },
  {
   "cell_type": "code",
   "execution_count": null,
   "metadata": {},
   "outputs": [],
   "source": [
    "say_whee()"
   ]
  },
  {
   "cell_type": "markdown",
   "metadata": {},
   "source": [
    "То есть инструкция `@my_decorator`, идущая перед определением функции `say_whee()` эквивалентна инструкции `say_whee = my_decorator(say_whee)`.\n",
    "\n",
    "## 2.3. Повторное использование декораторов\n",
    "Как и любую другую функцию, декоратор можно поместить в отдельный модуль и использовать для различных целей. К примеру, можно создать файл `decorators.py` со всеми декораторами и импортировать из него необходимые функции. \n",
    "\n",
    "В отличие от статей, на которые мы сослались в начале документа, для удобства работы мы будем описывать и переопределеять все декораторы непосредственном в этом Jupyter-блоноте.\n",
    "\n",
    "## 2.4. Декорирование функций, принимающих аргументы 📥\n",
    "\n",
    "Пусть у нас есть функция, принимающая аргументы. Можем ли мы ее декорировать? Попробуем. Напишем простой декоратор, который дважды выполняет переданную функцию:"
   ]
  },
  {
   "cell_type": "code",
   "execution_count": null,
   "metadata": {},
   "outputs": [],
   "source": [
    "def do_twice(func):\n",
    "    def wrapper_do_twice():\n",
    "        func()\n",
    "        func()\n",
    "    return wrapper_do_twice\n",
    "\n",
    "@do_twice\n",
    "def greet(name):\n",
    "    print(f\"Привет, {name}!\")"
   ]
  },
  {
   "cell_type": "markdown",
   "metadata": {},
   "source": [
    "К сожалению, запуск кода вызовет ошибку:"
   ]
  },
  {
   "cell_type": "code",
   "execution_count": null,
   "metadata": {},
   "outputs": [],
   "source": [
    "greet(\"мир\")"
   ]
  },
  {
   "cell_type": "markdown",
   "metadata": {},
   "source": [
    "Проблема в том, что внутренняя функция декоратора `wrapper_do_twice()` не принимает аргументов. Нужно добавить их обработку. Перепишем декоратор следующим образом:"
   ]
  },
  {
   "cell_type": "code",
   "execution_count": null,
   "metadata": {},
   "outputs": [],
   "source": [
    "def do_twice(func):\n",
    "    def wrapper_do_twice(*args, **kwargs):\n",
    "        func(*args, **kwargs)\n",
    "        func(*args, **kwargs)\n",
    "    return wrapper_do_twice\n",
    "\n",
    "@do_twice\n",
    "def greet(name):\n",
    "    print(f\"Привет, {name}!\")"
   ]
  },
  {
   "cell_type": "markdown",
   "metadata": {},
   "source": [
    "Теперь внутренняя функция декоратора принимает любое число документов и пересылает их декорируемой функции. Так обе декорированные функции будут работать корректно:"
   ]
  },
  {
   "cell_type": "code",
   "execution_count": null,
   "metadata": {},
   "outputs": [],
   "source": [
    "say_whee()"
   ]
  },
  {
   "cell_type": "code",
   "execution_count": null,
   "metadata": {},
   "outputs": [],
   "source": [
    "greet(\"мир\")"
   ]
  },
  {
   "cell_type": "markdown",
   "metadata": {},
   "source": [
    "## 2.5. Возвращение значение из декорированных функций 📤\n",
    "В декораторе можно описать, что делать со значением, возвращаемым декорированной функцией:"
   ]
  },
  {
   "cell_type": "code",
   "execution_count": null,
   "metadata": {},
   "outputs": [],
   "source": [
    "@do_twice\n",
    "def return_greeting(name):\n",
    "    print(\"Готовлюсь приветствовать...\")\n",
    "    return f\"Привет, {name}!\""
   ]
  },
  {
   "cell_type": "markdown",
   "metadata": {},
   "source": [
    "Попытаемся использовать декорированную функцию:"
   ]
  },
  {
   "cell_type": "code",
   "execution_count": null,
   "metadata": {},
   "outputs": [],
   "source": [
    "hi_adam = return_greeting(\"Адам\")"
   ]
  },
  {
   "cell_type": "code",
   "execution_count": null,
   "metadata": {},
   "outputs": [],
   "source": [
    "print(hi_adam)"
   ]
  },
  {
   "cell_type": "markdown",
   "metadata": {},
   "source": [
    "К сожалению, декоратор «съел» значение, возвращаемое оригинальной функцией. Поскольку `do_twice_wrapper()` в явном виде не возвращает никакое значение, вызов в `return_greeting(\"Адам\")` в конечном итоге вернул `None`.\n",
    "\n",
    "Сделаем так, чтобы внутренняя функция декоратора возвращала значение декорированной функции. Поправим декоратор:"
   ]
  },
  {
   "cell_type": "code",
   "execution_count": null,
   "metadata": {},
   "outputs": [],
   "source": [
    "def do_twice(func):\n",
    "    def wrapper_do_twice(*args, **kwargs):\n",
    "        func(*args, **kwargs)\n",
    "        return func(*args, **kwargs)\n",
    "    return wrapper_do_twice\n",
    "\n",
    "@do_twice\n",
    "def return_greeting(name):\n",
    "    print(\"Готовлюсь приветствовать...\")\n",
    "    return f\"Привет, {name}!\""
   ]
  },
  {
   "cell_type": "markdown",
   "metadata": {},
   "source": [
    "Проверим, как всё работает теперь:"
   ]
  },
  {
   "cell_type": "code",
   "execution_count": null,
   "metadata": {},
   "outputs": [],
   "source": [
    "return_greeting(\"Адам\")"
   ]
  },
  {
   "cell_type": "markdown",
   "metadata": {},
   "source": [
    "## 2.6. Интроспекция: «кто ты такой, в самом деле?» 🕵\n",
    "\n",
    "Большое удобство в работе с Python – его способность к [интроспекции](https://ru.wikipedia.org/wiki/%D0%98%D0%BD%D1%82%D1%80%D0%BE%D1%81%D0%BF%D0%B5%D0%BA%D1%86%D0%B8%D1%8F_(%D0%BF%D1%80%D0%BE%D0%B3%D1%80%D0%B0%D0%BC%D0%BC%D0%B8%D1%80%D0%BE%D0%B2%D0%B0%D0%BD%D0%B8%D0%B5)). У объекта есть доступ к собственным атрибутам. К примеру, у функции можно спросить её имя и вызвать документацию:"
   ]
  },
  {
   "cell_type": "code",
   "execution_count": null,
   "metadata": {},
   "outputs": [],
   "source": [
    "print"
   ]
  },
  {
   "cell_type": "code",
   "execution_count": null,
   "metadata": {},
   "outputs": [],
   "source": [
    "print.__name__"
   ]
  },
  {
   "cell_type": "code",
   "execution_count": null,
   "metadata": {},
   "outputs": [],
   "source": [
    "help(print)"
   ]
  },
  {
   "cell_type": "markdown",
   "metadata": {},
   "source": [
    "Интроспекция работает и для пользовательских функций:"
   ]
  },
  {
   "cell_type": "code",
   "execution_count": null,
   "metadata": {},
   "outputs": [],
   "source": [
    "say_whee"
   ]
  },
  {
   "cell_type": "code",
   "execution_count": null,
   "metadata": {},
   "outputs": [],
   "source": [
    "say_whee.__name__"
   ]
  },
  {
   "cell_type": "code",
   "execution_count": null,
   "metadata": {},
   "outputs": [],
   "source": [
    "help(say_whee)"
   ]
  },
  {
   "cell_type": "markdown",
   "metadata": {},
   "source": [
    "Как видим, в результате декорирования функция `say_whee()` запуталась в собственной идентичности. В результате декорирования мы получаем информацию о внутренней функции декоратора, а не об оригинальной функции. Хотя это технически верно, эта информация не очень полезна.\n",
    "\n",
    "Чтобы исправить ситуацию, декоратор должен использовать... *специальный декоратор* `@functools.wraps`. Этот декоратор позволяет сохранить информацию об исходной функции. Вновь перепишем наш декоратор:"
   ]
  },
  {
   "cell_type": "code",
   "execution_count": null,
   "metadata": {},
   "outputs": [],
   "source": [
    "import functools\n",
    "\n",
    "def do_twice(func):\n",
    "    @functools.wraps(func)\n",
    "    def wrapper_do_twice(*args, **kwargs):\n",
    "        func(*args, **kwargs)\n",
    "        return func(*args, **kwargs)\n",
    "    return wrapper_do_twice\n",
    "\n",
    "@do_twice\n",
    "def say_whee():\n",
    "    print(\"Ура!\")"
   ]
  },
  {
   "cell_type": "markdown",
   "metadata": {},
   "source": [
    "В самой декорируемой функции ничего менять не придется:"
   ]
  },
  {
   "cell_type": "code",
   "execution_count": null,
   "metadata": {},
   "outputs": [],
   "source": [
    "say_whee"
   ]
  },
  {
   "cell_type": "code",
   "execution_count": null,
   "metadata": {},
   "outputs": [],
   "source": [
    "say_whee.__name__"
   ]
  },
  {
   "cell_type": "code",
   "execution_count": null,
   "metadata": {},
   "outputs": [],
   "source": [
    "help(say_whee)"
   ]
  },
  {
   "cell_type": "markdown",
   "metadata": {},
   "source": [
    "Гораздо лучше! Теперь у функции `say_whee()` не наступает амнезии после декорирования.\n",
    "\n",
    "# 3. Несколько примеров из реального мира🎈\n",
    "Посмотрим на несколько полезных примеров декораторов. Как вы заметите, схема применения декораторов будет соответствовать тому паттерну, что мы получили в результате наших рассуждений:\n",
    "\n",
    "```\n",
    "def decorator(func):\n",
    "    @functools.wraps(func)\n",
    "    def wrapper_decorator(*args, **kwargs):\n",
    "        # Что-то делаем до\n",
    "        value = func(*args, **kwargs)\n",
    "        # Что-то делаем после\n",
    "        return value\n",
    "    return wrapper_decorator\n",
    "```\n",
    "\n",
    "Этот блок кода является хорошим шаблоном для создания более сложных декораторов.\n",
    "\n",
    "## 3.1. Декоратор для тайминга кода ⌚\n",
    "Начнем с создания декоратора `@timer`. Он будет измерять время выполнения функции и выводить результат в консоль:"
   ]
  },
  {
   "cell_type": "code",
   "execution_count": null,
   "metadata": {},
   "outputs": [],
   "source": [
    "import time\n",
    "\n",
    "def timer(func):\n",
    "    \"\"\"Выводит время выполнения декорируемой функции\"\"\"\n",
    "    @functools.wraps(func)\n",
    "    def wrapper_timer(*args, **kwargs):\n",
    "        start_time = time.perf_counter() \n",
    "        value = func(*args, **kwargs)\n",
    "        end_time = time.perf_counter()\n",
    "        run_time = end_time - start_time\n",
    "        print(f\"Функция {func.__name__!r} выполнена за {run_time:.4f} с\")\n",
    "        return value\n",
    "    return wrapper_timer\n",
    "\n",
    "@timer\n",
    "def waste_some_time(num_times):\n",
    "    for _ in range(num_times):\n",
    "        sum([i**2 for i in range(10000)])"
   ]
  },
  {
   "cell_type": "markdown",
   "metadata": {},
   "source": [
    "Декоратор сохраняет текущее время в переменной `start_time` непосредственно перед запуском декорируемой функции. Это значение впоследствии вычитается из текущего значения `end_time` после выполнения функции. Полученная разность `run_time` передается в форматированную строку. Пара примеров:"
   ]
  },
  {
   "cell_type": "code",
   "execution_count": null,
   "metadata": {},
   "outputs": [],
   "source": [
    "waste_some_time(1)"
   ]
  },
  {
   "cell_type": "code",
   "execution_count": null,
   "metadata": {},
   "outputs": [],
   "source": [
    "waste_some_time(999)"
   ]
  },
  {
   "cell_type": "markdown",
   "metadata": {},
   "source": [
    "**Примечание**: декоратор `@timer` отлично подходит, если вы хотите получить представление о времени выполнения функции. Для более точных замеров используйте модуль стандартной библиотеки `timeit`. Мы рассказывали о нём в Jupyter-блокноте [Назад в будущее: практическое руководство по путешествию во времени с Python](https://github.com/matyushkin/lessons/blob/master/time/Time-related%20modules%20in%20python.ipynb).\n",
    "\n",
    "## 3.2. Отладочный декоратор 🐞🕵\n",
    "Следующий декоратор `@debug` будет выводить аргументы, с которыми вызвана функция, а также возвращаемое функцией значение:"
   ]
  },
  {
   "cell_type": "code",
   "execution_count": null,
   "metadata": {},
   "outputs": [],
   "source": [
    "def debug(func):\n",
    "    @functools.wraps(func)\n",
    "    def wrapper_debug(*args, **kwargs):\n",
    "        args_repr = [repr(a) for a in args]                      # 1\n",
    "        kwargs_repr = [f\"{k}={v!r}\" for k, v in kwargs.items()]  # 2\n",
    "        signature = \", \".join(args_repr + kwargs_repr)           # 3\n",
    "        print(f\"Вызываем {func.__name__}({signature})\")\n",
    "        value = func(*args, **kwargs)\n",
    "        print(f\"{func.__name__!r} возвращает {value!r}\")         # 4\n",
    "        return value\n",
    "    return wrapper_debug"
   ]
  },
  {
   "cell_type": "markdown",
   "metadata": {},
   "source": [
    "Отмеченные комментариями строки соответствуют следующим операциям:\n",
    "\n",
    "1. Создание списка позиционных аргументов: `repr()` используется для строкового представления каждого аргумента.\n",
    "2. Создание списка аргументов, передающихся по ключу: `f`-строка форматирует каждый элемент в формате `key=value` со спецификатором `!r`, соответствующим `repr()`.\n",
    "3. Списки аргументов объединяются в общую подпись, элементы разделены запятыми.\n",
    "4. Возвращаемое значение выводится после исполняемой функции.\n",
    "\n",
    "Давайте посмотрим, как декоратор работает на практике, применив его к простой функции с одним позиционным аргументов и одним аргументом, передаваемым по ключу:"
   ]
  },
  {
   "cell_type": "code",
   "execution_count": null,
   "metadata": {},
   "outputs": [],
   "source": [
    "@debug\n",
    "def make_greeting(name, age=None):\n",
    "    if age is None:\n",
    "        return f\"Привет, {name}!\"\n",
    "    else:\n",
    "        return f\"Ого, {name}! Тебе уже {age}, как ты быстро растёшь!\""
   ]
  },
  {
   "cell_type": "code",
   "execution_count": null,
   "metadata": {},
   "outputs": [],
   "source": [
    "make_greeting(\"Бенджамин\")"
   ]
  },
  {
   "cell_type": "code",
   "execution_count": null,
   "metadata": {},
   "outputs": [],
   "source": [
    "make_greeting(\"Ричард\", age=112)"
   ]
  },
  {
   "cell_type": "markdown",
   "metadata": {},
   "source": [
    "Пример не сразу покажется полезным – декоратор `@debug` просто повторяет то, что мы ему прислали. Но он гораздо эффективнее, если его применить к небольшим вспомогательным функциям. Следующий пример иллюстрирует аппроксимацию для нахождения числа `e`."
   ]
  },
  {
   "cell_type": "code",
   "execution_count": null,
   "metadata": {},
   "outputs": [],
   "source": [
    "import math\n",
    "math.factorial = debug(math.factorial)\n",
    "\n",
    "def approximate_e(terms=18):\n",
    "    return sum(1 / math.factorial(n) for n in range(terms))"
   ]
  },
  {
   "cell_type": "markdown",
   "metadata": {},
   "source": [
    "Этот пример показывает, как вы можете применить декоратор к уже определенной функции. Аппроксимация нахождения числа $е$ основана на разложении в ряд через суммую обратных факториалов. При вызове функции `approximate_e()` вы увидим `@debug` за работой:"
   ]
  },
  {
   "cell_type": "code",
   "execution_count": null,
   "metadata": {},
   "outputs": [],
   "source": [
    "approximate_e(5)"
   ]
  },
  {
   "cell_type": "markdown",
   "metadata": {},
   "source": [
    "Видно, что сложив только пять первых членов ряда, мы получаем довольно близкое значение к числу $e$.\n",
    "\n",
    "## 3.3. Замедление кода 🐌\n",
    "Следующий пример вряд ли покажется полезным. Зачем нам вообще замедлять код Python? Например, мы хотим ограничить частоту, с которой функция проверяет обновление веб-ресурса. Декоратор `@slow_down` будет выжидать одну секунду перед запуском декорируемой функции:"
   ]
  },
  {
   "cell_type": "code",
   "execution_count": null,
   "metadata": {},
   "outputs": [],
   "source": [
    "def slow_down(func):\n",
    "    \"\"\"Ждёт 1 секунду, прежде чем вызвать переданную функцию\"\"\"\n",
    "    @functools.wraps(func)\n",
    "    def wrapper_slow_down(*args, **kwargs):\n",
    "        time.sleep(1)\n",
    "        return func(*args, **kwargs)\n",
    "    return wrapper_slow_down\n",
    "\n",
    "@slow_down\n",
    "def countdown(from_number):\n",
    "    if from_number < 1:\n",
    "        print(\"Поехали!\")\n",
    "    else:\n",
    "        print(from_number)\n",
    "        countdown(from_number - 1)"
   ]
  },
  {
   "cell_type": "markdown",
   "metadata": {},
   "source": [
    "Чтобы увидеть результат действия декоратора, запустите пример:"
   ]
  },
  {
   "cell_type": "code",
   "execution_count": null,
   "metadata": {},
   "outputs": [],
   "source": [
    "countdown(3)"
   ]
  },
  {
   "cell_type": "markdown",
   "metadata": {},
   "source": [
    "Декоратор `@slow_down` спит всегда лишь одну секунду. Позднее мы увидим, как передавать декоратору аргумент, чтобы контролировать его скорость.\n",
    "\n",
    "## 3.4. Регистрация плагинов\n",
    "Вообще декораторы не обязаны «оборачивать» функцию, которую они декорируют. Они могут просто регистрировать то, что функция существует и возвращать на нее ссылку. Это может использоваться для создания легковесной архитектуры:"
   ]
  },
  {
   "cell_type": "code",
   "execution_count": null,
   "metadata": {},
   "outputs": [],
   "source": [
    "import random\n",
    "PLUGINS = dict()\n",
    "\n",
    "def register(func):\n",
    "    \"\"\"Регистрирует функцию как плагин\"\"\"\n",
    "    PLUGINS[func.__name__] = func\n",
    "    return func\n",
    "\n",
    "@register\n",
    "def say_hello(name):\n",
    "    return f\"Привет, {name}!\"\n",
    "\n",
    "@register\n",
    "def be_awesome(name):\n",
    "    return f\"Привет, {name}, классно быть вместе!\"\n",
    "\n",
    "def randomly_greet(name):\n",
    "    greeter, greeter_func = random.choice(list(PLUGINS.items()))\n",
    "    print(f\"Используется {greeter!r}\")\n",
    "    return greeter_func(name)"
   ]
  },
  {
   "cell_type": "markdown",
   "metadata": {},
   "source": [
    "В приведенном примере декоратор `@register` просто добавляет ссылку на декорируемую функцию в глобальный словарь `PLUGINS`. Никакой внутренней функции у декоратора нет, оригинальная функция возвращается немодифицированной, поэтому нет необходимости использовать `@functools.wraps`.\n",
    "\n",
    "Функция `randomly_greet()` случайным образом выбирает, какую из зарегистрированных функций использовать для поздравления. Удобство состоит в том, что словарь `PLUGINS` уже содержит ссылку для каждой функции, к которой был применен декоратор `@register`:"
   ]
  },
  {
   "cell_type": "code",
   "execution_count": null,
   "metadata": {},
   "outputs": [],
   "source": [
    "PLUGINS"
   ]
  },
  {
   "cell_type": "code",
   "execution_count": null,
   "metadata": {},
   "outputs": [],
   "source": [
    "randomly_greet(\"Лео\")"
   ]
  },
  {
   "cell_type": "markdown",
   "metadata": {},
   "source": [
    "# 4. Декораторы поинтереснее 👑\n",
    "До сих пор мы видели довольно простые декораторы – нам нужно было понять, как они работают. Вы можете передохнуть и попрактиковаться в применении декораторов, чтобы позднее вернуться к этому разделу, посвященному продвинутым концепциям.\n",
    "\n",
    "## 4.1. Декорирование классов\n",
    "Есть два способа применения декораторов к классам. Первый способ похож на то, что мы делали с функциями, – **декорировать методы класса**. Давайте определим класс, в котором декорируем некоторые из методов с помощью вышеописанных декораторов `@debug` и `@timer`:"
   ]
  },
  {
   "cell_type": "code",
   "execution_count": null,
   "metadata": {},
   "outputs": [],
   "source": [
    "class TimeWaster:\n",
    "    @debug\n",
    "    def __init__(self, max_num):\n",
    "        self.max_num = max_num\n",
    "\n",
    "    @timer\n",
    "    def waste_time(self, num_times):\n",
    "        for _ in range(num_times):\n",
    "            sum([i**2 for i in range(self.max_num)])"
   ]
  },
  {
   "cell_type": "markdown",
   "metadata": {},
   "source": [
    "Воспользуемся классом, чтобы увидеть действие декораторов:"
   ]
  },
  {
   "cell_type": "code",
   "execution_count": null,
   "metadata": {},
   "outputs": [],
   "source": [
    "tw = TimeWaster(1000)"
   ]
  },
  {
   "cell_type": "code",
   "execution_count": null,
   "metadata": {},
   "outputs": [],
   "source": [
    "tw.waste_time(999)"
   ]
  },
  {
   "cell_type": "markdown",
   "metadata": {},
   "source": [
    "Другой подход – **декорировать классы целиком**. Написание декоратора класса очень похоже на написание декоратора функции. Разница лишь в том, что декоратор в качестве аргумента получит класс, а не функцию. Однако когда мы применяем декораторы функций к классам, их эффект может оказаться не таким, как предполагалось. В следующем примере мы применили декоратор `@timer` к классу:"
   ]
  },
  {
   "cell_type": "code",
   "execution_count": null,
   "metadata": {},
   "outputs": [],
   "source": [
    "@timer\n",
    "class TimeWaster:\n",
    "    def __init__(self, max_num):\n",
    "        self.max_num = max_num\n",
    "\n",
    "    def waste_time(self, num_times):\n",
    "        for _ in range(num_times):\n",
    "            sum([i**2 for i in range(self.max_num)])"
   ]
  },
  {
   "cell_type": "markdown",
   "metadata": {},
   "source": [
    "Декорирование класса не приведет к декорированию его методов. В результате `@timer` измерит только время создания экземпляра класса:"
   ]
  },
  {
   "cell_type": "code",
   "execution_count": null,
   "metadata": {},
   "outputs": [],
   "source": [
    "tw = TimeWaster(1000)"
   ]
  },
  {
   "cell_type": "code",
   "execution_count": null,
   "metadata": {},
   "outputs": [],
   "source": [
    "tw.waste_time(999)"
   ]
  },
  {
   "cell_type": "markdown",
   "metadata": {},
   "source": [
    "Позднее мы покажем примеры правильного декорирования классов.\n",
    "\n",
    "## 4.2. Вложенные декораторы 🎊\n",
    "К функции можно применить несколько декораторов, накладывая их действие друг на друга:"
   ]
  },
  {
   "cell_type": "code",
   "execution_count": null,
   "metadata": {},
   "outputs": [],
   "source": [
    "@debug\n",
    "@do_twice\n",
    "def greet(name):\n",
    "    print(f\"Привет, {name}!\")"
   ]
  },
  {
   "cell_type": "markdown",
   "metadata": {},
   "source": [
    "В этом случае к функции будет применен сначала декоратор `@do_twice`, потом `@debug`:"
   ]
  },
  {
   "cell_type": "code",
   "execution_count": null,
   "metadata": {},
   "outputs": [],
   "source": [
    "greet(\"Ева\")"
   ]
  },
  {
   "cell_type": "markdown",
   "metadata": {},
   "source": [
    "Посмотрим, что будет, если поменять порядок вызова декораторов:"
   ]
  },
  {
   "cell_type": "code",
   "execution_count": null,
   "metadata": {},
   "outputs": [],
   "source": [
    "@do_twice\n",
    "@debug\n",
    "def greet(name):\n",
    "    print(f\"Привет, {name}!\")"
   ]
  },
  {
   "cell_type": "code",
   "execution_count": null,
   "metadata": {},
   "outputs": [],
   "source": [
    "greet(\"Ева\")"
   ]
  },
  {
   "cell_type": "markdown",
   "metadata": {},
   "source": [
    "## 4.3. Декораторы, принимающие аргументы 📬\n",
    "Иногда полезно передавать декораторам аргументы, чтобы управлять их поведением. Например, `@do_twice` может быть расширен до декоратора `@repeat(num_times)`. Число повторений декорируемой функции можно было бы указать в качестве аргумента `num_times`.\n",
    "\n",
    "Подумаем, как добиться такого поведения. Обычно декоратор создает и возвращает внутреннюю функцию-обертку. Мы могли бы дополнительно «обернуть» ее поведение с помощью другой внутренней функции:"
   ]
  },
  {
   "cell_type": "code",
   "execution_count": null,
   "metadata": {},
   "outputs": [],
   "source": [
    "def repeat(num_times):\n",
    "    def decorator_repeat(func):\n",
    "        @functools.wraps(func)\n",
    "        def wrapper_repeat(*args, **kwargs):\n",
    "            for _ in range(num_times):\n",
    "                value = func(*args, **kwargs)\n",
    "            return value\n",
    "        return wrapper_repeat\n",
    "    return decorator_repeat"
   ]
  },
  {
   "cell_type": "markdown",
   "metadata": {},
   "source": [
    "Немного похоже на [фильм Кристофера Нолана «Начало»](https://ru.wikipedia.org/wiki/%D0%9D%D0%B0%D1%87%D0%B0%D0%BB%D0%BE_(%D1%84%D0%B8%D0%BB%D1%8C%D0%BC,_2010)), но мы просто поместили один шаблон многократно выполняющего функцию декоратора в другой декоратор и добавили обработку значения аргумента.\n",
    "\n",
    "Давайте проверим, работает ли, как задумано:"
   ]
  },
  {
   "cell_type": "code",
   "execution_count": null,
   "metadata": {},
   "outputs": [],
   "source": [
    "@repeat(num_times=4)\n",
    "def greet(name):\n",
    "    print(f\"Привет, {name}!\")"
   ]
  },
  {
   "cell_type": "code",
   "execution_count": null,
   "metadata": {},
   "outputs": [],
   "source": [
    "greet(\"мир\")"
   ]
  },
  {
   "cell_type": "markdown",
   "metadata": {},
   "source": [
    "## 4.4. «И того, и другого, и можно без хлеба!»\n",
    "Немного потрудившись, мы можем определить декоратор, который можно использовать как с аргументами, так и без них.\n",
    "\n",
    "Поскольку ссылка на декорируемую функцию передается напрямую только в случае, если декоратор был вызван без аргументов, ссылка на функцию должна быть необязательным аргументом. То есть все аргументы декоратора должны передаваться по ключу. Для этого мы можем применить специальный синтаксис (`*`), указывающий, что все остальные аргументы передаются по ключу:\n",
    "\n",
    "```\n",
    "def name(_func=None, *, kw1=val1, kw2=val2, ...):\n",
    "    def decorator_name(func):\n",
    "        ...  # Создает и возвращает функцию-обёртку.\n",
    "\n",
    "    if _func is None:\n",
    "        return decorator_name\n",
    "    else:\n",
    "        return decorator_name(_func) \n",
    "```\n",
    "\n",
    "Здесь аргумент `_func` действует как маркер, отмечающий, был ли декоратор вызван с аргументами или без них.\n",
    "\n",
    "Если функция декоратора `name` будет вызвана без аргументов, декорируемая функция будет передана как `_func`. Если декоратор будет вызван с аргументами, тогда значение `_func` останется `None`, а передаваемые по ключу аргументы заменят значения по умолчанию. Символ `*` в списке аргументов означает, что следующие за ним аргументы не могут быть переданы как позиционные.\n",
    "\n",
    "То есть в сравнении с предыдущей версией к декоратору добавилось условие `if-else`:"
   ]
  },
  {
   "cell_type": "code",
   "execution_count": null,
   "metadata": {},
   "outputs": [],
   "source": [
    "def repeat(_func=None, *, num_times=2):\n",
    "    def decorator_repeat(func):\n",
    "        @functools.wraps(func)\n",
    "        def wrapper_repeat(*args, **kwargs):\n",
    "            for _ in range(num_times):\n",
    "                value = func(*args, **kwargs)\n",
    "            return value\n",
    "        return wrapper_repeat\n",
    "\n",
    "    if _func is None:\n",
    "        return decorator_repeat\n",
    "    else:\n",
    "        return decorator_repeat(_func)"
   ]
  },
  {
   "cell_type": "code",
   "execution_count": null,
   "metadata": {},
   "outputs": [],
   "source": [
    "@repeat\n",
    "def say_whee():\n",
    "    print(\"Ура!\")\n",
    "\n",
    "@repeat(num_times=3)\n",
    "def greet(name):\n",
    "    print(f\"Привет, {name}!\")"
   ]
  },
  {
   "cell_type": "code",
   "execution_count": null,
   "metadata": {},
   "outputs": [],
   "source": [
    "say_whee()"
   ]
  },
  {
   "cell_type": "code",
   "execution_count": null,
   "metadata": {},
   "outputs": [],
   "source": [
    "greet('мир')"
   ]
  },
  {
   "cell_type": "markdown",
   "metadata": {},
   "source": [
    "## 4.5. Декораторы, хранящие состояние 💾\n",
    "Иногда полезно иметь декораторы, отслеживающие состояние. В качестве простого примера мы создадим декоратор, который подсчитывает, сколько раз вызывалась функция.\n",
    "\n",
    "В следующем разделе мы увидим, как использовать для сохранения состояния классы. Но в простых случаях достаточно декораторов функций:"
   ]
  },
  {
   "cell_type": "code",
   "execution_count": null,
   "metadata": {},
   "outputs": [],
   "source": [
    "def count_calls(func):\n",
    "    @functools.wraps(func)\n",
    "    def wrapper_count_calls(*args, **kwargs):\n",
    "        wrapper_count_calls.num_calls += 1\n",
    "        print(f\"{wrapper_count_calls.num_calls} вызов функции {func.__name__!r}\")\n",
    "        return func(*args, **kwargs)\n",
    "    wrapper_count_calls.num_calls = 0\n",
    "    return wrapper_count_calls\n",
    "\n",
    "@count_calls\n",
    "def say_whee():\n",
    "    print(\"Ура!\")"
   ]
  },
  {
   "cell_type": "code",
   "execution_count": null,
   "metadata": {},
   "outputs": [],
   "source": [
    "say_whee()"
   ]
  },
  {
   "cell_type": "code",
   "execution_count": null,
   "metadata": {},
   "outputs": [],
   "source": [
    "say_whee()"
   ]
  },
  {
   "cell_type": "code",
   "execution_count": null,
   "metadata": {},
   "outputs": [],
   "source": [
    "say_whee.num_calls"
   ]
  },
  {
   "cell_type": "markdown",
   "metadata": {},
   "source": [
    "## 4.6. Классы в качестве декораторов функций\n",
    "Обычным способом хранения состояния является использование классов. Перепишем `@count_calls` из предыдущего раздела, используя в качестве декоратора класс.\n",
    "\n",
    "Напомним, что синтаксис декоратора @my_decorator – это всего лишь более простой способ сказать `func = my_decorator(func`). Если my_decorator является классом, он должен принять func в качестве аргумента в методе `__init__()`.\n",
    "\n",
    "Кроме того, класс должен быть вызван так, чтобы он его можно было вызвать вместо декорируемой функции. Для этого в нем должен быть описан метод `__call__()`:"
   ]
  },
  {
   "cell_type": "code",
   "execution_count": null,
   "metadata": {},
   "outputs": [],
   "source": [
    "class Counter:\n",
    "    def __init__(self, start=0):\n",
    "        self.count = start\n",
    "\n",
    "    def __call__(self):\n",
    "        self.count += 1\n",
    "        print(f\"Текущее значение счетчика – {self.count}\")"
   ]
  },
  {
   "cell_type": "markdown",
   "metadata": {},
   "source": [
    "Метод `__call__()` вызывается всякий раз, когда мы обращаемся к экземпляру класса:"
   ]
  },
  {
   "cell_type": "code",
   "execution_count": null,
   "metadata": {},
   "outputs": [],
   "source": [
    "counter = Counter()"
   ]
  },
  {
   "cell_type": "code",
   "execution_count": null,
   "metadata": {},
   "outputs": [],
   "source": [
    "counter()"
   ]
  },
  {
   "cell_type": "code",
   "execution_count": null,
   "metadata": {},
   "outputs": [],
   "source": [
    "counter()"
   ]
  },
  {
   "cell_type": "code",
   "execution_count": null,
   "metadata": {},
   "outputs": [],
   "source": [
    "counter.count"
   ]
  },
  {
   "cell_type": "markdown",
   "metadata": {},
   "source": [
    "Таким, образом типичная реализация класса декоратора должна содержать `__init__()` и `__call__()`:"
   ]
  },
  {
   "cell_type": "code",
   "execution_count": null,
   "metadata": {},
   "outputs": [],
   "source": [
    "class CountCalls:\n",
    "    def __init__(self, func):\n",
    "        functools.update_wrapper(self, func)\n",
    "        self.func = func\n",
    "        self.num_calls = 0\n",
    "\n",
    "    def __call__(self, *args, **kwargs):\n",
    "        self.num_calls += 1\n",
    "        print(f\"{self.num_calls} вызов функции {self.func.__name__!r}\")\n",
    "        return self.func(*args, **kwargs)\n",
    "\n",
    "@CountCalls\n",
    "def say_whee():\n",
    "    print(\"Ура!\")"
   ]
  },
  {
   "cell_type": "markdown",
   "metadata": {},
   "source": [
    "Метод `__init__()` должен хранить ссылку на функцию и может выполнять любую другую необходимую инициализацию.\n",
    "\n",
    "Метод `__call__()` будет вызываться вместо декорированной функции. По сути, он делает то же самое, что и функция wrapper() в наших предыдущих примерах.\n",
    "\n",
    "Обратите внимание, что в случае методов классов нужно использовать функцию `functools.update_wrapper()` вместо `@functools.wraps`.\n",
    "\n",
    "Декоратор `@CountCalls` работает так же, как и в предыдущем разделе:"
   ]
  },
  {
   "cell_type": "code",
   "execution_count": null,
   "metadata": {},
   "outputs": [],
   "source": [
    "say_whee()"
   ]
  },
  {
   "cell_type": "code",
   "execution_count": null,
   "metadata": {},
   "outputs": [],
   "source": [
    "say_whee()"
   ]
  },
  {
   "cell_type": "code",
   "execution_count": null,
   "metadata": {},
   "outputs": [],
   "source": [
    "say_whee.num_calls"
   ]
  },
  {
   "cell_type": "markdown",
   "metadata": {},
   "source": [
    "# 5. Ещё несколько примеров из реального мира 🧭\n",
    "Мы прошли долгий путь и узнали, как создаются всевозможные декораторы. Давайте подведем итоги, применив полученные знания для анализа полезных на практике программных конструкций.\n",
    "\n",
    "## 5.1. Вновь замедляем код, но уже по-умному 🐢\n",
    "Наша предыдущая реализация замедлителя кода `@slow_down` всегда «усыпляла» декорируемую функцию на одно и то же время. Давайте воспользуемся нашими знаниями о передачи в декоратор аргументов:"
   ]
  },
  {
   "cell_type": "code",
   "execution_count": null,
   "metadata": {},
   "outputs": [],
   "source": [
    "def slow_down(_func=None, *, rate=1):\n",
    "    \"\"\"Усыпляет функцию перед вызовом на переданное количество секунд\"\"\"\n",
    "    def decorator_slow_down(func):\n",
    "        @functools.wraps(func)\n",
    "        def wrapper_slow_down(*args, **kwargs):\n",
    "            time.sleep(rate)\n",
    "            return func(*args, **kwargs)\n",
    "        return wrapper_slow_down\n",
    "\n",
    "    if _func is None:\n",
    "        return decorator_slow_down\n",
    "    else:\n",
    "        return decorator_slow_down(_func)"
   ]
  },
  {
   "cell_type": "markdown",
   "metadata": {},
   "source": [
    "Проверим на примере функции `countdown()`:"
   ]
  },
  {
   "cell_type": "code",
   "execution_count": null,
   "metadata": {},
   "outputs": [],
   "source": [
    "@slow_down(rate=2)\n",
    "def countdown(from_number):\n",
    "    if from_number < 1:\n",
    "        print(\"Поехали!\")\n",
    "    else:\n",
    "        print(from_number)\n",
    "        countdown(from_number - 1)"
   ]
  },
  {
   "cell_type": "code",
   "execution_count": null,
   "metadata": {},
   "outputs": [],
   "source": [
    "countdown(3)"
   ]
  },
  {
   "cell_type": "markdown",
   "metadata": {},
   "source": [
    "## 5.2. Создание синглтонов 🗿\n",
    "Синглтон – это класс с единственным экземпляром. В Python есть несколько часто используемых синглтонов, к примеру: `None`, `True` и `False`. Тот факт, что `None` является синглтоном, позволяет использовать оператор `is` для сравнения объектов с `None`. Мы пользовались этим выше:\n",
    "\n",
    "```\n",
    "if _func is None:\n",
    "    return decorator_name\n",
    "else:\n",
    "    return decorator_name(_func)\n",
    "```\n",
    "\n",
    "Оператор `is` возвращает `True` только для объектов, представляющих одну и ту же сущность.\n",
    "\n",
    "Описанный ниже декоратор `@singleton` превращает класс в одноэлементный, сохраняя первый экземпляр класса в качестве атрибута. Последующие попытки создания экземпляра просто возвращают сохраненный экземпляр:"
   ]
  },
  {
   "cell_type": "code",
   "execution_count": null,
   "metadata": {},
   "outputs": [],
   "source": [
    "def singleton(cls):\n",
    "    \"\"\"Превращает класс в Singleton-класс с единственным экземпляром\"\"\"\n",
    "    @functools.wraps(cls)\n",
    "    def wrapper_singleton(*args, **kwargs):\n",
    "        if not wrapper_singleton.instance:\n",
    "            wrapper_singleton.instance = cls(*args, **kwargs)\n",
    "        return wrapper_singleton.instance\n",
    "    wrapper_singleton.instance = None\n",
    "    return wrapper_singleton\n",
    "\n",
    "@singleton\n",
    "class TheOne:\n",
    "    pass"
   ]
  },
  {
   "cell_type": "markdown",
   "metadata": {},
   "source": [
    "Как видите, этот декоратор класса следует тому же шаблону, что и наши декораторы функций. Единственное отличие состоит в том, что мы используем `cls` вместо `func` в качестве имени параметра."
   ]
  },
  {
   "cell_type": "code",
   "execution_count": null,
   "metadata": {},
   "outputs": [],
   "source": [
    "first_one = TheOne()\n",
    "another_one = TheOne()"
   ]
  },
  {
   "cell_type": "code",
   "execution_count": null,
   "metadata": {},
   "outputs": [],
   "source": [
    "id(first_one)"
   ]
  },
  {
   "cell_type": "code",
   "execution_count": null,
   "metadata": {},
   "outputs": [],
   "source": [
    "id(another_one)"
   ]
  },
  {
   "cell_type": "code",
   "execution_count": null,
   "metadata": {},
   "outputs": [],
   "source": [
    "first_one is another_one"
   ]
  },
  {
   "cell_type": "markdown",
   "metadata": {},
   "source": [
    "Таким образом, `first_one` действительно представляет тот же экземпляр, что и `another_one`.\n",
    "\n",
    "**Примечание**. Singleton-классы не так часто используются в Python, как в других языках. Эффект синглтона обычно лучше реализовать через глобальную переменную модуля.\n",
    "\n",
    "## 5.3. Кэширование возвращаемых значений ⏳\n",
    "Декораторы предоставляют прекрасный механизм для кэширования и мемоизации. В качестве примера давайте рассмотрим рекурсивное определение последовательности Фибоначчи:"
   ]
  },
  {
   "cell_type": "code",
   "execution_count": null,
   "metadata": {},
   "outputs": [],
   "source": [
    "@count_calls\n",
    "def fibonacci(num):\n",
    "    if num < 2:\n",
    "        return num\n",
    "    return fibonacci(num - 1) + fibonacci(num - 2)"
   ]
  },
  {
   "cell_type": "markdown",
   "metadata": {},
   "source": [
    "Хотя реализация и выглядит просто, с производительностью дела обстоят плохо:"
   ]
  },
  {
   "cell_type": "code",
   "execution_count": null,
   "metadata": {},
   "outputs": [],
   "source": [
    "fibonacci(10)"
   ]
  },
  {
   "cell_type": "code",
   "execution_count": null,
   "metadata": {},
   "outputs": [],
   "source": [
    "fibonacci.num_calls"
   ]
  },
  {
   "cell_type": "markdown",
   "metadata": {},
   "source": [
    "Чтобы рассчитать десятое число в последовательности Фибоначчи, в действительности достаточно лишь вычислить предыдущие числа этого ряда. Однако указанная реализация требует выполнения `177` вычислений. И ситуация быстро ухудшается: для 30-го числа потребуется 2.7 млн. операций. Это объясняется тем, что код каждый раз пересчитывает числа последовательности, уже известные из предыдущих этапов.\n",
    "\n",
    "Обычное решение состоит в том, чтобы находить числа Фибоначчи, используя цикл for и справочную таблицу. Тем не менее, можно просто добавить к рекурсии кэширование вычислений:"
   ]
  },
  {
   "cell_type": "code",
   "execution_count": null,
   "metadata": {},
   "outputs": [],
   "source": [
    "def cache(func):\n",
    "    \"\"\"Кэширует предыдущие вызовы функции\"\"\"\n",
    "    @functools.wraps(func)\n",
    "    def wrapper_cache(*args, **kwargs):\n",
    "        cache_key = args + tuple(kwargs.items())\n",
    "        if cache_key not in wrapper_cache.cache:\n",
    "            wrapper_cache.cache[cache_key] = func(*args, **kwargs)\n",
    "        return wrapper_cache.cache[cache_key]\n",
    "    wrapper_cache.cache = dict()\n",
    "    return wrapper_cache\n",
    "\n",
    "@cache\n",
    "@count_calls\n",
    "def fibonacci(num):\n",
    "    if num < 2:\n",
    "        return num\n",
    "    return fibonacci(num - 1) + fibonacci(num - 2)"
   ]
  },
  {
   "cell_type": "markdown",
   "metadata": {},
   "source": [
    "Кэш работает как справочная таблица, поэтому теперь `fibonacci()` выполняет необходимые вычисления только один раз:"
   ]
  },
  {
   "cell_type": "code",
   "execution_count": null,
   "metadata": {},
   "outputs": [],
   "source": [
    "fibonacci(10)"
   ]
  },
  {
   "cell_type": "code",
   "execution_count": null,
   "metadata": {},
   "outputs": [],
   "source": [
    "fibonacci(8)"
   ]
  },
  {
   "cell_type": "markdown",
   "metadata": {},
   "source": [
    "Заметьте, что при вызове `fibonacci(8)` не происходит никаких дополнительных расчетов – все необходимые значения уже найдены и сохранены при вычислении `fibonacci(11)`.\n",
    "\n",
    "**Примечание**: в стандартной библиотеке Python есть также декоратор для [LRU-кэширования](https://ru.wikipedia.org/wiki/%D0%90%D0%BB%D0%B3%D0%BE%D1%80%D0%B8%D1%82%D0%BC%D1%8B_%D0%BA%D1%8D%D1%88%D0%B8%D1%80%D0%BE%D0%B2%D0%B0%D0%BD%D0%B8%D1%8F) – [`@functools.lru_cache`](https://docs.python.org/library/functools.html#functools.lru_cache). Этот декоратор имеет больше возможностей, чем тот, что мы написали выше.\n",
    "\n",
    "## 5.4. Добавление единиц измерения ⚖️\n",
    "Следующий пример похож на задачу о регистрации плагинов (функций) – здесь тоже не будет меняться поведение декорированной функции. Вместо этого к атрибутам функции будут добавляться единицы измерения:"
   ]
  },
  {
   "cell_type": "code",
   "execution_count": null,
   "metadata": {},
   "outputs": [],
   "source": [
    "def set_unit(unit):\n",
    "    \"\"\"Регистрирует юнит для переданной функции\"\"\"\n",
    "    def decorator_set_unit(func):\n",
    "        func.unit = unit\n",
    "        return func\n",
    "    return decorator_set_unit"
   ]
  },
  {
   "cell_type": "markdown",
   "metadata": {},
   "source": [
    "В следующем примере вычисляется объем цилиндра по известному радиусу и высоте, указанных в сантиметрах:"
   ]
  },
  {
   "cell_type": "code",
   "execution_count": null,
   "metadata": {},
   "outputs": [],
   "source": [
    "@set_unit(\"см^3\")\n",
    "def volume(radius, height):\n",
    "    return math.pi * radius**2 * height"
   ]
  },
  {
   "cell_type": "markdown",
   "metadata": {},
   "source": [
    "Атрибут `unit` можно далее использовать по мере необходимости:"
   ]
  },
  {
   "cell_type": "code",
   "execution_count": null,
   "metadata": {},
   "outputs": [],
   "source": [
    "volume(3, 5)"
   ]
  },
  {
   "cell_type": "code",
   "execution_count": null,
   "metadata": {},
   "outputs": [],
   "source": [
    "volume.unit"
   ]
  },
  {
   "cell_type": "markdown",
   "metadata": {},
   "source": [
    "**Примечание**: если вам нужно регулярно использовать единицы измерения, например, преобразовывать одни единицы в другие, обратите внимание на библиотеку pint: [pip install Pint](http://pint.readthedocs.io/).\n",
    "\n",
    "# Заключение\n",
    "Поздравляем, вы дошли до конца статьи! 🎖️\n",
    "\n",
    "Итак, теперь вы знаете:\n",
    "\n",
    "* Как создавать декораторы функций и классов.\n",
    "* Как передавать в декораторы аргументы и возвращать из них значения.\n",
    "* Зачем в декораторах используется @functools.wraps.\n",
    "* Как использовать вложенные декораторы.\n",
    "* Как при помощи декораторов хранить состояния и кэшировать результаты функций.\n",
    "\n",
    "В определении декораторов нет никакой магии. Обычно всё направлено на создание функции или класса, выступающих в качестве обёртки над оригинальной функцией. Для передачи аргументов применяется обычная нотация `*args` и `**kwargs`. А использование знака `@` представляет лишь синтаксический сахар, облегчающий вызов декораторов.\n",
    "\n",
    "Декораторы очень удобны, чтобы модифицировать поведение функций и классов, создавать для их обработки дополнительную логику. При этом такие шаблоны модификации легко наслаивать друг на друга с помощью вложенных декораторов. Чтобы снять декорирование, достаточно просто удалить строчку с упоминанием декоратора.\n",
    "\n",
    "Для ещё более глубокого погружения в декораторы, посмотрите исторический документ [PEP 318](https://www.python.org/dev/peps/pep-0318/), а также [вики-страницу](https://wiki.python.org/moin/PythonDecorators), посвященную декораторам Python.\n",
    "\n",
    "Сторонний модуль [decorator](https://realpython.com/primer-on-python-decorators/) поможет вам в создании собственных декораторов. Его [документация](https://github.com/micheles/decorator/blob/master/docs/documentation.md) содержит ещё больше примеров использования декораторов.\n",
    "\n",
    "Если вам понравилось содержание этого блокнота, вы можете поставить звезду и подписаться на обновления [репозитория lessons](https://github.com/matyushkin/lessons), в котором я выкладываю различные образовательные материалы, переводы и оригинальные статьи.\n",
    "\n",
    "Мои образовательные блокноты, которые так же, как эта статья, касаются более глубоких тем в Python:\n",
    "* [О модуле Collections](https://github.com/matyushkin/lessons/tree/master/collections)\n",
    "* [О модуле itertools](https://github.com/matyushkin/lessons/tree/master/itertools)\n",
    "* [О работе с time-библиотеками](https://github.com/matyushkin/lessons/tree/master/time)"
   ]
  }
 ],
 "metadata": {
  "kernelspec": {
   "display_name": "Python 3",
   "language": "python",
   "name": "python3"
  },
  "language_info": {
   "codemirror_mode": {
    "name": "ipython",
    "version": 3
   },
   "file_extension": ".py",
   "mimetype": "text/x-python",
   "name": "python",
   "nbconvert_exporter": "python",
   "pygments_lexer": "ipython3",
   "version": "3.6.9"
  }
 },
 "nbformat": 4,
 "nbformat_minor": 2
}
