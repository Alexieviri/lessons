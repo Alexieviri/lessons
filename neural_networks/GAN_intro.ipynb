{
 "cells": [
  {
   "cell_type": "markdown",
   "metadata": {},
   "source": [
    "# Генеративно-состязательная нейросеть: ваша первая GAN-модель на PyTorch\n",
    "\n",
    "Рассмотрим принципы построения генеративно-состязательных сетей (GAN) на примере двух моделей, реализованных с помощью фреймворка глубокого обучения PyTorch.\n",
    "\n",
    "Данный материал представляет собой незначительно сокращенный перевод публикации Ренато Кандидо [Generative Adversarial Networks: Build Your First Models](https://realpython.com/generative-adversarial-networks/).\n",
    "\n",
    "Генеративно-состязательные сети (англ. Generative adversarial networks, сокр. GAN) – [нейронные сети](https://ru.wikipedia.org/wiki/%D0%9D%D0%B5%D0%B9%D1%80%D0%BE%D0%BD%D0%BD%D0%B0%D1%8F_%D1%81%D0%B5%D1%82%D1%8C), которые умеют генерировать изображения, музыку, речь и тексты, похожие на те, что делают люди. \n",
    "\n",
    "GAN стали активной темой исследований последних лет. Директор лаборатории искусственного интеллекта Facebook [Ян Лекун](https://ru.wikipedia.org/wiki/%D0%9B%D0%B5%D0%BA%D1%83%D0%BD,_%D0%AF%D0%BD) назвал состязательное обучение «самой интересной идеей в области машинного обучения за последние 10 лет». Ниже мы узнаем, как работают GAN и создадим две модели. Для работы с моделями мы будем использовать [фреймворк глубокого обучения](https://proglib.io/p/dl-frameworks) PyTorch.\n",
    "\n",
    "---\n",
    "**Примечание**. Материал этой статьи требует хотя бы поверхностного знакомства с нейросетями и Python. Вводные сведения об устройстве нейросетей можно получить из публикации [«Наглядное введение в нейросети на примере распознавания цифр»](https://proglib.io/p/neural-network-course).\n",
    "\n",
    "---\n",
    "\n",
    "# Что такое генеративно-состязательная нейросеть?\n",
    "\n",
    "[Генеративно-состязательная нейросеть](https://ru.wikipedia.org/wiki/%D0%93%D0%B5%D0%BD%D0%B5%D1%80%D0%B0%D1%82%D0%B8%D0%B2%D0%BD%D0%BE-%D1%81%D0%BE%D1%81%D1%82%D1%8F%D0%B7%D0%B0%D1%82%D0%B5%D0%BB%D1%8C%D0%BD%D0%B0%D1%8F_%D1%81%D0%B5%D1%82%D1%8C) (англ. Generative adversarial network, сокращённо GAN) – это модель машинного обучения, умеющая имитировать заданное распределение данных. Впервые модель была предложены в [статье NeurIPS](https://papers.nips.cc/paper/5423-generative-adversarial-nets.pdf) 2014 г. экспертом в глубоком обучении Яном Гудфеллоу и его коллегами.\n",
    "\n",
    "GAN состоят из двух нейронных сетей, одна из которых обучена генерировать данные, а другая – отличать смоделированные данные от реальных (отсюда и «состязательный» характер модели). Генеративно-состязательные нейросети показывают впечатляющие результаты в отношении генерации изображений и видео, такие как:\n",
    "* Перенос стилей ([CycleGAN](https://github.com/junyanz/CycleGAN/)) – преобразование одного изображения в соответствии со стилем других изображений (например, картин известного художника)\n",
    "* Генерация человеческих лиц ([StyleGAN](https://en.wikipedia.org/wiki/StyleGAN)), реалистичные примеры которых вы можете найти на сайте [This Person Does Not Exist](https://www.thispersondoesnotexist.com/).\n",
    "\n",
    "---\n",
    "\n",
    "**Примечание**. Последним успехам нейросетей посвящен тест Библиотеки программиста [«Правда или ложь: что умеют нейросети?»](https://proglib.io/tests/pravda-ili-lozh-chto-umeyut-neyroseti)\n",
    "\n",
    "---\n",
    "\n",
    "GAN и другие структуры, генерирующие данные, называют **генеративными моделями** в противовес более широко изученным **дискриминативным моделям**. Прежде чем погрузиться в GAN, посмотрим на различия между двумя типами моделей.\n",
    "\n",
    "# Сравнение дискриминативных и генеративных моделей машинного обучения\n",
    "\n",
    "Дискриминативные модели используются для большинства задач [«обучения с учителем»](https://ru.wikipedia.org/wiki/%D0%9E%D0%B1%D1%83%D1%87%D0%B5%D0%BD%D0%B8%D0%B5_%D1%81_%D1%83%D1%87%D0%B8%D1%82%D0%B5%D0%BB%D0%B5%D0%BC) на [классификацию](https://ru.wikipedia.org/wiki/%D0%97%D0%B0%D0%B4%D0%B0%D1%87%D0%B0_%D0%BA%D0%BB%D0%B0%D1%81%D1%81%D0%B8%D1%84%D0%B8%D0%BA%D0%B0%D1%86%D0%B8%D0%B8) или [регрессию](https://ru.wikipedia.org/wiki/%D0%A0%D0%B5%D0%B3%D1%80%D0%B5%D1%81%D1%81%D0%B8%D0%BE%D0%BD%D0%BD%D1%8B%D0%B9_%D0%B0%D0%BD%D0%B0%D0%BB%D0%B8%D0%B7). В качестве примера проблемы классификации предположим, что мы хотим обучить [модель распознавания изображений рукописных цифр от 0 до 9](https://proglib.io/p/neural-network-course). Для этого мы можем использовать маркированный набор данных, содержащий изображения рукописных цифр и связанные метки, указывающие соответствие цифр и изображений.\n",
    "\n",
    "В процессе обучения для настройки параметров модели мы будем использовать специальный алгоритм. Его цель состоит в том, чтобы [минимизировать функцию потерь](https://ru.wikipedia.org/wiki/%D0%A4%D1%83%D0%BD%D0%BA%D1%86%D0%B8%D1%8F_%D0%BF%D0%BE%D1%82%D0%B5%D1%80%D1%8C) – критерий расхождения между истинным значением оцениваемого параметра и его ожиданием. После фазы обучения мы можем использовать модель для классификации нового (ранее не рассматриваемого) изображения рукописной цифры, сопоставив входному изображению наиболее вероятную цифру, как показано на рисунке ниже.\n",
    "\n",
    "![](https://files.realpython.com/media/fig_discriminative.9c22a1cd877d.png)\n",
    "*Схема обучения дискриминативной модели*\n",
    "\n",
    "Дискриминативную модель можно представить, как черный ящик, который использует обучающие данные для нахождения границ между классами. Найденные границы используются моделью, чтобы различить новые входные данные – предсказывать их класс. В математическом отношении дискриминативные модели изучают [условную вероятность](https://ru.wikipedia.org/wiki/%D0%A3%D1%81%D0%BB%D0%BE%D0%B2%D0%BD%D0%B0%D1%8F_%D0%B2%D0%B5%D1%80%D0%BE%D1%8F%D1%82%D0%BD%D0%BE%D1%81%D1%82%D1%8C) $P(y|x)$ наблюдения $y$ при заданном входе $x$.\n",
    "\n",
    "Дискриминативные модели – это необязательно нейронные сети, но и [логистическая регрессия](https://ru.wikipedia.org/wiki/%D0%9B%D0%BE%D0%B3%D0%B8%D1%81%D1%82%D0%B8%D1%87%D0%B5%D1%81%D0%BA%D0%B0%D1%8F_%D1%80%D0%B5%D0%B3%D1%80%D0%B5%D1%81%D1%81%D0%B8%D1%8F), и [метод опорных векторов (SVM)](https://ru.wikipedia.org/wiki/%D0%9C%D0%B5%D1%82%D0%BE%D0%B4_%D0%BE%D0%BF%D0%BE%D1%80%D0%BD%D1%8B%D1%85_%D0%B2%D0%B5%D0%BA%D1%82%D0%BE%D1%80%D0%BE%D0%B2).\n",
    "\n",
    "В то время как дискриминативные модели используются для контролируемого обучения, генеративные модели часто используют неразмеченный набор данных, то есть могут рассматриваться как форма [обучения без учителя](https://ru.wikipedia.org/wiki/%D0%9E%D0%B1%D1%83%D1%87%D0%B5%D0%BD%D0%B8%D0%B5_%D0%B1%D0%B5%D0%B7_%D1%83%D1%87%D0%B8%D1%82%D0%B5%D0%BB%D1%8F). Используя набор данных из рукописных цифр, мы можем обучить генеративную модель для генерации новых изображений. На этапе обучения модель использует определенный алгоритм для настройки параметров модели, чтобы также минимизировать функцию потерь и определить распределение вероятностей обучающего набора.\n",
    "\n",
    "![](https://files.realpython.com/media/fig_generative.5f01c08f5208.png)\n",
    "*Схема обучения генеративной модели*\n",
    "\n",
    "В отличие от дискриминативных моделей, генеративные модели изучают свойства [функции вероятности](https://ru.wikipedia.org/wiki/%D0%A4%D1%83%D0%BD%D0%BA%D1%86%D0%B8%D1%8F_%D0%B2%D0%B5%D1%80%D0%BE%D1%8F%D1%82%D0%BD%D0%BE%D1%81%D1%82%D0%B8) $P(x)$ входных данных $x$. В результате они порождают не предсказание, а новый объект со свойствами, родственными обучающему набору данных.\n",
    "\n",
    "---\n",
    "\n",
    "**Примечание**. Генеративные модели также можно использовать и для размеченных наборов данных, но обычно дискриминативные модели работают лучше, когда речь идет о классификации. \n",
    "\n",
    "Вы можете найти больше информации об относительно сильных и слабых сторонах  классификаторов в статье [«Дискриминативные и генеративные классификаторы: сравнение логистической регрессии и наивного байесовского алгоритма»](https://realpython.com/generative-adversarial-networks/) (англ.).\n",
    "\n",
    "---\n",
    "\n",
    "Помимо GAN существуют другие генеративные модели архитектуры:\n",
    "* [Машина Больцмана](https://ru.wikipedia.org/wiki/%D0%9C%D0%B0%D1%88%D0%B8%D0%BD%D0%B0_%D0%91%D0%BE%D0%BB%D1%8C%D1%86%D0%BC%D0%B0%D0%BD%D0%B0)\n",
    "* [Автокодировщик](https://ru.wikipedia.org/wiki/%D0%90%D0%B2%D1%82%D0%BE%D0%BA%D0%BE%D0%B4%D0%B8%D1%80%D0%BE%D0%B2%D1%89%D0%B8%D0%BA)\n",
    "* [Скрытая марковская модель](https://ru.wikipedia.org/wiki/%D0%A1%D0%BA%D1%80%D1%8B%D1%82%D0%B0%D1%8F_%D0%BC%D0%B0%D1%80%D0%BA%D0%BE%D0%B2%D1%81%D0%BA%D0%B0%D1%8F_%D0%BC%D0%BE%D0%B4%D0%B5%D0%BB%D1%8C)\n",
    "* Модели, предсказывающие следующее слово в последовательности, например, [GPT-2](https://en.wikipedia.org/wiki/OpenAI#GPT-2)\n",
    "\n",
    "Тем не менее в последнее время GAN привлекли большое внимание общественности благодаря впечатляющим результатам в генерации изображений и видео. Поэтому остановимся на устройстве генеративно-состязательных сетей подробнее."
   ]
  },
  {
   "cell_type": "markdown",
   "metadata": {},
   "source": [
    "# Архитектура генеративно-состязательных нейросетей\n",
    "\n",
    "Генеративно-состязательная сеть, как мы уже поняли, – это не одна сеть, а две: генератор и дискриминатор. Роль **генератора** – на основе реальной выборки сгенерировать набор данных, напоминающий реальные данные. **Дискриминатор** обучен оценивать вероятность того, что образец получен из реальных данных, а не предоставлен генератором. Две нейросети играют в кошки-мышки: генератор пытается обмануть дискриминатор, а дискриминатор старается лучше идентифицировать сгенерированные образцы.\n",
    "\n",
    "Чтобы понять, как работает обучение GAN, рассмотрим игрушечный пример с набором данных, состоящим из двумерных выборок $(x_1, x_2)$, с $x_1$ в интервале от $0$ до $2π$ и $x_2 = sin(x_1)$, как показано на следующем рисунке.\n",
    "\n",
    "![](https://files.realpython.com/media/fig_x1x2.f8a39d8ff58a.png)\n",
    "\n",
    "Общая структура GAN для генерации пар $(x̃_1, x̃_2)$, напоминающих точки набора данных, показана на следующем рисунке.\n",
    "\n",
    "![](https://files.realpython.com/media/fig_gan.4f0f744c7999.png)\n",
    "\n",
    "Генератор $G$ получает на вход пары случайных чисел ($z_1, z_2$), преобразуя их так, чтобы они напоминали примеры из реальной выборки. Структура нейронной сети $G$ может быть любой, например, [многослойный персептрон](https://ru.wikipedia.org/wiki/%D0%9C%D0%BD%D0%BE%D0%B3%D0%BE%D1%81%D0%BB%D0%BE%D0%B9%D0%BD%D1%8B%D0%B9_%D0%BF%D0%B5%D1%80%D1%86%D0%B5%D0%BF%D1%82%D1%80%D0%BE%D0%BD_%D0%A0%D1%83%D0%BC%D0%B5%D0%BB%D1%8C%D1%85%D0%B0%D1%80%D1%82%D0%B0) (MLP) или [сверточная нейронная сеть](https://ru.wikipedia.org/wiki/%D0%A1%D0%B2%D1%91%D1%80%D1%82%D0%BE%D1%87%D0%BD%D0%B0%D1%8F_%D0%BD%D0%B5%D0%B9%D1%80%D0%BE%D0%BD%D0%BD%D0%B0%D1%8F_%D1%81%D0%B5%D1%82%D1%8C) (CNN).\n",
    "\n",
    "На вход дискриминатора $D$ попеременно поступают образцы из обучающего набора данных и смоделированные образцы, предоставленные генератором $G$. Роль дискриминатора заключается в оценке вероятности того, что входные данные принадлежат реальному набору данных. То есть обучение выполняется таким образом, чтобы $D$ выдавал $1$, получая реальный образец, и $0$ для сгенерированного образца.\n",
    "\n",
    "Как и в случае с генератором, можно выбрать любую структуру нейронной сети $D$ с учетом размеров входных и выходных данных. В рассматриваемом примере вход является двумерным, а выходные данные – [скаляром](https://ru.wikipedia.org/wiki/%D0%A1%D0%BA%D0%B0%D0%BB%D1%8F%D1%80%D0%BD%D0%B0%D1%8F_%D0%B2%D0%B5%D0%BB%D0%B8%D1%87%D0%B8%D0%BD%D0%B0) в диапазоне от 0 до 1.\n",
    "\n",
    "Процесс обучения GAN заключается в [минимаксной игре](https://ru.wikipedia.org/wiki/%D0%9C%D0%B8%D0%BD%D0%B8%D0%BC%D0%B0%D0%BA%D1%81) двух игроков, в которой $D$ адаптирован для минимизации ошибки различия реального и сгенерированного образца, а $G$ адаптирован на максимизацию вероятности того, что $D$ допустит ошибку.\n",
    "\n",
    "На каждом этапе обучения происходит обновление параметров моделей $D$ и $G$. Чтобы обучить $D$, на каждой итерации мы помечаем некоторую выбору реальных образцов из обучающих данных единицами, а выборку сгенерированных образцов, созданных $G$ – нулями. Таким образом, для обновления параметров $D$, как показано на схеме, можно использовать обычный подход обучения с учителем.\n",
    "\n",
    "![](https://files.realpython.com/media/fig_train_discriminator.cd1a1e32764f.png)\n",
    "*Процесс обучения дискриминатора*\n",
    "\n",
    "Для каждой партии обучающих данных, содержащих размеченные реальные и сгенерированные образцы, мы обновляем набор параметров модели $D$, минимизируя функцию потерь. После того как параметры $D$ обновлены, мы обучаем $G$ генерировать более качественные образцы. Набор параметров $D$ «замораживается» на время обучения генератора.\n",
    "\n",
    "![](https://files.realpython.com/media/fig_train_generator.7196c4f382ba.png)\n",
    "\n",
    "Когда $G$ начинает генерировать образцы настолько хорошо, что $D$ обманывается, выходная вероятность устремится к единице – $D$ будет считать, что все образцы принадлежат к оригинальной выборке.\n",
    "\n",
    "Теперь, когда мы знаем, как работает GAN, мы готовы реализовать собственный вариант нейросети, используя популярный фреймворк глубокого обучения **PyTorch**."
   ]
  },
  {
   "cell_type": "markdown",
   "metadata": {},
   "source": [
    "# Ваша первая генеративно-состязательная нейросеть\n",
    "\n",
    "В качестве первого эксперимента с генеративно-состязательными сетями реализуем приведенный пример с гармонической функцией.\n",
    "\n",
    "Для работы с примером мы будем использовать популярную библиотеку PyTorch, которую можно установить с помощью следующей [инструкции по установке](https://pytorch.org/get-started/locally/). Если вы уже серьезно заинтересовались Data Science, возможно, вы уже использовали дистрибутив [Anaconda](https://www.anaconda.com/products/individual) и систему управления пакетами и средами [conda](https://docs.conda.io/projects/conda/en/latest/user-guide/getting-started.html).\n",
    "\n",
    "Для начала создайте окружение `conda` и активируйте его:\n",
    "\n",
    "```Bash\n",
    "$ conda create --name gan\n",
    "$ conda activate gan\n",
    "```\n",
    "\n",
    "Здесь создается окружение `conda` с именем `gan`. Внутри созданной среды можно установить необходимые пакеты:\n",
    "\n",
    "\n",
    "```Bash\n",
    "$ conda install -c pytorch pytorch=1.4.0\n",
    "$ conda install matplotlib jupyter\n",
    "```\n",
    "\n",
    "Поскольку PyTorch является активно развивающейся средой, API в новых версиях может измениться. Примеры кода проверены для версии 1.4.0.\n",
    "\n",
    "Для работы с графиками мы будем использовать matplotlib. Заметим также, что организация кода в виде [блокнотов Jupyter](https://proglib.io/p/jupyter) облегчает работу над проектами машинного обучения. В случае длительного обучений нейросетей этот инструмент существенно экономит время.\n",
    "\n",
    "Если вы используете Jupyter Notebook, нужно предварительно зарегистрировать окружение `conda gan`, чтобы было можно создавать блокноты, используя это окружение в качестве кернела. Для этого в активированной среде `gan` выполняем следующую команду:\n",
    "\n",
    "```Bash\n",
    "$ python -m ipykernel install --user --name gan\n",
    "```\n",
    "\n",
    "Начнём с импорта необходимых библиотек:"
   ]
  },
  {
   "cell_type": "code",
   "execution_count": 1,
   "metadata": {},
   "outputs": [],
   "source": [
    "import torch\n",
    "from torch import nn\n",
    "\n",
    "import math\n",
    "import matplotlib.pyplot as plt"
   ]
  },
  {
   "cell_type": "markdown",
   "metadata": {},
   "source": [
    "Здесь мы импортируем библиотеку PyTorch как `torch`. Из библиотеки мы отдельно импортируем компонент `nn` для более компактного обращения. Встроенная библиотека `math` нужна нам лишь для получения значения константы `pi`, а упомянутый выше инструмент `matplotlib` – для построения зависимостей.\n",
    "\n",
    "Хорошей практикой является временное закрепление генератора случайных чисел так, чтобы эксперимент можно было воспроизвести на другой машине. Чтобы сделать это в PyTorch, запустим следующий код:"
   ]
  },
  {
   "cell_type": "code",
   "execution_count": 2,
   "metadata": {},
   "outputs": [
    {
     "data": {
      "text/plain": [
       "<torch._C.Generator at 0x7f53c4150a70>"
      ]
     },
     "execution_count": 2,
     "metadata": {},
     "output_type": "execute_result"
    }
   ],
   "source": [
    "torch.manual_seed(111)"
   ]
  },
  {
   "cell_type": "markdown",
   "metadata": {},
   "source": [
    "Число 111 мы используем для инициализации генератора случайных чисел. Он нам понадобится для задания начальных весов нейронной сети. Несмотря на случайный характер эксперимента, его течение будет воспроизводимо.\n",
    "\n",
    "# Подготовка данных для обучения\n",
    "\n",
    "Обучающая выборка состоит из пар чисел $(x_1, x_2)$, так что $x_2$ соответствует значению синуса $x_1$ для $x_1$ в интервале от $0$ до $2π$. Данные для обучения можно получить следующим образом:"
   ]
  },
  {
   "cell_type": "code",
   "execution_count": 3,
   "metadata": {},
   "outputs": [],
   "source": [
    "train_data_length = 1024\n",
    "train_data = torch.zeros((train_data_length, 2))\n",
    "train_data[:, 0] = 2 * math.pi * torch.rand(train_data_length)\n",
    "train_data[:, 1] = torch.sin(train_data[:, 0])\n",
    "train_labels = torch.zeros(train_data_length)\n",
    "train_set = [\n",
    "    (train_data[i], train_labels[i]) for i in range(train_data_length)\n",
    "]"
   ]
  },
  {
   "cell_type": "markdown",
   "metadata": {},
   "source": [
    "Здесь мы составляем набор данных для обучения, состоящий из 1024 пар $(x_1, x_2)$. Затем инициализируем нулями `train_data` – матрицу, составленную из 1024 строк и 2 столбцов.\n",
    "\n",
    "Далее заполняем первый столбец `train_data` случайными значениями в интервале от $0$ до $2π$. Вычисляем значения второго столбца, как синус от первого.\n",
    "\n",
    "Затем нам формально потребуется массив меток `train_labels`, который мы передаем загрузчику данных PyTorch. Поскольку GAN реализует метод обучения без учителя, метки могут быть любыми.\n",
    "\n",
    "Наконец, мы создаем из `train_data` и `train_labels` список кортежей `train_set`.\n",
    "\n",
    "Отобразим данные для обучения, нанеся на график каждую точку $(x_1, x_2)$:"
   ]
  },
  {
   "cell_type": "code",
   "execution_count": 4,
   "metadata": {},
   "outputs": [
    {
     "data": {
      "text/plain": [
       "[<matplotlib.lines.Line2D at 0x7f5343681cd0>]"
      ]
     },
     "execution_count": 4,
     "metadata": {},
     "output_type": "execute_result"
    },
    {
     "data": {
      "image/png": "[encoded data removed]",
      "text/plain": [
       "<Figure size 432x288 with 1 Axes>"
      ]
     },
     "metadata": {
      "needs_background": "light"
     },
     "output_type": "display_data"
    }
   ],
   "source": [
    "plt.plot(train_data[:, 0], train_data[:, 1], \".\")"
   ]
  },
  {
   "cell_type": "markdown",
   "metadata": {},
   "source": [
    "Вывод должен быть похож на следующий рисунок:\n",
    "\n",
    "![](https://files.realpython.com/media/fig_train_sin_mpl.2e194bac5580.png)\n",
    "\n",
    "С помощью `train_set` создадим объект `train_loader` PyTorch:"
   ]
  },
  {
   "cell_type": "code",
   "execution_count": 5,
   "metadata": {},
   "outputs": [],
   "source": [
    "batch_size = 32\n",
    "train_loader = torch.utils.data.DataLoader(\n",
    "    train_set, batch_size=batch_size, shuffle=True\n",
    ")"
   ]
  },
  {
   "cell_type": "markdown",
   "metadata": {},
   "source": [
    "Здесь мы создаем загрузчик данных с именем `train_loader`, который будет перетасовывать данные из `train_set`, возвращая пакеты по 32 образца (`batch_size`), используемые для обучения нейросети.\n",
    "\n",
    "Данные подготовлены, теперь нужно создать нейронные сети дискриминатора и генератора GAN. В следующем разделе мы реализуем дискриминатор.\n",
    "\n",
    "# Реализация дискриминатора\n",
    "В PyTorch модели нейронной сети представлены классами, которые наследуются от класса `nn.Module`. Если вы плохо знакомы с ООП, для понимания происходящего будет достаточно статьи [«Введение в объектно-ориентированное программирование (ООП) на Python»](https://proglib.io/p/vvedenie-v-obektno-orientirovannoe-programmirovanie-oop-na-python-2020-07-23).\n",
    "\n",
    "Дискриминатор – это модель с двумерным входом и одномерным выходом. Он получает выборку из реальных данных или от генератора и предоставляет вероятность того, что выборка относится к реальным обучающим данным. Код ниже показывает, как создать класс дискриминатора:"
   ]
  },
  {
   "cell_type": "code",
   "execution_count": 6,
   "metadata": {},
   "outputs": [],
   "source": [
    "class Discriminator(nn.Module):\n",
    "    def __init__(self):\n",
    "        super().__init__()\n",
    "        self.model = nn.Sequential(\n",
    "            nn.Linear(2, 256),\n",
    "            nn.ReLU(),\n",
    "            nn.Dropout(0.3),\n",
    "            nn.Linear(256, 128),\n",
    "            nn.ReLU(),\n",
    "            nn.Dropout(0.3),\n",
    "            nn.Linear(128, 64),\n",
    "            nn.ReLU(),\n",
    "            nn.Dropout(0.3),\n",
    "            nn.Linear(64, 1),\n",
    "            nn.Sigmoid())\n",
    "\n",
    "    def forward(self, x):\n",
    "        output = self.model(x)\n",
    "        return output"
   ]
  },
  {
   "cell_type": "markdown",
   "metadata": {},
   "source": [
    "Для построения модели нейронной сети используется стандартый метод классов `__init__()` . Внутри этого метода мы сначала вызываем `super().__init__()` для запуска соответствующего метода `__init__()` наследуемого класса `nn.Module`. В качестве архитектуры нейросети используется [многослойный перцептрон](https://ru.wikipedia.org/wiki/%D0%9C%D0%BD%D0%BE%D0%B3%D0%BE%D1%81%D0%BB%D0%BE%D0%B9%D0%BD%D1%8B%D0%B9_%D0%BF%D0%B5%D1%80%D1%86%D0%B5%D0%BF%D1%82%D1%80%D0%BE%D0%BD_%D0%A0%D1%83%D0%BC%D0%B5%D0%BB%D1%8C%D1%85%D0%B0%D1%80%D1%82%D0%B0). Его структура послойно задается с помощью `nn.Sequential()`. Модель имеет следующие характеристики:\n",
    "\n",
    "- Двумерный вход, первый скрытый слой состоит из 256 нейронов и имеет [функцию активаци](https://ru.wikipedia.org/wiki/%D0%A4%D1%83%D0%BD%D0%BA%D1%86%D0%B8%D1%8F_%D0%B0%D0%BA%D1%82%D0%B8%D0%B2%D0%B0%D1%86%D0%B8%D0%B8) [ReLU](https://neurohive.io/ru/osnovy-data-science/activation-functions/). \n",
    "- В последующих слоях происходит уменьшение числа нейронов до 128 и 64. Вывод имеет сигмоидальную функцию активации, характерную для представления вероятности (`Sigmoid`)).\n",
    "- Чтобы избежать переобучения, после первого, второго и третьего скрытых слоев, делается дропаут части нейронов (`Dropout`).\n",
    "\n",
    "Наконец, для удобства вывода в классе также создан метод `forward()`. Здесь `x` соответствует входу модели. В этой реализации выходные данные получаются путем подачи входных данных `x` в определенную нами модели без предобработки.\n",
    "\n",
    "После объявления класса дискриминатора мы можем создать экземпляр:"
   ]
  },
  {
   "cell_type": "code",
   "execution_count": 7,
   "metadata": {},
   "outputs": [],
   "source": [
    "discriminator = Discriminator()"
   ]
  },
  {
   "cell_type": "markdown",
   "metadata": {},
   "source": [
    "# Реализация генератора\n",
    "\n",
    "В генеративно-состязательных сетях генератор – это модель, которая берет в качестве входных данных некоторую выборку из пространства скрытых переменных, напоминающих данные в обучающем наборе. В данном случае это модель с двумерным вводом, которая будет получать случайные точки ($z_1, z_2$), и двумерный вывод, выдающий точки ($x̃_1, x̃_2$), похожие на точки из обучающих данных.\n",
    "\n",
    "Реализация похожа на то, что мы написали для дискриминатора. Сначала нужно создать класс `Generator`, который наследуется от `nn.Module`, затем определить архитектуру нейронной сети, а затем создать экземпляр объекта `Generator`:"
   ]
  },
  {
   "cell_type": "code",
   "execution_count": 8,
   "metadata": {},
   "outputs": [],
   "source": [
    "class Generator(nn.Module):\n",
    "    def __init__(self):\n",
    "        super().__init__()\n",
    "        self.model = nn.Sequential(\n",
    "            nn.Linear(2, 16),\n",
    "            nn.ReLU(),\n",
    "            nn.Linear(16, 32),\n",
    "            nn.ReLU(),\n",
    "            nn.Linear(32, 2))\n",
    "\n",
    "    def forward(self, x):\n",
    "        output = self.model(x)\n",
    "        return output\n",
    "\n",
    "generator = Generator()"
   ]
  },
  {
   "cell_type": "markdown",
   "metadata": {},
   "source": [
    "Генератор включает два скрытых слоя с 16 и 32 нейронами с функцией активацией ReLU, а на выходе слой с двумя нейронами с линейной функцией активации. Таким образом, выходные данные будут состоять из двух элементов, имеющих любое значение в диапазоне от $-\\infty$ до $+\\infty$, которое будет представлять $(x̃_1, x̃_2)$. То есть исходно мы не накладываем на генератор никакие ограничения – он должен «всему научиться сам». \n",
    "\n",
    "Теперь, когда мы определили модели для дискриминатора и генератора, мы готовы начать обучение!\n",
    "\n",
    "# Обучение моделей\n",
    "Перед обучением моделей необходимо настроить некоторые параметры, которые будут использоваться в процессе обучения:"
   ]
  },
  {
   "cell_type": "code",
   "execution_count": 9,
   "metadata": {},
   "outputs": [],
   "source": [
    "lr = 0.001\n",
    "num_epochs = 300\n",
    "loss_function = nn.BCELoss()"
   ]
  },
  {
   "cell_type": "markdown",
   "metadata": {},
   "source": [
    "Здесь мы устанавливаем следующие параметры:\n",
    "1. Задаем скорость обучения `lr` (learning rate), которую мы будем использовать для адаптации весов сети.\n",
    "2. Задаем количество эпох `num_epochs`, которое определяет, сколько повторений процесса обучения будет выполнено с использованием всего датасета.\n",
    "3. Переменной `loss_function` мы назначаем функцию [логистической функции потерь](https://ru.wikipedia.org/wiki/%D0%9F%D0%B5%D1%80%D0%B5%D0%BA%D1%80%D1%91%D1%81%D1%82%D0%BD%D0%B0%D1%8F_%D1%8D%D0%BD%D1%82%D1%80%D0%BE%D0%BF%D0%B8%D1%8F) (бинарной перекрестной энтропии) `BCELoss()`, которая является функцией потерь, которую мы будем использовать для обучения моделей.\n",
    "\n",
    "Такая функция потерь подходит как для обучения дискриминатора (его задача сводится к бинарной классификации), так и для генератора, так как он подает свой вывод на вход дискриминатора.\n",
    "\n",
    "Правила обновления весов (обучения модели) в PyTorch реализованы в модуле `torch.optim`. Мы будем использовать  для обучения моделей дискриминатора и генератора алгоритм стохастичесского градиентного спуска [Аdam](https://ru.wikipedia.org/wiki/%D0%A1%D1%82%D0%BE%D1%85%D0%B0%D1%81%D1%82%D0%B8%D1%87%D0%B5%D1%81%D0%BA%D0%B8%D0%B9_%D0%B3%D1%80%D0%B0%D0%B4%D0%B8%D0%B5%D0%BD%D1%82%D0%BD%D1%8B%D0%B9_%D1%81%D0%BF%D1%83%D1%81%D0%BA#Adam). Чтобы создать оптимизаторы с помощью `torch.optim`, запустите код следующих строк:"
   ]
  },
  {
   "cell_type": "code",
   "execution_count": 10,
   "metadata": {},
   "outputs": [],
   "source": [
    "optimizer_discriminator = torch.optim.Adam(discriminator.parameters(), lr=lr)\n",
    "optimizer_generator = torch.optim.Adam(generator.parameters(), lr=lr)"
   ]
  },
  {
   "cell_type": "markdown",
   "metadata": {},
   "source": [
    "Наконец, необходимо реализовать обучающий цикл, в котором образцы обучающей выборки подаются на вход модели, а их веса обновляются, минимизируя функцию потерь:"
   ]
  },
  {
   "cell_type": "code",
   "execution_count": 11,
   "metadata": {},
   "outputs": [
    {
     "name": "stdout",
     "output_type": "stream",
     "text": [
      "Epoch: 0 Loss D.: 0.1565949022769928\n",
      "Epoch: 0 Loss G.: 2.125444173812866\n",
      "Epoch: 10 Loss D.: 0.7301511168479919\n",
      "Epoch: 10 Loss G.: 0.8579632043838501\n",
      "Epoch: 20 Loss D.: 0.578532874584198\n",
      "Epoch: 20 Loss G.: 1.1377501487731934\n",
      "Epoch: 30 Loss D.: 0.5409419536590576\n",
      "Epoch: 30 Loss G.: 0.9305323958396912\n",
      "Epoch: 40 Loss D.: 0.599008321762085\n",
      "Epoch: 40 Loss G.: 1.3163952827453613\n",
      "Epoch: 50 Loss D.: 0.6499343514442444\n",
      "Epoch: 50 Loss G.: 0.7044500708580017\n",
      "Epoch: 60 Loss D.: 0.5844885110855103\n",
      "Epoch: 60 Loss G.: 0.86909019947052\n",
      "Epoch: 70 Loss D.: 0.6779277324676514\n",
      "Epoch: 70 Loss G.: 0.808592677116394\n",
      "Epoch: 80 Loss D.: 0.6685033440589905\n",
      "Epoch: 80 Loss G.: 0.72174072265625\n",
      "Epoch: 90 Loss D.: 0.6499707102775574\n",
      "Epoch: 90 Loss G.: 0.650780200958252\n",
      "Epoch: 100 Loss D.: 0.6620171666145325\n",
      "Epoch: 100 Loss G.: 0.7449202537536621\n",
      "Epoch: 110 Loss D.: 0.6992695331573486\n",
      "Epoch: 110 Loss G.: 0.7495432496070862\n",
      "Epoch: 120 Loss D.: 0.6342099905014038\n",
      "Epoch: 120 Loss G.: 0.8073022961616516\n",
      "Epoch: 130 Loss D.: 0.703289806842804\n",
      "Epoch: 130 Loss G.: 0.8259153366088867\n",
      "Epoch: 140 Loss D.: 0.6333731412887573\n",
      "Epoch: 140 Loss G.: 0.801844596862793\n",
      "Epoch: 150 Loss D.: 0.7057197093963623\n",
      "Epoch: 150 Loss G.: 0.7343889474868774\n",
      "Epoch: 160 Loss D.: 0.6582562923431396\n",
      "Epoch: 160 Loss G.: 0.7665096521377563\n",
      "Epoch: 170 Loss D.: 0.7289475202560425\n",
      "Epoch: 170 Loss G.: 0.6757966876029968\n",
      "Epoch: 180 Loss D.: 0.7149345874786377\n",
      "Epoch: 180 Loss G.: 0.689974308013916\n",
      "Epoch: 190 Loss D.: 0.668423056602478\n",
      "Epoch: 190 Loss G.: 0.7842549085617065\n",
      "Epoch: 200 Loss D.: 0.5963250398635864\n",
      "Epoch: 200 Loss G.: 0.8717725872993469\n",
      "Epoch: 210 Loss D.: 0.6124988198280334\n",
      "Epoch: 210 Loss G.: 0.9608290195465088\n",
      "Epoch: 220 Loss D.: 0.6889050602912903\n",
      "Epoch: 220 Loss G.: 0.7373866438865662\n",
      "Epoch: 230 Loss D.: 0.6189388036727905\n",
      "Epoch: 230 Loss G.: 0.8122333288192749\n",
      "Epoch: 240 Loss D.: 0.6442603468894958\n",
      "Epoch: 240 Loss G.: 0.835066556930542\n",
      "Epoch: 250 Loss D.: 0.7081470489501953\n",
      "Epoch: 250 Loss G.: 0.7314872741699219\n",
      "Epoch: 260 Loss D.: 0.6603266000747681\n",
      "Epoch: 260 Loss G.: 0.7957497835159302\n",
      "Epoch: 270 Loss D.: 0.6007771492004395\n",
      "Epoch: 270 Loss G.: 0.9918078780174255\n",
      "Epoch: 280 Loss D.: 0.7166421413421631\n",
      "Epoch: 280 Loss G.: 0.6902852654457092\n",
      "Epoch: 290 Loss D.: 0.7288718819618225\n",
      "Epoch: 290 Loss G.: 0.7482035160064697\n"
     ]
    }
   ],
   "source": [
    "for epoch in range(num_epochs):\n",
    "    for n, (real_samples, _) in enumerate(train_loader):\n",
    "        # Данные для обучения дискриминатора\n",
    "        real_samples_labels = torch.ones((batch_size, 1))\n",
    "        latent_space_samples = torch.randn((batch_size, 2))\n",
    "        generated_samples = generator(latent_space_samples)\n",
    "        generated_samples_labels = torch.zeros((batch_size, 1))\n",
    "        all_samples = torch.cat((real_samples, generated_samples))\n",
    "        all_samples_labels = torch.cat(\n",
    "            (real_samples_labels, generated_samples_labels))\n",
    "\n",
    "        # Обучение дискриминатора\n",
    "        discriminator.zero_grad()\n",
    "        output_discriminator = discriminator(all_samples)\n",
    "        loss_discriminator = loss_function(\n",
    "            output_discriminator, all_samples_labels)\n",
    "        loss_discriminator.backward()\n",
    "        optimizer_discriminator.step()\n",
    "\n",
    "        # Данные для обучения генератора\n",
    "        latent_space_samples = torch.randn((batch_size, 2))\n",
    "\n",
    "        # Обучение генератора\n",
    "        generator.zero_grad()\n",
    "        generated_samples = generator(latent_space_samples)\n",
    "        output_discriminator_generated = discriminator(generated_samples)\n",
    "        loss_generator = loss_function(\n",
    "            output_discriminator_generated, real_samples_labels)\n",
    "        loss_generator.backward()\n",
    "        optimizer_generator.step()\n",
    "\n",
    "        # Проверяем функции потерь\n",
    "        if epoch % 10 == 0 and n == batch_size - 1:\n",
    "            print(f\"Epoch: {epoch} Loss D.: {loss_discriminator}\")\n",
    "            print(f\"Epoch: {epoch} Loss G.: {loss_generator}\")"
   ]
  },
  {
   "cell_type": "markdown",
   "metadata": {},
   "source": [
    "Здесь на каждой итерации обучения мы обновляем параметры дискриминатора и генератора. Как это обычно делается для нейронных сетей, учебный процесс состоит из двух вложенных циклов: внешний – для эпох обучения, а внутренний – для пакетов внутри каждой эпохи. Во внутреннем цикле всё начинается с подготовки данных для обучения дискриминатора:\n",
    "\n",
    "- Получаем реальные образцы текущей партии из загрузчика данных и назначаем их переменной `real_samples`. Обратите внимание, что первое измерение в размерности массива имеет количество элементов, равное `batch_size`. Это стандартный способ организации данных в PyTorch, где каждая строка тензора представляет один образец из пакета.\n",
    "* Используем `torch.ones()` для создания меток со значением 1 для реальных образцов и назначаем метки переменной `real_samples_labels`.\n",
    "* Генерируем образцы, сохраняя случайные данные в `latent_space_samples`, которые затем передаем в генератор для получения `generate_samples`. Для меток сгенерированных образцов мы используем нули `torch.zeros()`, которые сохраняем в `generate_samples_labels`.\n",
    "* Остается объединить реальные и сгенерированные образцы и метки и сохранить соответственно в `all_samples` и `all_samples_labels`.\n",
    "\n",
    "В следующем блоке мы тренируем дискриминатор:\n",
    "\n",
    "- В PyTorch важно на каждом шаге обучения очищать значения градиентов. Мы делаем это с помощью метода `zero_grad()`.\n",
    "- Вычисляем выходные данные дискриминатора, используя обучающие данные `all_samples`.\n",
    "- Вычисляем значение функции потерь, используя выходные данные в `output_discriminator` и метки `all_samples_labels`.\n",
    "- Вычисляем градиенты для обновления весов с помощью `loss_discriminator.backward()`.\n",
    "- Находим обновленные веса дискриминатора, вызывая `optimizer_discriminator.step()`.\n",
    "- Подготавливаем данные для обучения генератора. Рандомизированные данные хранятся в `latent_space_samples`, количеством строк равно `batch_size`. Используем два столбца, чтобы данные соответствовали двумерным данным на входе генератора.\n",
    "\n",
    "Тренируем генератор:\n",
    "- Очищаем градиенты с помощью метода `zero_grad()`.\n",
    "- Передаем генератору `latent_space_samples` и сохраняем его выходные данные в `generate_samples`.\n",
    "- Передаем выходные данные генератора в дискриминатор и сохраняем его выходные данные в `output_discriminator_generated`, который будет использоваться в качестве выходных данных всей модели.\n",
    "- Вычисляем функцию потерь, используя выходные данные системы классификации, сохраненные в `output_discriminator_generated` и метки `real_samples_labels`, равные 1.\n",
    "- Рассчитываем градиенты и обновляем веса генератора. Помните, что когда мы обучаем генератор, мы сохраняем веса дискриминатора в замороженном состоянии. \n",
    "\n",
    "Наконец, в последних строчках цикла происходит вывод значения функций потерь дискриминатора и генератора в конце каждой десятой эпохи.\n",
    "\n",
    "После запуска цикла обучение модели завершится через несколько минут.\n",
    "\n",
    "# Проверка образцов, сгенерированных GAN\n",
    "\n",
    "Генеративно-состязательные сети предназначены для генерации данных. Таким образом, после того, как процесс обучения завершен, мы можем вызвать генератор для получения новых данных:"
   ]
  },
  {
   "cell_type": "code",
   "execution_count": 12,
   "metadata": {},
   "outputs": [],
   "source": [
    "latent_space_samples = torch.randn(100, 2)\n",
    "generated_samples = generator(latent_space_samples)"
   ]
  },
  {
   "cell_type": "markdown",
   "metadata": {},
   "source": [
    "Затем мы можем построить сгенерированные данные и проверить, насколько они похожи на обучающие данные. Перед построением графика для сгенерированных образцов необходимо применить `.detach()`, чтобы получить необходимые данные из вычислительного графа PyTorch:"
   ]
  },
  {
   "cell_type": "code",
   "execution_count": 13,
   "metadata": {},
   "outputs": [
    {
     "data": {
      "text/plain": [
       "[<matplotlib.lines.Line2D at 0x7f53402daa90>]"
      ]
     },
     "execution_count": 13,
     "metadata": {},
     "output_type": "execute_result"
    },
    {
     "data": {
      "image/png": "[encoded data removed]",
      "text/plain": [
       "<Figure size 432x288 with 1 Axes>"
      ]
     },
     "metadata": {
      "needs_background": "light"
     },
     "output_type": "display_data"
    }
   ],
   "source": [
    "generated_samples = generated_samples.detach()\n",
    "plt.plot(generated_samples[:, 0], generated_samples[:, 1], \".\")"
   ]
  },
  {
   "cell_type": "markdown",
   "metadata": {},
   "source": [
    "Распределение сгенерированных данных очень напоминает реальные данные – исходный синус. Можно также визуализировать процесс обучения:\n",
    "\n",
    "![](https://files.realpython.com/media/fig_gan_x1x2.69b1d6021da8.gif)\n",
    "\n",
    "В начале процесса обучения распределение сгенерированных данных сильно отличается от реальных данных. Но по мере обучения генератор изучает реальное распределение данных, как бы подстраиваясь под него.\n",
    "\n",
    "Теперь, когда мы реализовали первую модель генеративно-состязательной сети, мы можем перейти к более практичному примеру с генерацией изображений.\n",
    "\n",
    "# Генератор рукописных цифр с GAN\n",
    "\n",
    "В следующем примере мы воспользуемся GAN для создания изображений рукописных цифр. Для этого мы обучим модели, используя [набор данных MNIST](https://ru.wikipedia.org/wiki/MNIST_(%D0%B1%D0%B0%D0%B7%D0%B0_%D0%B4%D0%B0%D0%BD%D0%BD%D1%8B%D1%85)), состоящий из рукописных цифр. Этот стандартный набор данных включен в пакет `torchvision`.\n",
    "\n",
    "Для начала в активированной среде `gan` необходимо установить `torchvision`:\n",
    "\n",
    "```bash\n",
    "$ conda install -c pytorch torchvision=0.5.0\n",
    "```\n",
    "\n",
    "Опять же, здесь мы указываем конкретную версию `torchvision` так же, как мы это делали с pytorch, чтобы обеспечить выполнение примеров кода. \n",
    "\n",
    "Начинаем с импорта необходимых библиотек:"
   ]
  },
  {
   "cell_type": "code",
   "execution_count": 14,
   "metadata": {},
   "outputs": [
    {
     "data": {
      "text/plain": [
       "<torch._C.Generator at 0x7f53c4150a70>"
      ]
     },
     "execution_count": 14,
     "metadata": {},
     "output_type": "execute_result"
    }
   ],
   "source": [
    "import torchvision\n",
    "import torchvision.transforms as transforms\n",
    "\n",
    "torch.manual_seed(111)"
   ]
  },
  {
   "cell_type": "markdown",
   "metadata": {},
   "source": [
    "Помимо библиотек, которые мы импортировали ранее, нам понадобится `torchvision` и `torchvision.transforms` для преобразования преобразования информации изображений."
   ]
  },
  {
   "cell_type": "markdown",
   "metadata": {},
   "source": [
    "Поскольку в этом примере обучающий набор включает изображения, модели будут сложнее, обучение будет происходить существенно дольше. При обучении на центральном процессоре ([CPU](https://ru.wikipedia.org/wiki/%D0%A6%D0%B5%D0%BD%D1%82%D1%80%D0%B0%D0%BB%D1%8C%D0%BD%D1%8B%D0%B9_%D0%BF%D1%80%D0%BE%D1%86%D0%B5%D1%81%D1%81%D0%BE%D1%80)) на одну эпоху будет уходить порядка двух минут. Для получения достаточного результата понадобится порядка 50 эпох, чтобы получить соответствующий результат, поэтому общее время обучения при использовании процессора составляет около 100 минут.\n",
    "\n",
    "Чтобы сократить время обучения, для обучения можно использовать графический процессор ([GPU](https://ru.wikipedia.org/wiki/%D0%93%D1%80%D0%B0%D1%84%D0%B8%D1%87%D0%B5%D1%81%D0%BA%D0%B8%D0%B9_%D0%BF%D1%80%D0%BE%D1%86%D0%B5%D1%81%D1%81%D0%BE%D1%80)).\n",
    "\n",
    "Чтобы код работал независимо от характеристик компьютера, создадим объект `device`, который будет указывать либо на центальный процессор, либо на графический процессор (при наличии):"
   ]
  },
  {
   "cell_type": "code",
   "execution_count": 15,
   "metadata": {},
   "outputs": [],
   "source": [
    "device = \"\"\n",
    "if torch.cuda.is_available():\n",
    "    device = torch.device(\"cuda\")\n",
    "else:\n",
    "    device = torch.device(\"cpu\")"
   ]
  },
  {
   "cell_type": "markdown",
   "metadata": {},
   "source": [
    "Теперь, когда окружение настроено, подготовим датасет для обучения.\n",
    "\n",
    "# Подготовка датасета MNIST\n",
    "Набор данных MNIST состоит из изображений написанных от руки цифр от 0 до 9. Изображения выполнены в градациях серого и имеют размер 28 × 28 пикселей. Чтобы использовать их с PyTorch, нам потребуется выполнить некоторые преобразования. Для этого мы определим функцию `transform`, используемую при загрузке данных:"
   ]
  },
  {
   "cell_type": "code",
   "execution_count": 16,
   "metadata": {},
   "outputs": [],
   "source": [
    "transform = transforms.Compose(\n",
    "    [transforms.ToTensor(), transforms.Normalize((0.5,), (0.5,))])"
   ]
  },
  {
   "cell_type": "markdown",
   "metadata": {},
   "source": [
    "Функция состоит из двух частей:\n",
    "\n",
    "1. `transforms.ToTensor()` преобразует данные в тензор PyTorch.\n",
    "2. `transforms.Normalize()` преобразует диапазон тензорных коэффициентов.\n",
    "\n",
    "Исходные коэффициенты, заданные функцией `transforms.ToTensor()`, находятся в диапазоне от 0 до 1. Поскольку изображения имеют черный фон, большинство коэффициентов равны 0.\n",
    "\n",
    "Аргументы `transforms.Normalize()` представляют собой это два кортежа `(M₁, ..., Mₙ)` и `(S₁, ..., Sₙ)`, где `n` соответствует количеству каналов в изображении. Картинки в градациях серого, как в наборе данных MNIST, имеют лишь один канал. Для каждого i-го канала изображения `transforms.Normalize()` вычитает `Mᵢ` из коэффициентов и делит результат на `Sᵢ`.\n",
    "\n",
    "Таким образом, функция `transforms.Normalize()` изменяет диапазон коэффициентов на [-1, 1], вычитая 0.5 из исходных коэффициентов и деля результат на 0.5. Преобразование сокращает количество элементов входных выборок, равных 0. Это помогает в обучении моделей.\n",
    "\n",
    "Теперь можно загрузить обучающие данные, вызвав `torchvision.datasets.MNIST` и выполнить преобразования с помощью `transform`:"
   ]
  },
  {
   "cell_type": "code",
   "execution_count": 17,
   "metadata": {},
   "outputs": [],
   "source": [
    "train_set = torchvision.datasets.MNIST(\n",
    "    root=\".\", train=True, download=True, transform=transform)"
   ]
  },
  {
   "cell_type": "markdown",
   "metadata": {},
   "source": [
    "Аргумент `download = True` гарантирует, что при первом запуске кода набор данных MNIST будет загружен и сохранен в текущем каталоге, как указано в аргументе root.\n",
    "\n",
    "Мы создали `train_set`, можно создать загрузчик данных, как делали это раньше:"
   ]
  },
  {
   "cell_type": "code",
   "execution_count": 18,
   "metadata": {},
   "outputs": [],
   "source": [
    "batch_size = 32\n",
    "train_loader = torch.utils.data.DataLoader(\n",
    "    train_set, batch_size=batch_size, shuffle=True)"
   ]
  },
  {
   "cell_type": "markdown",
   "metadata": {},
   "source": [
    "Для избирательного построения данных можно использовать matplotlib. В качестве палитры  хорошо подходит `cmap = gray_r`. Тогда цифры будут изображаться черным цветом на белом фоне:"
   ]
  },
  {
   "cell_type": "code",
   "execution_count": 19,
   "metadata": {},
   "outputs": [
    {
     "data": {
      "image/png": "[encoded data removed]",
      "text/plain": [
       "<Figure size 432x288 with 16 Axes>"
      ]
     },
     "metadata": {},
     "output_type": "display_data"
    }
   ],
   "source": [
    "real_samples, mnist_labels = next(iter(train_loader))\n",
    "for i in range(16):\n",
    "    ax = plt.subplot(4, 4, i + 1)\n",
    "    plt.imshow(real_samples[i].reshape(28, 28), cmap=\"gray_r\")\n",
    "    plt.xticks([])\n",
    "    plt.yticks([])"
   ]
  },
  {
   "cell_type": "markdown",
   "metadata": {},
   "source": [
    "Вывод должен быть примерно таким:\n",
    "\n",
    "![](https://files.realpython.com/media/fig_train_mnist_mpl.ddcdc8188b90.png)\n",
    "\n",
    "Как видите, в датасете есть цифры с разными почерками. По мере того, как GAN изучает распределение данных, она также генерирует цифры с разными стилями рукописного ввода.\n",
    "\n",
    "Мы подготовили обучающие данные, можно реализовать модели дискриминатора и генератора.\n",
    "\n",
    "# Реализация дискриминатора и генератора\n",
    "\n",
    "В рассматриваемом случае дискриминатором является нейронная сеть многослойного перцептрона, которая принимает изображение размером 28 × 28 пикселей и находит вероятность того, что изображение принадлежит реальным обучающим данным.\n",
    "\n",
    "Модель можно определить с помощью следующего кода:"
   ]
  },
  {
   "cell_type": "code",
   "execution_count": 20,
   "metadata": {},
   "outputs": [],
   "source": [
    "class Discriminator(nn.Module):\n",
    "    def __init__(self):\n",
    "        super().__init__()\n",
    "        self.model = nn.Sequential(\n",
    "            nn.Linear(784, 1024),\n",
    "            nn.ReLU(),\n",
    "            nn.Dropout(0.3),\n",
    "            nn.Linear(1024, 512),\n",
    "            nn.ReLU(),\n",
    "            nn.Dropout(0.3),\n",
    "            nn.Linear(512, 256),\n",
    "            nn.ReLU(),\n",
    "            nn.Dropout(0.3),\n",
    "            nn.Linear(256, 1),\n",
    "            nn.Sigmoid(),\n",
    "        )\n",
    "\n",
    "    def forward(self, x):\n",
    "        x = x.view(x.size(0), 784)\n",
    "        output = self.model(x)\n",
    "        return output"
   ]
  },
  {
   "cell_type": "markdown",
   "metadata": {},
   "source": [
    "Чтобы ввести коэффициенты изображения в нейронную сеть перцептрона, необходимо их векторизовать так, чтобы нейронная сеть получала вектор, состоящий из 784 коэффициентов (28 × 28 = 784).\n",
    "\n",
    "Векторизация происходит в первой строке метода `forward()` – вызов `x.view()` преобразует форму входного тензора. Исходная форма тензора $x$ – `32 × 1 × 28 × 28`, где 32 – размер партии. После преобразования форма $x$ становится равной `32 × 784`, причем каждая строка представляет коэффициенты изображения обучающего набора.\n",
    "\n",
    "Чтобы запустить модель дискриминатора с использованием графического процессора, нужно создать его экземпляр и связать с объектом устройства с помощью метода `.to()`:"
   ]
  },
  {
   "cell_type": "code",
   "execution_count": 21,
   "metadata": {},
   "outputs": [],
   "source": [
    "discriminator = Discriminator().to(device=device)"
   ]
  },
  {
   "cell_type": "markdown",
   "metadata": {},
   "source": [
    "Генератор будет создавать более сложные данные, чем в предыдущем примере. Поэтому необходимо увеличить размеры входных данных, используемых для его инициализации. Здесь мы используем 100-мерный вход и выход с 784 коэффициентами. Результат организуется в виде тензора 28 × 28, представляющего изображение.\n",
    "\n",
    "Полный код модели генератора:"
   ]
  },
  {
   "cell_type": "code",
   "execution_count": 22,
   "metadata": {},
   "outputs": [],
   "source": [
    "class Generator(nn.Module):\n",
    "    def __init__(self):\n",
    "        super().__init__()\n",
    "        self.model = nn.Sequential(\n",
    "            nn.Linear(100, 256),\n",
    "            nn.ReLU(),\n",
    "            nn.Linear(256, 512),\n",
    "            nn.ReLU(),\n",
    "            nn.Linear(512, 1024),\n",
    "            nn.ReLU(),\n",
    "            nn.Linear(1024, 784),\n",
    "            nn.Tanh(),\n",
    "        )\n",
    "\n",
    "    def forward(self, x):\n",
    "        output = self.model(x)\n",
    "        output = output.view(x.size(0), 1, 28, 28)\n",
    "        return output\n",
    "\n",
    "generator = Generator().to(device=device)"
   ]
  },
  {
   "cell_type": "markdown",
   "metadata": {},
   "source": [
    "Выходные коэффициенты должны находиться в интервале от -1 до 1. Поэтому на выходе генератора мы используем гиперболическую функцию активации `Tanh()`. В последней строке мы создаем экземпляр генератора и также связываем его с объектом устройства.\n",
    "\n",
    "Осталось лишь обучить модели.\n",
    "\n",
    "# Обучение моделей\n",
    "Для обучения моделей нужно определить параметры обучения и оптимизаторы:"
   ]
  },
  {
   "cell_type": "code",
   "execution_count": 23,
   "metadata": {},
   "outputs": [],
   "source": [
    "num_epochs = 50\n",
    "loss_function = nn.BCELoss()\n",
    "\n",
    "optimizer_discriminator = torch.optim.Adam(discriminator.parameters(), lr=lr)\n",
    "optimizer_generator = torch.optim.Adam(generator.parameters(), lr=lr)"
   ]
  },
  {
   "cell_type": "markdown",
   "metadata": {},
   "source": [
    "Чтобы получить лучший результат, вы уменьшаете скорость обучения по сравнению с предыдущим примером. Вы также устанавливаете количество эпох на 50, чтобы сократить время обучения.\n",
    "\n",
    "Цикл обучения очень похож на тот, который вы использовали в предыдущем примере. В выделенных строках вы отправляете данные тренировки на устройство для использования графического процессора, если доступно:"
   ]
  },
  {
   "cell_type": "code",
   "execution_count": 24,
   "metadata": {},
   "outputs": [
    {
     "name": "stdout",
     "output_type": "stream",
     "text": [
      "Epoch: 0 Loss D.: 8.551997598260641e-05\n",
      "Epoch: 0 Loss G.: 18.429086685180664\n",
      "Epoch: 1 Loss D.: 7.748665211693151e-07\n",
      "Epoch: 1 Loss G.: 43.633544921875\n",
      "Epoch: 2 Loss D.: 1.210719435817964e-08\n",
      "Epoch: 2 Loss G.: 41.3272705078125\n",
      "Epoch: 3 Loss D.: 2.644978565058409e-07\n",
      "Epoch: 3 Loss G.: 41.53702163696289\n",
      "Epoch: 4 Loss D.: 5.587936335871291e-09\n",
      "Epoch: 4 Loss G.: 47.670223236083984\n",
      "Epoch: 5 Loss D.: 0.0\n",
      "Epoch: 5 Loss G.: 45.048439025878906\n",
      "Epoch: 6 Loss D.: 0.0\n",
      "Epoch: 6 Loss G.: 50.54753875732422\n",
      "Epoch: 7 Loss D.: 0.0\n",
      "Epoch: 7 Loss G.: 100.0\n",
      "Epoch: 8 Loss D.: 0.0\n",
      "Epoch: 8 Loss G.: 100.0\n",
      "Epoch: 9 Loss D.: 0.0\n",
      "Epoch: 9 Loss G.: 99.5101089477539\n",
      "Epoch: 10 Loss D.: 0.0\n",
      "Epoch: 10 Loss G.: 100.0\n",
      "Epoch: 11 Loss D.: 0.0\n",
      "Epoch: 11 Loss G.: 100.0\n",
      "Epoch: 12 Loss D.: 0.0\n",
      "Epoch: 12 Loss G.: 99.61993408203125\n",
      "Epoch: 13 Loss D.: 0.0\n",
      "Epoch: 13 Loss G.: 100.0\n",
      "Epoch: 14 Loss D.: 0.0\n",
      "Epoch: 14 Loss G.: 99.42884826660156\n",
      "Epoch: 15 Loss D.: 0.0\n",
      "Epoch: 15 Loss G.: 99.49803161621094\n",
      "Epoch: 16 Loss D.: 0.0\n",
      "Epoch: 16 Loss G.: 100.0\n",
      "Epoch: 17 Loss D.: 0.0\n",
      "Epoch: 17 Loss G.: 100.0\n",
      "Epoch: 18 Loss D.: 0.0\n",
      "Epoch: 18 Loss G.: 100.0\n",
      "Epoch: 19 Loss D.: 0.0\n",
      "Epoch: 19 Loss G.: 99.46141052246094\n",
      "Epoch: 20 Loss D.: 0.0\n",
      "Epoch: 20 Loss G.: 98.708251953125\n",
      "Epoch: 21 Loss D.: 0.0\n",
      "Epoch: 21 Loss G.: 99.64601135253906\n",
      "Epoch: 22 Loss D.: 0.0\n",
      "Epoch: 22 Loss G.: 100.0\n",
      "Epoch: 23 Loss D.: 0.0\n",
      "Epoch: 23 Loss G.: 100.0\n",
      "Epoch: 24 Loss D.: 0.0\n",
      "Epoch: 24 Loss G.: 100.0\n",
      "Epoch: 25 Loss D.: 0.0\n",
      "Epoch: 25 Loss G.: 100.0\n",
      "Epoch: 26 Loss D.: 0.0\n",
      "Epoch: 26 Loss G.: 100.0\n",
      "Epoch: 27 Loss D.: 0.0\n",
      "Epoch: 27 Loss G.: 100.0\n",
      "Epoch: 28 Loss D.: 0.0\n",
      "Epoch: 28 Loss G.: 100.0\n",
      "Epoch: 29 Loss D.: 0.0\n",
      "Epoch: 29 Loss G.: 100.0\n",
      "Epoch: 30 Loss D.: 0.0\n",
      "Epoch: 30 Loss G.: 100.0\n",
      "Epoch: 31 Loss D.: 0.0\n",
      "Epoch: 31 Loss G.: 100.0\n",
      "Epoch: 32 Loss D.: 0.0\n",
      "Epoch: 32 Loss G.: 100.0\n",
      "Epoch: 33 Loss D.: 0.0\n",
      "Epoch: 33 Loss G.: 100.0\n",
      "Epoch: 34 Loss D.: 0.0\n",
      "Epoch: 34 Loss G.: 100.0\n",
      "Epoch: 35 Loss D.: 0.0\n",
      "Epoch: 35 Loss G.: 100.0\n",
      "Epoch: 36 Loss D.: 0.0\n",
      "Epoch: 36 Loss G.: 100.0\n",
      "Epoch: 37 Loss D.: 0.0\n",
      "Epoch: 37 Loss G.: 100.0\n",
      "Epoch: 38 Loss D.: 0.0\n",
      "Epoch: 38 Loss G.: 100.0\n",
      "Epoch: 39 Loss D.: 0.0\n",
      "Epoch: 39 Loss G.: 100.0\n",
      "Epoch: 40 Loss D.: 0.0\n",
      "Epoch: 40 Loss G.: 100.0\n",
      "Epoch: 41 Loss D.: 0.0\n",
      "Epoch: 41 Loss G.: 100.0\n",
      "Epoch: 42 Loss D.: 0.0\n",
      "Epoch: 42 Loss G.: 100.0\n",
      "Epoch: 43 Loss D.: 0.0\n",
      "Epoch: 43 Loss G.: 100.0\n",
      "Epoch: 44 Loss D.: 0.0\n",
      "Epoch: 44 Loss G.: 100.0\n",
      "Epoch: 45 Loss D.: 0.0\n",
      "Epoch: 45 Loss G.: 100.0\n",
      "Epoch: 46 Loss D.: 0.0\n",
      "Epoch: 46 Loss G.: 100.0\n",
      "Epoch: 47 Loss D.: 0.0\n",
      "Epoch: 47 Loss G.: 100.0\n",
      "Epoch: 48 Loss D.: 0.0\n",
      "Epoch: 48 Loss G.: 100.0\n",
      "Epoch: 49 Loss D.: 0.0\n",
      "Epoch: 49 Loss G.: 100.0\n"
     ]
    }
   ],
   "source": [
    "for epoch in range(num_epochs):\n",
    "    for n, (real_samples, mnist_labels) in enumerate(train_loader):\n",
    "        # Данные для тренировки дискриминатора\n",
    "        real_samples = real_samples.to(device=device)\n",
    "        real_samples_labels = torch.ones((batch_size, 1)).to(\n",
    "            device=device        )\n",
    "        latent_space_samples = torch.randn((batch_size, 100)).to(\n",
    "            device=device)\n",
    "        generated_samples = generator(latent_space_samples)\n",
    "        generated_samples_labels = torch.zeros((batch_size, 1)).to(\n",
    "            device=device)\n",
    "        all_samples = torch.cat((real_samples, generated_samples))\n",
    "        all_samples_labels = torch.cat(\n",
    "            (real_samples_labels, generated_samples_labels))\n",
    "\n",
    "        # Обучение дискриминатора\n",
    "        discriminator.zero_grad()\n",
    "        output_discriminator = discriminator(all_samples)\n",
    "        loss_discriminator = loss_function(\n",
    "            output_discriminator, all_samples_labels)\n",
    "        loss_discriminator.backward()\n",
    "        optimizer_discriminator.step()\n",
    "\n",
    "        # Данные для обучения генератора\n",
    "        latent_space_samples = torch.randn((batch_size, 100)).to(\n",
    "            device=device)\n",
    "\n",
    "        # Обучение генератора\n",
    "        generator.zero_grad()\n",
    "        generated_samples = generator(latent_space_samples)\n",
    "        output_discriminator_generated = discriminator(generated_samples)\n",
    "        loss_generator = loss_function(\n",
    "            output_discriminator_generated, real_samples_labels\n",
    "        )\n",
    "        loss_generator.backward()\n",
    "        optimizer_generator.step()\n",
    "\n",
    "        # Показываем loss\n",
    "        if n == batch_size - 1:\n",
    "            print(f\"Epoch: {epoch} Loss D.: {loss_discriminator}\")\n",
    "            print(f\"Epoch: {epoch} Loss G.: {loss_generator}\")"
   ]
  },
  {
   "cell_type": "markdown",
   "metadata": {},
   "source": [
    "После завершения обучения можно проверить результаты, сгенерировав несколько образцов рукописных цифр.\n",
    "\n",
    "# Проверка образцов, сгенерированных GAN\n",
    "\n",
    "Сгенерируем несколько образцов «рукописных цифр». Для этого передадим генератору инициирующий набор случайных чисел:"
   ]
  },
  {
   "cell_type": "code",
   "execution_count": 25,
   "metadata": {},
   "outputs": [],
   "source": [
    "latent_space_samples = torch.randn(batch_size, 100).to(device=device)\n",
    "generated_samples = generator(latent_space_samples)"
   ]
  },
  {
   "cell_type": "markdown",
   "metadata": {},
   "source": [
    "Чтобы построить сгенерированные_выборки, нужно переместить данные обратно в центральный процессор, если их обработка происходит на графическом процессоре. Для этого достаточно вызвать метод `cpu()`. Как и раньше, перед  построением данных необходимо вызвать `.detach()`:"
   ]
  },
  {
   "cell_type": "code",
   "execution_count": 26,
   "metadata": {},
   "outputs": [
    {
     "data": {
      "image/png": "[encoded data removed]",
      "text/plain": [
       "<Figure size 432x288 with 16 Axes>"
      ]
     },
     "metadata": {},
     "output_type": "display_data"
    }
   ],
   "source": [
    "generated_samples = generated_samples.cpu().detach()\n",
    "\n",
    "for i in range(16):\n",
    "    ax = plt.subplot(4, 4, i + 1)\n",
    "    plt.imshow(generated_samples[i].reshape(28, 28), cmap=\"gray_r\")\n",
    "    plt.xticks([])\n",
    "    plt.yticks([])"
   ]
  },
  {
   "cell_type": "markdown",
   "metadata": {},
   "source": [
    "На выходе должны получиться цифры, напоминающие тренировочные данные, как на следующем рисунке:\n",
    "\n",
    "![](https://files.realpython.com/media/fig_generated_mnist_mpl.ecc483e9dd9d.png)\n",
    "\n",
    "После пятидесяти эпох обучения есть несколько цифр как будто написанных рукой человека. Результаты можно улужить, проводя более длительное обучение (с бо́льшим количеством эпох). Как и в предыдущем примере, используя фиксированный тензор входных данных и подавая его на генератор в конце каждой эпохи можно  визуализировать эволюцию обучения:\n",
    "\n",
    "![](https://files.realpython.com/media/fig_gan_mnist.5d8784a85944.gif)\n",
    "\n",
    "В начале процесса обучения сгенерированные изображения абсолютно случайны. По ходу обучения генератор изучает распределение реальных данных, и примерно через двадцать эпох некоторые сгенерированные цифры уже напоминают реальные данные.\n",
    "\n",
    "# Заключение\n",
    "Поздравляем! Вы узнали, как реализовать свою собственную генеративно-состязательную нейросеть. Сначала мы построили игрушечный пример, чтобы понять структуру GAN, а затем рассмотрели сеть для генерации изображений по имеющимся примерам данных.\n",
    "\n",
    "Несмотря на сложность тематики GAN, интегрированные среды машинного обучения, такие как PyTorch, делают реализацию простой, предлагая автоматическую дифференциацию и простую настройку графического процессора."
   ]
  }
 ],
 "metadata": {
  "kernelspec": {
   "display_name": "Python 3",
   "language": "python",
   "name": "python3"
  },
  "language_info": {
   "codemirror_mode": {
    "name": "ipython",
    "version": 3
   },
   "file_extension": ".py",
   "mimetype": "text/x-python",
   "name": "python",
   "nbconvert_exporter": "python",
   "pygments_lexer": "ipython3",
   "version": "3.7.6"
  }
 },
 "nbformat": 4,
 "nbformat_minor": 4
}
