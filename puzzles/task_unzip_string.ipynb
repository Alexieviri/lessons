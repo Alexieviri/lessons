{
 "cells": [
  {
   "cell_type": "markdown",
   "metadata": {},
   "source": [
    "**Задача**: декодировать «сжатую» строку, состоящую из чередующихся подстрок и чисел, где каждое число отражает необходимое количество повторений предшествовавшей подстроки. Предложить два решения и сравнить их скорость.\n",
    "\n",
    "**Пример**: строка `abc2d12c1asdsd2` должна быть преобразована в `abcabcddddddddddddcasdsdasdsd`."
   ]
  },
  {
   "cell_type": "code",
   "execution_count": 1,
   "metadata": {},
   "outputs": [],
   "source": [
    "old = 'abc2d12c1asdsd2'"
   ]
  },
  {
   "cell_type": "markdown",
   "metadata": {},
   "source": [
    "# Решение с помощью циклов while"
   ]
  },
  {
   "cell_type": "code",
   "execution_count": 2,
   "metadata": {},
   "outputs": [
    {
     "name": "stdout",
     "output_type": "stream",
     "text": [
      "CPU times: user 31 µs, sys: 4 µs, total: 35 µs\n",
      "Wall time: 39.6 µs\n"
     ]
    },
    {
     "data": {
      "text/plain": [
       "'abcabcddddddddddddcasdsdasdsd'"
      ]
     },
     "execution_count": 2,
     "metadata": {},
     "output_type": "execute_result"
    }
   ],
   "source": [
    "%%time\n",
    "\n",
    "def unzip(old):\n",
    "    new = ''\n",
    "    while old:\n",
    "        i = 0\n",
    "        sub, num = '', ''\n",
    "        while old[i].isalpha():\n",
    "            sub += old[i]\n",
    "            i += 1\n",
    "        else:\n",
    "            while i < len(old) and old[i].isdigit():\n",
    "                num += old[i]\n",
    "                i += 1\n",
    "            new += sub*int(num)\n",
    "            old = old[i:]\n",
    "            continue\n",
    "    return new\n",
    "\n",
    "unzip(old)"
   ]
  },
  {
   "cell_type": "markdown",
   "metadata": {},
   "source": [
    "# Решение с помощью генераторов списков"
   ]
  },
  {
   "cell_type": "code",
   "execution_count": 3,
   "metadata": {},
   "outputs": [
    {
     "name": "stdout",
     "output_type": "stream",
     "text": [
      "CPU times: user 3 µs, sys: 0 ns, total: 3 µs\n",
      "Wall time: 7.15 µs\n"
     ]
    },
    {
     "data": {
      "text/plain": [
       "'abcabcddddddddddddcasdsdasdsd'"
      ]
     },
     "execution_count": 3,
     "metadata": {},
     "output_type": "execute_result"
    }
   ],
   "source": [
    "%time\n",
    "\n",
    "def unzip_vector(old):\n",
    "    new = ''\n",
    "    ones = [-1 if symbol.isdigit() else 1 for symbol in old]\n",
    "    muls = [ones[i]*ones[i+1] for i in range(len(ones)-1)]\n",
    "    ind = [0] + [i+1 for (i, mul) in enumerate(muls) if mul<0] + [len(ones)]\n",
    "    strings = [old[start:end] for start, end in zip (ind[:-1:2], ind[1::2])]\n",
    "    numbers = [int(old[start:end]) for start, end in zip (ind[1::2], ind[2::2])]\n",
    "    for string, number in zip(strings, numbers):\n",
    "        new += number*string\n",
    "    return new\n",
    "\n",
    "unzip_vector(old)"
   ]
  }
 ],
 "metadata": {
  "kernelspec": {
   "display_name": "Python 3",
   "language": "python",
   "name": "python3"
  },
  "language_info": {
   "codemirror_mode": {
    "name": "ipython",
    "version": 3
   },
   "file_extension": ".py",
   "mimetype": "text/x-python",
   "name": "python",
   "nbconvert_exporter": "python",
   "pygments_lexer": "ipython3",
   "version": "3.6.9"
  }
 },
 "nbformat": 4,
 "nbformat_minor": 2
}
